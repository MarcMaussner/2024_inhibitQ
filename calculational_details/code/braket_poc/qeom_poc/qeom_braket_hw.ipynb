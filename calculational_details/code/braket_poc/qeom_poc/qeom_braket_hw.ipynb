{
 "cells": [
  {
   "cell_type": "markdown",
   "id": "5e1a4f7a-3648-4b6f-a9ff-72554221019d",
   "metadata": {},
   "source": [
    "# Trying qeom with qiskit and transform to braket on IonQ Aria1 and IQM Garnet"
   ]
  },
  {
   "cell_type": "markdown",
   "id": "1d572c17-b0f5-41e9-b6ce-667858c17a23",
   "metadata": {},
   "source": [
    "## qeom in qiskit"
   ]
  },
  {
   "cell_type": "code",
   "execution_count": 1,
   "id": "6b0d3aac-5a5d-4236-a51c-ea58437c873b",
   "metadata": {},
   "outputs": [],
   "source": [
    "from qiskit_nature.units import DistanceUnit\n",
    "from qiskit_nature.second_q.drivers import PySCFDriver\n",
    "\n",
    "driver = PySCFDriver(\n",
    "    atom=\"H 0 0 0; H 0 0 0.735\",\n",
    "    basis=\"sto3g\",\n",
    "    charge=0,\n",
    "    spin=0,\n",
    "    unit=DistanceUnit.ANGSTROM,\n",
    ")\n",
    "\n",
    "es_problem = driver.run()"
   ]
  },
  {
   "cell_type": "code",
   "execution_count": 2,
   "id": "d109e196-f6ca-40b2-9acb-bf697a1f7109",
   "metadata": {},
   "outputs": [],
   "source": [
    "from qiskit_nature.second_q.mappers import JordanWignerMapper\n",
    "\n",
    "mapper = JordanWignerMapper()"
   ]
  },
  {
   "cell_type": "code",
   "execution_count": 3,
   "id": "cf189432-98c6-4123-bb8c-294be5a673d3",
   "metadata": {},
   "outputs": [],
   "source": [
    "from qiskit_algorithms import NumPyEigensolver\n",
    "\n",
    "numpy_solver = NumPyEigensolver(k=4, filter_criterion=es_problem.get_default_filter_criterion())"
   ]
  },
  {
   "cell_type": "code",
   "execution_count": 4,
   "id": "502e14b4-043f-4f85-b5ce-913d5b95fb08",
   "metadata": {},
   "outputs": [],
   "source": [
    "from qiskit_algorithms import VQE\n",
    "from qiskit_algorithms.optimizers import SLSQP\n",
    "from qiskit.primitives import Estimator\n",
    "from qiskit_nature.second_q.algorithms import GroundStateEigensolver, QEOM, EvaluationRule\n",
    "from qiskit_nature.second_q.circuit.library import HartreeFock, UCCSD\n",
    "\n",
    "ansatz = UCCSD(\n",
    "    es_problem.num_spatial_orbitals,\n",
    "    es_problem.num_particles,\n",
    "    mapper,\n",
    "    initial_state=HartreeFock(\n",
    "        es_problem.num_spatial_orbitals,\n",
    "        es_problem.num_particles,\n",
    "        mapper,\n",
    "    ),\n",
    ")\n",
    "\n",
    "estimator = Estimator()\n",
    "# This first part sets the ground state solver\n",
    "# see more about this part in the ground state calculation tutorial\n",
    "solver = VQE(estimator, ansatz, SLSQP())\n",
    "solver.initial_point = [0.0] * ansatz.num_parameters\n",
    "gse = GroundStateEigensolver(mapper, solver)\n",
    "\n",
    "# The qEOM algorithm is simply instantiated with the chosen ground state solver and Estimator primitive\n",
    "qeom_excited_states_solver = QEOM(gse, estimator, \"sd\", EvaluationRule.ALL)"
   ]
  },
  {
   "cell_type": "code",
   "execution_count": 5,
   "id": "b1816301-5420-4371-8b33-dcf7c7ca9520",
   "metadata": {},
   "outputs": [
    {
     "name": "stdout",
     "output_type": "stream",
     "text": [
      "=== GROUND STATE ENERGY ===\n",
      " \n",
      "* Electronic ground state energy (Hartree): -1.857275030202\n",
      "  - computed part:      -1.857275030202\n",
      "~ Nuclear repulsion energy (Hartree): 0.719968994449\n",
      "> Total ground state energy (Hartree): -1.137306035753\n",
      " \n",
      "=== EXCITED STATE ENERGIES ===\n",
      " \n",
      "  1: \n",
      "* Electronic excited state energy (Hartree): -0.882722150245\n",
      "> Total excited state energy (Hartree): -0.162753155796\n",
      "  2: \n",
      "* Electronic excited state energy (Hartree): -0.224911252831\n",
      "> Total excited state energy (Hartree): 0.495057741618\n",
      " \n",
      "=== MEASURED OBSERVABLES ===\n",
      " \n",
      "  0:  # Particles: 2.000 S: 0.000 S^2: 0.000 M: 0.000\n",
      "  1:  # Particles: 2.000 S: 0.000 S^2: 0.000 M: 0.000\n",
      "  2:  # Particles: 2.000 S: 0.000 S^2: 0.000 M: 0.000\n",
      " \n",
      "=== DIPOLE MOMENTS ===\n",
      " \n",
      "~ Nuclear dipole moment (a.u.): [0.0  0.0  1.3889487]\n",
      " \n",
      "  0: \n",
      "  * Electronic dipole moment (a.u.): [0.0  0.0  1.388948701555]\n",
      "    - computed part:      [0.0  0.0  1.388948701555]\n",
      "  > Dipole moment (a.u.): [0.0  0.0  -0.000000001555]  Total: 0.000000001555\n",
      "                 (debye): [0.0  0.0  -0.000000003953]  Total: 0.000000003953\n",
      " \n",
      "  1: \n",
      "  * Electronic dipole moment (a.u.): [0.0  0.0  1.388948701555]\n",
      "    - computed part:      [0.0  0.0  1.388948701555]\n",
      "  > Dipole moment (a.u.): [0.0  0.0  -0.000000001555]  Total: 0.000000001555\n",
      "                 (debye): [0.0  0.0  -0.000000003953]  Total: 0.000000003953\n",
      " \n",
      "  2: \n",
      "  * Electronic dipole moment (a.u.): [0.0  0.0  1.388948701555]\n",
      "    - computed part:      [0.0  0.0  1.388948701555]\n",
      "  > Dipole moment (a.u.): [0.0  0.0  -0.000000001555]  Total: 0.000000001555\n",
      "                 (debye): [0.0  0.0  -0.000000003953]  Total: 0.000000003953\n",
      " \n",
      "\n",
      "\n",
      "\n",
      "=== GROUND STATE ENERGY ===\n",
      " \n",
      "* Electronic ground state energy (Hartree): -1.857275030144\n",
      "  - computed part:      -1.857275030144\n",
      "~ Nuclear repulsion energy (Hartree): 0.719968994449\n",
      "> Total ground state energy (Hartree): -1.137306035695\n",
      " \n",
      "=== EXCITED STATE ENERGIES ===\n",
      " \n",
      "  1: \n",
      "* Electronic excited state energy (Hartree): -1.244586766057\n",
      "> Total excited state energy (Hartree): -0.524617771608\n",
      "  2: \n",
      "* Electronic excited state energy (Hartree): -0.882724366458\n",
      "> Total excited state energy (Hartree): -0.162755372009\n",
      "  3: \n",
      "* Electronic excited state energy (Hartree): -0.224913469053\n",
      "> Total excited state energy (Hartree): 0.495055525396\n",
      " \n",
      "=== MEASURED OBSERVABLES ===\n",
      " \n",
      "  0:  # Particles: 2.000 S: 0.000 S^2: 0.000 M: 0.000\n",
      "  1:  # Particles: 2.000 S: 1.000 S^2: 2.000 M: 0.000\n",
      "  2:  # Particles: 2.000 S: 0.000 S^2: -0.000 M: 0.000\n",
      "  3:  # Particles: 2.000 S: 0.000 S^2: 0.000 M: 0.000\n",
      " \n",
      "=== DIPOLE MOMENTS ===\n",
      " \n",
      "~ Nuclear dipole moment (a.u.): [0.0  0.0  1.3889487]\n",
      " \n",
      "  0: \n",
      "  * Electronic dipole moment (a.u.): [0.0  0.0  1.388948929727]\n",
      "    - computed part:      [0.0  0.0  1.388948929727]\n",
      "  > Dipole moment (a.u.): [0.0  0.0  -0.000000229727]  Total: 0.000000229727\n",
      "                 (debye): [0.0  0.0  -0.000000583907]  Total: 0.000000583907\n",
      " \n",
      "  1: \n",
      "  * Electronic dipole moment (a.u.): [0.0  0.0  1.388948701648]\n",
      "    - computed part:      [0.0  0.0  1.388948701648]\n",
      "  > Dipole moment (a.u.): [0.0  0.0  -0.000000001648]  Total: 0.000000001648\n",
      "                 (debye): [0.0  0.0  -0.000000004188]  Total: 0.000000004188\n",
      " \n",
      "  2: \n",
      "  * Electronic dipole moment (a.u.): [0.0  0.0  1.388948994748]\n",
      "    - computed part:      [0.0  0.0  1.388948994748]\n",
      "  > Dipole moment (a.u.): [0.0  0.0  -0.000000294748]  Total: 0.000000294748\n",
      "                 (debye): [0.0  0.0  -0.000000749175]  Total: 0.000000749175\n",
      " \n",
      "  3: \n",
      "  * Electronic dipole moment (a.u.): [0.0  0.0  1.388948734048]\n",
      "    - computed part:      [0.0  0.0  1.388948734048]\n",
      "  > Dipole moment (a.u.): [0.0  0.0  -0.000000034048]  Total: 0.000000034048\n",
      "                 (debye): [0.0  0.0  -0.00000008654]  Total: 0.00000008654\n",
      " \n"
     ]
    }
   ],
   "source": [
    "from qiskit_nature.second_q.algorithms import ExcitedStatesEigensolver\n",
    "\n",
    "numpy_excited_states_solver = ExcitedStatesEigensolver(mapper, numpy_solver)\n",
    "numpy_results = numpy_excited_states_solver.solve(es_problem)\n",
    "\n",
    "qeom_results = qeom_excited_states_solver.solve(es_problem)\n",
    "\n",
    "print(numpy_results)\n",
    "print(\"\\n\\n\")\n",
    "print(qeom_results)"
   ]
  },
  {
   "cell_type": "markdown",
   "id": "fa52998b-0430-42af-844f-b1e729cb5c7b",
   "metadata": {},
   "source": [
    "## qeom in braket"
   ]
  },
  {
   "cell_type": "markdown",
   "id": "227246bd-0ea3-4398-828d-d0bd1df35f64",
   "metadata": {},
   "source": [
    "### code not relevant for braket"
   ]
  },
  {
   "cell_type": "code",
   "execution_count": 6,
   "id": "cc2951a9-26d5-46fc-99c7-62e207dbf21f",
   "metadata": {},
   "outputs": [],
   "source": [
    "from qiskit_nature.units import DistanceUnit\n",
    "from qiskit_nature.second_q.drivers import PySCFDriver\n",
    "\n",
    "driver = PySCFDriver(\n",
    "    atom=\"H 0 0 0; H 0 0 0.735\",\n",
    "    basis=\"sto3g\",\n",
    "    charge=0,\n",
    "    spin=0,\n",
    "    unit=DistanceUnit.ANGSTROM,\n",
    ")\n",
    "\n",
    "es_problem = driver.run()"
   ]
  },
  {
   "cell_type": "code",
   "execution_count": 7,
   "id": "051e114a-2f00-4191-b4f5-71b9f1f773cd",
   "metadata": {},
   "outputs": [],
   "source": [
    "from qiskit_nature.second_q.mappers import JordanWignerMapper\n",
    "\n",
    "mapper = JordanWignerMapper()"
   ]
  },
  {
   "cell_type": "code",
   "execution_count": 8,
   "id": "c47fbd14-9433-47c5-b451-7c3a4920f3d8",
   "metadata": {},
   "outputs": [],
   "source": [
    "from qiskit_algorithms import NumPyEigensolver\n",
    "\n",
    "numpy_solver = NumPyEigensolver(k=4, filter_criterion=es_problem.get_default_filter_criterion())"
   ]
  },
  {
   "cell_type": "markdown",
   "id": "8c32f037-7e11-456f-ae51-84c6132185ba",
   "metadata": {},
   "source": [
    "### code relevant for braket (estimator) with IonQ - aria 1"
   ]
  },
  {
   "cell_type": "code",
   "execution_count": 9,
   "id": "2e12b82b-82c0-427b-a968-d4b9f9c46a0a",
   "metadata": {},
   "outputs": [],
   "source": [
    "from braket.aws import AwsDevice\n",
    "from braket.devices import Devices\n",
    "from braket.jobs import hybrid_job, save_job_result\n",
    "from qiskit.primitives import BackendEstimator, BackendEstimatorV2\n",
    "from qiskit_braket_provider import BraketLocalBackend"
   ]
  },
  {
   "cell_type": "code",
   "execution_count": 10,
   "id": "da68f0eb-6e7f-45e0-b97c-df9a1d78ee5a",
   "metadata": {},
   "outputs": [],
   "source": [
    "# get backend: here SV1\n",
    "from qiskit_braket_provider import BraketProvider\n",
    "\n",
    "sv1 = AwsDevice(Devices.Amazon.SV1)\n",
    "backend = BraketProvider().get_backend(\"Aria 1\")"
   ]
  },
  {
   "cell_type": "code",
   "execution_count": 11,
   "id": "aa81cf68-44cc-4b22-9bee-fb408112f039",
   "metadata": {},
   "outputs": [
    {
     "data": {
      "text/plain": [
       "[BraketBackend[Ankaa-2],\n",
       " BraketBackend[Aria 1],\n",
       " BraketBackend[Aria 2],\n",
       " BraketBackend[Forte 1],\n",
       " BraketBackend[Garnet],\n",
       " BraketBackend[SV1],\n",
       " BraketBackend[TN1],\n",
       " BraketBackend[dm1]]"
      ]
     },
     "execution_count": 11,
     "metadata": {},
     "output_type": "execute_result"
    }
   ],
   "source": [
    "BraketProvider().backends()"
   ]
  },
  {
   "cell_type": "code",
   "execution_count": 12,
   "id": "d77455d2-22b8-48b3-8fc4-d2d7a653e925",
   "metadata": {},
   "outputs": [],
   "source": [
    "# create our own estimator\n",
    "#backend = BraketLocalBackend()\n",
    "estimator = BackendEstimator(backend=backend, options={\"shots\": 1})\n",
    "#estimator = BackendEstimatorV2(backend=backend)\n",
    "#estimator.options.default_shots = 10\n"
   ]
  },
  {
   "cell_type": "code",
   "execution_count": 13,
   "id": "6dc3e63d-ad56-46e0-b048-92d35cf127f3",
   "metadata": {},
   "outputs": [],
   "source": [
    "from qiskit_algorithms import VQE\n",
    "from qiskit_algorithms.optimizers import SLSQP\n",
    "from qiskit.primitives import Estimator\n",
    "from qiskit_nature.second_q.algorithms import GroundStateEigensolver, QEOM, EvaluationRule\n",
    "from qiskit_nature.second_q.circuit.library import HartreeFock, UCCSD\n",
    "\n",
    "ansatz = UCCSD(\n",
    "    es_problem.num_spatial_orbitals,\n",
    "    es_problem.num_particles,\n",
    "    mapper,\n",
    "    initial_state=HartreeFock(\n",
    "        es_problem.num_spatial_orbitals,\n",
    "        es_problem.num_particles,\n",
    "        mapper,\n",
    "    ),\n",
    ")\n",
    "\n",
    "#ansatz.remove_final_measurements()\n",
    "\n",
    "#estimator = Estimator()\n",
    "# This first part sets the ground state solver\n",
    "# see more about this part in the ground state calculation tutorial\n",
    "slsqp = SLSQP(maxiter=1)\n",
    "solver = VQE(estimator, ansatz, slsqp)\n",
    "solver.initial_point = [0.0] * ansatz.num_parameters\n",
    "gse = GroundStateEigensolver(mapper, solver)\n",
    "\n",
    "# The qEOM algorithm is simply instantiated with the chosen ground state solver and Estimator primitive\n",
    "qeom_excited_states_solver = QEOM(gse, estimator, \"sd\", EvaluationRule.ALL)"
   ]
  },
  {
   "cell_type": "code",
   "execution_count": 14,
   "id": "490c0565-3a42-4a65-a731-d2f2a3e38775",
   "metadata": {},
   "outputs": [
    {
     "data": {
      "image/png": "[encoded data removed]",
      "text/plain": [
       "<Figure size 1876.11x367.889 with 1 Axes>"
      ]
     },
     "execution_count": 14,
     "metadata": {},
     "output_type": "execute_result"
    }
   ],
   "source": [
    "ansatz.decompose().draw('mpl')"
   ]
  },
  {
   "cell_type": "code",
   "execution_count": 15,
   "id": "932154d3-eecf-4759-af13-3abc2dd65fff",
   "metadata": {},
   "outputs": [
    {
     "name": "stderr",
     "output_type": "stream",
     "text": [
      "/home/marc/.local/lib/python3.10/site-packages/qiskit_braket_provider/providers/adapter.py:555: UserWarning: Device does not support global phase; global phase of 5.497787143782138 will not be included in Braket circuit\n",
      "  warnings.warn(\n"
     ]
    },
    {
     "name": "stdout",
     "output_type": "stream",
     "text": [
      "=== GROUND STATE ENERGY ===\n",
      " \n",
      "* Electronic ground state energy (Hartree): -1.857275030202\n",
      "  - computed part:      -1.857275030202\n",
      "~ Nuclear repulsion energy (Hartree): 0.719968994449\n",
      "> Total ground state energy (Hartree): -1.137306035753\n",
      " \n",
      "=== EXCITED STATE ENERGIES ===\n",
      " \n",
      "  1: \n",
      "* Electronic excited state energy (Hartree): -0.882722150245\n",
      "> Total excited state energy (Hartree): -0.162753155796\n",
      "  2: \n",
      "* Electronic excited state energy (Hartree): -0.224911252831\n",
      "> Total excited state energy (Hartree): 0.495057741618\n",
      " \n",
      "=== MEASURED OBSERVABLES ===\n",
      " \n",
      "  0:  # Particles: 2.000 S: 0.000 S^2: 0.000 M: 0.000\n",
      "  1:  # Particles: 2.000 S: 0.000 S^2: 0.000 M: 0.000\n",
      "  2:  # Particles: 2.000 S: 0.000 S^2: 0.000 M: 0.000\n",
      " \n",
      "=== DIPOLE MOMENTS ===\n",
      " \n",
      "~ Nuclear dipole moment (a.u.): [0.0  0.0  1.3889487]\n",
      " \n",
      "  0: \n",
      "  * Electronic dipole moment (a.u.): [0.0  0.0  1.388948701555]\n",
      "    - computed part:      [0.0  0.0  1.388948701555]\n",
      "  > Dipole moment (a.u.): [0.0  0.0  -0.000000001555]  Total: 0.000000001555\n",
      "                 (debye): [0.0  0.0  -0.000000003953]  Total: 0.000000003953\n",
      " \n",
      "  1: \n",
      "  * Electronic dipole moment (a.u.): [0.0  0.0  1.388948701555]\n",
      "    - computed part:      [0.0  0.0  1.388948701555]\n",
      "  > Dipole moment (a.u.): [0.0  0.0  -0.000000001555]  Total: 0.000000001555\n",
      "                 (debye): [0.0  0.0  -0.000000003953]  Total: 0.000000003953\n",
      " \n",
      "  2: \n",
      "  * Electronic dipole moment (a.u.): [0.0  0.0  1.388948701555]\n",
      "    - computed part:      [0.0  0.0  1.388948701555]\n",
      "  > Dipole moment (a.u.): [0.0  0.0  -0.000000001555]  Total: 0.000000001555\n",
      "                 (debye): [0.0  0.0  -0.000000003953]  Total: 0.000000003953\n",
      " \n",
      "\n",
      "\n",
      "\n",
      "=== GROUND STATE ENERGY ===\n",
      " \n",
      "* Electronic ground state energy (Hartree): -1.927433591095\n",
      "  - computed part:      -1.927433591095\n",
      "~ Nuclear repulsion energy (Hartree): 0.719968994449\n",
      "> Total ground state energy (Hartree): -1.207464596646\n",
      " \n",
      "=== EXCITED STATE ENERGIES ===\n",
      " \n",
      "  1: \n",
      "* Electronic excited state energy (Hartree): -1.35289815296\n",
      "> Total excited state energy (Hartree): -0.632929158511\n",
      "  2: \n",
      "* Electronic excited state energy (Hartree): -0.926588425684\n",
      "> Total excited state energy (Hartree): -0.206619431235\n",
      "  3: \n",
      "* Electronic excited state energy (Hartree): -0.386881591163\n",
      "> Total excited state energy (Hartree): 0.333087403286\n",
      " \n",
      "=== MEASURED OBSERVABLES ===\n",
      " \n",
      "  0:  # Particles: 2.000 S: 0.207 S^2: 0.250 M: 0.000\n",
      "  1:  # Particles: 2.983 S: 0.943 S^2: 1.833 M: 0.000\n",
      "  2:  # Particles: 1.970 S: 0.143 S^2: 0.163 M: 0.000\n",
      "  3:  # Particles: 1.828 S: 0.000 S^2: -0.000 M: 0.000\n",
      " \n",
      "=== DIPOLE MOMENTS ===\n",
      " \n",
      "~ Nuclear dipole moment (a.u.): [0.0  0.0  1.3889487]\n",
      " \n",
      "  0: \n",
      "  * Electronic dipole moment (a.u.): [0.0  0.0  1.388948701555]\n",
      "    - computed part:      [0.0  0.0  1.388948701555]\n",
      "  > Dipole moment (a.u.): [0.0  0.0  -0.000000001555]  Total: 0.000000001555\n",
      "                 (debye): [0.0  0.0  -0.000000003953]  Total: 0.000000003953\n",
      " \n",
      "  1: \n",
      "  * Electronic dipole moment (a.u.): [0.0  0.0  2.502504118659]\n",
      "    - computed part:      [0.0  0.0  2.502504118659]\n",
      "  > Dipole moment (a.u.): [0.0  0.0  -1.113555418659]  Total: 1.113555418659\n",
      "                 (debye): [0.0  0.0  -2.830375288447]  Total: 2.830375288447\n",
      " \n",
      "  2: \n",
      "  * Electronic dipole moment (a.u.): [0.0  0.0  0.969933479033]\n",
      "    - computed part:      [0.0  0.0  0.969933479033]\n",
      "  > Dipole moment (a.u.): [0.0  0.0  0.419015220967]  Total: 0.419015220967\n",
      "                 (debye): [0.0  0.0  1.065030358647]  Total: 1.065030358647\n",
      " \n",
      "  3: \n",
      "  * Electronic dipole moment (a.u.): [0.0  0.0  1.543066170697]\n",
      "    - computed part:      [0.0  0.0  1.543066170697]\n",
      "  > Dipole moment (a.u.): [0.0  0.0  -0.154117470697]  Total: 0.154117470697\n",
      "                 (debye): [0.0  0.0  -0.391727500283]  Total: 0.391727500283\n",
      " \n"
     ]
    }
   ],
   "source": [
    "from qiskit_nature.second_q.algorithms import ExcitedStatesEigensolver\n",
    "\n",
    "numpy_excited_states_solver = ExcitedStatesEigensolver(mapper, numpy_solver)\n",
    "numpy_results = numpy_excited_states_solver.solve(es_problem)\n",
    "\n",
    "qeom_results = qeom_excited_states_solver.solve(es_problem)\n",
    "\n",
    "print(numpy_results)\n",
    "print(\"\\n\\n\")\n",
    "print(qeom_results)"
   ]
  },
  {
   "cell_type": "markdown",
   "id": "422f33c0-0322-47c1-aaae-57b6d876c557",
   "metadata": {},
   "source": [
    "### code relevant for braket (estimator) with IQM - garnet"
   ]
  },
  {
   "cell_type": "code",
   "execution_count": 4,
   "id": "34d5905c-2233-41ee-9b72-bc89623a280f",
   "metadata": {},
   "outputs": [],
   "source": [
    "from braket.aws import AwsDevice\n",
    "from braket.devices import Devices\n",
    "from braket.jobs import hybrid_job, save_job_result\n",
    "from qiskit.primitives import BackendEstimator, BackendEstimatorV2\n",
    "from qiskit_braket_provider import BraketLocalBackend"
   ]
  },
  {
   "cell_type": "code",
   "execution_count": 5,
   "id": "02f1e36b-36a4-4a6d-a144-0f6945916255",
   "metadata": {},
   "outputs": [],
   "source": [
    "# get backend: here SV1\n",
    "from qiskit_braket_provider import BraketProvider\n",
    "\n",
    "sv1 = AwsDevice(Devices.Amazon.SV1)\n",
    "backend = BraketProvider().get_backend(\"Garnet\")"
   ]
  },
  {
   "cell_type": "code",
   "execution_count": 6,
   "id": "76b7f1cc-1355-4ca2-8a31-094d8ee4a910",
   "metadata": {},
   "outputs": [],
   "source": [
    "# create our own estimator\n",
    "#backend = BraketLocalBackend()\n",
    "estimator = BackendEstimator(backend=backend, options={\"shots\": 1})\n",
    "#estimator = BackendEstimatorV2(backend=backend)\n",
    "#estimator.options.default_shots = 10"
   ]
  },
  {
   "cell_type": "code",
   "execution_count": 7,
   "id": "72dd6fda-6eb7-4e4f-a5d3-b1c983de23d8",
   "metadata": {},
   "outputs": [],
   "source": [
    "from qiskit_algorithms import VQE\n",
    "from qiskit_algorithms.optimizers import SLSQP\n",
    "from qiskit.primitives import Estimator\n",
    "from qiskit_nature.second_q.algorithms import GroundStateEigensolver, QEOM, EvaluationRule\n",
    "from qiskit_nature.second_q.circuit.library import HartreeFock, UCCSD\n",
    "\n",
    "ansatz = UCCSD(\n",
    "    es_problem.num_spatial_orbitals,\n",
    "    es_problem.num_particles,\n",
    "    mapper,\n",
    "    initial_state=HartreeFock(\n",
    "        es_problem.num_spatial_orbitals,\n",
    "        es_problem.num_particles,\n",
    "        mapper,\n",
    "    ),\n",
    ")\n",
    "\n",
    "#ansatz.remove_final_measurements()\n",
    "\n",
    "#estimator = Estimator()\n",
    "# This first part sets the ground state solver\n",
    "# see more about this part in the ground state calculation tutorial\n",
    "slsqp = SLSQP(maxiter=1)\n",
    "solver = VQE(estimator, ansatz, slsqp)\n",
    "solver.initial_point = [0.0] * ansatz.num_parameters\n",
    "gse = GroundStateEigensolver(mapper, solver)\n",
    "\n",
    "# The qEOM algorithm is simply instantiated with the chosen ground state solver and Estimator primitive\n",
    "qeom_excited_states_solver = QEOM(gse, estimator, \"sd\", EvaluationRule.ALL)"
   ]
  },
  {
   "cell_type": "code",
   "execution_count": null,
   "id": "a689c655-72aa-43ab-b5da-3f6f0ed5b1b3",
   "metadata": {},
   "outputs": [
    {
     "name": "stderr",
     "output_type": "stream",
     "text": [
      "/home/marc/.local/lib/python3.10/site-packages/qiskit_braket_provider/providers/adapter.py:555: UserWarning: Device does not support global phase; global phase of 3.9269908169872414 will not be included in Braket circuit\n",
      "  warnings.warn(\n"
     ]
    }
   ],
   "source": [
    "from qiskit_nature.second_q.algorithms import ExcitedStatesEigensolver\n",
    "\n",
    "numpy_excited_states_solver = ExcitedStatesEigensolver(mapper, numpy_solver)\n",
    "numpy_results = numpy_excited_states_solver.solve(es_problem)\n",
    "\n",
    "qeom_results = qeom_excited_states_solver.solve(es_problem)\n",
    "\n",
    "print(numpy_results)\n",
    "print(\"\\n\\n\")\n",
    "print(qeom_results)"
   ]
  },
  {
   "cell_type": "code",
   "execution_count": null,
   "id": "6bd9bc0b-9715-4f3a-ad38-1ae5fd001e19",
   "metadata": {},
   "outputs": [],
   "source": []
  }
 ],
 "metadata": {
  "kernelspec": {
   "display_name": "Python 3 (ipykernel)",
   "language": "python",
   "name": "python3"
  },
  "language_info": {
   "codemirror_mode": {
    "name": "ipython",
    "version": 3
   },
   "file_extension": ".py",
   "mimetype": "text/x-python",
   "name": "python",
   "nbconvert_exporter": "python",
   "pygments_lexer": "ipython3",
   "version": "3.10.12"
  }
 },
 "nbformat": 4,
 "nbformat_minor": 5
}
