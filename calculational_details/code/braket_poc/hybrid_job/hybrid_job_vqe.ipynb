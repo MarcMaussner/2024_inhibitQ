{
 "cells": [
  {
   "cell_type": "code",
   "execution_count": 1,
   "id": "433d15ea-eb95-402f-a347-fe0f3b12de1b",
   "metadata": {},
   "outputs": [],
   "source": [
    "from pprint import pprint\n",
    "\n",
    "import matplotlib.pyplot as plt\n",
    "from braket.aws import AwsDevice\n",
    "from braket.devices import Devices\n",
    "from braket.jobs import hybrid_job, save_job_result\n",
    "from qiskit.circuit.library import TwoLocal\n",
    "from qiskit.primitives import BackendEstimator\n",
    "from qiskit.quantum_info import SparsePauliOp\n",
    "from qiskit_algorithms.minimum_eigensolvers import VQE\n",
    "from qiskit_algorithms.optimizers import SLSQP\n",
    "\n",
    "from qiskit_braket_provider import BraketProvider\n",
    "\n",
    "sv1 = AwsDevice(Devices.Amazon.SV1)"
   ]
  },
  {
   "cell_type": "code",
   "execution_count": 2,
   "id": "9d321522-4ab4-47ea-a2e9-5cba7fbe11be",
   "metadata": {},
   "outputs": [],
   "source": [
    "@hybrid_job(device=sv1.arn, include_modules=\"qiskit_algorithms\")\n",
    "def main():\n",
    "    \"\"\"Decorated function that will be run in the docker container.\"\"\"\n",
    "    backend = BraketProvider().get_backend(\"SV1\")\n",
    "\n",
    "    h2_op = SparsePauliOp(\n",
    "        [\"II\", \"IZ\", \"ZI\", \"ZZ\", \"XX\"],\n",
    "        coeffs=[\n",
    "            -1.052373245772859,\n",
    "            0.39793742484318045,\n",
    "            -0.39793742484318045,\n",
    "            -0.01128010425623538,\n",
    "            0.18093119978423156,\n",
    "        ],\n",
    "    )\n",
    "\n",
    "    estimator = BackendEstimator(backend=backend, options={\"shots\": 10})\n",
    "    ansatz = TwoLocal(rotation_blocks=\"ry\", entanglement_blocks=\"cz\")\n",
    "    slsqp = SLSQP(maxiter=1)\n",
    "\n",
    "    vqe = VQE(estimator=estimator, ansatz=ansatz, optimizer=slsqp)\n",
    "\n",
    "    vqe_result = vqe.compute_minimum_eigenvalue(h2_op)\n",
    "\n",
    "    # Save the results of the VQE computation.\n",
    "    save_job_result(\n",
    "        {\n",
    "            \"VQE\": {\n",
    "                \"eigenvalue\": vqe_result.eigenvalue.real,\n",
    "                \"optimal_parameters\": list(vqe_result.optimal_parameters.values()),\n",
    "                \"optimal_point\": vqe_result.optimal_point.tolist(),\n",
    "                \"optimal_value\": vqe_result.optimal_value.real,\n",
    "            }\n",
    "        }\n",
    "    )"
   ]
  },
  {
   "cell_type": "code",
   "execution_count": 3,
   "id": "a8ab796c-7e3c-44f4-98af-bdae2f9bf8ea",
   "metadata": {},
   "outputs": [],
   "source": [
    "job = main()"
   ]
  },
  {
   "cell_type": "code",
   "execution_count": 4,
   "id": "a943edd7-bb5b-4490-aeb3-db55a429573d",
   "metadata": {},
   "outputs": [
    {
     "name": "stdout",
     "output_type": "stream",
     "text": [
      "{}\n"
     ]
    }
   ],
   "source": [
    "result = job.result()\n",
    "pprint(result)"
   ]
  },
  {
   "cell_type": "code",
   "execution_count": 5,
   "id": "46a00aee-7dc2-4129-aa1b-9b995598a498",
   "metadata": {},
   "outputs": [
    {
     "ename": "KeyError",
     "evalue": "'VQE'",
     "output_type": "error",
     "traceback": [
      "\u001b[0;31m---------------------------------------------------------------------------\u001b[0m",
      "\u001b[0;31mKeyError\u001b[0m                                  Traceback (most recent call last)",
      "Cell \u001b[0;32mIn[5], line 2\u001b[0m\n\u001b[1;32m      1\u001b[0m \u001b[38;5;66;03m# Extract data for visualization\u001b[39;00m\n\u001b[0;32m----> 2\u001b[0m optimal_parameters \u001b[38;5;241m=\u001b[39m \u001b[43mresult\u001b[49m\u001b[43m[\u001b[49m\u001b[38;5;124;43m\"\u001b[39;49m\u001b[38;5;124;43mVQE\u001b[39;49m\u001b[38;5;124;43m\"\u001b[39;49m\u001b[43m]\u001b[49m[\u001b[38;5;124m\"\u001b[39m\u001b[38;5;124moptimal_parameters\u001b[39m\u001b[38;5;124m\"\u001b[39m]\n\u001b[1;32m      3\u001b[0m optimal_point \u001b[38;5;241m=\u001b[39m result[\u001b[38;5;124m\"\u001b[39m\u001b[38;5;124mVQE\u001b[39m\u001b[38;5;124m\"\u001b[39m][\u001b[38;5;124m\"\u001b[39m\u001b[38;5;124moptimal_point\u001b[39m\u001b[38;5;124m\"\u001b[39m]\n\u001b[1;32m      5\u001b[0m \u001b[38;5;66;03m# Create a single plot for both sets of data\u001b[39;00m\n",
      "\u001b[0;31mKeyError\u001b[0m: 'VQE'"
     ]
    }
   ],
   "source": [
    "# Extract data for visualization\n",
    "optimal_parameters = result[\"VQE\"][\"optimal_parameters\"]\n",
    "optimal_point = result[\"VQE\"][\"optimal_point\"]\n",
    "\n",
    "# Create a single plot for both sets of data\n",
    "plt.figure(figsize=(8, 6))\n",
    "\n",
    "# Plot Optimal Parameters\n",
    "plt.plot(\n",
    "    optimal_parameters, marker=\"o\", linestyle=\"-\", color=\"b\", label=\"Optimal Parameters\"\n",
    ")\n",
    "\n",
    "# Plot Optimal Point Values\n",
    "plt.plot(optimal_point, marker=\"o\", linestyle=\"--\", color=\"g\", label=\"Optimal Point\")\n",
    "\n",
    "# Set labels and title\n",
    "plt.xlabel(\"Parameter Index\")\n",
    "plt.ylabel(\"Parameter Value\")\n",
    "plt.title(\"Optimal Parameters and Optimal Point Values\")\n",
    "\n",
    "# Show legend\n",
    "plt.legend()\n",
    "\n",
    "# Show the plot\n",
    "plt.tight_layout()\n",
    "plt.show()\n"
   ]
  },
  {
   "cell_type": "code",
   "execution_count": null,
   "id": "cc6d20f3-e91c-4ea6-911b-8124c3db5c25",
   "metadata": {},
   "outputs": [],
   "source": []
  }
 ],
 "metadata": {
  "kernelspec": {
   "display_name": "Python 3 (ipykernel)",
   "language": "python",
   "name": "python3"
  },
  "language_info": {
   "codemirror_mode": {
    "name": "ipython",
    "version": 3
   },
   "file_extension": ".py",
   "mimetype": "text/x-python",
   "name": "python",
   "nbconvert_exporter": "python",
   "pygments_lexer": "ipython3",
   "version": "3.10.12"
  }
 },
 "nbformat": 4,
 "nbformat_minor": 5
}
