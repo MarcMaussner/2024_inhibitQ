{
 "cells": [
  {
   "cell_type": "code",
   "execution_count": 1,
   "id": "527e10e4-3571-4c3c-93d5-bb7b1f2751d5",
   "metadata": {},
   "outputs": [],
   "source": [
    "from braket.aws import AwsDevice\n",
    "from braket.circuits import Circuit, FreeParameter, Observable\n",
    "from braket.devices import Devices\n",
    "from braket.jobs.hybrid_job import hybrid_job\n",
    "from braket.jobs.metrics import log_metric\n",
    "\n",
    "device_arn = Devices.Amazon.SV1\n",
    "\n",
    "\n",
    "@hybrid_job(device=device_arn)  # choose priority device\n",
    "def run_hybrid_job(num_tasks=1):\n",
    "    device = AwsDevice(device_arn)  # declare AwsDevice within the hybrid job\n",
    "\n",
    "    # create a parametric circuit\n",
    "    circ = Circuit()\n",
    "    circ.rx(0, FreeParameter(\"theta\"))\n",
    "    circ.cnot(0, 1)\n",
    "    circ.expectation(observable=Observable.X(), target=0)\n",
    "\n",
    "    theta = 0.0  # initial parameter\n",
    "\n",
    "    for i in range(num_tasks):\n",
    "        task = device.run(circ, shots=100, inputs={\"theta\": theta})  # input parameters\n",
    "        exp_val = task.result().values[0]\n",
    "\n",
    "        theta += exp_val  # modify the parameter (possibly gradient descent)\n",
    "\n",
    "        log_metric(metric_name=\"exp_val\", value=exp_val, iteration_number=i)\n",
    "\n",
    "    return {\"final_theta\": theta, \"final_exp_val\": exp_val}"
   ]
  },
  {
   "cell_type": "code",
   "execution_count": 2,
   "id": "001fce61-e59c-4440-9f1f-4d8f1c110729",
   "metadata": {},
   "outputs": [],
   "source": [
    "job = run_hybrid_job(num_tasks=1)\n",
    "result = job.result() "
   ]
  },
  {
   "cell_type": "code",
   "execution_count": 3,
   "id": "51828a06-2e0c-4075-94dd-00ca1a3de2a5",
   "metadata": {},
   "outputs": [
    {
     "name": "stdout",
     "output_type": "stream",
     "text": [
      "{'final_theta': 0.02, 'final_exp_val': 0.02}\n"
     ]
    }
   ],
   "source": [
    "print(result)"
   ]
  },
  {
   "cell_type": "code",
   "execution_count": null,
   "id": "caac8fd4-bc88-4b52-9453-bf09e719a349",
   "metadata": {},
   "outputs": [],
   "source": []
  }
 ],
 "metadata": {
  "kernelspec": {
   "display_name": "Python 3 (ipykernel)",
   "language": "python",
   "name": "python3"
  },
  "language_info": {
   "codemirror_mode": {
    "name": "ipython",
    "version": 3
   },
   "file_extension": ".py",
   "mimetype": "text/x-python",
   "name": "python",
   "nbconvert_exporter": "python",
   "pygments_lexer": "ipython3",
   "version": "3.10.12"
  }
 },
 "nbformat": 4,
 "nbformat_minor": 5
}
