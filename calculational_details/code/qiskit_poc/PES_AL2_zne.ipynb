{
 "cells": [
  {
   "cell_type": "markdown",
   "id": "fdcf8b4e-9c55-4c5d-9b97-1e2313933074",
   "metadata": {},
   "source": [
    "# Proof of concept\n",
    "## Get PES of AL2\n",
    "- taken from: https://github.com/Qiskit/textbook/blob/main/notebooks/ch-applications/vqe-molecules.ipynb"
   ]
  },
  {
   "cell_type": "code",
   "execution_count": 1,
   "id": "c114fd5a-e336-4eee-a674-fa6f402e6864",
   "metadata": {},
   "outputs": [],
   "source": [
    "# pylint: disable=line-too-long\n",
    "import qiskit_nature\n",
    "from qiskit_algorithms.minimum_eigensolvers import NumPyMinimumEigensolver, VQE\n",
    "from qiskit_nature.second_q.transformers import FreezeCoreTransformer\n",
    "from qiskit_nature.second_q.formats.molecule_info import MoleculeInfo\n",
    "from qiskit_nature.second_q.mappers import ParityMapper\n",
    "from qiskit_nature.second_q.circuit.library import UCCSD, HartreeFock\n",
    "\n",
    "qiskit_nature.settings.use_pauli_sum_op = False  # pylint: disable=undefined-variable\n",
    "# pylint: enable=line-too-long\n",
    "from qiskit_nature.second_q.drivers import PySCFDriver\n",
    "import matplotlib.pyplot as plt\n",
    "from qiskit.circuit.library import EfficientSU2\n",
    "\n",
    "import numpy as np\n",
    "# SciPy minimizer routine\n",
    "from scipy.optimize import minimize\n",
    "\n",
    "from qiskit_algorithms.optimizers import SLSQP\n",
    "from qiskit_aer.primitives import Estimator as AerEstimator"
   ]
  },
  {
   "cell_type": "code",
   "execution_count": 2,
   "id": "f4df41b0-9852-4487-a5c0-24a5a684aafb",
   "metadata": {},
   "outputs": [],
   "source": [
    "def get_qubit_op(dist):\n",
    "    # Define Molecule\n",
    "    molecule = MoleculeInfo(\n",
    "        # Coordinates in Angstrom\n",
    "        symbols=[\"Al\", \"Al\"],\n",
    "        coords=([0.0, 0.0, 0.0], [dist, 0.0, 0.0]),\n",
    "        multiplicity=1,  # = 2*spin + 1\n",
    "        charge=0,\n",
    "    )\n",
    "\n",
    "    driver = PySCFDriver.from_molecule(molecule)\n",
    "    problem = driver.run()\n",
    "\n",
    "    # Now you can get the reduced electronic structure problem\n",
    "    from qiskit_nature.second_q.transformers import FreezeCoreTransformer\n",
    "\n",
    "    fc_transformer = FreezeCoreTransformer()\n",
    "\n",
    "    fc_problem = fc_transformer.transform(problem)\n",
    "\n",
    "    # active space transformer\n",
    "    from qiskit_nature.second_q.transformers import ActiveSpaceTransformer\n",
    "\n",
    "    as_transformer = ActiveSpaceTransformer(2, 2)\n",
    "\n",
    "    as_problem = as_transformer.transform(fc_problem)\n",
    "    \n",
    "    num_particles = as_problem.num_particles\n",
    "    num_spatial_orbitals = as_problem.num_spatial_orbitals\n",
    "\n",
    "    mapper = ParityMapper(num_particles=num_particles)\n",
    "    qubit_op = mapper.map(as_problem.second_q_ops()[0])\n",
    "    print (f\"Problem spatial orbitals {problem.num_spatial_orbitals}\")\n",
    "    print (f\"Problem particles {problem.num_particles}\")\n",
    "    print (f\"FC-Problem spatial orbitals {fc_problem.num_spatial_orbitals}\")\n",
    "    print (f\"FC-Problem particles {fc_problem.num_particles}\")\n",
    "    print (f\"AS-Problem spatial orbitals {as_problem.num_spatial_orbitals}\")\n",
    "    print (f\"AS-Problem particles {as_problem.num_particles}\")\n",
    "    return qubit_op, num_particles, num_spatial_orbitals, as_problem, mapper"
   ]
  },
  {
   "cell_type": "code",
   "execution_count": 3,
   "id": "74cf071c-f41c-4ae5-9851-784a3bc3f348",
   "metadata": {},
   "outputs": [
    {
     "name": "stdout",
     "output_type": "stream",
     "text": [
      "Problem spatial orbitals 18\n",
      "Problem particles (13, 13)\n",
      "FC-Problem spatial orbitals 8\n",
      "FC-Problem particles (3, 3)\n",
      "AS-Problem spatial orbitals 2\n",
      "AS-Problem particles (1, 1)\n",
      "Qubits needed in ansatz: 2\n",
      "Interatomic Distance: 1.5 VQE Result: -477.44904 Exact Energy: -477.48401\n",
      "Problem spatial orbitals 18\n",
      "Problem particles (13, 13)\n",
      "FC-Problem spatial orbitals 8\n",
      "FC-Problem particles (3, 3)\n",
      "AS-Problem spatial orbitals 2\n",
      "AS-Problem particles (1, 1)\n",
      "Qubits needed in ansatz: 2\n",
      "Interatomic Distance: 1.6 VQE Result: -477.54879 Exact Energy: -477.58234\n",
      "Problem spatial orbitals 18\n",
      "Problem particles (13, 13)\n",
      "FC-Problem spatial orbitals 8\n",
      "FC-Problem particles (3, 3)\n",
      "AS-Problem spatial orbitals 2\n",
      "AS-Problem particles (1, 1)\n",
      "Qubits needed in ansatz: 2\n",
      "Interatomic Distance: 1.7 VQE Result: -477.61970 Exact Energy: -477.65193\n",
      "Problem spatial orbitals 18\n",
      "Problem particles (13, 13)\n",
      "FC-Problem spatial orbitals 8\n",
      "FC-Problem particles (3, 3)\n",
      "AS-Problem spatial orbitals 2\n",
      "AS-Problem particles (1, 1)\n",
      "Qubits needed in ansatz: 2\n",
      "Interatomic Distance: 1.8 VQE Result: -477.66771 Exact Energy: -477.69875\n",
      "Problem spatial orbitals 18\n",
      "Problem particles (13, 13)\n",
      "FC-Problem spatial orbitals 8\n",
      "FC-Problem particles (3, 3)\n",
      "AS-Problem spatial orbitals 2\n",
      "AS-Problem particles (1, 1)\n",
      "Qubits needed in ansatz: 2\n",
      "Interatomic Distance: 1.9 VQE Result: -477.69783 Exact Energy: -477.72782\n",
      "All energies have been calculated\n"
     ]
    }
   ],
   "source": [
    "def exact_solver(qubit_op, problem):\n",
    "    sol = NumPyMinimumEigensolver().compute_minimum_eigenvalue(qubit_op)\n",
    "    result = problem.interpret(sol)\n",
    "    return result\n",
    "\n",
    "distances = np.arange(1.5, 2.0, 0.1)\n",
    "exact_energies = []\n",
    "vqe_energies = []\n",
    "optimizer = SLSQP(maxiter=10)\n",
    "noiseless_estimator = AerEstimator(approximation=True)\n",
    "\n",
    "# pylint: disable=undefined-loop-variable,line-too-long\n",
    "for dist in distances:\n",
    "    (qubit_op, num_particles, num_spatial_orbitals, problem, mapper) = get_qubit_op(\n",
    "        dist\n",
    "    )\n",
    "\n",
    "    result = exact_solver(qubit_op, problem)\n",
    "    exact_energies.append(result.total_energies[0].real)\n",
    "    init_state = HartreeFock(num_spatial_orbitals, num_particles, mapper)\n",
    "    var_form = UCCSD(\n",
    "        num_spatial_orbitals, num_particles, mapper, initial_state=init_state\n",
    "    )\n",
    "    print(f\"Qubits needed in ansatz: {var_form.num_qubits}\")\n",
    "    vqe = VQE(\n",
    "        noiseless_estimator,\n",
    "        var_form,\n",
    "        optimizer,\n",
    "        initial_point=[0] * var_form.num_parameters,\n",
    "    )\n",
    "    vqe_calc = vqe.compute_minimum_eigenvalue(qubit_op)\n",
    "    vqe_result = problem.interpret(vqe_calc).total_energies[0].real\n",
    "    vqe_energies.append(vqe_result)\n",
    "    print(\n",
    "        f\"Interatomic Distance: {np.round(dist, 2)}\",\n",
    "        f\"VQE Result: {vqe_result:.5f}\",\n",
    "        f\"Exact Energy: {exact_energies[-1]:.5f}\",\n",
    "    )\n",
    "\n",
    "print(\"All energies have been calculated\")"
   ]
  },
  {
   "cell_type": "code",
   "execution_count": 4,
   "id": "eab515db-7734-46b9-823f-f3812cae9153",
   "metadata": {},
   "outputs": [
    {
     "data": {
      "image/png": "[encoded data removed]",
      "text/plain": [
       "<Figure size 640x480 with 1 Axes>"
      ]
     },
     "metadata": {},
     "output_type": "display_data"
    }
   ],
   "source": [
    "plt.plot(distances, exact_energies, label=\"Exact Energy\")\n",
    "plt.plot(distances, vqe_energies, label=\"VQE Energy\")\n",
    "plt.xlabel(\"Atomic distance (Angstrom)\")\n",
    "plt.ylabel(\"Energy\")\n",
    "plt.legend()\n",
    "plt.show()"
   ]
  },
  {
   "cell_type": "markdown",
   "id": "c69f3d15-4c56-415a-a7c4-4c80494bac8c",
   "metadata": {},
   "source": [
    "## Now get this thing run on real-hw"
   ]
  },
  {
   "cell_type": "code",
   "execution_count": 5,
   "id": "ac6daf58-0c3a-4460-a1e6-a9f774e12bbf",
   "metadata": {},
   "outputs": [],
   "source": [
    "from qiskit_ibm_runtime import QiskitRuntimeService\n",
    "\n",
    "service = QiskitRuntimeService()\n",
    "backend = service.least_busy(min_num_qubits=127)"
   ]
  },
  {
   "cell_type": "code",
   "execution_count": 12,
   "id": "64a9899b-2a34-46bd-98d8-4a631418a4a2",
   "metadata": {},
   "outputs": [],
   "source": [
    "from qiskit_ibm_runtime import Session, EstimatorV2 as Estimator"
   ]
  },
  {
   "cell_type": "code",
   "execution_count": 13,
   "id": "e7e68f95-f9c0-4bbe-bd7a-2752db93af04",
   "metadata": {},
   "outputs": [],
   "source": [
    "def cost_func(params, ansatz, hamiltonian, estimator):\n",
    "    \"\"\"Return estimate of energy from estimator\n",
    "\n",
    "    Parameters:\n",
    "        params (ndarray): Array of ansatz parameters\n",
    "        ansatz (QuantumCircuit): Parameterized ansatz circuit\n",
    "        hamiltonian (SparsePauliOp): Operator representation of Hamiltonian\n",
    "        estimator (EstimatorV2): Estimator primitive instance\n",
    "        cost_history_dict: Dictionary for storing intermediate results\n",
    "\n",
    "    Returns:\n",
    "        float: Energy estimate\n",
    "    \"\"\"\n",
    "    pub = (ansatz, [hamiltonian], [params])\n",
    "    result = estimator.run(pubs=[pub]).result()\n",
    "    energy = result[0].data.evs[0]\n",
    "\n",
    "    cost_history_dict[\"iters\"] += 1\n",
    "    cost_history_dict[\"prev_vector\"] = params\n",
    "    cost_history_dict[\"cost_history\"].append(energy)\n",
    "    print(f\"Iters. done: {cost_history_dict['iters']} [Current cost: {energy}]\")\n",
    "\n",
    "    return energy"
   ]
  },
  {
   "cell_type": "code",
   "execution_count": 14,
   "id": "43abda00-1141-45bd-87f6-8c5d044c2aee",
   "metadata": {},
   "outputs": [],
   "source": [
    "cost_history_dict = {\n",
    "    \"prev_vector\": None,\n",
    "    \"iters\": 0,\n",
    "    \"cost_history\": [],\n",
    "}"
   ]
  },
  {
   "cell_type": "code",
   "execution_count": 16,
   "id": "be9316d5-45e5-4a9f-a5c3-6d748910d34e",
   "metadata": {},
   "outputs": [
    {
     "name": "stdout",
     "output_type": "stream",
     "text": [
      "Problem spatial orbitals 18\n",
      "Problem particles (13, 13)\n",
      "FC-Problem spatial orbitals 8\n",
      "FC-Problem particles (3, 3)\n",
      "AS-Problem spatial orbitals 2\n",
      "AS-Problem particles (1, 1)\n",
      "Qubits needed in ansatz: 2\n",
      "Parameters needed in ansatz: 3\n",
      "Iters. done: 1 [Current cost: -0.38955542183236197]\n",
      "Iters. done: 2 [Current cost: -0.41074992403133087]\n",
      "Iters. done: 3 [Current cost: -0.3895051006876079]\n",
      "Iters. done: 4 [Current cost: -0.40623943141665253]\n",
      "Iters. done: 5 [Current cost: -0.4014743998577841]\n",
      "Iters. done: 6 [Current cost: -0.4184948108572262]\n",
      "Iters. done: 7 [Current cost: -0.40932367014749843]\n",
      "Iters. done: 8 [Current cost: -0.4182415131231815]\n",
      "Iters. done: 9 [Current cost: -0.41446019406653906]\n",
      "Iters. done: 10 [Current cost: -0.41445882607116413]\n",
      "Iters. done: 11 [Current cost: -0.41891377558502313]\n",
      "Iters. done: 12 [Current cost: -0.41924356233458704]\n",
      "Iters. done: 13 [Current cost: -0.4175007887482544]\n",
      "Iters. done: 14 [Current cost: -0.41903512544711613]\n",
      "Iters. done: 15 [Current cost: -0.4191434308339491]\n",
      "Iters. done: 16 [Current cost: -0.418614993017844]\n"
     ]
    },
    {
     "name": "stderr",
     "output_type": "stream",
     "text": [
      "capi_return is NULL\n",
      "Call-back cb_calcfc_in__cobyla__user__routines failed.\n"
     ]
    },
    {
     "ename": "IBMRuntimeError",
     "evalue": "'Failed to run program: \\'400 Client Error: Bad Request for url: https://api.quantum.ibm.com/runtime/jobs. {\"errors\":[{\"code\":1217,\"message\":\"Session has been closed.\",\"solution\":\"Reduce time between submitting subsequent jobs in a session.\",\"more_info\":\"https://docs.quantum-computing.ibm.com/errors\"}]}\\''",
     "output_type": "error",
     "traceback": [
      "\u001b[0;31m---------------------------------------------------------------------------\u001b[0m",
      "\u001b[0;31mIBMRuntimeError\u001b[0m                           Traceback (most recent call last)",
      "Cell \u001b[0;32mIn[16], line 40\u001b[0m\n\u001b[1;32m     37\u001b[0m     estimator \u001b[38;5;241m=\u001b[39m Estimator(session\u001b[38;5;241m=\u001b[39msession)\n\u001b[1;32m     38\u001b[0m     estimator\u001b[38;5;241m.\u001b[39moptions\u001b[38;5;241m.\u001b[39mdefault_shots \u001b[38;5;241m=\u001b[39m \u001b[38;5;241m10000\u001b[39m\n\u001b[0;32m---> 40\u001b[0m     res \u001b[38;5;241m=\u001b[39m \u001b[43mminimize\u001b[49m\u001b[43m(\u001b[49m\n\u001b[1;32m     41\u001b[0m \u001b[43m        \u001b[49m\u001b[43mcost_func\u001b[49m\u001b[43m,\u001b[49m\n\u001b[1;32m     42\u001b[0m \u001b[43m        \u001b[49m\u001b[43mx0\u001b[49m\u001b[43m,\u001b[49m\n\u001b[1;32m     43\u001b[0m \u001b[43m        \u001b[49m\u001b[43margs\u001b[49m\u001b[38;5;241;43m=\u001b[39;49m\u001b[43m(\u001b[49m\u001b[43mansatz_isa\u001b[49m\u001b[43m,\u001b[49m\u001b[43m \u001b[49m\u001b[43mhamiltonian_isa\u001b[49m\u001b[43m,\u001b[49m\u001b[43m \u001b[49m\u001b[43mestimator\u001b[49m\u001b[43m)\u001b[49m\u001b[43m,\u001b[49m\n\u001b[1;32m     44\u001b[0m \u001b[43m        \u001b[49m\u001b[43mmethod\u001b[49m\u001b[38;5;241;43m=\u001b[39;49m\u001b[38;5;124;43m\"\u001b[39;49m\u001b[38;5;124;43mcobyla\u001b[39;49m\u001b[38;5;124;43m\"\u001b[39;49m\u001b[43m,\u001b[49m\n\u001b[1;32m     45\u001b[0m \u001b[43m    \u001b[49m\u001b[43m)\u001b[49m\n\u001b[1;32m     48\u001b[0m \u001b[38;5;28mprint\u001b[39m(\n\u001b[1;32m     49\u001b[0m     \u001b[38;5;124mf\u001b[39m\u001b[38;5;124m\"\u001b[39m\u001b[38;5;124mInteratomic Distance: \u001b[39m\u001b[38;5;132;01m{\u001b[39;00mnp\u001b[38;5;241m.\u001b[39mround(dist,\u001b[38;5;250m \u001b[39m\u001b[38;5;241m2\u001b[39m)\u001b[38;5;132;01m}\u001b[39;00m\u001b[38;5;124m\"\u001b[39m,\n\u001b[1;32m     50\u001b[0m     \u001b[38;5;124mf\u001b[39m\u001b[38;5;124m\"\u001b[39m\u001b[38;5;124mVQE Result: \u001b[39m\u001b[38;5;132;01m{\u001b[39;00mvqe_result\u001b[38;5;132;01m:\u001b[39;00m\u001b[38;5;124m.5f\u001b[39m\u001b[38;5;132;01m}\u001b[39;00m\u001b[38;5;124m\"\u001b[39m,\n\u001b[1;32m     51\u001b[0m     \u001b[38;5;124mf\u001b[39m\u001b[38;5;124m\"\u001b[39m\u001b[38;5;124mExact Energy: \u001b[39m\u001b[38;5;132;01m{\u001b[39;00mexact_energies[\u001b[38;5;241m-\u001b[39m\u001b[38;5;241m1\u001b[39m]\u001b[38;5;132;01m:\u001b[39;00m\u001b[38;5;124m.5f\u001b[39m\u001b[38;5;132;01m}\u001b[39;00m\u001b[38;5;124m\"\u001b[39m,\n\u001b[1;32m     52\u001b[0m )\n\u001b[1;32m     54\u001b[0m \u001b[38;5;28mprint\u001b[39m(\u001b[38;5;124m\"\u001b[39m\u001b[38;5;124mAll energies have been calculated\u001b[39m\u001b[38;5;124m\"\u001b[39m)\n",
      "File \u001b[0;32m~/.local/lib/python3.10/site-packages/scipy/optimize/_minimize.py:702\u001b[0m, in \u001b[0;36mminimize\u001b[0;34m(fun, x0, args, method, jac, hess, hessp, bounds, constraints, tol, callback, options)\u001b[0m\n\u001b[1;32m    699\u001b[0m     res \u001b[38;5;241m=\u001b[39m _minimize_tnc(fun, x0, args, jac, bounds, callback\u001b[38;5;241m=\u001b[39mcallback,\n\u001b[1;32m    700\u001b[0m                         \u001b[38;5;241m*\u001b[39m\u001b[38;5;241m*\u001b[39moptions)\n\u001b[1;32m    701\u001b[0m \u001b[38;5;28;01melif\u001b[39;00m meth \u001b[38;5;241m==\u001b[39m \u001b[38;5;124m'\u001b[39m\u001b[38;5;124mcobyla\u001b[39m\u001b[38;5;124m'\u001b[39m:\n\u001b[0;32m--> 702\u001b[0m     res \u001b[38;5;241m=\u001b[39m \u001b[43m_minimize_cobyla\u001b[49m\u001b[43m(\u001b[49m\u001b[43mfun\u001b[49m\u001b[43m,\u001b[49m\u001b[43m \u001b[49m\u001b[43mx0\u001b[49m\u001b[43m,\u001b[49m\u001b[43m \u001b[49m\u001b[43margs\u001b[49m\u001b[43m,\u001b[49m\u001b[43m \u001b[49m\u001b[43mconstraints\u001b[49m\u001b[43m,\u001b[49m\u001b[43m \u001b[49m\u001b[43mcallback\u001b[49m\u001b[38;5;241;43m=\u001b[39;49m\u001b[43mcallback\u001b[49m\u001b[43m,\u001b[49m\n\u001b[1;32m    703\u001b[0m \u001b[43m                            \u001b[49m\u001b[38;5;241;43m*\u001b[39;49m\u001b[38;5;241;43m*\u001b[39;49m\u001b[43moptions\u001b[49m\u001b[43m)\u001b[49m\n\u001b[1;32m    704\u001b[0m \u001b[38;5;28;01melif\u001b[39;00m meth \u001b[38;5;241m==\u001b[39m \u001b[38;5;124m'\u001b[39m\u001b[38;5;124mslsqp\u001b[39m\u001b[38;5;124m'\u001b[39m:\n\u001b[1;32m    705\u001b[0m     res \u001b[38;5;241m=\u001b[39m _minimize_slsqp(fun, x0, args, jac, bounds,\n\u001b[1;32m    706\u001b[0m                           constraints, callback\u001b[38;5;241m=\u001b[39mcallback, \u001b[38;5;241m*\u001b[39m\u001b[38;5;241m*\u001b[39moptions)\n",
      "File \u001b[0;32m~/.local/lib/python3.10/site-packages/scipy/optimize/_cobyla_py.py:34\u001b[0m, in \u001b[0;36msynchronized.<locals>.wrapper\u001b[0;34m(*args, **kwargs)\u001b[0m\n\u001b[1;32m     31\u001b[0m \u001b[38;5;129m@functools\u001b[39m\u001b[38;5;241m.\u001b[39mwraps(func)\n\u001b[1;32m     32\u001b[0m \u001b[38;5;28;01mdef\u001b[39;00m \u001b[38;5;21mwrapper\u001b[39m(\u001b[38;5;241m*\u001b[39margs, \u001b[38;5;241m*\u001b[39m\u001b[38;5;241m*\u001b[39mkwargs):\n\u001b[1;32m     33\u001b[0m     \u001b[38;5;28;01mwith\u001b[39;00m _module_lock:\n\u001b[0;32m---> 34\u001b[0m         \u001b[38;5;28;01mreturn\u001b[39;00m \u001b[43mfunc\u001b[49m\u001b[43m(\u001b[49m\u001b[38;5;241;43m*\u001b[39;49m\u001b[43margs\u001b[49m\u001b[43m,\u001b[49m\u001b[43m \u001b[49m\u001b[38;5;241;43m*\u001b[39;49m\u001b[38;5;241;43m*\u001b[39;49m\u001b[43mkwargs\u001b[49m\u001b[43m)\u001b[49m\n",
      "File \u001b[0;32m~/.local/lib/python3.10/site-packages/scipy/optimize/_cobyla_py.py:270\u001b[0m, in \u001b[0;36m_minimize_cobyla\u001b[0;34m(fun, x0, args, constraints, rhobeg, tol, maxiter, disp, catol, callback, **unknown_options)\u001b[0m\n\u001b[1;32m    267\u001b[0m         callback(np\u001b[38;5;241m.\u001b[39mcopy(x))\n\u001b[1;32m    269\u001b[0m info \u001b[38;5;241m=\u001b[39m np\u001b[38;5;241m.\u001b[39mzeros(\u001b[38;5;241m4\u001b[39m, np\u001b[38;5;241m.\u001b[39mfloat64)\n\u001b[0;32m--> 270\u001b[0m xopt, info \u001b[38;5;241m=\u001b[39m \u001b[43mcobyla\u001b[49m\u001b[38;5;241;43m.\u001b[39;49m\u001b[43mminimize\u001b[49m\u001b[43m(\u001b[49m\u001b[43mcalcfc\u001b[49m\u001b[43m,\u001b[49m\u001b[43m \u001b[49m\u001b[43mm\u001b[49m\u001b[38;5;241;43m=\u001b[39;49m\u001b[43mm\u001b[49m\u001b[43m,\u001b[49m\u001b[43m \u001b[49m\u001b[43mx\u001b[49m\u001b[38;5;241;43m=\u001b[39;49m\u001b[43mnp\u001b[49m\u001b[38;5;241;43m.\u001b[39;49m\u001b[43mcopy\u001b[49m\u001b[43m(\u001b[49m\u001b[43mx0\u001b[49m\u001b[43m)\u001b[49m\u001b[43m,\u001b[49m\u001b[43m \u001b[49m\u001b[43mrhobeg\u001b[49m\u001b[38;5;241;43m=\u001b[39;49m\u001b[43mrhobeg\u001b[49m\u001b[43m,\u001b[49m\n\u001b[1;32m    271\u001b[0m \u001b[43m                              \u001b[49m\u001b[43mrhoend\u001b[49m\u001b[38;5;241;43m=\u001b[39;49m\u001b[43mrhoend\u001b[49m\u001b[43m,\u001b[49m\u001b[43m \u001b[49m\u001b[43miprint\u001b[49m\u001b[38;5;241;43m=\u001b[39;49m\u001b[43miprint\u001b[49m\u001b[43m,\u001b[49m\u001b[43m \u001b[49m\u001b[43mmaxfun\u001b[49m\u001b[38;5;241;43m=\u001b[39;49m\u001b[43mmaxfun\u001b[49m\u001b[43m,\u001b[49m\n\u001b[1;32m    272\u001b[0m \u001b[43m                              \u001b[49m\u001b[43mdinfo\u001b[49m\u001b[38;5;241;43m=\u001b[39;49m\u001b[43minfo\u001b[49m\u001b[43m,\u001b[49m\u001b[43m \u001b[49m\u001b[43mcallback\u001b[49m\u001b[38;5;241;43m=\u001b[39;49m\u001b[43mwrapped_callback\u001b[49m\u001b[43m)\u001b[49m\n\u001b[1;32m    274\u001b[0m \u001b[38;5;28;01mif\u001b[39;00m info[\u001b[38;5;241m3\u001b[39m] \u001b[38;5;241m>\u001b[39m catol:\n\u001b[1;32m    275\u001b[0m     \u001b[38;5;66;03m# Check constraint violation\u001b[39;00m\n\u001b[1;32m    276\u001b[0m     info[\u001b[38;5;241m0\u001b[39m] \u001b[38;5;241m=\u001b[39m \u001b[38;5;241m4\u001b[39m\n",
      "File \u001b[0;32m~/.local/lib/python3.10/site-packages/scipy/optimize/_cobyla_py.py:258\u001b[0m, in \u001b[0;36m_minimize_cobyla.<locals>.calcfc\u001b[0;34m(x, con)\u001b[0m\n\u001b[1;32m    257\u001b[0m \u001b[38;5;28;01mdef\u001b[39;00m \u001b[38;5;21mcalcfc\u001b[39m(x, con):\n\u001b[0;32m--> 258\u001b[0m     f \u001b[38;5;241m=\u001b[39m \u001b[43mfun\u001b[49m\u001b[43m(\u001b[49m\u001b[43mnp\u001b[49m\u001b[38;5;241;43m.\u001b[39;49m\u001b[43mcopy\u001b[49m\u001b[43m(\u001b[49m\u001b[43mx\u001b[49m\u001b[43m)\u001b[49m\u001b[43m,\u001b[49m\u001b[43m \u001b[49m\u001b[38;5;241;43m*\u001b[39;49m\u001b[43margs\u001b[49m\u001b[43m)\u001b[49m\n\u001b[1;32m    259\u001b[0m     i \u001b[38;5;241m=\u001b[39m \u001b[38;5;241m0\u001b[39m\n\u001b[1;32m    260\u001b[0m     \u001b[38;5;28;01mfor\u001b[39;00m size, c \u001b[38;5;129;01min\u001b[39;00m izip(cons_lengths, constraints):\n",
      "Cell \u001b[0;32mIn[13], line 15\u001b[0m, in \u001b[0;36mcost_func\u001b[0;34m(params, ansatz, hamiltonian, estimator)\u001b[0m\n\u001b[1;32m      2\u001b[0m \u001b[38;5;250m\u001b[39m\u001b[38;5;124;03m\"\"\"Return estimate of energy from estimator\u001b[39;00m\n\u001b[1;32m      3\u001b[0m \n\u001b[1;32m      4\u001b[0m \u001b[38;5;124;03mParameters:\u001b[39;00m\n\u001b[0;32m   (...)\u001b[0m\n\u001b[1;32m     12\u001b[0m \u001b[38;5;124;03m    float: Energy estimate\u001b[39;00m\n\u001b[1;32m     13\u001b[0m \u001b[38;5;124;03m\"\"\"\u001b[39;00m\n\u001b[1;32m     14\u001b[0m pub \u001b[38;5;241m=\u001b[39m (ansatz, [hamiltonian], [params])\n\u001b[0;32m---> 15\u001b[0m result \u001b[38;5;241m=\u001b[39m \u001b[43mestimator\u001b[49m\u001b[38;5;241;43m.\u001b[39;49m\u001b[43mrun\u001b[49m\u001b[43m(\u001b[49m\u001b[43mpubs\u001b[49m\u001b[38;5;241;43m=\u001b[39;49m\u001b[43m[\u001b[49m\u001b[43mpub\u001b[49m\u001b[43m]\u001b[49m\u001b[43m)\u001b[49m\u001b[38;5;241m.\u001b[39mresult()\n\u001b[1;32m     16\u001b[0m energy \u001b[38;5;241m=\u001b[39m result[\u001b[38;5;241m0\u001b[39m]\u001b[38;5;241m.\u001b[39mdata\u001b[38;5;241m.\u001b[39mevs[\u001b[38;5;241m0\u001b[39m]\n\u001b[1;32m     18\u001b[0m cost_history_dict[\u001b[38;5;124m\"\u001b[39m\u001b[38;5;124miters\u001b[39m\u001b[38;5;124m\"\u001b[39m] \u001b[38;5;241m+\u001b[39m\u001b[38;5;241m=\u001b[39m \u001b[38;5;241m1\u001b[39m\n",
      "File \u001b[0;32m~/.local/lib/python3.10/site-packages/qiskit_ibm_runtime/estimator.py:151\u001b[0m, in \u001b[0;36mEstimatorV2.run\u001b[0;34m(self, pubs, precision)\u001b[0m\n\u001b[1;32m    137\u001b[0m \u001b[38;5;250m\u001b[39m\u001b[38;5;124;03m\"\"\"Submit a request to the estimator primitive.\u001b[39;00m\n\u001b[1;32m    138\u001b[0m \n\u001b[1;32m    139\u001b[0m \u001b[38;5;124;03mArgs:\u001b[39;00m\n\u001b[0;32m   (...)\u001b[0m\n\u001b[1;32m    148\u001b[0m \n\u001b[1;32m    149\u001b[0m \u001b[38;5;124;03m\"\"\"\u001b[39;00m\n\u001b[1;32m    150\u001b[0m coerced_pubs \u001b[38;5;241m=\u001b[39m [EstimatorPub\u001b[38;5;241m.\u001b[39mcoerce(pub, precision) \u001b[38;5;28;01mfor\u001b[39;00m pub \u001b[38;5;129;01min\u001b[39;00m pubs]\n\u001b[0;32m--> 151\u001b[0m \u001b[38;5;28;01mreturn\u001b[39;00m \u001b[38;5;28;43mself\u001b[39;49m\u001b[38;5;241;43m.\u001b[39;49m\u001b[43m_run\u001b[49m\u001b[43m(\u001b[49m\u001b[43mcoerced_pubs\u001b[49m\u001b[43m)\u001b[49m\n",
      "File \u001b[0;32m~/.local/lib/python3.10/site-packages/qiskit_ibm_runtime/base_primitive.py:163\u001b[0m, in \u001b[0;36mBasePrimitiveV2._run\u001b[0;34m(self, pubs)\u001b[0m\n\u001b[1;32m    160\u001b[0m logger\u001b[38;5;241m.\u001b[39minfo(\u001b[38;5;124m\"\u001b[39m\u001b[38;5;124mSubmitting job using options \u001b[39m\u001b[38;5;132;01m%s\u001b[39;00m\u001b[38;5;124m\"\u001b[39m, primitive_options)\n\u001b[1;32m    162\u001b[0m \u001b[38;5;28;01mif\u001b[39;00m \u001b[38;5;28mself\u001b[39m\u001b[38;5;241m.\u001b[39m_session:\n\u001b[0;32m--> 163\u001b[0m     \u001b[38;5;28;01mreturn\u001b[39;00m \u001b[38;5;28;43mself\u001b[39;49m\u001b[38;5;241;43m.\u001b[39;49m\u001b[43m_session\u001b[49m\u001b[38;5;241;43m.\u001b[39;49m\u001b[43mrun\u001b[49m\u001b[43m(\u001b[49m\n\u001b[1;32m    164\u001b[0m \u001b[43m        \u001b[49m\u001b[43mprogram_id\u001b[49m\u001b[38;5;241;43m=\u001b[39;49m\u001b[38;5;28;43mself\u001b[39;49m\u001b[38;5;241;43m.\u001b[39;49m\u001b[43m_program_id\u001b[49m\u001b[43m(\u001b[49m\u001b[43m)\u001b[49m\u001b[43m,\u001b[49m\n\u001b[1;32m    165\u001b[0m \u001b[43m        \u001b[49m\u001b[43minputs\u001b[49m\u001b[38;5;241;43m=\u001b[39;49m\u001b[43mprimitive_inputs\u001b[49m\u001b[43m,\u001b[49m\n\u001b[1;32m    166\u001b[0m \u001b[43m        \u001b[49m\u001b[43moptions\u001b[49m\u001b[38;5;241;43m=\u001b[39;49m\u001b[43mruntime_options\u001b[49m\u001b[43m,\u001b[49m\n\u001b[1;32m    167\u001b[0m \u001b[43m        \u001b[49m\u001b[43mcallback\u001b[49m\u001b[38;5;241;43m=\u001b[39;49m\u001b[43moptions_dict\u001b[49m\u001b[38;5;241;43m.\u001b[39;49m\u001b[43mget\u001b[49m\u001b[43m(\u001b[49m\u001b[38;5;124;43m\"\u001b[39;49m\u001b[38;5;124;43menvironment\u001b[39;49m\u001b[38;5;124;43m\"\u001b[39;49m\u001b[43m,\u001b[49m\u001b[43m \u001b[49m\u001b[43m{\u001b[49m\u001b[43m}\u001b[49m\u001b[43m)\u001b[49m\u001b[38;5;241;43m.\u001b[39;49m\u001b[43mget\u001b[49m\u001b[43m(\u001b[49m\u001b[38;5;124;43m\"\u001b[39;49m\u001b[38;5;124;43mcallback\u001b[39;49m\u001b[38;5;124;43m\"\u001b[39;49m\u001b[43m,\u001b[49m\u001b[43m \u001b[49m\u001b[38;5;28;43;01mNone\u001b[39;49;00m\u001b[43m)\u001b[49m\u001b[43m,\u001b[49m\n\u001b[1;32m    168\u001b[0m \u001b[43m        \u001b[49m\u001b[43mresult_decoder\u001b[49m\u001b[38;5;241;43m=\u001b[39;49m\u001b[43mDEFAULT_DECODERS\u001b[49m\u001b[38;5;241;43m.\u001b[39;49m\u001b[43mget\u001b[49m\u001b[43m(\u001b[49m\u001b[38;5;28;43mself\u001b[39;49m\u001b[38;5;241;43m.\u001b[39;49m\u001b[43m_program_id\u001b[49m\u001b[43m(\u001b[49m\u001b[43m)\u001b[49m\u001b[43m)\u001b[49m\u001b[43m,\u001b[49m\n\u001b[1;32m    169\u001b[0m \u001b[43m    \u001b[49m\u001b[43m)\u001b[49m\n\u001b[1;32m    171\u001b[0m \u001b[38;5;28;01mif\u001b[39;00m \u001b[38;5;28mself\u001b[39m\u001b[38;5;241m.\u001b[39m_backend:\n\u001b[1;32m    172\u001b[0m     runtime_options[\u001b[38;5;124m\"\u001b[39m\u001b[38;5;124mbackend\u001b[39m\u001b[38;5;124m\"\u001b[39m] \u001b[38;5;241m=\u001b[39m \u001b[38;5;28mself\u001b[39m\u001b[38;5;241m.\u001b[39m_backend\n",
      "File \u001b[0;32m~/.local/lib/python3.10/site-packages/qiskit_ibm_runtime/session.py:43\u001b[0m, in \u001b[0;36m_active_session.<locals>._wrapper\u001b[0;34m(self, *args, **kwargs)\u001b[0m\n\u001b[1;32m     41\u001b[0m \u001b[38;5;28;01mif\u001b[39;00m \u001b[38;5;129;01mnot\u001b[39;00m \u001b[38;5;28mself\u001b[39m\u001b[38;5;241m.\u001b[39m_active:\n\u001b[1;32m     42\u001b[0m     \u001b[38;5;28;01mraise\u001b[39;00m \u001b[38;5;167;01mRuntimeError\u001b[39;00m(\u001b[38;5;124m\"\u001b[39m\u001b[38;5;124mThe session is closed.\u001b[39m\u001b[38;5;124m\"\u001b[39m)\n\u001b[0;32m---> 43\u001b[0m \u001b[38;5;28;01mreturn\u001b[39;00m \u001b[43mfunc\u001b[49m\u001b[43m(\u001b[49m\u001b[38;5;28;43mself\u001b[39;49m\u001b[43m,\u001b[49m\u001b[43m \u001b[49m\u001b[38;5;241;43m*\u001b[39;49m\u001b[43margs\u001b[49m\u001b[43m,\u001b[49m\u001b[43m \u001b[49m\u001b[38;5;241;43m*\u001b[39;49m\u001b[38;5;241;43m*\u001b[39;49m\u001b[43mkwargs\u001b[49m\u001b[43m)\u001b[49m\n",
      "File \u001b[0;32m~/.local/lib/python3.10/site-packages/qiskit_ibm_runtime/session.py:201\u001b[0m, in \u001b[0;36mSession.run\u001b[0;34m(self, program_id, inputs, options, callback, result_decoder)\u001b[0m\n\u001b[1;32m    198\u001b[0m options[\u001b[38;5;124m\"\u001b[39m\u001b[38;5;124mbackend\u001b[39m\u001b[38;5;124m\"\u001b[39m] \u001b[38;5;241m=\u001b[39m \u001b[38;5;28mself\u001b[39m\u001b[38;5;241m.\u001b[39m_backend\n\u001b[1;32m    200\u001b[0m \u001b[38;5;28;01mif\u001b[39;00m \u001b[38;5;28misinstance\u001b[39m(\u001b[38;5;28mself\u001b[39m\u001b[38;5;241m.\u001b[39m_service, QiskitRuntimeService):\n\u001b[0;32m--> 201\u001b[0m     job \u001b[38;5;241m=\u001b[39m \u001b[38;5;28;43mself\u001b[39;49m\u001b[38;5;241;43m.\u001b[39;49m\u001b[43m_service\u001b[49m\u001b[38;5;241;43m.\u001b[39;49m\u001b[43mrun\u001b[49m\u001b[43m(\u001b[49m\n\u001b[1;32m    202\u001b[0m \u001b[43m        \u001b[49m\u001b[43mprogram_id\u001b[49m\u001b[38;5;241;43m=\u001b[39;49m\u001b[43mprogram_id\u001b[49m\u001b[43m,\u001b[49m\u001b[43m  \u001b[49m\u001b[38;5;66;43;03m# type: ignore[arg-type]\u001b[39;49;00m\n\u001b[1;32m    203\u001b[0m \u001b[43m        \u001b[49m\u001b[43moptions\u001b[49m\u001b[38;5;241;43m=\u001b[39;49m\u001b[43moptions\u001b[49m\u001b[43m,\u001b[49m\n\u001b[1;32m    204\u001b[0m \u001b[43m        \u001b[49m\u001b[43minputs\u001b[49m\u001b[38;5;241;43m=\u001b[39;49m\u001b[43minputs\u001b[49m\u001b[43m,\u001b[49m\n\u001b[1;32m    205\u001b[0m \u001b[43m        \u001b[49m\u001b[43msession_id\u001b[49m\u001b[38;5;241;43m=\u001b[39;49m\u001b[38;5;28;43mself\u001b[39;49m\u001b[38;5;241;43m.\u001b[39;49m\u001b[43m_session_id\u001b[49m\u001b[43m,\u001b[49m\n\u001b[1;32m    206\u001b[0m \u001b[43m        \u001b[49m\u001b[43mstart_session\u001b[49m\u001b[38;5;241;43m=\u001b[39;49m\u001b[38;5;28;43;01mFalse\u001b[39;49;00m\u001b[43m,\u001b[49m\n\u001b[1;32m    207\u001b[0m \u001b[43m        \u001b[49m\u001b[43mcallback\u001b[49m\u001b[38;5;241;43m=\u001b[39;49m\u001b[43mcallback\u001b[49m\u001b[43m,\u001b[49m\n\u001b[1;32m    208\u001b[0m \u001b[43m        \u001b[49m\u001b[43mresult_decoder\u001b[49m\u001b[38;5;241;43m=\u001b[39;49m\u001b[43mresult_decoder\u001b[49m\u001b[43m,\u001b[49m\n\u001b[1;32m    209\u001b[0m \u001b[43m    \u001b[49m\u001b[43m)\u001b[49m\n\u001b[1;32m    211\u001b[0m     \u001b[38;5;28;01mif\u001b[39;00m \u001b[38;5;28mself\u001b[39m\u001b[38;5;241m.\u001b[39m_backend \u001b[38;5;129;01mis\u001b[39;00m \u001b[38;5;28;01mNone\u001b[39;00m:\n\u001b[1;32m    212\u001b[0m         \u001b[38;5;28mself\u001b[39m\u001b[38;5;241m.\u001b[39m_backend \u001b[38;5;241m=\u001b[39m job\u001b[38;5;241m.\u001b[39mbackend()\n",
      "File \u001b[0;32m~/.local/lib/python3.10/site-packages/qiskit_ibm_runtime/qiskit_runtime_service.py:884\u001b[0m, in \u001b[0;36mQiskitRuntimeService.run\u001b[0;34m(self, program_id, inputs, options, callback, result_decoder, session_id, start_session)\u001b[0m\n\u001b[1;32m    882\u001b[0m     \u001b[38;5;28;01mif\u001b[39;00m ex\u001b[38;5;241m.\u001b[39mstatus_code \u001b[38;5;241m==\u001b[39m \u001b[38;5;241m404\u001b[39m:\n\u001b[1;32m    883\u001b[0m         \u001b[38;5;28;01mraise\u001b[39;00m RuntimeProgramNotFound(\u001b[38;5;124mf\u001b[39m\u001b[38;5;124m\"\u001b[39m\u001b[38;5;124mProgram not found: \u001b[39m\u001b[38;5;132;01m{\u001b[39;00mex\u001b[38;5;241m.\u001b[39mmessage\u001b[38;5;132;01m}\u001b[39;00m\u001b[38;5;124m\"\u001b[39m) \u001b[38;5;28;01mfrom\u001b[39;00m \u001b[38;5;28;01mNone\u001b[39;00m\n\u001b[0;32m--> 884\u001b[0m     \u001b[38;5;28;01mraise\u001b[39;00m IBMRuntimeError(\u001b[38;5;124mf\u001b[39m\u001b[38;5;124m\"\u001b[39m\u001b[38;5;124mFailed to run program: \u001b[39m\u001b[38;5;132;01m{\u001b[39;00mex\u001b[38;5;132;01m}\u001b[39;00m\u001b[38;5;124m\"\u001b[39m) \u001b[38;5;28;01mfrom\u001b[39;00m \u001b[38;5;28;01mNone\u001b[39;00m\n\u001b[1;32m    885\u001b[0m backend \u001b[38;5;241m=\u001b[39m (\n\u001b[1;32m    886\u001b[0m     \u001b[38;5;28mself\u001b[39m\u001b[38;5;241m.\u001b[39mbackend(name\u001b[38;5;241m=\u001b[39mresponse[\u001b[38;5;124m\"\u001b[39m\u001b[38;5;124mbackend\u001b[39m\u001b[38;5;124m\"\u001b[39m], instance\u001b[38;5;241m=\u001b[39mhgp_name)\n\u001b[1;32m    887\u001b[0m     \u001b[38;5;28;01mif\u001b[39;00m response[\u001b[38;5;124m\"\u001b[39m\u001b[38;5;124mbackend\u001b[39m\u001b[38;5;124m\"\u001b[39m]\n\u001b[1;32m    888\u001b[0m     \u001b[38;5;28;01melse\u001b[39;00m qrt_options\u001b[38;5;241m.\u001b[39mget_backend_name()\n\u001b[1;32m    889\u001b[0m )\n\u001b[1;32m    891\u001b[0m \u001b[38;5;28;01mif\u001b[39;00m version \u001b[38;5;241m==\u001b[39m \u001b[38;5;241m2\u001b[39m:\n",
      "\u001b[0;31mIBMRuntimeError\u001b[0m: 'Failed to run program: \\'400 Client Error: Bad Request for url: https://api.quantum.ibm.com/runtime/jobs. {\"errors\":[{\"code\":1217,\"message\":\"Session has been closed.\",\"solution\":\"Reduce time between submitting subsequent jobs in a session.\",\"more_info\":\"https://docs.quantum-computing.ibm.com/errors\"}]}\\''"
     ]
    }
   ],
   "source": [
    "def exact_solver(qubit_op, problem):\n",
    "    sol = NumPyMinimumEigensolver().compute_minimum_eigenvalue(qubit_op)\n",
    "    result = problem.interpret(sol)\n",
    "    return result\n",
    "\n",
    "distances = np.arange(1.5, 2.0, 0.1)\n",
    "exact_energies = []\n",
    "vqe_energies = []\n",
    "optimizer = SLSQP(maxiter=10)\n",
    "estimator = Estimator(backend)\n",
    "\n",
    "# pylint: disable=undefined-loop-variable,line-too-long\n",
    "(qubit_op, num_particles, num_spatial_orbitals, problem, mapper) = get_qubit_op(1.8)\n",
    "\n",
    "result = exact_solver(qubit_op, problem)\n",
    "exact_energies.append(result.total_energies[0].real)\n",
    "init_state = HartreeFock(num_spatial_orbitals, num_particles, mapper)\n",
    "var_form = UCCSD(\n",
    "    num_spatial_orbitals, num_particles, mapper, initial_state=init_state\n",
    ")\n",
    "\n",
    "print(f\"Qubits needed in ansatz: {var_form.num_qubits}\")\n",
    "print(f\"Parameters needed in ansatz: {var_form.num_parameters}\")\n",
    "\n",
    "#now convert to hardware\n",
    "from qiskit.transpiler.preset_passmanagers import generate_preset_pass_manager\n",
    "\n",
    "target = backend.target\n",
    "pm = generate_preset_pass_manager(target=target, optimization_level=3)\n",
    "\n",
    "ansatz_isa = pm.run(var_form) \n",
    "hamiltonian_isa = qubit_op.apply_layout(layout=ansatz_isa.layout)\n",
    "\n",
    "x0 = initial_point=[0] * var_form.num_parameters\n",
    "\n",
    "with Session(backend=backend) as session:\n",
    "    estimator = Estimator(session=session)\n",
    "    estimator.options.default_shots = 10000\n",
    "\n",
    "    res = minimize(\n",
    "        cost_func,\n",
    "        x0,\n",
    "        args=(ansatz_isa, hamiltonian_isa, estimator),\n",
    "        method=\"cobyla\",\n",
    "    )\n",
    "\n",
    "\n",
    "print(\n",
    "    f\"Interatomic Distance: {np.round(dist, 2)}\",\n",
    "    f\"Exact Energy: {exact_energies[-1]:.5f}\",\n",
    ")\n",
    "\n",
    "print(\"All energies have been calculated\")"
   ]
  },
  {
   "cell_type": "code",
   "execution_count": 17,
   "id": "79285e88-c2e1-4698-a0d1-b47004103e1e",
   "metadata": {},
   "outputs": [
    {
     "data": {
      "image/png": "[encoded data removed]",
      "text/plain": [
       "<Figure size 640x480 with 1 Axes>"
      ]
     },
     "metadata": {},
     "output_type": "display_data"
    }
   ],
   "source": [
    "fig, ax = plt.subplots()\n",
    "ax.plot(range(cost_history_dict[\"iters\"]), cost_history_dict[\"cost_history\"])\n",
    "ax.set_xlabel(\"Iterations\")\n",
    "ax.set_ylabel(\"Cost\")\n",
    "plt.draw()"
   ]
  },
  {
   "cell_type": "markdown",
   "id": "d638235f-2b9b-4c98-804f-16d4cc9d9626",
   "metadata": {},
   "source": [
    "## Try above running locally"
   ]
  },
  {
   "cell_type": "code",
   "execution_count": 22,
   "id": "b56c7d9b-d6cb-491d-8c28-a57f08e67fcc",
   "metadata": {},
   "outputs": [],
   "source": [
    "from qiskit_ibm_runtime import Session, EstimatorV2 as Estimator\n",
    "from qiskit.primitives import StatevectorEstimator"
   ]
  },
  {
   "cell_type": "code",
   "execution_count": 23,
   "id": "f11c829e-4487-4bd2-9e18-97b47fff9a21",
   "metadata": {},
   "outputs": [],
   "source": [
    "def cost_func(params, ansatz, hamiltonian, estimator):\n",
    "    \"\"\"Return estimate of energy from estimator\n",
    "\n",
    "    Parameters:\n",
    "        params (ndarray): Array of ansatz parameters\n",
    "        ansatz (QuantumCircuit): Parameterized ansatz circuit\n",
    "        hamiltonian (SparsePauliOp): Operator representation of Hamiltonian\n",
    "        estimator (EstimatorV2): Estimator primitive instance\n",
    "        cost_history_dict: Dictionary for storing intermediate results\n",
    "\n",
    "    Returns:\n",
    "        float: Energy estimate\n",
    "    \"\"\"\n",
    "    pub = (ansatz, [hamiltonian], [params])\n",
    "    result = estimator.run(pubs=[pub]).result()\n",
    "    energy = result[0].data.evs[0]\n",
    "\n",
    "    cost_history_dict[\"iters\"] += 1\n",
    "    cost_history_dict[\"prev_vector\"] = params\n",
    "    cost_history_dict[\"cost_history\"].append(energy)\n",
    "    print(f\"Iters. done: {cost_history_dict['iters']} [Current cost: {energy}]\")\n",
    "\n",
    "    return energy"
   ]
  },
  {
   "cell_type": "code",
   "execution_count": 24,
   "id": "e13904dc-9dd9-4c1e-93c5-497a066bf311",
   "metadata": {},
   "outputs": [],
   "source": [
    "cost_history_dict = {\n",
    "    \"prev_vector\": None,\n",
    "    \"iters\": 0,\n",
    "    \"cost_history\": [],\n",
    "}"
   ]
  },
  {
   "cell_type": "code",
   "execution_count": 26,
   "id": "e7ea800a-d6d9-4aaa-8f40-4b7e3ba1487a",
   "metadata": {},
   "outputs": [
    {
     "name": "stdout",
     "output_type": "stream",
     "text": [
      "Problem spatial orbitals 18\n",
      "Problem particles (13, 13)\n",
      "FC-Problem spatial orbitals 8\n",
      "FC-Problem particles (3, 3)\n",
      "AS-Problem spatial orbitals 2\n",
      "AS-Problem particles (1, 1)\n",
      "Qubits needed in ansatz: 2\n",
      "Parameters needed in ansatz: 3\n"
     ]
    },
    {
     "name": "stderr",
     "output_type": "stream",
     "text": [
      "capi_return is NULL\n",
      "Call-back cb_calcfc_in__cobyla__user__routines failed.\n"
     ]
    },
    {
     "ename": "ValueError",
     "evalue": "Maximum allowed dimension exceeded",
     "output_type": "error",
     "traceback": [
      "\u001b[0;31m---------------------------------------------------------------------------\u001b[0m",
      "\u001b[0;31mValueError\u001b[0m                                Traceback (most recent call last)",
      "Cell \u001b[0;32mIn[26], line 38\u001b[0m\n\u001b[1;32m     34\u001b[0m x0 \u001b[38;5;241m=\u001b[39m initial_point\u001b[38;5;241m=\u001b[39m[\u001b[38;5;241m0\u001b[39m] \u001b[38;5;241m*\u001b[39m var_form\u001b[38;5;241m.\u001b[39mnum_parameters\n\u001b[1;32m     36\u001b[0m \u001b[38;5;66;03m#estimator.options.default_shots = 10000\u001b[39;00m\n\u001b[0;32m---> 38\u001b[0m res \u001b[38;5;241m=\u001b[39m \u001b[43mminimize\u001b[49m\u001b[43m(\u001b[49m\n\u001b[1;32m     39\u001b[0m \u001b[43m    \u001b[49m\u001b[43mcost_func\u001b[49m\u001b[43m,\u001b[49m\n\u001b[1;32m     40\u001b[0m \u001b[43m    \u001b[49m\u001b[43mx0\u001b[49m\u001b[43m,\u001b[49m\n\u001b[1;32m     41\u001b[0m \u001b[43m    \u001b[49m\u001b[43margs\u001b[49m\u001b[38;5;241;43m=\u001b[39;49m\u001b[43m(\u001b[49m\u001b[43mansatz_isa\u001b[49m\u001b[43m,\u001b[49m\u001b[43m \u001b[49m\u001b[43mhamiltonian_isa\u001b[49m\u001b[43m,\u001b[49m\u001b[43m \u001b[49m\u001b[43mestimator\u001b[49m\u001b[43m)\u001b[49m\u001b[43m,\u001b[49m\n\u001b[1;32m     42\u001b[0m \u001b[43m    \u001b[49m\u001b[43mmethod\u001b[49m\u001b[38;5;241;43m=\u001b[39;49m\u001b[38;5;124;43m\"\u001b[39;49m\u001b[38;5;124;43mcobyla\u001b[39;49m\u001b[38;5;124;43m\"\u001b[39;49m\u001b[43m,\u001b[49m\n\u001b[1;32m     43\u001b[0m \u001b[43m)\u001b[49m\n\u001b[1;32m     46\u001b[0m \u001b[38;5;28mprint\u001b[39m(\n\u001b[1;32m     47\u001b[0m     \u001b[38;5;124mf\u001b[39m\u001b[38;5;124m\"\u001b[39m\u001b[38;5;124mInteratomic Distance: \u001b[39m\u001b[38;5;132;01m{\u001b[39;00mnp\u001b[38;5;241m.\u001b[39mround(dist,\u001b[38;5;250m \u001b[39m\u001b[38;5;241m2\u001b[39m)\u001b[38;5;132;01m}\u001b[39;00m\u001b[38;5;124m\"\u001b[39m,\n\u001b[1;32m     48\u001b[0m     \u001b[38;5;124mf\u001b[39m\u001b[38;5;124m\"\u001b[39m\u001b[38;5;124mExact Energy: \u001b[39m\u001b[38;5;132;01m{\u001b[39;00mexact_energies[\u001b[38;5;241m-\u001b[39m\u001b[38;5;241m1\u001b[39m]\u001b[38;5;132;01m:\u001b[39;00m\u001b[38;5;124m.5f\u001b[39m\u001b[38;5;132;01m}\u001b[39;00m\u001b[38;5;124m\"\u001b[39m,\n\u001b[1;32m     49\u001b[0m )\n\u001b[1;32m     51\u001b[0m \u001b[38;5;28mprint\u001b[39m(\u001b[38;5;124m\"\u001b[39m\u001b[38;5;124mAll energies have been calculated\u001b[39m\u001b[38;5;124m\"\u001b[39m)\n",
      "File \u001b[0;32m~/.local/lib/python3.10/site-packages/scipy/optimize/_minimize.py:702\u001b[0m, in \u001b[0;36mminimize\u001b[0;34m(fun, x0, args, method, jac, hess, hessp, bounds, constraints, tol, callback, options)\u001b[0m\n\u001b[1;32m    699\u001b[0m     res \u001b[38;5;241m=\u001b[39m _minimize_tnc(fun, x0, args, jac, bounds, callback\u001b[38;5;241m=\u001b[39mcallback,\n\u001b[1;32m    700\u001b[0m                         \u001b[38;5;241m*\u001b[39m\u001b[38;5;241m*\u001b[39moptions)\n\u001b[1;32m    701\u001b[0m \u001b[38;5;28;01melif\u001b[39;00m meth \u001b[38;5;241m==\u001b[39m \u001b[38;5;124m'\u001b[39m\u001b[38;5;124mcobyla\u001b[39m\u001b[38;5;124m'\u001b[39m:\n\u001b[0;32m--> 702\u001b[0m     res \u001b[38;5;241m=\u001b[39m \u001b[43m_minimize_cobyla\u001b[49m\u001b[43m(\u001b[49m\u001b[43mfun\u001b[49m\u001b[43m,\u001b[49m\u001b[43m \u001b[49m\u001b[43mx0\u001b[49m\u001b[43m,\u001b[49m\u001b[43m \u001b[49m\u001b[43margs\u001b[49m\u001b[43m,\u001b[49m\u001b[43m \u001b[49m\u001b[43mconstraints\u001b[49m\u001b[43m,\u001b[49m\u001b[43m \u001b[49m\u001b[43mcallback\u001b[49m\u001b[38;5;241;43m=\u001b[39;49m\u001b[43mcallback\u001b[49m\u001b[43m,\u001b[49m\n\u001b[1;32m    703\u001b[0m \u001b[43m                            \u001b[49m\u001b[38;5;241;43m*\u001b[39;49m\u001b[38;5;241;43m*\u001b[39;49m\u001b[43moptions\u001b[49m\u001b[43m)\u001b[49m\n\u001b[1;32m    704\u001b[0m \u001b[38;5;28;01melif\u001b[39;00m meth \u001b[38;5;241m==\u001b[39m \u001b[38;5;124m'\u001b[39m\u001b[38;5;124mslsqp\u001b[39m\u001b[38;5;124m'\u001b[39m:\n\u001b[1;32m    705\u001b[0m     res \u001b[38;5;241m=\u001b[39m _minimize_slsqp(fun, x0, args, jac, bounds,\n\u001b[1;32m    706\u001b[0m                           constraints, callback\u001b[38;5;241m=\u001b[39mcallback, \u001b[38;5;241m*\u001b[39m\u001b[38;5;241m*\u001b[39moptions)\n",
      "File \u001b[0;32m~/.local/lib/python3.10/site-packages/scipy/optimize/_cobyla_py.py:34\u001b[0m, in \u001b[0;36msynchronized.<locals>.wrapper\u001b[0;34m(*args, **kwargs)\u001b[0m\n\u001b[1;32m     31\u001b[0m \u001b[38;5;129m@functools\u001b[39m\u001b[38;5;241m.\u001b[39mwraps(func)\n\u001b[1;32m     32\u001b[0m \u001b[38;5;28;01mdef\u001b[39;00m \u001b[38;5;21mwrapper\u001b[39m(\u001b[38;5;241m*\u001b[39margs, \u001b[38;5;241m*\u001b[39m\u001b[38;5;241m*\u001b[39mkwargs):\n\u001b[1;32m     33\u001b[0m     \u001b[38;5;28;01mwith\u001b[39;00m _module_lock:\n\u001b[0;32m---> 34\u001b[0m         \u001b[38;5;28;01mreturn\u001b[39;00m \u001b[43mfunc\u001b[49m\u001b[43m(\u001b[49m\u001b[38;5;241;43m*\u001b[39;49m\u001b[43margs\u001b[49m\u001b[43m,\u001b[49m\u001b[43m \u001b[49m\u001b[38;5;241;43m*\u001b[39;49m\u001b[38;5;241;43m*\u001b[39;49m\u001b[43mkwargs\u001b[49m\u001b[43m)\u001b[49m\n",
      "File \u001b[0;32m~/.local/lib/python3.10/site-packages/scipy/optimize/_cobyla_py.py:270\u001b[0m, in \u001b[0;36m_minimize_cobyla\u001b[0;34m(fun, x0, args, constraints, rhobeg, tol, maxiter, disp, catol, callback, **unknown_options)\u001b[0m\n\u001b[1;32m    267\u001b[0m         callback(np\u001b[38;5;241m.\u001b[39mcopy(x))\n\u001b[1;32m    269\u001b[0m info \u001b[38;5;241m=\u001b[39m np\u001b[38;5;241m.\u001b[39mzeros(\u001b[38;5;241m4\u001b[39m, np\u001b[38;5;241m.\u001b[39mfloat64)\n\u001b[0;32m--> 270\u001b[0m xopt, info \u001b[38;5;241m=\u001b[39m \u001b[43mcobyla\u001b[49m\u001b[38;5;241;43m.\u001b[39;49m\u001b[43mminimize\u001b[49m\u001b[43m(\u001b[49m\u001b[43mcalcfc\u001b[49m\u001b[43m,\u001b[49m\u001b[43m \u001b[49m\u001b[43mm\u001b[49m\u001b[38;5;241;43m=\u001b[39;49m\u001b[43mm\u001b[49m\u001b[43m,\u001b[49m\u001b[43m \u001b[49m\u001b[43mx\u001b[49m\u001b[38;5;241;43m=\u001b[39;49m\u001b[43mnp\u001b[49m\u001b[38;5;241;43m.\u001b[39;49m\u001b[43mcopy\u001b[49m\u001b[43m(\u001b[49m\u001b[43mx0\u001b[49m\u001b[43m)\u001b[49m\u001b[43m,\u001b[49m\u001b[43m \u001b[49m\u001b[43mrhobeg\u001b[49m\u001b[38;5;241;43m=\u001b[39;49m\u001b[43mrhobeg\u001b[49m\u001b[43m,\u001b[49m\n\u001b[1;32m    271\u001b[0m \u001b[43m                              \u001b[49m\u001b[43mrhoend\u001b[49m\u001b[38;5;241;43m=\u001b[39;49m\u001b[43mrhoend\u001b[49m\u001b[43m,\u001b[49m\u001b[43m \u001b[49m\u001b[43miprint\u001b[49m\u001b[38;5;241;43m=\u001b[39;49m\u001b[43miprint\u001b[49m\u001b[43m,\u001b[49m\u001b[43m \u001b[49m\u001b[43mmaxfun\u001b[49m\u001b[38;5;241;43m=\u001b[39;49m\u001b[43mmaxfun\u001b[49m\u001b[43m,\u001b[49m\n\u001b[1;32m    272\u001b[0m \u001b[43m                              \u001b[49m\u001b[43mdinfo\u001b[49m\u001b[38;5;241;43m=\u001b[39;49m\u001b[43minfo\u001b[49m\u001b[43m,\u001b[49m\u001b[43m \u001b[49m\u001b[43mcallback\u001b[49m\u001b[38;5;241;43m=\u001b[39;49m\u001b[43mwrapped_callback\u001b[49m\u001b[43m)\u001b[49m\n\u001b[1;32m    274\u001b[0m \u001b[38;5;28;01mif\u001b[39;00m info[\u001b[38;5;241m3\u001b[39m] \u001b[38;5;241m>\u001b[39m catol:\n\u001b[1;32m    275\u001b[0m     \u001b[38;5;66;03m# Check constraint violation\u001b[39;00m\n\u001b[1;32m    276\u001b[0m     info[\u001b[38;5;241m0\u001b[39m] \u001b[38;5;241m=\u001b[39m \u001b[38;5;241m4\u001b[39m\n",
      "File \u001b[0;32m~/.local/lib/python3.10/site-packages/scipy/optimize/_cobyla_py.py:258\u001b[0m, in \u001b[0;36m_minimize_cobyla.<locals>.calcfc\u001b[0;34m(x, con)\u001b[0m\n\u001b[1;32m    257\u001b[0m \u001b[38;5;28;01mdef\u001b[39;00m \u001b[38;5;21mcalcfc\u001b[39m(x, con):\n\u001b[0;32m--> 258\u001b[0m     f \u001b[38;5;241m=\u001b[39m \u001b[43mfun\u001b[49m\u001b[43m(\u001b[49m\u001b[43mnp\u001b[49m\u001b[38;5;241;43m.\u001b[39;49m\u001b[43mcopy\u001b[49m\u001b[43m(\u001b[49m\u001b[43mx\u001b[49m\u001b[43m)\u001b[49m\u001b[43m,\u001b[49m\u001b[43m \u001b[49m\u001b[38;5;241;43m*\u001b[39;49m\u001b[43margs\u001b[49m\u001b[43m)\u001b[49m\n\u001b[1;32m    259\u001b[0m     i \u001b[38;5;241m=\u001b[39m \u001b[38;5;241m0\u001b[39m\n\u001b[1;32m    260\u001b[0m     \u001b[38;5;28;01mfor\u001b[39;00m size, c \u001b[38;5;129;01min\u001b[39;00m izip(cons_lengths, constraints):\n",
      "Cell \u001b[0;32mIn[23], line 15\u001b[0m, in \u001b[0;36mcost_func\u001b[0;34m(params, ansatz, hamiltonian, estimator)\u001b[0m\n\u001b[1;32m      2\u001b[0m \u001b[38;5;250m\u001b[39m\u001b[38;5;124;03m\"\"\"Return estimate of energy from estimator\u001b[39;00m\n\u001b[1;32m      3\u001b[0m \n\u001b[1;32m      4\u001b[0m \u001b[38;5;124;03mParameters:\u001b[39;00m\n\u001b[0;32m   (...)\u001b[0m\n\u001b[1;32m     12\u001b[0m \u001b[38;5;124;03m    float: Energy estimate\u001b[39;00m\n\u001b[1;32m     13\u001b[0m \u001b[38;5;124;03m\"\"\"\u001b[39;00m\n\u001b[1;32m     14\u001b[0m pub \u001b[38;5;241m=\u001b[39m (ansatz, [hamiltonian], [params])\n\u001b[0;32m---> 15\u001b[0m result \u001b[38;5;241m=\u001b[39m \u001b[43mestimator\u001b[49m\u001b[38;5;241;43m.\u001b[39;49m\u001b[43mrun\u001b[49m\u001b[43m(\u001b[49m\u001b[43mpubs\u001b[49m\u001b[38;5;241;43m=\u001b[39;49m\u001b[43m[\u001b[49m\u001b[43mpub\u001b[49m\u001b[43m]\u001b[49m\u001b[43m)\u001b[49m\u001b[38;5;241;43m.\u001b[39;49m\u001b[43mresult\u001b[49m\u001b[43m(\u001b[49m\u001b[43m)\u001b[49m\n\u001b[1;32m     16\u001b[0m energy \u001b[38;5;241m=\u001b[39m result[\u001b[38;5;241m0\u001b[39m]\u001b[38;5;241m.\u001b[39mdata\u001b[38;5;241m.\u001b[39mevs[\u001b[38;5;241m0\u001b[39m]\n\u001b[1;32m     18\u001b[0m cost_history_dict[\u001b[38;5;124m\"\u001b[39m\u001b[38;5;124miters\u001b[39m\u001b[38;5;124m\"\u001b[39m] \u001b[38;5;241m+\u001b[39m\u001b[38;5;241m=\u001b[39m \u001b[38;5;241m1\u001b[39m\n",
      "File \u001b[0;32m~/.local/lib/python3.10/site-packages/qiskit/primitives/primitive_job.py:51\u001b[0m, in \u001b[0;36mPrimitiveJob.result\u001b[0;34m(self)\u001b[0m\n\u001b[1;32m     49\u001b[0m \u001b[38;5;28;01mdef\u001b[39;00m \u001b[38;5;21mresult\u001b[39m(\u001b[38;5;28mself\u001b[39m) \u001b[38;5;241m-\u001b[39m\u001b[38;5;241m>\u001b[39m ResultT:\n\u001b[1;32m     50\u001b[0m     \u001b[38;5;28mself\u001b[39m\u001b[38;5;241m.\u001b[39m_check_submitted()\n\u001b[0;32m---> 51\u001b[0m     \u001b[38;5;28;01mreturn\u001b[39;00m \u001b[38;5;28;43mself\u001b[39;49m\u001b[38;5;241;43m.\u001b[39;49m\u001b[43m_future\u001b[49m\u001b[38;5;241;43m.\u001b[39;49m\u001b[43mresult\u001b[49m\u001b[43m(\u001b[49m\u001b[43m)\u001b[49m\n",
      "File \u001b[0;32m/usr/lib/python3.10/concurrent/futures/_base.py:451\u001b[0m, in \u001b[0;36mFuture.result\u001b[0;34m(self, timeout)\u001b[0m\n\u001b[1;32m    449\u001b[0m     \u001b[38;5;28;01mraise\u001b[39;00m CancelledError()\n\u001b[1;32m    450\u001b[0m \u001b[38;5;28;01melif\u001b[39;00m \u001b[38;5;28mself\u001b[39m\u001b[38;5;241m.\u001b[39m_state \u001b[38;5;241m==\u001b[39m FINISHED:\n\u001b[0;32m--> 451\u001b[0m     \u001b[38;5;28;01mreturn\u001b[39;00m \u001b[38;5;28;43mself\u001b[39;49m\u001b[38;5;241;43m.\u001b[39;49m\u001b[43m__get_result\u001b[49m\u001b[43m(\u001b[49m\u001b[43m)\u001b[49m\n\u001b[1;32m    453\u001b[0m \u001b[38;5;28mself\u001b[39m\u001b[38;5;241m.\u001b[39m_condition\u001b[38;5;241m.\u001b[39mwait(timeout)\n\u001b[1;32m    455\u001b[0m \u001b[38;5;28;01mif\u001b[39;00m \u001b[38;5;28mself\u001b[39m\u001b[38;5;241m.\u001b[39m_state \u001b[38;5;129;01min\u001b[39;00m [CANCELLED, CANCELLED_AND_NOTIFIED]:\n",
      "File \u001b[0;32m/usr/lib/python3.10/concurrent/futures/_base.py:403\u001b[0m, in \u001b[0;36mFuture.__get_result\u001b[0;34m(self)\u001b[0m\n\u001b[1;32m    401\u001b[0m \u001b[38;5;28;01mif\u001b[39;00m \u001b[38;5;28mself\u001b[39m\u001b[38;5;241m.\u001b[39m_exception:\n\u001b[1;32m    402\u001b[0m     \u001b[38;5;28;01mtry\u001b[39;00m:\n\u001b[0;32m--> 403\u001b[0m         \u001b[38;5;28;01mraise\u001b[39;00m \u001b[38;5;28mself\u001b[39m\u001b[38;5;241m.\u001b[39m_exception\n\u001b[1;32m    404\u001b[0m     \u001b[38;5;28;01mfinally\u001b[39;00m:\n\u001b[1;32m    405\u001b[0m         \u001b[38;5;66;03m# Break a reference cycle with the exception in self._exception\u001b[39;00m\n\u001b[1;32m    406\u001b[0m         \u001b[38;5;28mself\u001b[39m \u001b[38;5;241m=\u001b[39m \u001b[38;5;28;01mNone\u001b[39;00m\n",
      "File \u001b[0;32m/usr/lib/python3.10/concurrent/futures/thread.py:58\u001b[0m, in \u001b[0;36m_WorkItem.run\u001b[0;34m(self)\u001b[0m\n\u001b[1;32m     55\u001b[0m     \u001b[38;5;28;01mreturn\u001b[39;00m\n\u001b[1;32m     57\u001b[0m \u001b[38;5;28;01mtry\u001b[39;00m:\n\u001b[0;32m---> 58\u001b[0m     result \u001b[38;5;241m=\u001b[39m \u001b[38;5;28;43mself\u001b[39;49m\u001b[38;5;241;43m.\u001b[39;49m\u001b[43mfn\u001b[49m\u001b[43m(\u001b[49m\u001b[38;5;241;43m*\u001b[39;49m\u001b[38;5;28;43mself\u001b[39;49m\u001b[38;5;241;43m.\u001b[39;49m\u001b[43margs\u001b[49m\u001b[43m,\u001b[49m\u001b[43m \u001b[49m\u001b[38;5;241;43m*\u001b[39;49m\u001b[38;5;241;43m*\u001b[39;49m\u001b[38;5;28;43mself\u001b[39;49m\u001b[38;5;241;43m.\u001b[39;49m\u001b[43mkwargs\u001b[49m\u001b[43m)\u001b[49m\n\u001b[1;32m     59\u001b[0m \u001b[38;5;28;01mexcept\u001b[39;00m \u001b[38;5;167;01mBaseException\u001b[39;00m \u001b[38;5;28;01mas\u001b[39;00m exc:\n\u001b[1;32m     60\u001b[0m     \u001b[38;5;28mself\u001b[39m\u001b[38;5;241m.\u001b[39mfuture\u001b[38;5;241m.\u001b[39mset_exception(exc)\n",
      "File \u001b[0;32m~/.local/lib/python3.10/site-packages/qiskit/primitives/statevector_estimator.py:139\u001b[0m, in \u001b[0;36mStatevectorEstimator._run\u001b[0;34m(self, pubs)\u001b[0m\n\u001b[1;32m    138\u001b[0m \u001b[38;5;28;01mdef\u001b[39;00m \u001b[38;5;21m_run\u001b[39m(\u001b[38;5;28mself\u001b[39m, pubs: \u001b[38;5;28mlist\u001b[39m[EstimatorPub]) \u001b[38;5;241m-\u001b[39m\u001b[38;5;241m>\u001b[39m PrimitiveResult[PubResult]:\n\u001b[0;32m--> 139\u001b[0m     \u001b[38;5;28;01mreturn\u001b[39;00m PrimitiveResult([\u001b[38;5;28mself\u001b[39m\u001b[38;5;241m.\u001b[39m_run_pub(pub) \u001b[38;5;28;01mfor\u001b[39;00m pub \u001b[38;5;129;01min\u001b[39;00m pubs])\n",
      "File \u001b[0;32m~/.local/lib/python3.10/site-packages/qiskit/primitives/statevector_estimator.py:139\u001b[0m, in \u001b[0;36m<listcomp>\u001b[0;34m(.0)\u001b[0m\n\u001b[1;32m    138\u001b[0m \u001b[38;5;28;01mdef\u001b[39;00m \u001b[38;5;21m_run\u001b[39m(\u001b[38;5;28mself\u001b[39m, pubs: \u001b[38;5;28mlist\u001b[39m[EstimatorPub]) \u001b[38;5;241m-\u001b[39m\u001b[38;5;241m>\u001b[39m PrimitiveResult[PubResult]:\n\u001b[0;32m--> 139\u001b[0m     \u001b[38;5;28;01mreturn\u001b[39;00m PrimitiveResult([\u001b[38;5;28;43mself\u001b[39;49m\u001b[38;5;241;43m.\u001b[39;49m\u001b[43m_run_pub\u001b[49m\u001b[43m(\u001b[49m\u001b[43mpub\u001b[49m\u001b[43m)\u001b[49m \u001b[38;5;28;01mfor\u001b[39;00m pub \u001b[38;5;129;01min\u001b[39;00m pubs])\n",
      "File \u001b[0;32m~/.local/lib/python3.10/site-packages/qiskit/primitives/statevector_estimator.py:154\u001b[0m, in \u001b[0;36mStatevectorEstimator._run_pub\u001b[0;34m(self, pub)\u001b[0m\n\u001b[1;32m    152\u001b[0m bound_circuit \u001b[38;5;241m=\u001b[39m bc_circuits[index]\n\u001b[1;32m    153\u001b[0m observable \u001b[38;5;241m=\u001b[39m bc_obs[index]\n\u001b[0;32m--> 154\u001b[0m final_state \u001b[38;5;241m=\u001b[39m \u001b[43mStatevector\u001b[49m\u001b[43m(\u001b[49m\u001b[43mbound_circuit_to_instruction\u001b[49m\u001b[43m(\u001b[49m\u001b[43mbound_circuit\u001b[49m\u001b[43m)\u001b[49m\u001b[43m)\u001b[49m\n\u001b[1;32m    155\u001b[0m paulis, coeffs \u001b[38;5;241m=\u001b[39m \u001b[38;5;28mzip\u001b[39m(\u001b[38;5;241m*\u001b[39mobservable\u001b[38;5;241m.\u001b[39mitems())\n\u001b[1;32m    156\u001b[0m obs \u001b[38;5;241m=\u001b[39m SparsePauliOp(paulis, coeffs)  \u001b[38;5;66;03m# TODO: support non Pauli operators\u001b[39;00m\n",
      "File \u001b[0;32m~/.local/lib/python3.10/site-packages/qiskit/quantum_info/states/statevector.py:93\u001b[0m, in \u001b[0;36mStatevector.__init__\u001b[0;34m(self, data, dims)\u001b[0m\n\u001b[1;32m     91\u001b[0m     \u001b[38;5;28mself\u001b[39m\u001b[38;5;241m.\u001b[39m_data \u001b[38;5;241m=\u001b[39m np\u001b[38;5;241m.\u001b[39mravel(data\u001b[38;5;241m.\u001b[39mdata)\n\u001b[1;32m     92\u001b[0m \u001b[38;5;28;01melif\u001b[39;00m \u001b[38;5;28misinstance\u001b[39m(data, (QuantumCircuit, Instruction)):\n\u001b[0;32m---> 93\u001b[0m     \u001b[38;5;28mself\u001b[39m\u001b[38;5;241m.\u001b[39m_data \u001b[38;5;241m=\u001b[39m \u001b[43mStatevector\u001b[49m\u001b[38;5;241;43m.\u001b[39;49m\u001b[43mfrom_instruction\u001b[49m\u001b[43m(\u001b[49m\u001b[43mdata\u001b[49m\u001b[43m)\u001b[49m\u001b[38;5;241m.\u001b[39mdata\n\u001b[1;32m     94\u001b[0m \u001b[38;5;28;01melse\u001b[39;00m:\n\u001b[1;32m     95\u001b[0m     \u001b[38;5;28;01mraise\u001b[39;00m QiskitError(\u001b[38;5;124m\"\u001b[39m\u001b[38;5;124mInvalid input data format for Statevector\u001b[39m\u001b[38;5;124m\"\u001b[39m)\n",
      "File \u001b[0;32m~/.local/lib/python3.10/site-packages/qiskit/quantum_info/states/statevector.py:766\u001b[0m, in \u001b[0;36mStatevector.from_instruction\u001b[0;34m(cls, instruction)\u001b[0m\n\u001b[1;32m    764\u001b[0m     instruction \u001b[38;5;241m=\u001b[39m instruction\u001b[38;5;241m.\u001b[39mto_instruction()\n\u001b[1;32m    765\u001b[0m \u001b[38;5;66;03m# Initialize an the statevector in the all |0> state\u001b[39;00m\n\u001b[0;32m--> 766\u001b[0m init \u001b[38;5;241m=\u001b[39m \u001b[43mnp\u001b[49m\u001b[38;5;241;43m.\u001b[39;49m\u001b[43mzeros\u001b[49m\u001b[43m(\u001b[49m\u001b[38;5;241;43m2\u001b[39;49m\u001b[38;5;241;43m*\u001b[39;49m\u001b[38;5;241;43m*\u001b[39;49m\u001b[43minstruction\u001b[49m\u001b[38;5;241;43m.\u001b[39;49m\u001b[43mnum_qubits\u001b[49m\u001b[43m,\u001b[49m\u001b[43m \u001b[49m\u001b[43mdtype\u001b[49m\u001b[38;5;241;43m=\u001b[39;49m\u001b[38;5;28;43mcomplex\u001b[39;49m\u001b[43m)\u001b[49m\n\u001b[1;32m    767\u001b[0m init[\u001b[38;5;241m0\u001b[39m] \u001b[38;5;241m=\u001b[39m \u001b[38;5;241m1.0\u001b[39m\n\u001b[1;32m    768\u001b[0m vec \u001b[38;5;241m=\u001b[39m Statevector(init, dims\u001b[38;5;241m=\u001b[39minstruction\u001b[38;5;241m.\u001b[39mnum_qubits \u001b[38;5;241m*\u001b[39m (\u001b[38;5;241m2\u001b[39m,))\n",
      "\u001b[0;31mValueError\u001b[0m: Maximum allowed dimension exceeded"
     ]
    }
   ],
   "source": [
    "def exact_solver(qubit_op, problem):\n",
    "    sol = NumPyMinimumEigensolver().compute_minimum_eigenvalue(qubit_op)\n",
    "    result = problem.interpret(sol)\n",
    "    return result\n",
    "\n",
    "distances = np.arange(1.5, 2.0, 0.1)\n",
    "exact_energies = []\n",
    "vqe_energies = []\n",
    "optimizer = SLSQP(maxiter=10)\n",
    "estimator = StatevectorEstimator()\n",
    "\n",
    "# pylint: disable=undefined-loop-variable,line-too-long\n",
    "(qubit_op, num_particles, num_spatial_orbitals, problem, mapper) = get_qubit_op(1.8)\n",
    "\n",
    "result = exact_solver(qubit_op, problem)\n",
    "exact_energies.append(result.total_energies[0].real)\n",
    "init_state = HartreeFock(num_spatial_orbitals, num_particles, mapper)\n",
    "var_form = UCCSD(\n",
    "    num_spatial_orbitals, num_particles, mapper, initial_state=init_state\n",
    ")\n",
    "\n",
    "print(f\"Qubits needed in ansatz: {var_form.num_qubits}\")\n",
    "print(f\"Parameters needed in ansatz: {var_form.num_parameters}\")\n",
    "\n",
    "#now convert to hardware\n",
    "from qiskit.transpiler.preset_passmanagers import generate_preset_pass_manager\n",
    "\n",
    "target = backend.target\n",
    "pm = generate_preset_pass_manager(target=target, optimization_level=3)\n",
    "\n",
    "ansatz_isa = pm.run(var_form) \n",
    "hamiltonian_isa = qubit_op.apply_layout(layout=ansatz_isa.layout)\n",
    "\n",
    "x0 = initial_point=[0] * var_form.num_parameters\n",
    "\n",
    "#estimator.options.default_shots = 10000\n",
    "\n",
    "res = minimize(\n",
    "    cost_func,\n",
    "    x0,\n",
    "    args=(ansatz_isa, hamiltonian_isa, estimator),\n",
    "    method=\"cobyla\",\n",
    ")\n",
    "\n",
    "\n",
    "print(\n",
    "    f\"Interatomic Distance: {np.round(dist, 2)}\",\n",
    "    f\"Exact Energy: {exact_energies[-1]:.5f}\",\n",
    ")\n",
    "\n",
    "print(\"All energies have been calculated\")"
   ]
  },
  {
   "cell_type": "markdown",
   "id": "ffc549f3-633e-48ae-8810-1585d1baaf1e",
   "metadata": {},
   "source": [
    "## Now apply zne and run again on fake backend"
   ]
  },
  {
   "cell_type": "code",
   "execution_count": 31,
   "id": "3ba42ffc-6dd2-49e1-b91d-a9d2be1a6b5e",
   "metadata": {},
   "outputs": [],
   "source": [
    "# create fake backend instance\n",
    "from qiskit.providers.fake_provider import GenericBackendV2\n",
    "from qiskit_ibm_runtime.fake_provider import FakeTorino, FakeOsaka\n",
    "\n",
    "from qiskit.transpiler import InstructionProperties\n",
    "fake_backend = FakeTorino()"
   ]
  },
  {
   "cell_type": "code",
   "execution_count": 32,
   "id": "0612623b-539c-416b-8dae-fee056adba78",
   "metadata": {},
   "outputs": [],
   "source": [
    "def update_error_rate(backend, error_rates):\n",
    "\n",
    "    \"\"\"Updates the error rates of the backend\n",
    "\n",
    "    Parameters: \n",
    "        backend (BackendV2): Backend to update\n",
    "        error_rates (dict): Dictionary of error rates\n",
    "\n",
    "    Returns:    \n",
    "        None\n",
    "    \"\"\"\n",
    "\n",
    "    default_duration=1e-8\n",
    "    if \"default_duration\" in error_rates:\n",
    "        default_duration = error_rates[\"default_duration\"]\n",
    "\n",
    "    # Update the 1-qubit gate properties \n",
    "    for i in range(backend.num_qubits):\n",
    "        qarg = (i,)\n",
    "        if \"rz_error\" in error_rates:\n",
    "            backend.target.update_instruction_properties('rz', qarg, InstructionProperties(error=error_rates[\"rz_error\"], duration=default_duration))\n",
    "        if \"x_error\" in error_rates:\n",
    "            backend.target.update_instruction_properties('x', qarg, InstructionProperties(error=error_rates[\"x_error\"], duration=default_duration))\n",
    "        if \"sx_error\" in error_rates:\n",
    "            backend.target.update_instruction_properties('sx', qarg, InstructionProperties(error=error_rates[\"sx_error\"], duration=default_duration)) \n",
    "        if \"measure_error\" in error_rates:\n",
    "            backend.target.update_instruction_properties('measure', qarg, InstructionProperties(error=error_rates[\"measure_error\"], duration=default_duration))            \n",
    "    \n",
    "    # Update the 2-qubit gate properties (CX gate) for all edges in the chosen coupling map\n",
    "    if \"cx_error\" in error_rates:    \n",
    "        for edge in backend.coupling_map:\n",
    "            backend.target.update_instruction_properties('cx', tuple(edge), InstructionProperties(error=error_rates[\"cx_error\"], duration=default_duration))"
   ]
  },
  {
   "cell_type": "code",
   "execution_count": 38,
   "id": "df363fb7-4d66-4a87-96cb-b59a4e42720e",
   "metadata": {},
   "outputs": [],
   "source": [
    "error_rates = {\n",
    "    \"default_duration\": 1e-8,\n",
    "    \"rz_error\": 1e-4,\n",
    "    \"x_error\": 1e-8,\n",
    "    \"sx_error\": 1e-8,\n",
    "    \"measure_error\": 1e-8,\n",
    "    #\"cx_error\": 1e-4\n",
    "}\n",
    "\n",
    "default_shots = 10000"
   ]
  },
  {
   "cell_type": "code",
   "execution_count": 39,
   "id": "ce0c2763-8644-4c45-805b-4bb6b3b08807",
   "metadata": {},
   "outputs": [],
   "source": [
    "update_error_rate(fake_backend, error_rates)\n",
    "    \n",
    "estimator = Estimator(fake_backend)"
   ]
  },
  {
   "cell_type": "code",
   "execution_count": 40,
   "id": "876e3a59-f5dd-40c9-99b4-b638e9c47a66",
   "metadata": {},
   "outputs": [],
   "source": [
    "from qiskit_ibm_runtime import EstimatorV2 as Estimator, EstimatorOptions, Batch\n",
    "options_ex6 = EstimatorOptions()\n",
    "options_ex6.default_shots = default_shots\n",
    "options_ex6.optimization_level = 0\n",
    "options_ex6.resilience_level = 2\n",
    "options_ex6.default_shots = default_shots\n",
    "options_ex6.dynamical_decoupling.enable=True\n",
    "options_ex6.dynamical_decoupling.sequence_type= \"XX\"\n",
    "options_ex6.twirling.enable_measure=True\n",
    "options_ex6.twirling.enable_gates=True\n",
    "options_ex6.resilience.zne_mitigation=True\n",
    "options_ex6.resilience.measure_mitigation=True\n",
    "options_ex6.resilience.zne.extrapolator=('linear', 'exponential')\n",
    "options_ex6.resilience.zne.noise_factors=(1,3,5)"
   ]
  },
  {
   "cell_type": "code",
   "execution_count": 41,
   "id": "8b8f6763-444c-4d02-b899-fd8899bcc234",
   "metadata": {},
   "outputs": [],
   "source": [
    "from qiskit_ibm_runtime import Session, EstimatorV2 as Estimator"
   ]
  },
  {
   "cell_type": "code",
   "execution_count": 42,
   "id": "d194d31f-86f0-41c1-8a76-c1a00bd2af21",
   "metadata": {},
   "outputs": [],
   "source": [
    "def cost_func(params, ansatz, hamiltonian, estimator):\n",
    "    \"\"\"Return estimate of energy from estimator\n",
    "\n",
    "    Parameters:\n",
    "        params (ndarray): Array of ansatz parameters\n",
    "        ansatz (QuantumCircuit): Parameterized ansatz circuit\n",
    "        hamiltonian (SparsePauliOp): Operator representation of Hamiltonian\n",
    "        estimator (EstimatorV2): Estimator primitive instance\n",
    "        cost_history_dict: Dictionary for storing intermediate results\n",
    "\n",
    "    Returns:\n",
    "        float: Energy estimate\n",
    "    \"\"\"\n",
    "    pub = (ansatz, [hamiltonian], [params])\n",
    "    result = estimator.run(pubs=[pub]).result()\n",
    "    energy = result[0].data.evs[0]\n",
    "\n",
    "    cost_history_dict[\"iters\"] += 1\n",
    "    cost_history_dict[\"prev_vector\"] = params\n",
    "    cost_history_dict[\"cost_history\"].append(energy)\n",
    "    print(f\"Iters. done: {cost_history_dict['iters']} [Current cost: {energy}]\")\n",
    "\n",
    "    return energy"
   ]
  },
  {
   "cell_type": "code",
   "execution_count": 43,
   "id": "6c386995-88a1-42f2-a661-c1528fc28c30",
   "metadata": {},
   "outputs": [],
   "source": [
    "cost_history_dict = {\n",
    "    \"prev_vector\": None,\n",
    "    \"iters\": 0,\n",
    "    \"cost_history\": [],\n",
    "}"
   ]
  },
  {
   "cell_type": "code",
   "execution_count": null,
   "id": "cead4aba-2ec8-43be-9d30-a2d190c81e07",
   "metadata": {},
   "outputs": [
    {
     "name": "stdout",
     "output_type": "stream",
     "text": [
      "Problem spatial orbitals 18\n",
      "Problem particles (13, 13)\n",
      "FC-Problem spatial orbitals 8\n",
      "FC-Problem particles (3, 3)\n",
      "AS-Problem spatial orbitals 2\n",
      "AS-Problem particles (1, 1)\n",
      "Qubits needed in ansatz: 2\n",
      "Parameters needed in ansatz: 3\n"
     ]
    },
    {
     "name": "stderr",
     "output_type": "stream",
     "text": [
      "/home/marc/.local/lib/python3.10/site-packages/qiskit_ibm_runtime/fake_provider/local_service.py:243: UserWarning: Options {'transpilation': {'optimization_level': 0}, 'default_shots': 10000, 'dynamical_decoupling': {'enable': True, 'sequence_type': 'XX'}, 'resilience': {'measure_mitigation': True, 'zne_mitigation': True, 'zne': {'noise_factors': (1.0, 3.0, 5.0), 'extrapolator': ('linear', 'exponential')}}, 'twirling': {'enable_gates': True, 'enable_measure': True}} have no effect in local testing mode.\n",
      "  warnings.warn(f\"Options {options_copy} have no effect in local testing mode.\")\n"
     ]
    },
    {
     "name": "stdout",
     "output_type": "stream",
     "text": [
      "Iters. done: 1 [Current cost: -0.3926398853346947]\n"
     ]
    },
    {
     "name": "stderr",
     "output_type": "stream",
     "text": [
      "/home/marc/.local/lib/python3.10/site-packages/qiskit_ibm_runtime/fake_provider/local_service.py:243: UserWarning: Options {'transpilation': {'optimization_level': 0}, 'default_shots': 10000, 'dynamical_decoupling': {'enable': True, 'sequence_type': 'XX'}, 'resilience': {'measure_mitigation': True, 'zne_mitigation': True, 'zne': {'noise_factors': (1.0, 3.0, 5.0), 'extrapolator': ('linear', 'exponential')}}, 'twirling': {'enable_gates': True, 'enable_measure': True}} have no effect in local testing mode.\n",
      "  warnings.warn(f\"Options {options_copy} have no effect in local testing mode.\")\n"
     ]
    },
    {
     "name": "stdout",
     "output_type": "stream",
     "text": [
      "Iters. done: 2 [Current cost: -0.41028709727708024]\n"
     ]
    },
    {
     "name": "stderr",
     "output_type": "stream",
     "text": [
      "/home/marc/.local/lib/python3.10/site-packages/qiskit_ibm_runtime/fake_provider/local_service.py:243: UserWarning: Options {'transpilation': {'optimization_level': 0}, 'default_shots': 10000, 'dynamical_decoupling': {'enable': True, 'sequence_type': 'XX'}, 'resilience': {'measure_mitigation': True, 'zne_mitigation': True, 'zne': {'noise_factors': (1.0, 3.0, 5.0), 'extrapolator': ('linear', 'exponential')}}, 'twirling': {'enable_gates': True, 'enable_measure': True}} have no effect in local testing mode.\n",
      "  warnings.warn(f\"Options {options_copy} have no effect in local testing mode.\")\n"
     ]
    },
    {
     "name": "stdout",
     "output_type": "stream",
     "text": [
      "Iters. done: 3 [Current cost: -0.391318727799037]\n"
     ]
    },
    {
     "name": "stderr",
     "output_type": "stream",
     "text": [
      "/home/marc/.local/lib/python3.10/site-packages/qiskit_ibm_runtime/fake_provider/local_service.py:243: UserWarning: Options {'transpilation': {'optimization_level': 0}, 'default_shots': 10000, 'dynamical_decoupling': {'enable': True, 'sequence_type': 'XX'}, 'resilience': {'measure_mitigation': True, 'zne_mitigation': True, 'zne': {'noise_factors': (1.0, 3.0, 5.0), 'extrapolator': ('linear', 'exponential')}}, 'twirling': {'enable_gates': True, 'enable_measure': True}} have no effect in local testing mode.\n",
      "  warnings.warn(f\"Options {options_copy} have no effect in local testing mode.\")\n"
     ]
    },
    {
     "name": "stdout",
     "output_type": "stream",
     "text": [
      "Iters. done: 4 [Current cost: -0.40629644393183895]\n"
     ]
    },
    {
     "name": "stderr",
     "output_type": "stream",
     "text": [
      "/home/marc/.local/lib/python3.10/site-packages/qiskit_ibm_runtime/fake_provider/local_service.py:243: UserWarning: Options {'transpilation': {'optimization_level': 0}, 'default_shots': 10000, 'dynamical_decoupling': {'enable': True, 'sequence_type': 'XX'}, 'resilience': {'measure_mitigation': True, 'zne_mitigation': True, 'zne': {'noise_factors': (1.0, 3.0, 5.0), 'extrapolator': ('linear', 'exponential')}}, 'twirling': {'enable_gates': True, 'enable_measure': True}} have no effect in local testing mode.\n",
      "  warnings.warn(f\"Options {options_copy} have no effect in local testing mode.\")\n"
     ]
    },
    {
     "name": "stdout",
     "output_type": "stream",
     "text": [
      "Iters. done: 5 [Current cost: -0.4011972251130787]\n"
     ]
    },
    {
     "name": "stderr",
     "output_type": "stream",
     "text": [
      "/home/marc/.local/lib/python3.10/site-packages/qiskit_ibm_runtime/fake_provider/local_service.py:243: UserWarning: Options {'transpilation': {'optimization_level': 0}, 'default_shots': 10000, 'dynamical_decoupling': {'enable': True, 'sequence_type': 'XX'}, 'resilience': {'measure_mitigation': True, 'zne_mitigation': True, 'zne': {'noise_factors': (1.0, 3.0, 5.0), 'extrapolator': ('linear', 'exponential')}}, 'twirling': {'enable_gates': True, 'enable_measure': True}} have no effect in local testing mode.\n",
      "  warnings.warn(f\"Options {options_copy} have no effect in local testing mode.\")\n"
     ]
    },
    {
     "name": "stdout",
     "output_type": "stream",
     "text": [
      "Iters. done: 6 [Current cost: -0.4170884278844993]\n"
     ]
    },
    {
     "name": "stderr",
     "output_type": "stream",
     "text": [
      "/home/marc/.local/lib/python3.10/site-packages/qiskit_ibm_runtime/fake_provider/local_service.py:243: UserWarning: Options {'transpilation': {'optimization_level': 0}, 'default_shots': 10000, 'dynamical_decoupling': {'enable': True, 'sequence_type': 'XX'}, 'resilience': {'measure_mitigation': True, 'zne_mitigation': True, 'zne': {'noise_factors': (1.0, 3.0, 5.0), 'extrapolator': ('linear', 'exponential')}}, 'twirling': {'enable_gates': True, 'enable_measure': True}} have no effect in local testing mode.\n",
      "  warnings.warn(f\"Options {options_copy} have no effect in local testing mode.\")\n"
     ]
    },
    {
     "name": "stdout",
     "output_type": "stream",
     "text": [
      "Iters. done: 7 [Current cost: -0.40773659086210395]\n"
     ]
    },
    {
     "name": "stderr",
     "output_type": "stream",
     "text": [
      "/home/marc/.local/lib/python3.10/site-packages/qiskit_ibm_runtime/fake_provider/local_service.py:243: UserWarning: Options {'transpilation': {'optimization_level': 0}, 'default_shots': 10000, 'dynamical_decoupling': {'enable': True, 'sequence_type': 'XX'}, 'resilience': {'measure_mitigation': True, 'zne_mitigation': True, 'zne': {'noise_factors': (1.0, 3.0, 5.0), 'extrapolator': ('linear', 'exponential')}}, 'twirling': {'enable_gates': True, 'enable_measure': True}} have no effect in local testing mode.\n",
      "  warnings.warn(f\"Options {options_copy} have no effect in local testing mode.\")\n"
     ]
    },
    {
     "name": "stdout",
     "output_type": "stream",
     "text": [
      "Iters. done: 8 [Current cost: -0.41662578468939937]\n"
     ]
    },
    {
     "name": "stderr",
     "output_type": "stream",
     "text": [
      "/home/marc/.local/lib/python3.10/site-packages/qiskit_ibm_runtime/fake_provider/local_service.py:243: UserWarning: Options {'transpilation': {'optimization_level': 0}, 'default_shots': 10000, 'dynamical_decoupling': {'enable': True, 'sequence_type': 'XX'}, 'resilience': {'measure_mitigation': True, 'zne_mitigation': True, 'zne': {'noise_factors': (1.0, 3.0, 5.0), 'extrapolator': ('linear', 'exponential')}}, 'twirling': {'enable_gates': True, 'enable_measure': True}} have no effect in local testing mode.\n",
      "  warnings.warn(f\"Options {options_copy} have no effect in local testing mode.\")\n"
     ]
    },
    {
     "name": "stdout",
     "output_type": "stream",
     "text": [
      "Iters. done: 9 [Current cost: -0.4139828177526945]\n"
     ]
    },
    {
     "name": "stderr",
     "output_type": "stream",
     "text": [
      "/home/marc/.local/lib/python3.10/site-packages/qiskit_ibm_runtime/fake_provider/local_service.py:243: UserWarning: Options {'transpilation': {'optimization_level': 0}, 'default_shots': 10000, 'dynamical_decoupling': {'enable': True, 'sequence_type': 'XX'}, 'resilience': {'measure_mitigation': True, 'zne_mitigation': True, 'zne': {'noise_factors': (1.0, 3.0, 5.0), 'extrapolator': ('linear', 'exponential')}}, 'twirling': {'enable_gates': True, 'enable_measure': True}} have no effect in local testing mode.\n",
      "  warnings.warn(f\"Options {options_copy} have no effect in local testing mode.\")\n"
     ]
    },
    {
     "name": "stdout",
     "output_type": "stream",
     "text": [
      "Iters. done: 10 [Current cost: -0.41381616818783973]\n"
     ]
    },
    {
     "name": "stderr",
     "output_type": "stream",
     "text": [
      "/home/marc/.local/lib/python3.10/site-packages/qiskit_ibm_runtime/fake_provider/local_service.py:243: UserWarning: Options {'transpilation': {'optimization_level': 0}, 'default_shots': 10000, 'dynamical_decoupling': {'enable': True, 'sequence_type': 'XX'}, 'resilience': {'measure_mitigation': True, 'zne_mitigation': True, 'zne': {'noise_factors': (1.0, 3.0, 5.0), 'extrapolator': ('linear', 'exponential')}}, 'twirling': {'enable_gates': True, 'enable_measure': True}} have no effect in local testing mode.\n",
      "  warnings.warn(f\"Options {options_copy} have no effect in local testing mode.\")\n"
     ]
    }
   ],
   "source": [
    "def exact_solver(qubit_op, problem):\n",
    "    sol = NumPyMinimumEigensolver().compute_minimum_eigenvalue(qubit_op)\n",
    "    result = problem.interpret(sol)\n",
    "    return result\n",
    "\n",
    "distances = np.arange(1.5, 2.0, 0.1)\n",
    "exact_energies = []\n",
    "vqe_energies = []\n",
    "optimizer = SLSQP(maxiter=10)\n",
    "#estimator = StatevectorEstimator()\n",
    "\n",
    "# pylint: disable=undefined-loop-variable,line-too-long\n",
    "(qubit_op, num_particles, num_spatial_orbitals, problem, mapper) = get_qubit_op(1.8)\n",
    "\n",
    "result = exact_solver(qubit_op, problem)\n",
    "exact_energies.append(result.total_energies[0].real)\n",
    "init_state = HartreeFock(num_spatial_orbitals, num_particles, mapper)\n",
    "var_form = UCCSD(\n",
    "    num_spatial_orbitals, num_particles, mapper, initial_state=init_state\n",
    ")\n",
    "\n",
    "print(f\"Qubits needed in ansatz: {var_form.num_qubits}\")\n",
    "print(f\"Parameters needed in ansatz: {var_form.num_parameters}\")\n",
    "\n",
    "#now convert to hardware\n",
    "from qiskit.transpiler.preset_passmanagers import generate_preset_pass_manager\n",
    "\n",
    "pm = generate_preset_pass_manager(backend=fake_backend, optimization_level=3)\n",
    "\n",
    "ansatz_isa = pm.run(var_form) \n",
    "hamiltonian_isa = qubit_op.apply_layout(layout=ansatz_isa.layout)\n",
    "\n",
    "x0 = initial_point=[0] * var_form.num_parameters\n",
    "\n",
    "estimator = Estimator(backend=fake_backend, options=options_ex6)\n",
    "estimator.options.default_shots = 10000\n",
    "\n",
    "res = minimize(\n",
    "    cost_func,\n",
    "    x0,\n",
    "    args=(ansatz_isa, hamiltonian_isa, estimator),\n",
    "    method=\"cobyla\",\n",
    ")\n",
    "\n",
    "\n",
    "print(\n",
    "    f\"Interatomic Distance: {np.round(dist, 2)}\",\n",
    "    f\"Exact Energy: {exact_energies[-1]:.5f}\",\n",
    ")\n",
    "\n",
    "print(\"All energies have been calculated\")"
   ]
  },
  {
   "cell_type": "code",
   "execution_count": null,
   "id": "d62b859b-371d-4722-bc0a-b71df0767b67",
   "metadata": {},
   "outputs": [],
   "source": [
    "fig, ax = plt.subplots()\n",
    "ax.plot(range(cost_history_dict[\"iters\"]), cost_history_dict[\"cost_history\"])\n",
    "ax.set_xlabel(\"Iterations\")\n",
    "ax.set_ylabel(\"Cost\")\n",
    "plt.draw()"
   ]
  }
 ],
 "metadata": {
  "kernelspec": {
   "display_name": "Python 3 (ipykernel)",
   "language": "python",
   "name": "python3"
  },
  "language_info": {
   "codemirror_mode": {
    "name": "ipython",
    "version": 3
   },
   "file_extension": ".py",
   "mimetype": "text/x-python",
   "name": "python",
   "nbconvert_exporter": "python",
   "pygments_lexer": "ipython3",
   "version": "3.10.12"
  }
 },
 "nbformat": 4,
 "nbformat_minor": 5
}
