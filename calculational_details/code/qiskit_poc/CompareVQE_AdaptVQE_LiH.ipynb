{
 "cells": [
  {
   "cell_type": "markdown",
   "id": "fdcf8b4e-9c55-4c5d-9b97-1e2313933074",
   "metadata": {},
   "source": [
    "# Proof of concept\n",
    "## Get Groundstate of LiH with VQE, AdaptVqe and StatefulVQE\n",
    "- taken from: https://qiskit-community.github.io/qiskit-nature/howtos/adapt_vqe.html"
   ]
  },
  {
   "cell_type": "code",
   "execution_count": 37,
   "id": "95b6c37a-ec29-459c-9e77-3aa46350749a",
   "metadata": {},
   "outputs": [],
   "source": [
    "# imports\n",
    "from qiskit_nature.second_q.drivers import PySCFDriver\n",
    "from qiskit_nature.second_q.mappers import JordanWignerMapper\n",
    "from qiskit_nature.second_q.circuit.library import UCCSD, HartreeFock\n",
    "import numpy as np\n",
    "from qiskit_algorithms import VQE\n",
    "from qiskit_algorithms.optimizers import SLSQP\n",
    "from qiskit.primitives import Estimator\n",
    "\n",
    "from qiskit_algorithms import AdaptVQE\n",
    "from qiskit_nature.second_q.algorithms import GroundStateEigensolver\n",
    "\n",
    "import time\n",
    "from datetime import datetime"
   ]
  },
  {
   "cell_type": "markdown",
   "id": "eb89e440-73ba-42b9-a02c-e4197d12b1f7",
   "metadata": {},
   "source": [
    "## Define problem with ansatz"
   ]
  },
  {
   "cell_type": "code",
   "execution_count": 38,
   "id": "ddb307e2-c1ec-425f-97a0-d937e2403f57",
   "metadata": {},
   "outputs": [],
   "source": [
    "#driver = PySCFDriver(atom=\"H 0 0 0; H 0 0 0.735\", basis=\"sto-3g\")\n",
    "#driver = PySCFDriver(atom=\"C 0 0 -0.6025; H 0 0 -1.6691; C 0 0 0.6025; H 0 0 1.6691\", basis=\"sto-3g\")\n",
    "#driver = PySCFDriver(atom=\"O 0 0 0; H  0 1 0; H 0 0 1\", basis=\"sto-3g\")\n",
    "driver = PySCFDriver(atom=\"Li 0 0 0; H 0 0 1.5\", basis=\"sto-3g\")\n",
    "#driver = PySCFDriver(atom=\"He 0 0 0; He 0 0 0.9\", basis=\"sto-3g\")\n",
    "problem = driver.run()"
   ]
  },
  {
   "cell_type": "code",
   "execution_count": 39,
   "id": "e254dca0-e3b2-489b-bb9a-3db683e3d02c",
   "metadata": {},
   "outputs": [],
   "source": [
    "mapper = JordanWignerMapper()"
   ]
  },
  {
   "cell_type": "code",
   "execution_count": 40,
   "id": "e47387c1-94ea-4434-85d9-6349c6cf5f20",
   "metadata": {},
   "outputs": [],
   "source": [
    "ansatz = UCCSD(\n",
    "    problem.num_spatial_orbitals,\n",
    "    problem.num_particles,\n",
    "    mapper,\n",
    "    initial_state=HartreeFock(\n",
    "        problem.num_spatial_orbitals,\n",
    "        problem.num_particles,\n",
    "        mapper,\n",
    "    ),\n",
    ")"
   ]
  },
  {
   "cell_type": "code",
   "execution_count": 41,
   "id": "e4020ea2-d9e4-4e82-8fa5-fd0db8c8bbbc",
   "metadata": {},
   "outputs": [
    {
     "name": "stdout",
     "output_type": "stream",
     "text": [
      "6 (2, 2) 12\n"
     ]
    }
   ],
   "source": [
    "print(problem.num_spatial_orbitals, problem.num_particles, ansatz.width())"
   ]
  },
  {
   "cell_type": "code",
   "execution_count": 42,
   "id": "85eae774-a024-495a-b57b-86260393585d",
   "metadata": {},
   "outputs": [],
   "source": [
    "# define vqe\n",
    "vqe = VQE(Estimator(), ansatz, SLSQP())\n",
    "vqe.initial_point = np.zeros(ansatz.num_parameters)"
   ]
  },
  {
   "cell_type": "markdown",
   "id": "7b7d867f-a356-4dc8-877a-ca989e687d65",
   "metadata": {},
   "source": [
    "## implement StatefulVQE\n",
    "- taken over from qiskit-nature-cp2k"
   ]
  },
  {
   "cell_type": "code",
   "execution_count": 43,
   "id": "9febbe5b-897e-4d36-a875-905fdc478867",
   "metadata": {},
   "outputs": [],
   "source": [
    "# imports\n",
    "import logging\n",
    "\n",
    "from enum import Enum\n",
    "\n",
    "from qiskit.quantum_info.operators.base_operator import BaseOperator\n",
    "from qiskit.circuit.library import EvolvedOperatorAnsatz\n",
    "\n",
    "from qiskit_algorithms.list_or_dict import ListOrDict\n",
    "from qiskit_algorithms import VQEResult\n",
    "\n",
    "from qiskit_algorithms.observables_evaluator import estimate_observables\n",
    "from qiskit_algorithms.utils import validate_bounds, validate_initial_point\n",
    "from qiskit_algorithms.utils.set_batching import _set_default_batchsize"
   ]
  },
  {
   "cell_type": "code",
   "execution_count": 44,
   "id": "3d30b2d6-0b98-4be4-9ad3-6c2e056ef813",
   "metadata": {},
   "outputs": [],
   "source": [
    "logger = logging.getLogger(__name__)"
   ]
  },
  {
   "cell_type": "code",
   "execution_count": 45,
   "id": "cc38cf53-1e82-409d-a208-36671640c768",
   "metadata": {},
   "outputs": [],
   "source": [
    "def depth_filter(param):\n",
    "    inst, qubits, clbits = param\n",
    "    return inst.num_qubits == 2"
   ]
  },
  {
   "cell_type": "code",
   "execution_count": 46,
   "id": "5ac71e82-13e3-414f-a4bf-9fe012d9f9b2",
   "metadata": {},
   "outputs": [],
   "source": [
    "class StatefulVQE(VQE):\n",
    "    def compute_minimum_eigenvalue(\n",
    "        self,\n",
    "        operator: BaseOperator,\n",
    "        aux_operators: ListOrDict[BaseOperator] | None = None,\n",
    "    ) -> VQEResult:\n",
    "        if self.ansatz.num_parameters == 0:\n",
    "            eigenvalue = estimate_observables(self.estimator, self.ansatz, [operator])[0][0]\n",
    "\n",
    "            optimizer_result = OptimizerResult()\n",
    "            optimizer_result.x = []\n",
    "            optimizer_result.fun = eigenvalue\n",
    "            optimizer_result.jac = None\n",
    "            optimizer_result.nfev = 0\n",
    "            optimizer_result.njev = 0\n",
    "            optimizer_result.nit = 0\n",
    "\n",
    "            optimizer_time = 0\n",
    "\n",
    "            if aux_operators is not None:\n",
    "                aux_operators_evaluated = estimate_observables(\n",
    "                    self.estimator,\n",
    "                    self.ansatz,\n",
    "                    aux_operators,\n",
    "                    optimizer_result.x,\n",
    "                )\n",
    "            else:\n",
    "                aux_operators_evaluated = None\n",
    "\n",
    "            return self._build_vqe_result(\n",
    "                self.ansatz,\n",
    "                optimizer_result,\n",
    "                aux_operators_evaluated,\n",
    "                optimizer_time,\n",
    "            )\n",
    "\n",
    "        self._check_operator_ansatz(operator)\n",
    "\n",
    "        initial_point = validate_initial_point(self.initial_point, self.ansatz)\n",
    "\n",
    "        bounds = validate_bounds(self.ansatz)\n",
    "\n",
    "        start_time = time.time()\n",
    "\n",
    "        evaluate_energy = self._get_evaluate_energy(self.ansatz, operator)\n",
    "\n",
    "        if self.gradient is not None:\n",
    "            evaluate_gradient = self._get_evaluate_gradient(self.ansatz, operator)\n",
    "        else:\n",
    "            evaluate_gradient = None\n",
    "\n",
    "        # perform optimization\n",
    "        if callable(self.optimizer):\n",
    "            optimizer_result = self.optimizer(\n",
    "                fun=evaluate_energy,\n",
    "                x0=initial_point,\n",
    "                jac=evaluate_gradient,\n",
    "                bounds=bounds,\n",
    "            )\n",
    "        else:\n",
    "            # we always want to submit as many estimations per job as possible for minimal\n",
    "            # overhead on the hardware\n",
    "            was_updated = _set_default_batchsize(self.optimizer)\n",
    "\n",
    "            optimizer_result = self.optimizer.minimize(\n",
    "                fun=evaluate_energy,\n",
    "                x0=initial_point,\n",
    "                jac=evaluate_gradient,\n",
    "                bounds=bounds,\n",
    "            )\n",
    "\n",
    "            # reset to original value\n",
    "            if was_updated:\n",
    "                self.optimizer.set_max_evals_grouped(None)\n",
    "\n",
    "        optimizer_time = time.time() - start_time\n",
    "\n",
    "        logger.info(\n",
    "            \"Optimization complete in %s seconds.\\nFound optimal point %s\",\n",
    "            optimizer_time,\n",
    "            optimizer_result.x,\n",
    "        )\n",
    "\n",
    "        # stateful aspect to permit warm-starting of the algorithm\n",
    "        self.initial_point = optimizer_result.x\n",
    "\n",
    "        if aux_operators is not None:\n",
    "            aux_operators_evaluated = estimate_observables(\n",
    "                self.estimator, self.ansatz, aux_operators, optimizer_result.x\n",
    "            )\n",
    "        else:\n",
    "            aux_operators_evaluated = None\n",
    "\n",
    "        decomposed = self.ansatz.decompose().decompose().decompose()\n",
    "        logger.info(f\"The circuit has the following gates: %s\", str(decomposed.count_ops()))\n",
    "        logger.info(f\"The circuit has a depth of %s\", str(decomposed.depth()))\n",
    "        logger.info(f\"The circuit has a 2-qubit gate depth of %s\", str(decomposed.depth(depth_filter)))\n",
    "        logger.info(f\"The circuit has %s paramters\", str(decomposed.num_parameters))\n",
    "\n",
    "        return self._build_vqe_result(\n",
    "            self.ansatz, optimizer_result, aux_operators_evaluated, optimizer_time\n",
    "        )"
   ]
  },
  {
   "cell_type": "markdown",
   "id": "0a193877-21d9-41ef-a3cc-c170dcd2202a",
   "metadata": {},
   "source": [
    "## now setup StatefulAdaptVQE"
   ]
  },
  {
   "cell_type": "code",
   "execution_count": 47,
   "id": "4cdac372-3959-44fa-9acc-ba33defd0c65",
   "metadata": {},
   "outputs": [],
   "source": [
    "stateful_vqe = StatefulVQE(Estimator(), ansatz, SLSQP())\n",
    "stateful_vqe.initial_point = np.zeros(ansatz.num_parameters)"
   ]
  },
  {
   "cell_type": "markdown",
   "id": "126586b8-57d5-4131-8cc5-84ca8bf7944f",
   "metadata": {},
   "source": [
    "## Now get some results for VQE"
   ]
  },
  {
   "cell_type": "code",
   "execution_count": 48,
   "id": "b786908f-4364-4616-9d68-3ec3cabf084b",
   "metadata": {},
   "outputs": [],
   "source": [
    "solver = GroundStateEigensolver(mapper, vqe)"
   ]
  },
  {
   "cell_type": "code",
   "execution_count": 49,
   "id": "d43f414c-bf9b-4361-8f92-3d30f5854cef",
   "metadata": {},
   "outputs": [
    {
     "name": "stdout",
     "output_type": "stream",
     "text": [
      "Code execution time [sec]: 3653.9124372005463\n",
      "Total ground state energy = -7.8824\n"
     ]
    }
   ],
   "source": [
    "start = time.time()\n",
    "result = solver.solve(problem)\n",
    "end = time.time()\n",
    "# print execution time\n",
    "print('Code execution time [sec]:', end - start)\n",
    "print(f\"Total ground state energy = {result.total_energies[0]:.4f}\")"
   ]
  },
  {
   "cell_type": "markdown",
   "id": "e7ef4793-9339-44e7-8223-74eaa7cc6fac",
   "metadata": {},
   "source": [
    "## Now get some results for AdaptVQE"
   ]
  },
  {
   "cell_type": "code",
   "execution_count": 50,
   "id": "4049547a-cacb-49ab-a2d4-88858cf672e4",
   "metadata": {},
   "outputs": [],
   "source": [
    "adapt_vqe = AdaptVQE(vqe)\n",
    "adapt_vqe.supports_aux_operators = lambda: True  # temporary fix"
   ]
  },
  {
   "cell_type": "code",
   "execution_count": 51,
   "id": "f635a015-5217-4fb6-aa1f-2624c738c388",
   "metadata": {},
   "outputs": [],
   "source": [
    "solver = GroundStateEigensolver(mapper, adapt_vqe)"
   ]
  },
  {
   "cell_type": "code",
   "execution_count": 52,
   "id": "e437f91d-d76e-487c-9eee-b3ceaa566d18",
   "metadata": {},
   "outputs": [
    {
     "name": "stdout",
     "output_type": "stream",
     "text": [
      "Code execution time [sec]: 1551.8469829559326\n",
      "Total ground state energy = -7.8820\n"
     ]
    }
   ],
   "source": [
    "start = time.time()\n",
    "result = solver.solve(problem)\n",
    "end = time.time()\n",
    "# print execution time\n",
    "print('Code execution time [sec]:', end - start)\n",
    "print(f\"Total ground state energy = {result.total_energies[0]:.4f}\")"
   ]
  },
  {
   "cell_type": "markdown",
   "id": "278022eb-f33c-4b1a-a0ba-7685f20ec035",
   "metadata": {},
   "source": [
    "## Now get some results for StatefulVQE"
   ]
  },
  {
   "cell_type": "code",
   "execution_count": 53,
   "id": "d96c6684-1e76-4471-84e9-6e7420406895",
   "metadata": {},
   "outputs": [],
   "source": [
    "solver = GroundStateEigensolver(mapper, stateful_vqe)"
   ]
  },
  {
   "cell_type": "code",
   "execution_count": 54,
   "id": "4a890948-03cb-48ca-91cc-be48a4b04539",
   "metadata": {},
   "outputs": [
    {
     "name": "stdout",
     "output_type": "stream",
     "text": [
      "Code execution time [sec]: 3133.5566153526306\n",
      "Total ground state energy = -7.8824\n"
     ]
    }
   ],
   "source": [
    "start = time.time()\n",
    "result = solver.solve(problem)\n",
    "end = time.time()\n",
    "# print execution time\n",
    "print('Code execution time [sec]:', end - start)\n",
    "print(f\"Total ground state energy = {result.total_energies[0]:.4f}\")"
   ]
  },
  {
   "cell_type": "code",
   "execution_count": null,
   "id": "ac41a78d-98cc-4c6d-9e9f-420a4078fd2d",
   "metadata": {},
   "outputs": [],
   "source": []
  }
 ],
 "metadata": {
  "kernelspec": {
   "display_name": "Python 3 (ipykernel)",
   "language": "python",
   "name": "python3"
  },
  "language_info": {
   "codemirror_mode": {
    "name": "ipython",
    "version": 3
   },
   "file_extension": ".py",
   "mimetype": "text/x-python",
   "name": "python",
   "nbconvert_exporter": "python",
   "pygments_lexer": "ipython3",
   "version": "3.10.12"
  }
 },
 "nbformat": 4,
 "nbformat_minor": 5
}
