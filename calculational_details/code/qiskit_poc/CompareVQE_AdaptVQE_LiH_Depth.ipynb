{
 "cells": [
  {
   "cell_type": "markdown",
   "id": "fdcf8b4e-9c55-4c5d-9b97-1e2313933074",
   "metadata": {},
   "source": [
    "# Proof of concept (estimation for gates, depth)\n",
    "## Get Groundstate of LiH with VQE, AdaptVqe and StatefulVQE\n",
    "- taken from: https://qiskit-community.github.io/qiskit-nature/howtos/adapt_vqe.html"
   ]
  },
  {
   "cell_type": "code",
   "execution_count": 1,
   "id": "95b6c37a-ec29-459c-9e77-3aa46350749a",
   "metadata": {},
   "outputs": [],
   "source": [
    "# imports\n",
    "from qiskit_nature.second_q.drivers import PySCFDriver\n",
    "from qiskit_nature.second_q.mappers import JordanWignerMapper\n",
    "from qiskit_nature.second_q.circuit.library import UCCSD, HartreeFock\n",
    "import numpy as np\n",
    "from qiskit_algorithms import VQE\n",
    "from qiskit_algorithms.optimizers import SLSQP\n",
    "from qiskit.primitives import Estimator\n",
    "\n",
    "from qiskit_algorithms import AdaptVQE\n",
    "from qiskit_nature.second_q.algorithms import GroundStateEigensolver\n",
    "\n",
    "import time\n",
    "from datetime import datetime"
   ]
  },
  {
   "cell_type": "markdown",
   "id": "eb89e440-73ba-42b9-a02c-e4197d12b1f7",
   "metadata": {},
   "source": [
    "## Define problem with ansatz"
   ]
  },
  {
   "cell_type": "code",
   "execution_count": 2,
   "id": "ddb307e2-c1ec-425f-97a0-d937e2403f57",
   "metadata": {},
   "outputs": [],
   "source": [
    "#driver = PySCFDriver(atom=\"H 0 0 0; H 0 0 0.735\", basis=\"sto-3g\")\n",
    "#driver = PySCFDriver(atom=\"C 0 0 -0.6025; H 0 0 -1.6691; C 0 0 0.6025; H 0 0 1.6691\", basis=\"sto-3g\")\n",
    "#driver = PySCFDriver(atom=\"O 0 0 0; H  0 1 0; H 0 0 1\", basis=\"sto-3g\")\n",
    "driver = PySCFDriver(atom=\"Li 0 0 0; H 0 0 1.5\", basis=\"sto-3g\")\n",
    "#driver = PySCFDriver(atom=\"He 0 0 0; He 0 0 0.9\", basis=\"sto-3g\")\n",
    "problem = driver.run()"
   ]
  },
  {
   "cell_type": "code",
   "execution_count": 3,
   "id": "e254dca0-e3b2-489b-bb9a-3db683e3d02c",
   "metadata": {},
   "outputs": [],
   "source": [
    "mapper = JordanWignerMapper()"
   ]
  },
  {
   "cell_type": "code",
   "execution_count": 4,
   "id": "e47387c1-94ea-4434-85d9-6349c6cf5f20",
   "metadata": {},
   "outputs": [],
   "source": [
    "ansatz = UCCSD(\n",
    "    problem.num_spatial_orbitals,\n",
    "    problem.num_particles,\n",
    "    mapper,\n",
    "    initial_state=HartreeFock(\n",
    "        problem.num_spatial_orbitals,\n",
    "        problem.num_particles,\n",
    "        mapper,\n",
    "    ),\n",
    ")"
   ]
  },
  {
   "cell_type": "code",
   "execution_count": 5,
   "id": "e4020ea2-d9e4-4e82-8fa5-fd0db8c8bbbc",
   "metadata": {},
   "outputs": [
    {
     "name": "stdout",
     "output_type": "stream",
     "text": [
      "6 (2, 2) 12\n"
     ]
    }
   ],
   "source": [
    "print(problem.num_spatial_orbitals, problem.num_particles, ansatz.width())"
   ]
  },
  {
   "cell_type": "code",
   "execution_count": 6,
   "id": "85eae774-a024-495a-b57b-86260393585d",
   "metadata": {},
   "outputs": [],
   "source": [
    "# define vqe\n",
    "vqe = VQE(Estimator(), ansatz, SLSQP())\n",
    "vqe.initial_point = np.zeros(ansatz.num_parameters)"
   ]
  },
  {
   "cell_type": "markdown",
   "id": "7b7d867f-a356-4dc8-877a-ca989e687d65",
   "metadata": {},
   "source": [
    "## implement StatefulVQE\n",
    "- taken over from qiskit-nature-cp2k"
   ]
  },
  {
   "cell_type": "code",
   "execution_count": 7,
   "id": "9febbe5b-897e-4d36-a875-905fdc478867",
   "metadata": {},
   "outputs": [],
   "source": [
    "# imports\n",
    "import logging\n",
    "\n",
    "from enum import Enum\n",
    "\n",
    "from qiskit.quantum_info.operators.base_operator import BaseOperator\n",
    "from qiskit.circuit.library import EvolvedOperatorAnsatz\n",
    "\n",
    "from qiskit_algorithms.list_or_dict import ListOrDict\n",
    "from qiskit_algorithms import VQEResult\n",
    "\n",
    "from qiskit_algorithms.observables_evaluator import estimate_observables\n",
    "from qiskit_algorithms.utils import validate_bounds, validate_initial_point\n",
    "from qiskit_algorithms.utils.set_batching import _set_default_batchsize"
   ]
  },
  {
   "cell_type": "code",
   "execution_count": 8,
   "id": "3d30b2d6-0b98-4be4-9ad3-6c2e056ef813",
   "metadata": {},
   "outputs": [],
   "source": [
    "logger = logging.getLogger(__name__)"
   ]
  },
  {
   "cell_type": "code",
   "execution_count": 9,
   "id": "cc38cf53-1e82-409d-a208-36671640c768",
   "metadata": {},
   "outputs": [],
   "source": [
    "def depth_filter(param):\n",
    "    inst, qubits, clbits = param\n",
    "    return inst.num_qubits == 2"
   ]
  },
  {
   "cell_type": "code",
   "execution_count": 10,
   "id": "5ac71e82-13e3-414f-a4bf-9fe012d9f9b2",
   "metadata": {},
   "outputs": [],
   "source": [
    "class StatefulVQE(VQE):\n",
    "    def compute_minimum_eigenvalue(\n",
    "        self,\n",
    "        operator: BaseOperator,\n",
    "        aux_operators: ListOrDict[BaseOperator] | None = None,\n",
    "    ) -> VQEResult:\n",
    "        if self.ansatz.num_parameters == 0:\n",
    "            eigenvalue = estimate_observables(self.estimator, self.ansatz, [operator])[0][0]\n",
    "\n",
    "            optimizer_result = OptimizerResult()\n",
    "            optimizer_result.x = []\n",
    "            optimizer_result.fun = eigenvalue\n",
    "            optimizer_result.jac = None\n",
    "            optimizer_result.nfev = 0\n",
    "            optimizer_result.njev = 0\n",
    "            optimizer_result.nit = 0\n",
    "\n",
    "            optimizer_time = 0\n",
    "\n",
    "            if aux_operators is not None:\n",
    "                aux_operators_evaluated = estimate_observables(\n",
    "                    self.estimator,\n",
    "                    self.ansatz,\n",
    "                    aux_operators,\n",
    "                    optimizer_result.x,\n",
    "                )\n",
    "            else:\n",
    "                aux_operators_evaluated = None\n",
    "\n",
    "            return self._build_vqe_result(\n",
    "                self.ansatz,\n",
    "                optimizer_result,\n",
    "                aux_operators_evaluated,\n",
    "                optimizer_time,\n",
    "            )\n",
    "\n",
    "        self._check_operator_ansatz(operator)\n",
    "\n",
    "        initial_point = validate_initial_point(self.initial_point, self.ansatz)\n",
    "\n",
    "        bounds = validate_bounds(self.ansatz)\n",
    "\n",
    "        start_time = time.time()\n",
    "\n",
    "        evaluate_energy = self._get_evaluate_energy(self.ansatz, operator)\n",
    "\n",
    "        if self.gradient is not None:\n",
    "            evaluate_gradient = self._get_evaluate_gradient(self.ansatz, operator)\n",
    "        else:\n",
    "            evaluate_gradient = None\n",
    "\n",
    "        # perform optimization\n",
    "        if callable(self.optimizer):\n",
    "            optimizer_result = self.optimizer(\n",
    "                fun=evaluate_energy,\n",
    "                x0=initial_point,\n",
    "                jac=evaluate_gradient,\n",
    "                bounds=bounds,\n",
    "            )\n",
    "        else:\n",
    "            # we always want to submit as many estimations per job as possible for minimal\n",
    "            # overhead on the hardware\n",
    "            was_updated = _set_default_batchsize(self.optimizer)\n",
    "\n",
    "            optimizer_result = self.optimizer.minimize(\n",
    "                fun=evaluate_energy,\n",
    "                x0=initial_point,\n",
    "                jac=evaluate_gradient,\n",
    "                bounds=bounds,\n",
    "            )\n",
    "\n",
    "            # reset to original value\n",
    "            if was_updated:\n",
    "                self.optimizer.set_max_evals_grouped(None)\n",
    "\n",
    "        optimizer_time = time.time() - start_time\n",
    "\n",
    "        logger.info(\n",
    "            \"Optimization complete in %s seconds.\\nFound optimal point %s\",\n",
    "            optimizer_time,\n",
    "            optimizer_result.x,\n",
    "        )\n",
    "\n",
    "        # stateful aspect to permit warm-starting of the algorithm\n",
    "        self.initial_point = optimizer_result.x\n",
    "\n",
    "        if aux_operators is not None:\n",
    "            aux_operators_evaluated = estimate_observables(\n",
    "                self.estimator, self.ansatz, aux_operators, optimizer_result.x\n",
    "            )\n",
    "        else:\n",
    "            aux_operators_evaluated = None\n",
    "\n",
    "        decomposed = self.ansatz.decompose().decompose().decompose()\n",
    "        logger.info(f\"The circuit has the following gates: %s\", str(decomposed.count_ops()))\n",
    "        logger.info(f\"The circuit has a depth of %s\", str(decomposed.depth()))\n",
    "        logger.info(f\"The circuit has a 2-qubit gate depth of %s\", str(decomposed.depth(depth_filter)))\n",
    "        logger.info(f\"The circuit has %s paramters\", str(decomposed.num_parameters))\n",
    "\n",
    "        return self._build_vqe_result(\n",
    "            self.ansatz, optimizer_result, aux_operators_evaluated, optimizer_time\n",
    "        )"
   ]
  },
  {
   "cell_type": "markdown",
   "id": "0a193877-21d9-41ef-a3cc-c170dcd2202a",
   "metadata": {},
   "source": [
    "## now setup StatefulVQE"
   ]
  },
  {
   "cell_type": "code",
   "execution_count": 11,
   "id": "4cdac372-3959-44fa-9acc-ba33defd0c65",
   "metadata": {},
   "outputs": [],
   "source": [
    "stateful_vqe = StatefulVQE(Estimator(), ansatz, SLSQP())\n",
    "stateful_vqe.initial_point = np.zeros(ansatz.num_parameters)"
   ]
  },
  {
   "cell_type": "markdown",
   "id": "126586b8-57d5-4131-8cc5-84ca8bf7944f",
   "metadata": {},
   "source": [
    "## Now get some results for VQE"
   ]
  },
  {
   "cell_type": "code",
   "execution_count": 12,
   "id": "b786908f-4364-4616-9d68-3ec3cabf084b",
   "metadata": {},
   "outputs": [],
   "source": [
    "solver_vqe = GroundStateEigensolver(mapper, vqe)"
   ]
  },
  {
   "cell_type": "code",
   "execution_count": 13,
   "id": "d43f414c-bf9b-4361-8f92-3d30f5854cef",
   "metadata": {},
   "outputs": [
    {
     "name": "stdout",
     "output_type": "stream",
     "text": [
      "Code execution time [sec]: 3363.6004679203033\n",
      "Total ground state energy = -7.8824\n"
     ]
    }
   ],
   "source": [
    "start = time.time()\n",
    "result_vqe = solver_vqe.solve(problem)\n",
    "end = time.time()\n",
    "# print execution time\n",
    "print('Code execution time [sec]:', end - start)\n",
    "print(f\"Total ground state energy = {result_vqe.total_energies[0]:.4f}\")"
   ]
  },
  {
   "cell_type": "markdown",
   "id": "e7ef4793-9339-44e7-8223-74eaa7cc6fac",
   "metadata": {},
   "source": [
    "## Now get some results for AdaptVQE"
   ]
  },
  {
   "cell_type": "code",
   "execution_count": 14,
   "id": "4049547a-cacb-49ab-a2d4-88858cf672e4",
   "metadata": {},
   "outputs": [],
   "source": [
    "adapt_vqe = AdaptVQE(vqe)\n",
    "adapt_vqe.supports_aux_operators = lambda: True  # temporary fix"
   ]
  },
  {
   "cell_type": "code",
   "execution_count": 15,
   "id": "f635a015-5217-4fb6-aa1f-2624c738c388",
   "metadata": {},
   "outputs": [],
   "source": [
    "solver_adapt = GroundStateEigensolver(mapper, adapt_vqe)"
   ]
  },
  {
   "cell_type": "code",
   "execution_count": 16,
   "id": "e437f91d-d76e-487c-9eee-b3ceaa566d18",
   "metadata": {},
   "outputs": [
    {
     "name": "stdout",
     "output_type": "stream",
     "text": [
      "Code execution time [sec]: 1163.7041110992432\n",
      "Total ground state energy = -7.8820\n"
     ]
    }
   ],
   "source": [
    "start = time.time()\n",
    "result_adapt = solver_adapt.solve(problem)\n",
    "end = time.time()\n",
    "# print execution time\n",
    "print('Code execution time [sec]:', end - start)\n",
    "print(f\"Total ground state energy = {result_adapt.total_energies[0]:.4f}\")"
   ]
  },
  {
   "cell_type": "markdown",
   "id": "278022eb-f33c-4b1a-a0ba-7685f20ec035",
   "metadata": {},
   "source": [
    "## Now get some results for StatefulVQE"
   ]
  },
  {
   "cell_type": "code",
   "execution_count": 17,
   "id": "d96c6684-1e76-4471-84e9-6e7420406895",
   "metadata": {},
   "outputs": [],
   "source": [
    "solver_state = GroundStateEigensolver(mapper, stateful_vqe)"
   ]
  },
  {
   "cell_type": "code",
   "execution_count": 18,
   "id": "4a890948-03cb-48ca-91cc-be48a4b04539",
   "metadata": {},
   "outputs": [
    {
     "name": "stdout",
     "output_type": "stream",
     "text": [
      "Code execution time [sec]: 3152.852778673172\n",
      "Total ground state energy = -7.8824\n"
     ]
    }
   ],
   "source": [
    "start = time.time()\n",
    "result_state = solver_state.solve(problem)\n",
    "end = time.time()\n",
    "# print execution time\n",
    "print('Code execution time [sec]:', end - start)\n",
    "print(f\"Total ground state energy = {result_state.total_energies[0]:.4f}\")"
   ]
  },
  {
   "cell_type": "markdown",
   "id": "2baf769e-d3af-4338-a478-fd24d1879c69",
   "metadata": {},
   "source": [
    "## Now get some results for AdaptStatefulVQE"
   ]
  },
  {
   "cell_type": "code",
   "execution_count": 19,
   "id": "dc74cc2f-bd4d-4507-bb09-0925c085a0f3",
   "metadata": {},
   "outputs": [],
   "source": [
    "from qiskit_algorithms.list_or_dict import ListOrDict\n",
    "from qiskit_algorithms import AdaptVQEResult"
   ]
  },
  {
   "cell_type": "code",
   "execution_count": 20,
   "id": "19596a17-8f2a-45d2-8982-7d5818afb5c9",
   "metadata": {},
   "outputs": [],
   "source": [
    "class TerminationCriterion(Enum):\n",
    "    \"\"\"A class enumerating the various finishing criteria.\"\"\"\n",
    "\n",
    "    CONVERGED = \"Threshold converged\"\n",
    "    CYCLICITY = \"Aborted due to a cyclic selection of evolution operators\"\n",
    "    MAXIMUM = \"Maximum number of iterations reached\""
   ]
  },
  {
   "cell_type": "code",
   "execution_count": 21,
   "id": "74184d28-0114-4ef5-ab86-e960a7f30158",
   "metadata": {},
   "outputs": [],
   "source": [
    "LOGGER = logging.getLogger(__name__)\n",
    "\n",
    "\n",
    "def depth_filter(param):\n",
    "    inst, qubits, clbits = param\n",
    "    return inst.num_qubits == 2\n",
    "\n",
    "\n",
    "class StatefulAdaptVQE(AdaptVQE):\n",
    "    \"\"\"A stateful AdaptVQE variant.\"\"\"\n",
    "\n",
    "    def compute_minimum_eigenvalue(\n",
    "        self, operator, aux_operators=None\n",
    "    ) -> AdaptVQEResult:\n",
    "        if not isinstance(self.solver.ansatz, EvolvedOperatorAnsatz) and not isinstance(self._tmp_ansatz, EvolvedOperatorAnsatz):\n",
    "            raise TypeError(\n",
    "                \"The AdaptVQE ansatz must be of the EvolvedOperatorAnsatz type.\"\n",
    "            )\n",
    "\n",
    "        if self._tmp_ansatz is None:\n",
    "            # Overwrite the solver's ansatz with the initial state\n",
    "            self._tmp_ansatz = self.solver.ansatz\n",
    "            self._excitation_pool = self._tmp_ansatz.operators\n",
    "            self.solver.ansatz = self._tmp_ansatz.initial_state\n",
    "            self._theta: list[float] = []\n",
    "            self._excitation_list = []\n",
    "            self._global_iteration = 1\n",
    "            self._prev_op_indices: list[int] = []\n",
    "            self._history: list[complex] = []\n",
    "            self._prev_raw_vqe_result: VQEResult | None = None\n",
    "        else:\n",
    "            if len(self._excitation_list) == 0:\n",
    "                self.solver.ansatz = self._tmp_ansatz.initial_state\n",
    "            else:\n",
    "                self.solver.ansatz = self._tmp_ansatz\n",
    "                self.solver.initial_point = self._theta\n",
    "            self._global_iteration += 1\n",
    "\n",
    "        max_depth = 0\n",
    "        raw_vqe_result: VQEResult | None = None\n",
    "        max_grad: tuple[complex, dict[str, Any] | None] = (0.0, None)\n",
    "        iteration = 0\n",
    "        while self.max_iterations is None or iteration < self.max_iterations:\n",
    "            iteration += 1\n",
    "            LOGGER.info(\"--- Iteration #%s ---\", str(iteration))\n",
    "            # compute gradients\n",
    "            LOGGER.debug(\"Computing gradients\")\n",
    "            cur_grads = self._compute_gradients(self._theta, operator)\n",
    "            # pick maximum gradient\n",
    "            max_grad_index, max_grad = max(\n",
    "                enumerate(cur_grads), key=lambda item: np.abs(item[1][0])\n",
    "            )\n",
    "            LOGGER.info(\n",
    "                \"Found maximum gradient %s at index %s\",\n",
    "                str(np.abs(max_grad[0])),\n",
    "                str(max_grad_index),\n",
    "            )\n",
    "            # log gradients\n",
    "            if np.abs(max_grad[0]) < self.gradient_threshold:\n",
    "                if iteration == 1 and self._global_iteration == 1:\n",
    "                    LOGGER.warning(\n",
    "                        \"All gradients have been evaluated to lie below the convergence threshold \"\n",
    "                        \"during the first iteration of the algorithm. Try to either tighten the \"\n",
    "                        \"convergence threshold or pick a different ansatz.\"\n",
    "                    )\n",
    "                    raw_vqe_result = self.solver.compute_minimum_eigenvalue(operator)\n",
    "                    # store this current VQE result for the potential stateful restart later on\n",
    "                    self._prev_raw_vqe_result = raw_vqe_result\n",
    "                    self._theta = raw_vqe_result.optimal_point\n",
    "                    termination_criterion = TerminationCriterion.CONVERGED\n",
    "                    break\n",
    "                LOGGER.info(\n",
    "                    \"AdaptVQE terminated successfully with a final maximum gradient: %s\",\n",
    "                    str(np.abs(max_grad[0])),\n",
    "                )\n",
    "                termination_criterion = TerminationCriterion.CONVERGED\n",
    "                break\n",
    "            # store maximum gradient's index for cycle detection\n",
    "            self._prev_op_indices.append(max_grad_index)\n",
    "            # check indices of picked gradients for cycles\n",
    "            if self._check_cyclicity(self._prev_op_indices):\n",
    "                LOGGER.info(\"Alternating sequence found. Finishing.\")\n",
    "                LOGGER.info(\"Final maximum gradient: %s\", str(np.abs(max_grad[0])))\n",
    "                termination_criterion = TerminationCriterion.CYCLICITY\n",
    "                break\n",
    "            # add new excitation to self._ansatz\n",
    "            LOGGER.info(\n",
    "                \"Adding new operator to the ansatz: %s\",\n",
    "                str(self._excitation_pool[max_grad_index]),\n",
    "            )\n",
    "            self._excitation_list.append(self._excitation_pool[max_grad_index])\n",
    "            self._theta.append(0.0)\n",
    "            # setting up the ansatz for the VQE iteration\n",
    "            self._tmp_ansatz.operators = self._excitation_list\n",
    "            self.solver.ansatz = self._tmp_ansatz\n",
    "            max_depth = np.amax([max_depth,self.solver.ansatz.decompose().decompose().decompose().depth()])\n",
    "            self.solver.initial_point = self._theta\n",
    "            # evaluating the eigenvalue with the internal VQE\n",
    "            self._prev_raw_vqe_result = raw_vqe_result\n",
    "            raw_vqe_result = self.solver.compute_minimum_eigenvalue(operator)\n",
    "            self._theta = raw_vqe_result.optimal_point.tolist()\n",
    "            # checking convergence based on the change in eigenvalue\n",
    "            if iteration > 1:\n",
    "                eigenvalue_diff = np.abs(raw_vqe_result.eigenvalue - self._history[-1])\n",
    "                if eigenvalue_diff < self.eigenvalue_threshold:\n",
    "                    LOGGER.info(\n",
    "                        \"AdaptVQE terminated successfully with a final change in eigenvalue: %s\",\n",
    "                        str(eigenvalue_diff),\n",
    "                    )\n",
    "                    termination_criterion = TerminationCriterion.CONVERGED\n",
    "                    LOGGER.debug(\n",
    "                        \"Reverting the addition of the last excitation to the ansatz since it \"\n",
    "                        \"resulted in a change of the eigenvalue below the configured threshold.\"\n",
    "                    )\n",
    "                    self._excitation_list.pop()\n",
    "                    self._theta.pop()\n",
    "                    self._tmp_ansatz.operators = self._excitation_list\n",
    "                    self.solver.ansatz = self._tmp_ansatz\n",
    "                    max_depth = np.amax([max_depth,self.solver.ansatz.decompose().decompose().decompose().depth()])\n",
    "                    self.solver.initial_point = self._theta\n",
    "                    raw_vqe_result = self._prev_raw_vqe_result\n",
    "                    break\n",
    "            # appending the computed eigenvalue to the tracking history\n",
    "            self._history.append(raw_vqe_result.eigenvalue)\n",
    "            LOGGER.info(\"Current eigenvalue: %s\", str(raw_vqe_result.eigenvalue))\n",
    "        else:\n",
    "            # reached maximum number of iterations\n",
    "            self._prev_raw_vqe_result = raw_vqe_result\n",
    "            termination_criterion = TerminationCriterion.MAXIMUM\n",
    "            LOGGER.info(\"Maximum number of iterations reached. Finishing.\")\n",
    "            LOGGER.info(\"Final maximum gradient: %s\", str(np.abs(max_grad[0])))\n",
    "\n",
    "        if raw_vqe_result is None:\n",
    "            raw_vqe_result = self._prev_raw_vqe_result\n",
    "        result = AdaptVQEResult()\n",
    "        result.combine(raw_vqe_result)\n",
    "        result.num_iterations = iteration\n",
    "        result.final_max_gradient = max_grad[0]\n",
    "        result.termination_criterion = termination_criterion\n",
    "        result.eigenvalue_history = self._history\n",
    "\n",
    "        print(\"max_depth = \", max_depth)\n",
    "        # once finished evaluate auxiliary operators if any\n",
    "        if aux_operators is not None:\n",
    "            aux_values = estimate_observables(\n",
    "                self.solver.estimator,\n",
    "                self.solver.ansatz,\n",
    "                aux_operators,\n",
    "                result.optimal_point,\n",
    "            )\n",
    "            result.aux_operators_evaluated = aux_values\n",
    "\n",
    "        LOGGER.info(\"The final eigenvalue is: %s\", str(result.eigenvalue))\n",
    "        decomposed = self.solver.ansatz.decompose().decompose().decompose()\n",
    "        LOGGER.info(f\"The current circuit has the following gates: %s\", str(decomposed.count_ops()))\n",
    "        LOGGER.info(f\"The current circuit has a depth of %s\", str(decomposed.depth()))\n",
    "        LOGGER.info(f\"The current circuit has a 2-qubit gate depth of %s\", str(decomposed.depth(depth_filter)))\n",
    "        LOGGER.info(f\"The current circuit has %s paramters\", str(decomposed.num_parameters))\n",
    "        return result"
   ]
  },
  {
   "cell_type": "code",
   "execution_count": 22,
   "id": "d8c7b22d-5d1e-43fb-a5aa-67fba65ff8b9",
   "metadata": {},
   "outputs": [],
   "source": [
    "adapt_state_vqe = StatefulAdaptVQE(vqe)\n",
    "adapt_state_vqe.supports_aux_operators = lambda: True  # temporary fix"
   ]
  },
  {
   "cell_type": "code",
   "execution_count": 23,
   "id": "0eb3d847-6c03-4155-935e-8cb52847a382",
   "metadata": {},
   "outputs": [],
   "source": [
    "solver_adapt_state = GroundStateEigensolver(mapper, adapt_state_vqe)"
   ]
  },
  {
   "cell_type": "code",
   "execution_count": 24,
   "id": "70aa5253-3c9d-4412-806b-9d3cf5c65093",
   "metadata": {},
   "outputs": [
    {
     "name": "stdout",
     "output_type": "stream",
     "text": [
      "max_depth =  1970\n",
      "Code execution time [sec]: 1061.158494234085\n",
      "Total ground state energy = -7.8820\n"
     ]
    }
   ],
   "source": [
    "start = time.time()\n",
    "result_adapt_state = solver_adapt_state.solve(problem)\n",
    "end = time.time()\n",
    "# print execution time\n",
    "print('Code execution time [sec]:', end - start)\n",
    "print(f\"Total ground state energy = {result_adapt_state.total_energies[0]:.4f}\")"
   ]
  },
  {
   "cell_type": "markdown",
   "id": "fd9d18cf-14bf-482f-b285-944713b166df",
   "metadata": {},
   "source": [
    "## Now get some general overview of needed resources"
   ]
  },
  {
   "cell_type": "code",
   "execution_count": 25,
   "id": "09ee2449-6153-41d9-b7b7-3796e688efcc",
   "metadata": {},
   "outputs": [
    {
     "name": "stdout",
     "output_type": "stream",
     "text": [
      "{   'aux_operators_evaluated': {   'AngularMomentum': (   2.413057809125263e-10,\n",
      "                                                          {}),\n",
      "                                   'Magnetization': (0.0, {}),\n",
      "                                   'ParticleNumber': (3.99999999999914, {}),\n",
      "                                   'XDipole': (5.689353118690758e-06, {}),\n",
      "                                   'YDipole': (3.2169093034866416e-06, {}),\n",
      "                                   'ZDipole': (4.657876701312164, {})},\n",
      "    'cost_function_evals': 1035,\n",
      "    'eigenvalue': -8.940707101219802,\n",
      "    'optimal_circuit': <qiskit_nature.second_q.circuit.library.ansatzes.uccsd.UCCSD object at 0x7fc2caa6bf10>,\n",
      "    'optimal_parameters': {   ParameterVectorElement(t[59]): -4.79800842266431e-07,\n",
      "                              ParameterVectorElement(t[60]): -3.565054228211265e-07,\n",
      "                              ParameterVectorElement(t[61]): 0.0547009969962906,\n",
      "                              ParameterVectorElement(t[62]): 6.923792328299856e-08,\n",
      "                              ParameterVectorElement(t[63]): -0.003074186998748752,\n",
      "                              ParameterVectorElement(t[64]): 6.311303065593974e-08,\n",
      "                              ParameterVectorElement(t[65]): -4.197139711566946e-07,\n",
      "                              ParameterVectorElement(t[66]): 6.134281289704119e-07,\n",
      "                              ParameterVectorElement(t[67]): -0.028064040813905584,\n",
      "                              ParameterVectorElement(t[68]): 1.761306435674461e-08,\n",
      "                              ParameterVectorElement(t[69]): -3.6370127110570665e-07,\n",
      "                              ParameterVectorElement(t[70]): 1.5886236315494226e-07,\n",
      "                              ParameterVectorElement(t[71]): 1.6781540014759715e-07,\n",
      "                              ParameterVectorElement(t[72]): -0.0030761209328942175,\n",
      "                              ParameterVectorElement(t[73]): 4.017303369220378e-07,\n",
      "                              ParameterVectorElement(t[74]): -3.209415436153329e-07,\n",
      "                              ParameterVectorElement(t[75]): 3.5948709288653267e-07,\n",
      "                              ParameterVectorElement(t[76]): -0.02807522425320022,\n",
      "                              ParameterVectorElement(t[77]): 2.5503611461183426e-07,\n",
      "                              ParameterVectorElement(t[78]): 8.430912527781356e-05,\n",
      "                              ParameterVectorElement(t[79]): -7.948282391978529e-08,\n",
      "                              ParameterVectorElement(t[80]): -6.498499851905206e-08,\n",
      "                              ParameterVectorElement(t[81]): -0.0003941861036283174,\n",
      "                              ParameterVectorElement(t[82]): 0.05482372421872188,\n",
      "                              ParameterVectorElement(t[83]): 5.980522851835955e-07,\n",
      "                              ParameterVectorElement(t[84]): -5.960489179125846e-07,\n",
      "                              ParameterVectorElement(t[85]): -0.10794399608046207,\n",
      "                              ParameterVectorElement(t[86]): 3.335487679248474e-08,\n",
      "                              ParameterVectorElement(t[87]): 1.8709048679920998e-08,\n",
      "                              ParameterVectorElement(t[88]): 0.0008857266845966677,\n",
      "                              ParameterVectorElement(t[89]): 3.369915102369163e-07,\n",
      "                              ParameterVectorElement(t[90]): 6.530608126820861e-08,\n",
      "                              ParameterVectorElement(t[91]): -4.539357403997413e-09,\n",
      "                              ParameterVectorElement(t[0]): -0.0002197903147172966,\n",
      "                              ParameterVectorElement(t[1]): 8.912309177858487e-08,\n",
      "                              ParameterVectorElement(t[2]): 3.719326083337082e-07,\n",
      "                              ParameterVectorElement(t[3]): 0.0005779544623973714,\n",
      "                              ParameterVectorElement(t[4]): -0.03586644053839793,\n",
      "                              ParameterVectorElement(t[5]): -5.003052942855732e-09,\n",
      "                              ParameterVectorElement(t[6]): -3.0709309105643194e-06,\n",
      "                              ParameterVectorElement(t[7]): -0.0031079745644372924,\n",
      "                              ParameterVectorElement(t[8]): -0.00021812982619301782,\n",
      "                              ParameterVectorElement(t[9]): 7.321201714718077e-07,\n",
      "                              ParameterVectorElement(t[10]): -1.946923409683999e-07,\n",
      "                              ParameterVectorElement(t[11]): 0.0005775273384385499,\n",
      "                              ParameterVectorElement(t[12]): -0.035859642702675665,\n",
      "                              ParameterVectorElement(t[13]): -2.1792200543112164e-06,\n",
      "                              ParameterVectorElement(t[14]): 3.6022921496305565e-07,\n",
      "                              ParameterVectorElement(t[15]): -0.0031184852764357756,\n",
      "                              ParameterVectorElement(t[16]): 6.684006509889663e-07,\n",
      "                              ParameterVectorElement(t[17]): 1.8196737118506487e-08,\n",
      "                              ParameterVectorElement(t[18]): 0.0008744097947050794,\n",
      "                              ParameterVectorElement(t[19]): -0.0037949995202530007,\n",
      "                              ParameterVectorElement(t[20]): -6.376783659820758e-08,\n",
      "                              ParameterVectorElement(t[21]): 1.1682603370540711e-07,\n",
      "                              ParameterVectorElement(t[22]): 1.2233377480957038e-05,\n",
      "                              ParameterVectorElement(t[23]): -0.00021883749197509875,\n",
      "                              ParameterVectorElement(t[24]): 5.7458662944959065e-08,\n",
      "                              ParameterVectorElement(t[25]): 1.7891344493732338e-07,\n",
      "                              ParameterVectorElement(t[26]): 8.356429554508247e-05,\n",
      "                              ParameterVectorElement(t[27]): 6.213587499045417e-07,\n",
      "                              ParameterVectorElement(t[28]): 5.217463999732366e-08,\n",
      "                              ParameterVectorElement(t[29]): 8.088318522351837e-07,\n",
      "                              ParameterVectorElement(t[30]): -0.0018187581138462774,\n",
      "                              ParameterVectorElement(t[31]): -3.4224880273203275e-07,\n",
      "                              ParameterVectorElement(t[32]): 8.921841480774578e-07,\n",
      "                              ParameterVectorElement(t[33]): -3.933646167409985e-07,\n",
      "                              ParameterVectorElement(t[34]): -0.003067144413399413,\n",
      "                              ParameterVectorElement(t[35]): -2.0068582451747696e-07,\n",
      "                              ParameterVectorElement(t[36]): -4.822367853061094e-07,\n",
      "                              ParameterVectorElement(t[37]): -2.3696843235884028e-07,\n",
      "                              ParameterVectorElement(t[38]): 1.187823928245207e-06,\n",
      "                              ParameterVectorElement(t[39]): 8.411387898475468e-07,\n",
      "                              ParameterVectorElement(t[40]): -0.0018179526154449488,\n",
      "                              ParameterVectorElement(t[41]): 8.976684502720916e-07,\n",
      "                              ParameterVectorElement(t[42]): 3.0190717022815646e-07,\n",
      "                              ParameterVectorElement(t[43]): -1.2849210454747066e-07,\n",
      "                              ParameterVectorElement(t[44]): -0.0030665614719523862,\n",
      "                              ParameterVectorElement(t[45]): -4.587081590836425e-07,\n",
      "                              ParameterVectorElement(t[46]): 6.847937616349989e-06,\n",
      "                              ParameterVectorElement(t[47]): 1.17044775598921e-06,\n",
      "                              ParameterVectorElement(t[48]): -9.965978884938993e-09,\n",
      "                              ParameterVectorElement(t[49]): -0.0008632503850757004,\n",
      "                              ParameterVectorElement(t[50]): -0.0007899156651541645,\n",
      "                              ParameterVectorElement(t[51]): 1.246467394613643e-07,\n",
      "                              ParameterVectorElement(t[52]): 7.969882446617393e-08,\n",
      "                              ParameterVectorElement(t[53]): -0.00039674879730510935,\n",
      "                              ParameterVectorElement(t[54]): -0.00021956220563144917,\n",
      "                              ParameterVectorElement(t[55]): -1.1500821689239062e-07,\n",
      "                              ParameterVectorElement(t[56]): -1.1319573082684508e-07,\n",
      "                              ParameterVectorElement(t[57]): -0.0007890595303120674,\n",
      "                              ParameterVectorElement(t[58]): -0.03209158948272457},\n",
      "    'optimal_point': array([-2.19790315e-04,  8.91230918e-08,  3.71932608e-07,  5.77954462e-04,\n",
      "       -3.58664405e-02, -5.00305294e-09, -3.07093091e-06, -3.10797456e-03,\n",
      "       -2.18129826e-04,  7.32120171e-07, -1.94692341e-07,  5.77527338e-04,\n",
      "       -3.58596427e-02, -2.17922005e-06,  3.60229215e-07, -3.11848528e-03,\n",
      "        6.68400651e-07,  1.81967371e-08,  8.74409795e-04, -3.79499952e-03,\n",
      "       -6.37678366e-08,  1.16826034e-07,  1.22333775e-05, -2.18837492e-04,\n",
      "        5.74586629e-08,  1.78913445e-07,  8.35642955e-05,  6.21358750e-07,\n",
      "        5.21746400e-08,  8.08831852e-07, -1.81875811e-03, -3.42248803e-07,\n",
      "        8.92184148e-07, -3.93364617e-07, -3.06714441e-03, -2.00685825e-07,\n",
      "       -4.82236785e-07, -2.36968432e-07,  1.18782393e-06,  8.41138790e-07,\n",
      "       -1.81795262e-03,  8.97668450e-07,  3.01907170e-07, -1.28492105e-07,\n",
      "       -3.06656147e-03, -4.58708159e-07,  6.84793762e-06,  1.17044776e-06,\n",
      "       -9.96597888e-09, -8.63250385e-04, -7.89915665e-04,  1.24646739e-07,\n",
      "        7.96988245e-08, -3.96748797e-04, -2.19562206e-04, -1.15008217e-07,\n",
      "       -1.13195731e-07, -7.89059530e-04, -3.20915895e-02, -4.79800842e-07,\n",
      "       -3.56505423e-07,  5.47009970e-02,  6.92379233e-08, -3.07418700e-03,\n",
      "        6.31130307e-08, -4.19713971e-07,  6.13428129e-07, -2.80640408e-02,\n",
      "        1.76130644e-08, -3.63701271e-07,  1.58862363e-07,  1.67815400e-07,\n",
      "       -3.07612093e-03,  4.01730337e-07, -3.20941544e-07,  3.59487093e-07,\n",
      "       -2.80752243e-02,  2.55036115e-07,  8.43091253e-05, -7.94828239e-08,\n",
      "       -6.49849985e-08, -3.94186104e-04,  5.48237242e-02,  5.98052285e-07,\n",
      "       -5.96048918e-07, -1.07943996e-01,  3.33548768e-08,  1.87090487e-08,\n",
      "        8.85726685e-04,  3.36991510e-07,  6.53060813e-08, -4.53935740e-09]),\n",
      "    'optimal_value': -8.940707101219802,\n",
      "    'optimizer_evals': None,\n",
      "    'optimizer_result': <qiskit_algorithms.optimizers.optimizer.OptimizerResult object at 0x7fc2caac77f0>,\n",
      "    'optimizer_time': 3342.857023000717}\n"
     ]
    }
   ],
   "source": [
    "print(result_vqe.raw_result)"
   ]
  },
  {
   "cell_type": "code",
   "execution_count": 26,
   "id": "94d6a336-ac93-40c7-a1e5-3c4771feaacc",
   "metadata": {},
   "outputs": [
    {
     "ename": "KeyboardInterrupt",
     "evalue": "",
     "output_type": "error",
     "traceback": [
      "\u001b[0;31m---------------------------------------------------------------------------\u001b[0m",
      "\u001b[0;31mKeyboardInterrupt\u001b[0m                         Traceback (most recent call last)",
      "Cell \u001b[0;32mIn[26], line 1\u001b[0m\n\u001b[0;32m----> 1\u001b[0m \u001b[43mresult_vqe\u001b[49m\u001b[38;5;241;43m.\u001b[39;49m\u001b[43mraw_result\u001b[49m\u001b[38;5;241;43m.\u001b[39;49m\u001b[43moptimal_circuit\u001b[49m\u001b[38;5;241;43m.\u001b[39;49m\u001b[43mdecompose\u001b[49m\u001b[43m(\u001b[49m\u001b[43m)\u001b[49m\u001b[38;5;241;43m.\u001b[39;49m\u001b[43mdecompose\u001b[49m\u001b[43m(\u001b[49m\u001b[43m)\u001b[49m\u001b[38;5;241;43m.\u001b[39;49m\u001b[43mdecompose\u001b[49m\u001b[43m(\u001b[49m\u001b[43m)\u001b[49m\u001b[38;5;241;43m.\u001b[39;49m\u001b[43mdraw\u001b[49m\u001b[43m(\u001b[49m\u001b[38;5;124;43m'\u001b[39;49m\u001b[38;5;124;43mmpl\u001b[39;49m\u001b[38;5;124;43m'\u001b[39;49m\u001b[43m)\u001b[49m\n",
      "File \u001b[0;32m~/.local/lib/python3.10/site-packages/qiskit/circuit/quantumcircuit.py:3263\u001b[0m, in \u001b[0;36mQuantumCircuit.draw\u001b[0;34m(self, output, scale, filename, style, interactive, plot_barriers, reverse_bits, justify, vertical_compression, idle_wires, with_layout, fold, ax, initial_state, cregbundle, wire_order, expr_len)\u001b[0m\n\u001b[1;32m   3260\u001b[0m \u001b[38;5;66;03m# pylint: disable=cyclic-import\u001b[39;00m\n\u001b[1;32m   3261\u001b[0m \u001b[38;5;28;01mfrom\u001b[39;00m \u001b[38;5;21;01mqiskit\u001b[39;00m\u001b[38;5;21;01m.\u001b[39;00m\u001b[38;5;21;01mvisualization\u001b[39;00m \u001b[38;5;28;01mimport\u001b[39;00m circuit_drawer\n\u001b[0;32m-> 3263\u001b[0m \u001b[38;5;28;01mreturn\u001b[39;00m \u001b[43mcircuit_drawer\u001b[49m\u001b[43m(\u001b[49m\n\u001b[1;32m   3264\u001b[0m \u001b[43m    \u001b[49m\u001b[38;5;28;43mself\u001b[39;49m\u001b[43m,\u001b[49m\n\u001b[1;32m   3265\u001b[0m \u001b[43m    \u001b[49m\u001b[43mscale\u001b[49m\u001b[38;5;241;43m=\u001b[39;49m\u001b[43mscale\u001b[49m\u001b[43m,\u001b[49m\n\u001b[1;32m   3266\u001b[0m \u001b[43m    \u001b[49m\u001b[43mfilename\u001b[49m\u001b[38;5;241;43m=\u001b[39;49m\u001b[43mfilename\u001b[49m\u001b[43m,\u001b[49m\n\u001b[1;32m   3267\u001b[0m \u001b[43m    \u001b[49m\u001b[43mstyle\u001b[49m\u001b[38;5;241;43m=\u001b[39;49m\u001b[43mstyle\u001b[49m\u001b[43m,\u001b[49m\n\u001b[1;32m   3268\u001b[0m \u001b[43m    \u001b[49m\u001b[43moutput\u001b[49m\u001b[38;5;241;43m=\u001b[39;49m\u001b[43moutput\u001b[49m\u001b[43m,\u001b[49m\n\u001b[1;32m   3269\u001b[0m \u001b[43m    \u001b[49m\u001b[43minteractive\u001b[49m\u001b[38;5;241;43m=\u001b[39;49m\u001b[43minteractive\u001b[49m\u001b[43m,\u001b[49m\n\u001b[1;32m   3270\u001b[0m \u001b[43m    \u001b[49m\u001b[43mplot_barriers\u001b[49m\u001b[38;5;241;43m=\u001b[39;49m\u001b[43mplot_barriers\u001b[49m\u001b[43m,\u001b[49m\n\u001b[1;32m   3271\u001b[0m \u001b[43m    \u001b[49m\u001b[43mreverse_bits\u001b[49m\u001b[38;5;241;43m=\u001b[39;49m\u001b[43mreverse_bits\u001b[49m\u001b[43m,\u001b[49m\n\u001b[1;32m   3272\u001b[0m \u001b[43m    \u001b[49m\u001b[43mjustify\u001b[49m\u001b[38;5;241;43m=\u001b[39;49m\u001b[43mjustify\u001b[49m\u001b[43m,\u001b[49m\n\u001b[1;32m   3273\u001b[0m \u001b[43m    \u001b[49m\u001b[43mvertical_compression\u001b[49m\u001b[38;5;241;43m=\u001b[39;49m\u001b[43mvertical_compression\u001b[49m\u001b[43m,\u001b[49m\n\u001b[1;32m   3274\u001b[0m \u001b[43m    \u001b[49m\u001b[43midle_wires\u001b[49m\u001b[38;5;241;43m=\u001b[39;49m\u001b[43midle_wires\u001b[49m\u001b[43m,\u001b[49m\n\u001b[1;32m   3275\u001b[0m \u001b[43m    \u001b[49m\u001b[43mwith_layout\u001b[49m\u001b[38;5;241;43m=\u001b[39;49m\u001b[43mwith_layout\u001b[49m\u001b[43m,\u001b[49m\n\u001b[1;32m   3276\u001b[0m \u001b[43m    \u001b[49m\u001b[43mfold\u001b[49m\u001b[38;5;241;43m=\u001b[39;49m\u001b[43mfold\u001b[49m\u001b[43m,\u001b[49m\n\u001b[1;32m   3277\u001b[0m \u001b[43m    \u001b[49m\u001b[43max\u001b[49m\u001b[38;5;241;43m=\u001b[39;49m\u001b[43max\u001b[49m\u001b[43m,\u001b[49m\n\u001b[1;32m   3278\u001b[0m \u001b[43m    \u001b[49m\u001b[43minitial_state\u001b[49m\u001b[38;5;241;43m=\u001b[39;49m\u001b[43minitial_state\u001b[49m\u001b[43m,\u001b[49m\n\u001b[1;32m   3279\u001b[0m \u001b[43m    \u001b[49m\u001b[43mcregbundle\u001b[49m\u001b[38;5;241;43m=\u001b[39;49m\u001b[43mcregbundle\u001b[49m\u001b[43m,\u001b[49m\n\u001b[1;32m   3280\u001b[0m \u001b[43m    \u001b[49m\u001b[43mwire_order\u001b[49m\u001b[38;5;241;43m=\u001b[39;49m\u001b[43mwire_order\u001b[49m\u001b[43m,\u001b[49m\n\u001b[1;32m   3281\u001b[0m \u001b[43m    \u001b[49m\u001b[43mexpr_len\u001b[49m\u001b[38;5;241;43m=\u001b[39;49m\u001b[43mexpr_len\u001b[49m\u001b[43m,\u001b[49m\n\u001b[1;32m   3282\u001b[0m \u001b[43m\u001b[49m\u001b[43m)\u001b[49m\n",
      "File \u001b[0;32m~/.local/lib/python3.10/site-packages/qiskit/visualization/circuit/circuit_visualization.py:323\u001b[0m, in \u001b[0;36mcircuit_drawer\u001b[0;34m(circuit, scale, filename, style, output, interactive, plot_barriers, reverse_bits, justify, vertical_compression, idle_wires, with_layout, fold, ax, initial_state, cregbundle, wire_order, expr_len)\u001b[0m\n\u001b[1;32m    308\u001b[0m     \u001b[38;5;28;01mreturn\u001b[39;00m _generate_latex_source(\n\u001b[1;32m    309\u001b[0m         circuit,\n\u001b[1;32m    310\u001b[0m         filename\u001b[38;5;241m=\u001b[39mfilename,\n\u001b[0;32m   (...)\u001b[0m\n\u001b[1;32m    320\u001b[0m         wire_order\u001b[38;5;241m=\u001b[39mcomplete_wire_order,\n\u001b[1;32m    321\u001b[0m     )\n\u001b[1;32m    322\u001b[0m \u001b[38;5;28;01melif\u001b[39;00m output \u001b[38;5;241m==\u001b[39m \u001b[38;5;124m\"\u001b[39m\u001b[38;5;124mmpl\u001b[39m\u001b[38;5;124m\"\u001b[39m:\n\u001b[0;32m--> 323\u001b[0m     image \u001b[38;5;241m=\u001b[39m \u001b[43m_matplotlib_circuit_drawer\u001b[49m\u001b[43m(\u001b[49m\n\u001b[1;32m    324\u001b[0m \u001b[43m        \u001b[49m\u001b[43mcircuit\u001b[49m\u001b[43m,\u001b[49m\n\u001b[1;32m    325\u001b[0m \u001b[43m        \u001b[49m\u001b[43mscale\u001b[49m\u001b[38;5;241;43m=\u001b[39;49m\u001b[43mscale\u001b[49m\u001b[43m,\u001b[49m\n\u001b[1;32m    326\u001b[0m \u001b[43m        \u001b[49m\u001b[43mfilename\u001b[49m\u001b[38;5;241;43m=\u001b[39;49m\u001b[43mfilename\u001b[49m\u001b[43m,\u001b[49m\n\u001b[1;32m    327\u001b[0m \u001b[43m        \u001b[49m\u001b[43mstyle\u001b[49m\u001b[38;5;241;43m=\u001b[39;49m\u001b[43mstyle\u001b[49m\u001b[43m,\u001b[49m\n\u001b[1;32m    328\u001b[0m \u001b[43m        \u001b[49m\u001b[43mplot_barriers\u001b[49m\u001b[38;5;241;43m=\u001b[39;49m\u001b[43mplot_barriers\u001b[49m\u001b[43m,\u001b[49m\n\u001b[1;32m    329\u001b[0m \u001b[43m        \u001b[49m\u001b[43mreverse_bits\u001b[49m\u001b[38;5;241;43m=\u001b[39;49m\u001b[43mreverse_bits\u001b[49m\u001b[43m,\u001b[49m\n\u001b[1;32m    330\u001b[0m \u001b[43m        \u001b[49m\u001b[43mjustify\u001b[49m\u001b[38;5;241;43m=\u001b[39;49m\u001b[43mjustify\u001b[49m\u001b[43m,\u001b[49m\n\u001b[1;32m    331\u001b[0m \u001b[43m        \u001b[49m\u001b[43midle_wires\u001b[49m\u001b[38;5;241;43m=\u001b[39;49m\u001b[43midle_wires\u001b[49m\u001b[43m,\u001b[49m\n\u001b[1;32m    332\u001b[0m \u001b[43m        \u001b[49m\u001b[43mwith_layout\u001b[49m\u001b[38;5;241;43m=\u001b[39;49m\u001b[43mwith_layout\u001b[49m\u001b[43m,\u001b[49m\n\u001b[1;32m    333\u001b[0m \u001b[43m        \u001b[49m\u001b[43mfold\u001b[49m\u001b[38;5;241;43m=\u001b[39;49m\u001b[43mfold\u001b[49m\u001b[43m,\u001b[49m\n\u001b[1;32m    334\u001b[0m \u001b[43m        \u001b[49m\u001b[43max\u001b[49m\u001b[38;5;241;43m=\u001b[39;49m\u001b[43max\u001b[49m\u001b[43m,\u001b[49m\n\u001b[1;32m    335\u001b[0m \u001b[43m        \u001b[49m\u001b[43minitial_state\u001b[49m\u001b[38;5;241;43m=\u001b[39;49m\u001b[43minitial_state\u001b[49m\u001b[43m,\u001b[49m\n\u001b[1;32m    336\u001b[0m \u001b[43m        \u001b[49m\u001b[43mcregbundle\u001b[49m\u001b[38;5;241;43m=\u001b[39;49m\u001b[43mcregbundle\u001b[49m\u001b[43m,\u001b[49m\n\u001b[1;32m    337\u001b[0m \u001b[43m        \u001b[49m\u001b[43mwire_order\u001b[49m\u001b[38;5;241;43m=\u001b[39;49m\u001b[43mcomplete_wire_order\u001b[49m\u001b[43m,\u001b[49m\n\u001b[1;32m    338\u001b[0m \u001b[43m        \u001b[49m\u001b[43mexpr_len\u001b[49m\u001b[38;5;241;43m=\u001b[39;49m\u001b[43mexpr_len\u001b[49m\u001b[43m,\u001b[49m\n\u001b[1;32m    339\u001b[0m \u001b[43m    \u001b[49m\u001b[43m)\u001b[49m\n\u001b[1;32m    340\u001b[0m \u001b[38;5;28;01melse\u001b[39;00m:\n\u001b[1;32m    341\u001b[0m     \u001b[38;5;28;01mraise\u001b[39;00m VisualizationError(\n\u001b[1;32m    342\u001b[0m         \u001b[38;5;124m\"\u001b[39m\u001b[38;5;124mInvalid output type \u001b[39m\u001b[38;5;132;01m%s\u001b[39;00m\u001b[38;5;124m selected. The only valid choices \u001b[39m\u001b[38;5;124m\"\u001b[39m\n\u001b[1;32m    343\u001b[0m         \u001b[38;5;124m\"\u001b[39m\u001b[38;5;124mare text, latex, latex_source, and mpl\u001b[39m\u001b[38;5;124m\"\u001b[39m \u001b[38;5;241m%\u001b[39m output\n\u001b[1;32m    344\u001b[0m     )\n",
      "File \u001b[0;32m~/.local/lib/python3.10/site-packages/qiskit/visualization/circuit/circuit_visualization.py:719\u001b[0m, in \u001b[0;36m_matplotlib_circuit_drawer\u001b[0;34m(circuit, scale, filename, style, plot_barriers, reverse_bits, justify, idle_wires, with_layout, fold, ax, initial_state, cregbundle, wire_order, expr_len)\u001b[0m\n\u001b[1;32m    701\u001b[0m     fold \u001b[38;5;241m=\u001b[39m \u001b[38;5;241m25\u001b[39m\n\u001b[1;32m    703\u001b[0m qcd \u001b[38;5;241m=\u001b[39m _matplotlib\u001b[38;5;241m.\u001b[39mMatplotlibDrawer(\n\u001b[1;32m    704\u001b[0m     qubits,\n\u001b[1;32m    705\u001b[0m     clbits,\n\u001b[0;32m   (...)\u001b[0m\n\u001b[1;32m    717\u001b[0m     expr_len\u001b[38;5;241m=\u001b[39mexpr_len,\n\u001b[1;32m    718\u001b[0m )\n\u001b[0;32m--> 719\u001b[0m \u001b[38;5;28;01mreturn\u001b[39;00m \u001b[43mqcd\u001b[49m\u001b[38;5;241;43m.\u001b[39;49m\u001b[43mdraw\u001b[49m\u001b[43m(\u001b[49m\u001b[43mfilename\u001b[49m\u001b[43m)\u001b[49m\n",
      "File \u001b[0;32m~/.local/lib/python3.10/site-packages/qiskit/visualization/circuit/matplotlib.py:306\u001b[0m, in \u001b[0;36mMatplotlibDrawer.draw\u001b[0;34m(self, filename, verbose)\u001b[0m\n\u001b[1;32m    303\u001b[0m \u001b[38;5;28mself\u001b[39m\u001b[38;5;241m.\u001b[39m_set_bit_reg_info(wire_map, qubits_dict, clbits_dict, glob_data)\n\u001b[1;32m    305\u001b[0m \u001b[38;5;66;03m# get layer widths - flow gates are initialized here\u001b[39;00m\n\u001b[0;32m--> 306\u001b[0m layer_widths \u001b[38;5;241m=\u001b[39m \u001b[38;5;28;43mself\u001b[39;49m\u001b[38;5;241;43m.\u001b[39;49m\u001b[43m_get_layer_widths\u001b[49m\u001b[43m(\u001b[49m\u001b[43mnode_data\u001b[49m\u001b[43m,\u001b[49m\u001b[43m \u001b[49m\u001b[43mwire_map\u001b[49m\u001b[43m,\u001b[49m\u001b[43m \u001b[49m\u001b[38;5;28;43mself\u001b[39;49m\u001b[38;5;241;43m.\u001b[39;49m\u001b[43m_circuit\u001b[49m\u001b[43m,\u001b[49m\u001b[43m \u001b[49m\u001b[43mglob_data\u001b[49m\u001b[43m)\u001b[49m\n\u001b[1;32m    308\u001b[0m \u001b[38;5;66;03m# load the coordinates for each top level gate and compute number of folds.\u001b[39;00m\n\u001b[1;32m    309\u001b[0m \u001b[38;5;66;03m# coordinates for flow gates are loaded before draw_ops\u001b[39;00m\n\u001b[1;32m    310\u001b[0m max_x_index \u001b[38;5;241m=\u001b[39m \u001b[38;5;28mself\u001b[39m\u001b[38;5;241m.\u001b[39m_get_coords(\n\u001b[1;32m    311\u001b[0m     node_data, wire_map, \u001b[38;5;28mself\u001b[39m\u001b[38;5;241m.\u001b[39m_circuit, layer_widths, qubits_dict, clbits_dict, glob_data\n\u001b[1;32m    312\u001b[0m )\n",
      "File \u001b[0;32m~/.local/lib/python3.10/site-packages/qiskit/visualization/circuit/matplotlib.py:627\u001b[0m, in \u001b[0;36mMatplotlibDrawer._get_layer_widths\u001b[0;34m(self, node_data, wire_map, outer_circuit, glob_data)\u001b[0m\n\u001b[1;32m    623\u001b[0m             node_data[node]\u001b[38;5;241m.\u001b[39mwidth\u001b[38;5;241m.\u001b[39mappend(raw_gate_width)\n\u001b[1;32m    625\u001b[0m \u001b[38;5;66;03m# Otherwise, standard gate or multiqubit gate\u001b[39;00m\n\u001b[1;32m    626\u001b[0m \u001b[38;5;28;01melse\u001b[39;00m:\n\u001b[0;32m--> 627\u001b[0m     raw_gate_width \u001b[38;5;241m=\u001b[39m \u001b[38;5;28;43mself\u001b[39;49m\u001b[38;5;241;43m.\u001b[39;49m\u001b[43m_get_text_width\u001b[49m\u001b[43m(\u001b[49m\n\u001b[1;32m    628\u001b[0m \u001b[43m        \u001b[49m\u001b[43mgate_text\u001b[49m\u001b[43m,\u001b[49m\u001b[43m \u001b[49m\u001b[43mglob_data\u001b[49m\u001b[43m,\u001b[49m\u001b[43m \u001b[49m\u001b[43mfontsize\u001b[49m\u001b[38;5;241;43m=\u001b[39;49m\u001b[38;5;28;43mself\u001b[39;49m\u001b[38;5;241;43m.\u001b[39;49m\u001b[43m_style\u001b[49m\u001b[43m[\u001b[49m\u001b[38;5;124;43m\"\u001b[39;49m\u001b[38;5;124;43mfs\u001b[39;49m\u001b[38;5;124;43m\"\u001b[39;49m\u001b[43m]\u001b[49m\n\u001b[1;32m    629\u001b[0m \u001b[43m    \u001b[49m\u001b[43m)\u001b[49m\n\u001b[1;32m    630\u001b[0m     gate_width \u001b[38;5;241m=\u001b[39m raw_gate_width \u001b[38;5;241m+\u001b[39m \u001b[38;5;241m0.10\u001b[39m\n\u001b[1;32m    631\u001b[0m     \u001b[38;5;66;03m# add .21 for the qubit numbers on the left of the multibit gates\u001b[39;00m\n",
      "File \u001b[0;32m~/.local/lib/python3.10/site-packages/qiskit/visualization/circuit/matplotlib.py:839\u001b[0m, in \u001b[0;36mMatplotlibDrawer._get_text_width\u001b[0;34m(self, text, glob_data, fontsize, param, reg_remove_under)\u001b[0m\n\u001b[1;32m    837\u001b[0m     num_underscores \u001b[38;5;241m=\u001b[39m math_mode_text\u001b[38;5;241m.\u001b[39mcount(\u001b[38;5;124m\"\u001b[39m\u001b[38;5;124m_\u001b[39m\u001b[38;5;124m\"\u001b[39m)\n\u001b[1;32m    838\u001b[0m     num_carets \u001b[38;5;241m=\u001b[39m math_mode_text\u001b[38;5;241m.\u001b[39mcount(\u001b[38;5;124m\"\u001b[39m\u001b[38;5;124m^\u001b[39m\u001b[38;5;124m\"\u001b[39m)\n\u001b[0;32m--> 839\u001b[0m text \u001b[38;5;241m=\u001b[39m \u001b[43mLatexNodes2Text\u001b[49m\u001b[43m(\u001b[49m\u001b[43m)\u001b[49m\u001b[38;5;241;43m.\u001b[39;49m\u001b[43mlatex_to_text\u001b[49m\u001b[43m(\u001b[49m\u001b[43mtext\u001b[49m\u001b[38;5;241;43m.\u001b[39;49m\u001b[43mreplace\u001b[49m\u001b[43m(\u001b[49m\u001b[38;5;124;43m\"\u001b[39;49m\u001b[38;5;124;43m$$\u001b[39;49m\u001b[38;5;124;43m\"\u001b[39;49m\u001b[43m,\u001b[49m\u001b[43m \u001b[49m\u001b[38;5;124;43m\"\u001b[39;49m\u001b[38;5;124;43m\"\u001b[39;49m\u001b[43m)\u001b[49m\u001b[43m)\u001b[49m\n\u001b[1;32m    841\u001b[0m \u001b[38;5;66;03m# If there are subscripts or superscripts in mathtext string\u001b[39;00m\n\u001b[1;32m    842\u001b[0m \u001b[38;5;66;03m# we need to account for that spacing by manually removing\u001b[39;00m\n\u001b[1;32m    843\u001b[0m \u001b[38;5;66;03m# from text string for text length\u001b[39;00m\n\u001b[1;32m    844\u001b[0m \n\u001b[1;32m    845\u001b[0m \u001b[38;5;66;03m# if it's a register and there's a subscript at the end,\u001b[39;00m\n\u001b[1;32m    846\u001b[0m \u001b[38;5;66;03m# remove 1 underscore, otherwise don't remove any\u001b[39;00m\n\u001b[1;32m    847\u001b[0m \u001b[38;5;28;01mif\u001b[39;00m reg_remove_under \u001b[38;5;129;01mis\u001b[39;00m \u001b[38;5;129;01mnot\u001b[39;00m \u001b[38;5;28;01mNone\u001b[39;00m:\n",
      "File \u001b[0;32m~/.local/lib/python3.10/site-packages/pylatexenc/latex2text/__init__.py:1022\u001b[0m, in \u001b[0;36mLatexNodes2Text.latex_to_text\u001b[0;34m(self, latex, **parse_flags)\u001b[0m\n\u001b[1;32m   1008\u001b[0m \u001b[38;5;28;01mdef\u001b[39;00m \u001b[38;5;21mlatex_to_text\u001b[39m(\u001b[38;5;28mself\u001b[39m, latex, \u001b[38;5;241m*\u001b[39m\u001b[38;5;241m*\u001b[39mparse_flags):\n\u001b[1;32m   1009\u001b[0m \u001b[38;5;250m    \u001b[39m\u001b[38;5;124;03m\"\"\"\u001b[39;00m\n\u001b[1;32m   1010\u001b[0m \u001b[38;5;124;03m    Parses the given `latex` code and returns its textual representation.\u001b[39;00m\n\u001b[1;32m   1011\u001b[0m \n\u001b[0;32m   (...)\u001b[0m\n\u001b[1;32m   1019\u001b[0m \u001b[38;5;124;03m    :py:class:`pylatexenc.latexwalker.LatexWalker` constructor.\u001b[39;00m\n\u001b[1;32m   1020\u001b[0m \u001b[38;5;124;03m    \"\"\"\u001b[39;00m\n\u001b[1;32m   1021\u001b[0m     \u001b[38;5;28;01mreturn\u001b[39;00m \u001b[38;5;28mself\u001b[39m\u001b[38;5;241m.\u001b[39mnodelist_to_text(\n\u001b[0;32m-> 1022\u001b[0m         \u001b[43mlatexwalker\u001b[49m\u001b[38;5;241;43m.\u001b[39;49m\u001b[43mLatexWalker\u001b[49m\u001b[43m(\u001b[49m\u001b[43mlatex\u001b[49m\u001b[43m,\u001b[49m\u001b[43m \u001b[49m\u001b[38;5;241;43m*\u001b[39;49m\u001b[38;5;241;43m*\u001b[39;49m\u001b[43mparse_flags\u001b[49m\u001b[43m)\u001b[49m\u001b[38;5;241;43m.\u001b[39;49m\u001b[43mget_latex_nodes\u001b[49m\u001b[43m(\u001b[49m\u001b[43m)\u001b[49m[\u001b[38;5;241m0\u001b[39m]\n\u001b[1;32m   1023\u001b[0m     )\n",
      "File \u001b[0;32m~/.local/lib/python3.10/site-packages/pylatexenc/latexwalker/__init__.py:2376\u001b[0m, in \u001b[0;36mLatexWalker.get_latex_nodes\u001b[0;34m(self, pos, stop_upon_closing_brace, stop_upon_end_environment, stop_upon_closing_mathmode, read_max_nodes, parsing_state)\u001b[0m\n\u001b[1;32m   2373\u001b[0m \u001b[38;5;28;01mwhile\u001b[39;00m \u001b[38;5;28;01mTrue\u001b[39;00m:\n\u001b[1;32m   2374\u001b[0m     \u001b[38;5;28;01mtry\u001b[39;00m:\n\u001b[1;32m   2375\u001b[0m         \u001b[38;5;66;03m# might return boolean or Exception object\u001b[39;00m\n\u001b[0;32m-> 2376\u001b[0m         r_endnow \u001b[38;5;241m=\u001b[39m \u001b[43mdo_read\u001b[49m\u001b[43m(\u001b[49m\u001b[43mnodelist\u001b[49m\u001b[43m,\u001b[49m\u001b[43m \u001b[49m\u001b[43mp\u001b[49m\u001b[43m)\u001b[49m\n\u001b[1;32m   2377\u001b[0m     \u001b[38;5;28;01mexcept\u001b[39;00m LatexWalkerEndOfStream \u001b[38;5;28;01mas\u001b[39;00m e:\n\u001b[1;32m   2378\u001b[0m         \u001b[38;5;28;01mif\u001b[39;00m stop_upon_closing_brace \u001b[38;5;129;01mor\u001b[39;00m stop_upon_end_environment \\\n\u001b[1;32m   2379\u001b[0m            \u001b[38;5;129;01mor\u001b[39;00m stop_upon_closing_mathmode:\n\u001b[1;32m   2380\u001b[0m             \u001b[38;5;66;03m# unexpected eof\u001b[39;00m\n",
      "File \u001b[0;32m~/.local/lib/python3.10/site-packages/pylatexenc/latexwalker/__init__.py:2187\u001b[0m, in \u001b[0;36mLatexWalker.get_latex_nodes.<locals>.do_read\u001b[0;34m(nodelist, p)\u001b[0m\n\u001b[1;32m   2181\u001b[0m parsing_state_inner \u001b[38;5;241m=\u001b[39m p\u001b[38;5;241m.\u001b[39mparsing_state\u001b[38;5;241m.\u001b[39msub_context(\n\u001b[1;32m   2182\u001b[0m     in_math_mode\u001b[38;5;241m=\u001b[39m\u001b[38;5;28;01mTrue\u001b[39;00m,\n\u001b[1;32m   2183\u001b[0m     math_mode_delimiter\u001b[38;5;241m=\u001b[39mtok\u001b[38;5;241m.\u001b[39marg\n\u001b[1;32m   2184\u001b[0m )\n\u001b[1;32m   2186\u001b[0m \u001b[38;5;28;01mtry\u001b[39;00m:\n\u001b[0;32m-> 2187\u001b[0m     (mathinline_nodelist, mpos, mlen) \u001b[38;5;241m=\u001b[39m \u001b[38;5;28;43mself\u001b[39;49m\u001b[38;5;241;43m.\u001b[39;49m\u001b[43mget_latex_nodes\u001b[49m\u001b[43m(\u001b[49m\n\u001b[1;32m   2188\u001b[0m \u001b[43m        \u001b[49m\u001b[43mp\u001b[49m\u001b[38;5;241;43m.\u001b[39;49m\u001b[43mpos\u001b[49m\u001b[43m,\u001b[49m\n\u001b[1;32m   2189\u001b[0m \u001b[43m        \u001b[49m\u001b[43mstop_upon_closing_mathmode\u001b[49m\u001b[38;5;241;43m=\u001b[39;49m\u001b[43mcorresponding_closing_mathmode\u001b[49m\u001b[43m,\u001b[49m\n\u001b[1;32m   2190\u001b[0m \u001b[43m        \u001b[49m\u001b[43mparsing_state\u001b[49m\u001b[38;5;241;43m=\u001b[39;49m\u001b[43mparsing_state_inner\u001b[49m\n\u001b[1;32m   2191\u001b[0m \u001b[43m    \u001b[49m\u001b[43m)\u001b[49m\n\u001b[1;32m   2192\u001b[0m \u001b[38;5;28;01mexcept\u001b[39;00m LatexWalkerParseError \u001b[38;5;28;01mas\u001b[39;00m e:\n\u001b[1;32m   2193\u001b[0m     e\u001b[38;5;241m.\u001b[39mopen_contexts\u001b[38;5;241m.\u001b[39mappend( _maketuple(\u001b[38;5;124m'\u001b[39m\u001b[38;5;124mmath mode \u001b[39m\u001b[38;5;124m\"\u001b[39m\u001b[38;5;132;01m{}\u001b[39;00m\u001b[38;5;124m\"\u001b[39m\u001b[38;5;124m'\u001b[39m\u001b[38;5;241m.\u001b[39mformat(tok\u001b[38;5;241m.\u001b[39marg), tok\u001b[38;5;241m.\u001b[39mpos,\n\u001b[1;32m   2194\u001b[0m                                        \u001b[38;5;241m*\u001b[39m\u001b[38;5;28mself\u001b[39m\u001b[38;5;241m.\u001b[39mpos_to_lineno_colno(tok\u001b[38;5;241m.\u001b[39mpos)) )\n",
      "File \u001b[0;32m~/.local/lib/python3.10/site-packages/pylatexenc/latexwalker/__init__.py:2376\u001b[0m, in \u001b[0;36mLatexWalker.get_latex_nodes\u001b[0;34m(self, pos, stop_upon_closing_brace, stop_upon_end_environment, stop_upon_closing_mathmode, read_max_nodes, parsing_state)\u001b[0m\n\u001b[1;32m   2373\u001b[0m \u001b[38;5;28;01mwhile\u001b[39;00m \u001b[38;5;28;01mTrue\u001b[39;00m:\n\u001b[1;32m   2374\u001b[0m     \u001b[38;5;28;01mtry\u001b[39;00m:\n\u001b[1;32m   2375\u001b[0m         \u001b[38;5;66;03m# might return boolean or Exception object\u001b[39;00m\n\u001b[0;32m-> 2376\u001b[0m         r_endnow \u001b[38;5;241m=\u001b[39m \u001b[43mdo_read\u001b[49m\u001b[43m(\u001b[49m\u001b[43mnodelist\u001b[49m\u001b[43m,\u001b[49m\u001b[43m \u001b[49m\u001b[43mp\u001b[49m\u001b[43m)\u001b[49m\n\u001b[1;32m   2377\u001b[0m     \u001b[38;5;28;01mexcept\u001b[39;00m LatexWalkerEndOfStream \u001b[38;5;28;01mas\u001b[39;00m e:\n\u001b[1;32m   2378\u001b[0m         \u001b[38;5;28;01mif\u001b[39;00m stop_upon_closing_brace \u001b[38;5;129;01mor\u001b[39;00m stop_upon_end_environment \\\n\u001b[1;32m   2379\u001b[0m            \u001b[38;5;129;01mor\u001b[39;00m stop_upon_closing_mathmode:\n\u001b[1;32m   2380\u001b[0m             \u001b[38;5;66;03m# unexpected eof\u001b[39;00m\n",
      "File \u001b[0;32m~/.local/lib/python3.10/site-packages/pylatexenc/latexwalker/__init__.py:2272\u001b[0m, in \u001b[0;36mLatexWalker.get_latex_nodes.<locals>.do_read\u001b[0;34m(nodelist, p)\u001b[0m\n\u001b[1;32m   2268\u001b[0m     mspec \u001b[38;5;241m=\u001b[39m macrospec\u001b[38;5;241m.\u001b[39mMacroSpec(\u001b[38;5;124m'\u001b[39m\u001b[38;5;124m'\u001b[39m)\n\u001b[1;32m   2270\u001b[0m \u001b[38;5;28;01mtry\u001b[39;00m:\n\u001b[1;32m   2271\u001b[0m     margsresult \u001b[38;5;241m=\u001b[39m \\\n\u001b[0;32m-> 2272\u001b[0m         \u001b[43mmspec\u001b[49m\u001b[38;5;241;43m.\u001b[39;49m\u001b[43mparse_args\u001b[49m\u001b[43m(\u001b[49m\u001b[43mw\u001b[49m\u001b[38;5;241;43m=\u001b[39;49m\u001b[38;5;28;43mself\u001b[39;49m\u001b[43m,\u001b[49m\u001b[43m \u001b[49m\u001b[43mpos\u001b[49m\u001b[38;5;241;43m=\u001b[39;49m\u001b[43mtok\u001b[49m\u001b[38;5;241;43m.\u001b[39;49m\u001b[43mpos\u001b[49m\u001b[43m \u001b[49m\u001b[38;5;241;43m+\u001b[39;49m\u001b[43m \u001b[49m\u001b[43mtok\u001b[49m\u001b[38;5;241;43m.\u001b[39;49m\u001b[43mlen\u001b[49m\u001b[43m,\u001b[49m\n\u001b[1;32m   2273\u001b[0m \u001b[43m                         \u001b[49m\u001b[43mparsing_state\u001b[49m\u001b[38;5;241;43m=\u001b[39;49m\u001b[43mp\u001b[49m\u001b[38;5;241;43m.\u001b[39;49m\u001b[43mparsing_state\u001b[49m\u001b[43m)\u001b[49m\n\u001b[1;32m   2274\u001b[0m \u001b[38;5;28;01mexcept\u001b[39;00m (LatexWalkerEndOfStream, LatexWalkerParseError) \u001b[38;5;28;01mas\u001b[39;00m e:\n\u001b[1;32m   2275\u001b[0m     e \u001b[38;5;241m=\u001b[39m \u001b[38;5;28mself\u001b[39m\u001b[38;5;241m.\u001b[39m_exchandle_parse_subexpression(\n\u001b[1;32m   2276\u001b[0m         e,\n\u001b[1;32m   2277\u001b[0m         tok,\n\u001b[1;32m   2278\u001b[0m         \u001b[38;5;124m\"\u001b[39m\u001b[38;5;124marguments of macro \u001b[39m\u001b[38;5;130;01m\\\"\u001b[39;00m\u001b[38;5;132;01m{}\u001b[39;00m\u001b[38;5;130;01m\\\"\u001b[39;00m\u001b[38;5;124m\"\u001b[39m\u001b[38;5;241m.\u001b[39mformat(macroname)\n\u001b[1;32m   2279\u001b[0m     )\n",
      "File \u001b[0;32m~/.local/lib/python3.10/site-packages/pylatexenc/macrospec/__init__.py:95\u001b[0m, in \u001b[0;36mMacroSpec.parse_args\u001b[0;34m(self, *args, **kwargs)\u001b[0m\n\u001b[1;32m     90\u001b[0m \u001b[38;5;28;01mdef\u001b[39;00m \u001b[38;5;21mparse_args\u001b[39m(\u001b[38;5;28mself\u001b[39m, \u001b[38;5;241m*\u001b[39margs, \u001b[38;5;241m*\u001b[39m\u001b[38;5;241m*\u001b[39mkwargs):\n\u001b[1;32m     91\u001b[0m \u001b[38;5;250m    \u001b[39m\u001b[38;5;124mr\u001b[39m\u001b[38;5;124;03m\"\"\"\u001b[39;00m\n\u001b[1;32m     92\u001b[0m \u001b[38;5;124;03m    Shorthand for calling the :py:attr:`args_parser`\\ 's `parse_args()` method.\u001b[39;00m\n\u001b[1;32m     93\u001b[0m \u001b[38;5;124;03m    See :py:class:`MacroStandardArgsParser`.\u001b[39;00m\n\u001b[1;32m     94\u001b[0m \u001b[38;5;124;03m    \"\"\"\u001b[39;00m\n\u001b[0;32m---> 95\u001b[0m     \u001b[38;5;28;01mreturn\u001b[39;00m \u001b[38;5;28;43mself\u001b[39;49m\u001b[38;5;241;43m.\u001b[39;49m\u001b[43margs_parser\u001b[49m\u001b[38;5;241;43m.\u001b[39;49m\u001b[43mparse_args\u001b[49m\u001b[43m(\u001b[49m\u001b[38;5;241;43m*\u001b[39;49m\u001b[43margs\u001b[49m\u001b[43m,\u001b[49m\u001b[43m \u001b[49m\u001b[38;5;241;43m*\u001b[39;49m\u001b[38;5;241;43m*\u001b[39;49m\u001b[43mkwargs\u001b[49m\u001b[43m)\u001b[49m\n",
      "File \u001b[0;32m~/.local/lib/python3.10/site-packages/pylatexenc/macrospec/_argparsers.py:293\u001b[0m, in \u001b[0;36mMacroStandardArgsParser.parse_args\u001b[0;34m(self, w, pos, parsing_state)\u001b[0m\n\u001b[1;32m    291\u001b[0m \u001b[38;5;28;01mfor\u001b[39;00m j, argt \u001b[38;5;129;01min\u001b[39;00m \u001b[38;5;28menumerate\u001b[39m(\u001b[38;5;28mself\u001b[39m\u001b[38;5;241m.\u001b[39margspec):\n\u001b[1;32m    292\u001b[0m     \u001b[38;5;28;01mif\u001b[39;00m argt \u001b[38;5;241m==\u001b[39m \u001b[38;5;124m'\u001b[39m\u001b[38;5;124m{\u001b[39m\u001b[38;5;124m'\u001b[39m:\n\u001b[0;32m--> 293\u001b[0m         (node, np, nl) \u001b[38;5;241m=\u001b[39m \u001b[43mw\u001b[49m\u001b[38;5;241;43m.\u001b[39;49m\u001b[43mget_latex_expression\u001b[49m\u001b[43m(\u001b[49m\n\u001b[1;32m    294\u001b[0m \u001b[43m            \u001b[49m\u001b[43mp\u001b[49m\u001b[43m,\u001b[49m\n\u001b[1;32m    295\u001b[0m \u001b[43m            \u001b[49m\u001b[43mstrict_braces\u001b[49m\u001b[38;5;241;43m=\u001b[39;49m\u001b[38;5;28;43;01mFalse\u001b[39;49;00m\u001b[43m,\u001b[49m\n\u001b[1;32m    296\u001b[0m \u001b[43m            \u001b[49m\u001b[43mparsing_state\u001b[49m\u001b[38;5;241;43m=\u001b[39;49m\u001b[43mget_inner_parsing_state\u001b[49m\u001b[43m(\u001b[49m\u001b[43mj\u001b[49m\u001b[43m)\u001b[49m\n\u001b[1;32m    297\u001b[0m \u001b[43m        \u001b[49m\u001b[43m)\u001b[49m\n\u001b[1;32m    298\u001b[0m         p \u001b[38;5;241m=\u001b[39m np \u001b[38;5;241m+\u001b[39m nl\n\u001b[1;32m    299\u001b[0m         argnlist\u001b[38;5;241m.\u001b[39mappend(node)\n",
      "File \u001b[0;32m~/.local/lib/python3.10/site-packages/pylatexenc/latexwalker/__init__.py:1596\u001b[0m, in \u001b[0;36mLatexWalker.get_latex_expression\u001b[0;34m(self, pos, strict_braces, parsing_state)\u001b[0m\n\u001b[1;32m   1594\u001b[0m     \u001b[38;5;28;01mreturn\u001b[39;00m \u001b[38;5;28mself\u001b[39m\u001b[38;5;241m.\u001b[39mget_latex_expression(tok\u001b[38;5;241m.\u001b[39mpos\u001b[38;5;241m+\u001b[39mtok\u001b[38;5;241m.\u001b[39mlen, parsing_state\u001b[38;5;241m=\u001b[39mparsing_state)\n\u001b[1;32m   1595\u001b[0m \u001b[38;5;28;01mif\u001b[39;00m tok\u001b[38;5;241m.\u001b[39mtok \u001b[38;5;241m==\u001b[39m \u001b[38;5;124m'\u001b[39m\u001b[38;5;124mbrace_open\u001b[39m\u001b[38;5;124m'\u001b[39m:\n\u001b[0;32m-> 1596\u001b[0m     \u001b[38;5;28;01mreturn\u001b[39;00m \u001b[38;5;28;43mself\u001b[39;49m\u001b[38;5;241;43m.\u001b[39;49m\u001b[43mget_latex_braced_group\u001b[49m\u001b[43m(\u001b[49m\u001b[43mtok\u001b[49m\u001b[38;5;241;43m.\u001b[39;49m\u001b[43mpos\u001b[49m\u001b[43m,\u001b[49m\u001b[43m \u001b[49m\u001b[43mparsing_state\u001b[49m\u001b[38;5;241;43m=\u001b[39;49m\u001b[43mparsing_state\u001b[49m\u001b[43m)\u001b[49m\n\u001b[1;32m   1597\u001b[0m \u001b[38;5;28;01mif\u001b[39;00m tok\u001b[38;5;241m.\u001b[39mtok \u001b[38;5;241m==\u001b[39m \u001b[38;5;124m'\u001b[39m\u001b[38;5;124mbrace_close\u001b[39m\u001b[38;5;124m'\u001b[39m:\n\u001b[1;32m   1598\u001b[0m     \u001b[38;5;66;03m# don't worry, stray closing braces are still reported (in\u001b[39;00m\n\u001b[1;32m   1599\u001b[0m     \u001b[38;5;66;03m# get_latex_nodes()) if tolerant_parsing=False even if\u001b[39;00m\n\u001b[1;32m   1600\u001b[0m     \u001b[38;5;66;03m# strict_braces=False.  That's because we leave the brace in the\u001b[39;00m\n\u001b[1;32m   1601\u001b[0m     \u001b[38;5;66;03m# input and it will be picked up when we read the next token.\u001b[39;00m\n\u001b[1;32m   1602\u001b[0m     \u001b[38;5;28;01mif\u001b[39;00m \u001b[38;5;28mself\u001b[39m\u001b[38;5;241m.\u001b[39mstrict_braces \u001b[38;5;129;01mand\u001b[39;00m \u001b[38;5;129;01mnot\u001b[39;00m \u001b[38;5;28mself\u001b[39m\u001b[38;5;241m.\u001b[39mtolerant_parsing:\n",
      "File \u001b[0;32m~/.local/lib/python3.10/site-packages/pylatexenc/latexwalker/__init__.py:1737\u001b[0m, in \u001b[0;36mLatexWalker.get_latex_braced_group\u001b[0;34m(self, pos, brace_type, parsing_state)\u001b[0m\n\u001b[1;32m   1729\u001b[0m \u001b[38;5;28;01mif\u001b[39;00m firsttok\u001b[38;5;241m.\u001b[39mtok \u001b[38;5;241m!=\u001b[39m \u001b[38;5;124m'\u001b[39m\u001b[38;5;124mbrace_open\u001b[39m\u001b[38;5;124m'\u001b[39m  \u001b[38;5;129;01mor\u001b[39;00m  firsttok\u001b[38;5;241m.\u001b[39marg \u001b[38;5;241m!=\u001b[39m brace_type:\n\u001b[1;32m   1730\u001b[0m     \u001b[38;5;28;01mraise\u001b[39;00m LatexWalkerParseError(\n\u001b[1;32m   1731\u001b[0m         s\u001b[38;5;241m=\u001b[39m\u001b[38;5;28mself\u001b[39m\u001b[38;5;241m.\u001b[39ms,\n\u001b[1;32m   1732\u001b[0m         pos\u001b[38;5;241m=\u001b[39mpos,\n\u001b[1;32m   1733\u001b[0m         msg\u001b[38;5;241m=\u001b[39m\u001b[38;5;124m'\u001b[39m\u001b[38;5;124mget_latex_braced_group: not an opening brace/bracket: \u001b[39m\u001b[38;5;132;01m%s\u001b[39;00m\u001b[38;5;124m'\u001b[39m \u001b[38;5;241m%\u001b[39m(\u001b[38;5;28mself\u001b[39m\u001b[38;5;241m.\u001b[39ms[pos]),\n\u001b[1;32m   1734\u001b[0m         \u001b[38;5;241m*\u001b[39m\u001b[38;5;241m*\u001b[39m\u001b[38;5;28mself\u001b[39m\u001b[38;5;241m.\u001b[39mpos_to_lineno_colno(pos, as_dict\u001b[38;5;241m=\u001b[39m\u001b[38;5;28;01mTrue\u001b[39;00m)\n\u001b[1;32m   1735\u001b[0m     )\n\u001b[0;32m-> 1737\u001b[0m (nodelist, npos, nlen) \u001b[38;5;241m=\u001b[39m \u001b[38;5;28;43mself\u001b[39;49m\u001b[38;5;241;43m.\u001b[39;49m\u001b[43mget_latex_nodes\u001b[49m\u001b[43m(\u001b[49m\n\u001b[1;32m   1738\u001b[0m \u001b[43m    \u001b[49m\u001b[43mfirsttok\u001b[49m\u001b[38;5;241;43m.\u001b[39;49m\u001b[43mpos\u001b[49m\u001b[43m \u001b[49m\u001b[38;5;241;43m+\u001b[39;49m\u001b[43m \u001b[49m\u001b[43mfirsttok\u001b[49m\u001b[38;5;241;43m.\u001b[39;49m\u001b[43mlen\u001b[49m\u001b[43m,\u001b[49m\n\u001b[1;32m   1739\u001b[0m \u001b[43m    \u001b[49m\u001b[43mstop_upon_closing_brace\u001b[49m\u001b[38;5;241;43m=\u001b[39;49m\u001b[43m(\u001b[49m\u001b[43mbrace_type\u001b[49m\u001b[43m,\u001b[49m\u001b[43m \u001b[49m\u001b[43mclosing_brace\u001b[49m\u001b[43m)\u001b[49m\u001b[43m,\u001b[49m\n\u001b[1;32m   1740\u001b[0m \u001b[43m    \u001b[49m\u001b[43mparsing_state\u001b[49m\u001b[38;5;241;43m=\u001b[39;49m\u001b[43mparsing_state\u001b[49m\n\u001b[1;32m   1741\u001b[0m \u001b[43m\u001b[49m\u001b[43m)\u001b[49m\n\u001b[1;32m   1743\u001b[0m \u001b[38;5;28;01mreturn\u001b[39;00m \u001b[38;5;28mself\u001b[39m\u001b[38;5;241m.\u001b[39m_mknodeposlen(LatexGroupNode, nodelist\u001b[38;5;241m=\u001b[39mnodelist,\n\u001b[1;32m   1744\u001b[0m                           parsing_state\u001b[38;5;241m=\u001b[39mparsing_state,\n\u001b[1;32m   1745\u001b[0m                           delimiters\u001b[38;5;241m=\u001b[39m(brace_type, closing_brace),\n\u001b[1;32m   1746\u001b[0m                           pos \u001b[38;5;241m=\u001b[39m firsttok\u001b[38;5;241m.\u001b[39mpos,\n\u001b[1;32m   1747\u001b[0m                           \u001b[38;5;28mlen\u001b[39m \u001b[38;5;241m=\u001b[39m npos \u001b[38;5;241m+\u001b[39m nlen \u001b[38;5;241m-\u001b[39m firsttok\u001b[38;5;241m.\u001b[39mpos)\n",
      "File \u001b[0;32m~/.local/lib/python3.10/site-packages/pylatexenc/latexwalker/__init__.py:1893\u001b[0m, in \u001b[0;36mLatexWalker.get_latex_nodes\u001b[0;34m(self, pos, stop_upon_closing_brace, stop_upon_end_environment, stop_upon_closing_mathmode, read_max_nodes, parsing_state)\u001b[0m\n\u001b[1;32m   1889\u001b[0m         \u001b[38;5;28;01mreturn\u001b[39;00m \u001b[38;5;28;01mNone\u001b[39;00m\n\u001b[1;32m   1890\u001b[0m     \u001b[38;5;28;01mreturn\u001b[39;00m e\n\u001b[0;32m-> 1893\u001b[0m \u001b[38;5;28;01mdef\u001b[39;00m \u001b[38;5;21mget_latex_nodes\u001b[39m(\u001b[38;5;28mself\u001b[39m, pos\u001b[38;5;241m=\u001b[39m\u001b[38;5;241m0\u001b[39m, stop_upon_closing_brace\u001b[38;5;241m=\u001b[39m\u001b[38;5;28;01mNone\u001b[39;00m,\n\u001b[1;32m   1894\u001b[0m                     stop_upon_end_environment\u001b[38;5;241m=\u001b[39m\u001b[38;5;28;01mNone\u001b[39;00m,\n\u001b[1;32m   1895\u001b[0m                     stop_upon_closing_mathmode\u001b[38;5;241m=\u001b[39m\u001b[38;5;28;01mNone\u001b[39;00m, read_max_nodes\u001b[38;5;241m=\u001b[39m\u001b[38;5;28;01mNone\u001b[39;00m,\n\u001b[1;32m   1896\u001b[0m                     parsing_state\u001b[38;5;241m=\u001b[39m\u001b[38;5;28;01mNone\u001b[39;00m):\n\u001b[1;32m   1897\u001b[0m \u001b[38;5;250m    \u001b[39m\u001b[38;5;124mr\u001b[39m\u001b[38;5;124;03m\"\"\"\u001b[39;00m\n\u001b[1;32m   1898\u001b[0m \u001b[38;5;124;03m    Parses the latex content given to the constructor (and stored in `self.s`)\u001b[39;00m\n\u001b[1;32m   1899\u001b[0m \u001b[38;5;124;03m    into a list of nodes.\u001b[39;00m\n\u001b[0;32m   (...)\u001b[0m\n\u001b[1;32m   1974\u001b[0m \u001b[38;5;124;03m       The `parsing_state` argument was introduced in version 2.0.\u001b[39;00m\n\u001b[1;32m   1975\u001b[0m \u001b[38;5;124;03m    \"\"\"\u001b[39;00m\n\u001b[1;32m   1977\u001b[0m     \u001b[38;5;28;01mif\u001b[39;00m parsing_state \u001b[38;5;129;01mis\u001b[39;00m \u001b[38;5;28;01mNone\u001b[39;00m:\n",
      "\u001b[0;31mKeyboardInterrupt\u001b[0m: "
     ]
    },
    {
     "data": {
      "image/png": "[encoded data removed]",
      "text/plain": [
       "<Figure size 640x480 with 1 Axes>"
      ]
     },
     "metadata": {},
     "output_type": "display_data"
    }
   ],
   "source": [
    "result_vqe.raw_result.optimal_circuit.decompose().decompose().decompose().draw('mpl')"
   ]
  },
  {
   "cell_type": "code",
   "execution_count": null,
   "id": "62495aba-7ec9-4622-993e-6bec913a4ece",
   "metadata": {},
   "outputs": [],
   "source": [
    "result_vqe.raw_result.optimal_circuit.decompose().decompose().decompose().depth()"
   ]
  },
  {
   "cell_type": "code",
   "execution_count": null,
   "id": "a1566b1c-e3d8-476c-a0d8-fa579b9f46c5",
   "metadata": {},
   "outputs": [],
   "source": [
    "result_vqe.raw_result.optimal_circuit.decompose().decompose().decompose().count_ops()"
   ]
  },
  {
   "cell_type": "code",
   "execution_count": 27,
   "id": "7cc71bd7-73dc-4aec-9d01-5b879f2aa694",
   "metadata": {},
   "outputs": [
    {
     "name": "stdout",
     "output_type": "stream",
     "text": [
      "result vqe: depth = 10315, size = 16196, gates = OrderedDict([('cx', 8064), ('h', 4992), ('sdg', 1248), ('s', 1248), ('rz', 640), ('u', 4)])\n"
     ]
    }
   ],
   "source": [
    "print(f\"result vqe: depth = {result_vqe.raw_result.optimal_circuit.decompose().decompose().decompose().depth()}, size = { result_vqe.raw_result.optimal_circuit.decompose().decompose().decompose().size()}, gates = {result_vqe.raw_result.optimal_circuit.decompose().decompose().decompose().count_ops()}\")"
   ]
  },
  {
   "cell_type": "code",
   "execution_count": 28,
   "id": "9130ec0a-4d47-4ffb-a3d1-e2477d0c849a",
   "metadata": {},
   "outputs": [
    {
     "name": "stdout",
     "output_type": "stream",
     "text": [
      "result adapt_vqe: depth = 1765, size = 2716, gates = OrderedDict([('cx', 1360), ('h', 832), ('sdg', 208), ('s', 208), ('rz', 104), ('u', 4)])\n"
     ]
    }
   ],
   "source": [
    "print(f\"result adapt_vqe: depth = {result_adapt.raw_result.optimal_circuit.decompose().decompose().decompose().depth()}, size = { result_adapt.raw_result.optimal_circuit.decompose().decompose().decompose().size()}, gates = {result_adapt.raw_result.optimal_circuit.decompose().decompose().decompose().count_ops()}\")"
   ]
  },
  {
   "cell_type": "code",
   "execution_count": 29,
   "id": "a5e7d9cc-4faf-40b1-b2c9-72238f7c589c",
   "metadata": {},
   "outputs": [
    {
     "name": "stdout",
     "output_type": "stream",
     "text": [
      "result state_vqe: depth = 10315, size = 16196, gates = OrderedDict([('cx', 8064), ('h', 4992), ('sdg', 1248), ('s', 1248), ('rz', 640), ('u', 4)])\n"
     ]
    }
   ],
   "source": [
    "print(f\"result state_vqe: depth = {result_state.raw_result.optimal_circuit.decompose().decompose().decompose().depth()}, size = { result_state.raw_result.optimal_circuit.decompose().decompose().decompose().size()}, gates = {result_state.raw_result.optimal_circuit.decompose().decompose().decompose().count_ops()}\")"
   ]
  },
  {
   "cell_type": "code",
   "execution_count": 30,
   "id": "9031a022-3f92-41e4-9c0a-8acdd6141de4",
   "metadata": {},
   "outputs": [
    {
     "name": "stdout",
     "output_type": "stream",
     "text": [
      "result state_adapt_vqe: depth = 1765, size = 2716, gates = OrderedDict([('cx', 1360), ('h', 832), ('sdg', 208), ('s', 208), ('rz', 104), ('u', 4)])\n"
     ]
    }
   ],
   "source": [
    "print(f\"result state_adapt_vqe: depth = {result_adapt_state.raw_result.optimal_circuit.decompose().decompose().decompose().depth()}, size = { result_adapt_state.raw_result.optimal_circuit.decompose().decompose().decompose().size()}, gates = {result_adapt_state.raw_result.optimal_circuit.decompose().decompose().decompose().count_ops()}\")"
   ]
  },
  {
   "cell_type": "code",
   "execution_count": null,
   "id": "46e37060-d854-4b2f-b794-90857e78f9be",
   "metadata": {},
   "outputs": [],
   "source": []
  }
 ],
 "metadata": {
  "kernelspec": {
   "display_name": "Python 3 (ipykernel)",
   "language": "python",
   "name": "python3"
  },
  "language_info": {
   "codemirror_mode": {
    "name": "ipython",
    "version": 3
   },
   "file_extension": ".py",
   "mimetype": "text/x-python",
   "name": "python",
   "nbconvert_exporter": "python",
   "pygments_lexer": "ipython3",
   "version": "3.10.12"
  }
 },
 "nbformat": 4,
 "nbformat_minor": 5
}
