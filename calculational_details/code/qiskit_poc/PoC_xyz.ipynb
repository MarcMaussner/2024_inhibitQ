{
 "cells": [
  {
   "cell_type": "markdown",
   "id": "d726d362-5f18-4918-ab0a-fe1079d54a58",
   "metadata": {},
   "source": [
    "# Read in xyz into pySCF and bind to Al"
   ]
  },
  {
   "cell_type": "code",
   "execution_count": 1,
   "id": "7cb20be4-8f22-403c-90b4-5663a2914945",
   "metadata": {},
   "outputs": [],
   "source": [
    "# pylint: disable=line-too-long\n",
    "import qiskit_nature\n",
    "from qiskit_algorithms.minimum_eigensolvers import NumPyMinimumEigensolver, VQE\n",
    "from qiskit_nature.second_q.transformers import FreezeCoreTransformer\n",
    "from qiskit_nature.second_q.formats.molecule_info import MoleculeInfo\n",
    "from qiskit_nature.second_q.mappers import ParityMapper, JordanWignerMapper\n",
    "from qiskit_nature.second_q.circuit.library import UCCSD, HartreeFock\n",
    "\n",
    "qiskit_nature.settings.use_pauli_sum_op = False  # pylint: disable=undefined-variable\n",
    "# pylint: enable=line-too-long\n",
    "from qiskit_nature.second_q.drivers import PySCFDriver\n",
    "import matplotlib.pyplot as plt\n",
    "from qiskit.circuit.library import EfficientSU2\n",
    "\n",
    "import numpy as np\n",
    "# SciPy minimizer routine\n",
    "from scipy.optimize import minimize\n",
    "\n",
    "from qiskit_algorithms.optimizers import SLSQP\n",
    "from qiskit_aer.primitives import Estimator as AerEstimator"
   ]
  },
  {
   "cell_type": "markdown",
   "id": "ec87eca8-f1d6-47a0-9c2e-d660b58173e7",
   "metadata": {},
   "source": [
    "## 2-Mercaptoacetic converted\n",
    "- use openbabel to convert smiles \"obabel -ismi filename.smi -oxyz filename.xyz --gen3d\"\n",
    "- use https://www.cheminfo.org/Chemistry/Cheminformatics/FormatConverter/index.html\n",
    "- smiles: OC(=O)CS"
   ]
  },
  {
   "cell_type": "code",
   "execution_count": 10,
   "id": "b52917f1-194c-4303-898e-c1d241b5d68f",
   "metadata": {},
   "outputs": [],
   "source": [
    "# put smiles into a file\n",
    "f = open(\"2mercaptoarcetic.smi\", \"a\")\n",
    "f.write(\"OC(=O)CS\")\n",
    "f.close()"
   ]
  },
  {
   "cell_type": "code",
   "execution_count": 15,
   "id": "9d77a916-c3b1-4b4c-8e66-d38e4f524d00",
   "metadata": {},
   "outputs": [
    {
     "name": "stdout",
     "output_type": "stream",
     "text": [
      "1 molecule converted\n"
     ]
    }
   ],
   "source": [
    "!obabel -ismi 2mercaptoarcetic.smi -oxyz -O 2mercaptoarcetic.xyz --gen3d"
   ]
  },
  {
   "cell_type": "code",
   "execution_count": 16,
   "id": "600aa3cb-d13b-4f56-a18d-ec8e2220cab1",
   "metadata": {},
   "outputs": [],
   "source": [
    "import pyscf\n",
    "from pyscf import gto"
   ]
  },
  {
   "cell_type": "code",
   "execution_count": 17,
   "id": "fb2e936a-3e29-4ebd-bcc9-1d699671cc62",
   "metadata": {},
   "outputs": [
    {
     "data": {
      "text/plain": [
       "<pyscf.gto.mole.Mole at 0x7ffa655a62c0>"
      ]
     },
     "execution_count": 17,
     "metadata": {},
     "output_type": "execute_result"
    }
   ],
   "source": [
    "mol = gto.Mole()\n",
    "mol.atom = '2mercaptoarcetic.xyz'\n",
    "mol.basis = 'sto-3g'\n",
    "mol.unit = 'A'\n",
    "mol.build()"
   ]
  },
  {
   "cell_type": "code",
   "execution_count": 19,
   "id": "aa3469b9-7e92-4cb8-8b87-d027d18f2fa0",
   "metadata": {},
   "outputs": [
    {
     "name": "stdout",
     "output_type": "stream",
     "text": [
      "converged SCF energy = -617.96651310965\n",
      "E(CCSD) = -618.2467649089141  E_corr = -0.2802517992639828\n",
      "CCSD total energy -618.2467649089141\n",
      "CCSD(T) correction = -0.00767741434568718\n"
     ]
    }
   ],
   "source": [
    "from pyscf import gto, scf, cc\n",
    "\n",
    "mf = scf.HF(mol).run()\n",
    "# Note that the line following these comments could be replaced by\n",
    "# mycc = cc.CCSD(mf)\n",
    "# mycc.kernel()\n",
    "mycc = cc.CCSD(mf).run()\n",
    "print('CCSD total energy', mycc.e_tot)\n",
    "et = mycc.ccsd_t()"
   ]
  },
  {
   "cell_type": "code",
   "execution_count": null,
   "id": "151ee009-7f47-4b41-9541-f7e32d8edb05",
   "metadata": {},
   "outputs": [],
   "source": []
  }
 ],
 "metadata": {
  "kernelspec": {
   "display_name": "Python 3 (ipykernel)",
   "language": "python",
   "name": "python3"
  },
  "language_info": {
   "codemirror_mode": {
    "name": "ipython",
    "version": 3
   },
   "file_extension": ".py",
   "mimetype": "text/x-python",
   "name": "python",
   "nbconvert_exporter": "python",
   "pygments_lexer": "ipython3",
   "version": "3.10.12"
  }
 },
 "nbformat": 4,
 "nbformat_minor": 5
}
