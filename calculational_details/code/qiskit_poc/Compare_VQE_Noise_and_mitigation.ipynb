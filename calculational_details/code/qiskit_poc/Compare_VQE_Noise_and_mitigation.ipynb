{
 "cells": [
  {
   "cell_type": "markdown",
   "id": "fdcf8b4e-9c55-4c5d-9b97-1e2313933074",
   "metadata": {},
   "source": [
    "# Proof of concept\n",
    "## Get Groundstate of H2 with AdaptVQE just estimator, noisy backend simulation, noisy backend simulation with zne\n",
    "- taken from: https://qiskit-community.github.io/qiskit-nature/howtos/adapt_vqe.html\n",
    "- https://quantumcomputing.stackexchange.com/questions/34669/qiskit-noisy-fakemanila-simulator-zne\n",
    "- https://docs.quantum.ibm.com/migration-guides/v2-primitives\n",
    "- https://github.com/unitaryfund/research/blob/main/nepec/mitiq-qiskit-pec-nepec/mitiq-qiskit-zne-pec-nepec.ipynb"
   ]
  },
  {
   "cell_type": "code",
   "execution_count": 1,
   "id": "95b6c37a-ec29-459c-9e77-3aa46350749a",
   "metadata": {},
   "outputs": [],
   "source": [
    "# imports\n",
    "from qiskit_nature.second_q.drivers import PySCFDriver\n",
    "from qiskit_nature.second_q.mappers import JordanWignerMapper\n",
    "from qiskit_nature.second_q.circuit.library import UCCSD, HartreeFock\n",
    "import numpy as np\n",
    "from qiskit_algorithms import VQE\n",
    "from qiskit_algorithms.optimizers import SLSQP\n",
    "from qiskit.primitives import Estimator\n",
    "\n",
    "from qiskit_algorithms import AdaptVQE\n",
    "from qiskit_nature.second_q.algorithms import GroundStateEigensolver\n",
    "\n",
    "import time\n",
    "from datetime import datetime"
   ]
  },
  {
   "cell_type": "markdown",
   "id": "eb89e440-73ba-42b9-a02c-e4197d12b1f7",
   "metadata": {},
   "source": [
    "## Define problem with ansatz"
   ]
  },
  {
   "cell_type": "code",
   "execution_count": 2,
   "id": "ddb307e2-c1ec-425f-97a0-d937e2403f57",
   "metadata": {},
   "outputs": [],
   "source": [
    "driver = PySCFDriver(atom=\"H 0 0 0; H 0 0 0.735\", basis=\"sto-3g\")\n",
    "problem = driver.run()"
   ]
  },
  {
   "cell_type": "code",
   "execution_count": 3,
   "id": "e254dca0-e3b2-489b-bb9a-3db683e3d02c",
   "metadata": {},
   "outputs": [],
   "source": [
    "mapper = JordanWignerMapper()"
   ]
  },
  {
   "cell_type": "code",
   "execution_count": 4,
   "id": "e47387c1-94ea-4434-85d9-6349c6cf5f20",
   "metadata": {},
   "outputs": [],
   "source": [
    "ansatz = UCCSD(\n",
    "    problem.num_spatial_orbitals,\n",
    "    problem.num_particles,\n",
    "    mapper,\n",
    "    initial_state=HartreeFock(\n",
    "        problem.num_spatial_orbitals,\n",
    "        problem.num_particles,\n",
    "        mapper,\n",
    "    ),\n",
    ")"
   ]
  },
  {
   "cell_type": "code",
   "execution_count": 5,
   "id": "85eae774-a024-495a-b57b-86260393585d",
   "metadata": {},
   "outputs": [],
   "source": [
    "# define vqe\n",
    "ideal_vqe = VQE(Estimator(), ansatz, SLSQP())\n",
    "ideal_vqe.initial_point = np.zeros(ansatz.num_parameters)"
   ]
  },
  {
   "cell_type": "markdown",
   "id": "0a193877-21d9-41ef-a3cc-c170dcd2202a",
   "metadata": {},
   "source": [
    "## now setup AdaptVQE with simulation"
   ]
  },
  {
   "cell_type": "code",
   "execution_count": 6,
   "id": "4cdac372-3959-44fa-9acc-ba33defd0c65",
   "metadata": {},
   "outputs": [],
   "source": [
    "ideal_adapt_vqe = AdaptVQE(ideal_vqe)\n",
    "ideal_adapt_vqe.supports_aux_operators = lambda: True  # temporary fix"
   ]
  },
  {
   "cell_type": "markdown",
   "id": "126586b8-57d5-4131-8cc5-84ca8bf7944f",
   "metadata": {},
   "source": [
    "## Now get some results AdaptVQE simulation"
   ]
  },
  {
   "cell_type": "code",
   "execution_count": 7,
   "id": "b786908f-4364-4616-9d68-3ec3cabf084b",
   "metadata": {},
   "outputs": [],
   "source": [
    "solver = GroundStateEigensolver(mapper, ideal_adapt_vqe)"
   ]
  },
  {
   "cell_type": "code",
   "execution_count": 8,
   "id": "d43f414c-bf9b-4361-8f92-3d30f5854cef",
   "metadata": {},
   "outputs": [
    {
     "name": "stdout",
     "output_type": "stream",
     "text": [
      "Code execution time [sec]: 0.8029932975769043\n",
      "Total ground state energy = -1.1373\n",
      "Total number of iterations = 2\n"
     ]
    }
   ],
   "source": [
    "start = time.time()\n",
    "result = solver.solve(problem)\n",
    "end = time.time()\n",
    "# print execution time\n",
    "print('Code execution time [sec]:', end - start)\n",
    "print(f\"Total ground state energy = {result.total_energies[0]:.4f}\")\n",
    "print(f\"Total number of iterations = {result.raw_result.num_iterations}\")"
   ]
  },
  {
   "cell_type": "markdown",
   "id": "a04a56ad-9041-46d3-9828-3f4aa6a32939",
   "metadata": {},
   "source": [
    "## now setup AdaptVQE with noisy backend"
   ]
  },
  {
   "cell_type": "code",
   "execution_count": 9,
   "id": "09b3929e-485d-4875-8d0f-a6e618931d04",
   "metadata": {},
   "outputs": [
    {
     "name": "stderr",
     "output_type": "stream",
     "text": [
      "/tmp/ipykernel_12485/2647586769.py:2: DeprecationWarning: V1 fake backends are deprecated as of qiskit-ibm-runtime 0.24 and will be removed no sooner than 3 months after the release date. Please use V2 fake backends instead.\n",
      "  device_backend = FakeVigo()\n"
     ]
    }
   ],
   "source": [
    "from qiskit_ibm_runtime.fake_provider import FakeVigo\n",
    "device_backend = FakeVigo()"
   ]
  },
  {
   "cell_type": "code",
   "execution_count": 10,
   "id": "9b534364-607b-40e6-9c66-cfa1a253568a",
   "metadata": {},
   "outputs": [
    {
     "name": "stderr",
     "output_type": "stream",
     "text": [
      "/tmp/ipykernel_12485/105738346.py:3: DeprecationWarning: The Sampler and Estimator V1 primitives have been deprecated as of qiskit-ibm-runtime 0.23.0 and will be removed no sooner than 3 months after the release date. Please use the V2 Primitives. See the `V2 migration guide <https://docs.quantum.ibm.com/api/migration-guides/v2-primitives>`_. for more details\n",
      "  estimator = Estimator(device_backend)\n"
     ]
    }
   ],
   "source": [
    "from qiskit_ibm_runtime import Estimator, Options\n",
    "\n",
    "estimator = Estimator(device_backend)"
   ]
  },
  {
   "cell_type": "code",
   "execution_count": 11,
   "id": "77b37fd3-ecc7-4da4-b65a-2706deba0ad3",
   "metadata": {},
   "outputs": [],
   "source": [
    "# define vqe\n",
    "noisy_vqe = VQE(estimator, ansatz, SLSQP())\n",
    "noisy_vqe.initial_point = np.zeros(ansatz.num_parameters)"
   ]
  },
  {
   "cell_type": "code",
   "execution_count": 12,
   "id": "cf9cc6bd-d84e-4061-bc8c-1910e50f73e0",
   "metadata": {},
   "outputs": [],
   "source": [
    "noisy_adapt_vqe = AdaptVQE(noisy_vqe)\n",
    "noisy_adapt_vqe.supports_aux_operators = lambda: True  # temporary fix"
   ]
  },
  {
   "cell_type": "markdown",
   "id": "32933c1a-b98f-4dd0-8bda-bd70981939de",
   "metadata": {},
   "source": [
    "## Now get some results AdaptVQE noisy"
   ]
  },
  {
   "cell_type": "code",
   "execution_count": 13,
   "id": "a32b364b-f910-496e-9ee5-5a2c65926c5b",
   "metadata": {},
   "outputs": [],
   "source": [
    "solver = GroundStateEigensolver(mapper, noisy_adapt_vqe)"
   ]
  },
  {
   "cell_type": "code",
   "execution_count": 14,
   "id": "56cc2c9a-aa05-4a8c-a815-4c6d3eabc7cd",
   "metadata": {},
   "outputs": [
    {
     "name": "stdout",
     "output_type": "stream",
     "text": [
      "Code execution time [sec]: 24.282981157302856\n",
      "Total ground state energy = -1.1102\n",
      "Total number of iterations = 2\n"
     ]
    }
   ],
   "source": [
    "start = time.time()\n",
    "result = solver.solve(problem)\n",
    "end = time.time()\n",
    "# print execution time\n",
    "print('Code execution time [sec]:', end - start)\n",
    "print(f\"Total ground state energy = {result.total_energies[0]:.4f}\")\n",
    "print(f\"Total number of iterations = {result.raw_result.num_iterations}\")"
   ]
  },
  {
   "cell_type": "markdown",
   "id": "b15446cd-fce4-4ccd-b0f0-4bd8ede4315b",
   "metadata": {},
   "source": [
    "## now setup AdaptVQE with noisy backend and zne (qiskit)"
   ]
  },
  {
   "cell_type": "code",
   "execution_count": 15,
   "id": "7cec7623-797d-45e1-982d-3d00e7314305",
   "metadata": {},
   "outputs": [
    {
     "name": "stderr",
     "output_type": "stream",
     "text": [
      "/tmp/ipykernel_12485/2647586769.py:2: DeprecationWarning: V1 fake backends are deprecated as of qiskit-ibm-runtime 0.24 and will be removed no sooner than 3 months after the release date. Please use V2 fake backends instead.\n",
      "  device_backend = FakeVigo()\n"
     ]
    }
   ],
   "source": [
    "from qiskit_ibm_runtime.fake_provider import FakeVigo\n",
    "device_backend = FakeVigo()"
   ]
  },
  {
   "cell_type": "code",
   "execution_count": 16,
   "id": "2be7bccb-4d7c-4511-b007-628c004a83e2",
   "metadata": {},
   "outputs": [
    {
     "name": "stderr",
     "output_type": "stream",
     "text": [
      "/tmp/ipykernel_12485/486542272.py:7: DeprecationWarning: The Sampler and Estimator V1 primitives have been deprecated as of qiskit-ibm-runtime 0.23.0 and will be removed no sooner than 3 months after the release date. Please use the V2 Primitives. See the `V2 migration guide <https://docs.quantum.ibm.com/api/migration-guides/v2-primitives>`_. for more details\n",
      "  estimator = Estimator(device_backend, options=options)\n"
     ]
    }
   ],
   "source": [
    "from qiskit_ibm_runtime import Estimator, Options\n",
    "  \n",
    "options = Options()\n",
    " \n",
    "options.resilience_level = 2\n",
    "\n",
    "estimator = Estimator(device_backend, options=options)"
   ]
  },
  {
   "cell_type": "code",
   "execution_count": 17,
   "id": "394b9236-dc47-4413-a1a9-0d837c99783e",
   "metadata": {},
   "outputs": [],
   "source": [
    "# define vqe\n",
    "noisy_zne_vqe = VQE(estimator, ansatz, SLSQP())\n",
    "noisy_zne_vqe.initial_point = np.zeros(ansatz.num_parameters)"
   ]
  },
  {
   "cell_type": "code",
   "execution_count": 18,
   "id": "d3e3bff9-d084-48e2-92bb-d5c232a125dc",
   "metadata": {},
   "outputs": [],
   "source": [
    "noisy_zne_adapt_vqe = AdaptVQE(noisy_zne_vqe)\n",
    "noisy_zne_adapt_vqe.supports_aux_operators = lambda: True  # temporary fix"
   ]
  },
  {
   "cell_type": "markdown",
   "id": "b0806879-17bb-411b-836e-0a03ca70ec0c",
   "metadata": {},
   "source": [
    "## Now get some results AdaptVQE noisy and zne (qiskit)"
   ]
  },
  {
   "cell_type": "code",
   "execution_count": 19,
   "id": "937ae9bc-63ba-498e-817c-bbe8a8c27eb4",
   "metadata": {},
   "outputs": [],
   "source": [
    "solver = GroundStateEigensolver(mapper, noisy_zne_adapt_vqe)"
   ]
  },
  {
   "cell_type": "code",
   "execution_count": 20,
   "id": "6e98353d-7d7c-4845-9d64-b75d07caf749",
   "metadata": {},
   "outputs": [
    {
     "name": "stdout",
     "output_type": "stream",
     "text": [
      "Code execution time [sec]: 23.370811462402344\n",
      "Total ground state energy = -1.1225\n",
      "Total number of iterations = 2\n"
     ]
    }
   ],
   "source": [
    "start = time.time()\n",
    "result = solver.solve(problem)\n",
    "end = time.time()\n",
    "# print execution time\n",
    "print('Code execution time [sec]:', end - start)\n",
    "print(f\"Total ground state energy = {result.total_energies[0]:.4f}\")\n",
    "print(f\"Total number of iterations = {result.raw_result.num_iterations}\")"
   ]
  },
  {
   "cell_type": "code",
   "execution_count": null,
   "id": "46a4db6b-0e11-41cf-874f-d828e14454bf",
   "metadata": {},
   "outputs": [],
   "source": []
  }
 ],
 "metadata": {
  "kernelspec": {
   "display_name": "Python 3 (ipykernel)",
   "language": "python",
   "name": "python3"
  },
  "language_info": {
   "codemirror_mode": {
    "name": "ipython",
    "version": 3
   },
   "file_extension": ".py",
   "mimetype": "text/x-python",
   "name": "python",
   "nbconvert_exporter": "python",
   "pygments_lexer": "ipython3",
   "version": "3.10.12"
  }
 },
 "nbformat": 4,
 "nbformat_minor": 5
}
