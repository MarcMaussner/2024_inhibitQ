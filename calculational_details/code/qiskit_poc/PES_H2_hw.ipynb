{
 "cells": [
  {
   "cell_type": "markdown",
   "id": "fdcf8b4e-9c55-4c5d-9b97-1e2313933074",
   "metadata": {},
   "source": [
    "# Proof of concept\n",
    "## Get PES of H2\n",
    "- taken from: https://github.com/Qiskit/textbook/blob/main/notebooks/ch-applications/vqe-molecules.ipynb"
   ]
  },
  {
   "cell_type": "code",
   "execution_count": 1,
   "id": "c114fd5a-e336-4eee-a674-fa6f402e6864",
   "metadata": {},
   "outputs": [],
   "source": [
    "# pylint: disable=line-too-long\n",
    "import qiskit_nature\n",
    "from qiskit_algorithms.minimum_eigensolvers import NumPyMinimumEigensolver, VQE\n",
    "from qiskit_nature.second_q.transformers import FreezeCoreTransformer\n",
    "from qiskit_nature.second_q.formats.molecule_info import MoleculeInfo\n",
    "from qiskit_nature.second_q.mappers import ParityMapper\n",
    "from qiskit_nature.second_q.circuit.library import UCCSD, HartreeFock\n",
    "\n",
    "qiskit_nature.settings.use_pauli_sum_op = False  # pylint: disable=undefined-variable\n",
    "# pylint: enable=line-too-long\n",
    "from qiskit_nature.second_q.drivers import PySCFDriver\n",
    "import matplotlib.pyplot as plt\n",
    "from qiskit.circuit.library import EfficientSU2\n",
    "\n",
    "import numpy as np\n",
    "from qiskit_aer.primitives import Estimator\n",
    "from qiskit_algorithms.optimizers import SLSQP"
   ]
  },
  {
   "cell_type": "code",
   "execution_count": 2,
   "id": "f4df41b0-9852-4487-a5c0-24a5a684aafb",
   "metadata": {},
   "outputs": [],
   "source": [
    "def get_qubit_op(dist):\n",
    "    # Define Molecule\n",
    "    molecule = MoleculeInfo(\n",
    "        # Coordinates in Angstrom\n",
    "        symbols=[\"H\", \"H\"],\n",
    "        coords=([0.0, 0.0, 0.0], [dist, 0.0, 0.0]),\n",
    "        multiplicity=1,  # = 2*spin + 1\n",
    "        charge=0,\n",
    "    )\n",
    "\n",
    "    driver = PySCFDriver.from_molecule(molecule)\n",
    "\n",
    "    # Get properties\n",
    "    properties = driver.run()\n",
    "\n",
    "    # Now you can get the reduced electronic structure problem\n",
    "    problem = FreezeCoreTransformer(\n",
    "        freeze_core=True, remove_orbitals=[-3, -2]\n",
    "    ).transform(properties)\n",
    "\n",
    "    num_particles = problem.num_particles\n",
    "    num_spatial_orbitals = problem.num_spatial_orbitals\n",
    "\n",
    "    mapper = ParityMapper(num_particles=num_particles)\n",
    "    qubit_op = mapper.map(problem.second_q_ops()[0])\n",
    "    return qubit_op, num_particles, num_spatial_orbitals, problem, mapper"
   ]
  },
  {
   "cell_type": "markdown",
   "id": "64b664b7-3f0f-4d7d-b58a-9e3fdefa1202",
   "metadata": {},
   "source": [
    "## qiskit aer"
   ]
  },
  {
   "cell_type": "code",
   "execution_count": 6,
   "id": "74cf071c-f41c-4ae5-9851-784a3bc3f348",
   "metadata": {},
   "outputs": [
    {
     "name": "stdout",
     "output_type": "stream",
     "text": [
      "Interatomic Distance: 0.7 VQE Result: -1.13619 Exact Energy: -1.13619\n",
      "All energies have been calculated\n"
     ]
    }
   ],
   "source": [
    "def exact_solver(qubit_op, problem):\n",
    "    sol = NumPyMinimumEigensolver().compute_minimum_eigenvalue(qubit_op)\n",
    "    result = problem.interpret(sol)\n",
    "    return result\n",
    "\n",
    "\n",
    "# take only one distance\n",
    "distances = [0.7] #np.arange(0.3, 1.5, 0.1)\n",
    "exact_energies = []\n",
    "vqe_energies = []\n",
    "optimizer = SLSQP(maxiter=10)\n",
    "estimator = Estimator(approximation=True) # it calculates the exact expectation\n",
    "#estimator = Estimator(run_options={\"shots\":100}) # calculate with use of 100 shots\n",
    "\n",
    "\n",
    "# pylint: disable=undefined-loop-variable,line-too-long\n",
    "for dist in distances:\n",
    "    (qubit_op, num_particles, num_spatial_orbitals, problem, mapper) = get_qubit_op(\n",
    "        dist\n",
    "    )\n",
    "\n",
    "    result = exact_solver(qubit_op, problem)\n",
    "    exact_energies.append(result.total_energies[0].real)\n",
    "    init_state = HartreeFock(num_spatial_orbitals, num_particles, mapper)\n",
    "    var_form = UCCSD(\n",
    "        num_spatial_orbitals, num_particles, mapper, initial_state=init_state\n",
    "    )\n",
    "    vqe = VQE(\n",
    "        estimator,\n",
    "        var_form,\n",
    "        optimizer,\n",
    "        initial_point=[0] * var_form.num_parameters,\n",
    "    )\n",
    "    vqe_calc = vqe.compute_minimum_eigenvalue(qubit_op)\n",
    "    vqe_result = problem.interpret(vqe_calc).total_energies[0].real\n",
    "    vqe_energies.append(vqe_result)\n",
    "    print(\n",
    "        f\"Interatomic Distance: {np.round(dist, 2)}\",\n",
    "        f\"VQE Result: {vqe_result:.5f}\",\n",
    "        f\"Exact Energy: {exact_energies[-1]:.5f}\",\n",
    "    )\n",
    "\n",
    "print(\"All energies have been calculated\")"
   ]
  },
  {
   "cell_type": "markdown",
   "id": "64fa00fe-d350-463a-8f91-e5c2bd61b5ee",
   "metadata": {},
   "source": [
    "## with hw"
   ]
  },
  {
   "cell_type": "code",
   "execution_count": 8,
   "id": "f332b62f-efc6-460a-878f-bcfbb0cae253",
   "metadata": {},
   "outputs": [],
   "source": [
    "# init account and get backend\n",
    "from qiskit_ibm_runtime import QiskitRuntimeService\n",
    " \n",
    "service = QiskitRuntimeService()\n",
    "backend = service.least_busy(operational=True, simulator=False, min_num_qubits=127)"
   ]
  },
  {
   "cell_type": "code",
   "execution_count": 9,
   "id": "9ce8cace-8547-4caa-86c5-964e2c926780",
   "metadata": {},
   "outputs": [
    {
     "name": "stdout",
     "output_type": "stream",
     "text": [
      "ibm_brisbane\n"
     ]
    }
   ],
   "source": [
    "print (backend.name)"
   ]
  },
  {
   "cell_type": "code",
   "execution_count": null,
   "id": "0daf6465-e206-4929-85d2-247e2f407bc5",
   "metadata": {},
   "outputs": [],
   "source": [
    "from qiskit_ibm_runtime import Estimator as RuntimeEstimator\n",
    "from qiskit.primitives import BackendEstimator\n",
    "\n",
    "def exact_solver(qubit_op, problem):\n",
    "    sol = NumPyMinimumEigensolver().compute_minimum_eigenvalue(qubit_op)\n",
    "    result = problem.interpret(sol)\n",
    "    return result\n",
    "\n",
    "\n",
    "# take only one distance\n",
    "distances = [0.7] #np.arange(0.3, 1.5, 0.1)\n",
    "exact_energies = []\n",
    "vqe_energies = []\n",
    "optimizer = SLSQP(maxiter=10)\n",
    "estimator = BackendEstimator(backend=backend, options={\"shots\":100})\n",
    "#estimator = Estimator(run_options={\"shots\":100}) # calculate with use of 100 shots\n",
    "\n",
    "\n",
    "# pylint: disable=undefined-loop-variable,line-too-long\n",
    "for dist in distances:\n",
    "    (qubit_op, num_particles, num_spatial_orbitals, problem, mapper) = get_qubit_op(\n",
    "        dist\n",
    "    )\n",
    "\n",
    "    result = exact_solver(qubit_op, problem)\n",
    "    exact_energies.append(result.total_energies[0].real)\n",
    "    init_state = HartreeFock(num_spatial_orbitals, num_particles, mapper)\n",
    "    var_form = UCCSD(\n",
    "        num_spatial_orbitals, num_particles, mapper, initial_state=init_state\n",
    "    )\n",
    "    vqe = VQE(\n",
    "        estimator,\n",
    "        var_form,\n",
    "        optimizer,\n",
    "        initial_point=[0] * var_form.num_parameters,\n",
    "    )\n",
    "    vqe_calc = vqe.compute_minimum_eigenvalue(qubit_op)\n",
    "    vqe_result = problem.interpret(vqe_calc).total_energies[0].real\n",
    "    vqe_energies.append(vqe_result)\n",
    "    print(\n",
    "        f\"Interatomic Distance: {np.round(dist, 2)}\",\n",
    "        f\"VQE Result: {vqe_result:.5f}\",\n",
    "        f\"Exact Energy: {exact_energies[-1]:.5f}\",\n",
    "    )\n",
    "\n",
    "print(\"All energies have been calculated\")"
   ]
  },
  {
   "cell_type": "code",
   "execution_count": null,
   "id": "423a6917-58a8-4444-b9d5-f8f280dce87f",
   "metadata": {},
   "outputs": [],
   "source": []
  }
 ],
 "metadata": {
  "kernelspec": {
   "display_name": "Python 3 (ipykernel)",
   "language": "python",
   "name": "python3"
  },
  "language_info": {
   "codemirror_mode": {
    "name": "ipython",
    "version": 3
   },
   "file_extension": ".py",
   "mimetype": "text/x-python",
   "name": "python",
   "nbconvert_exporter": "python",
   "pygments_lexer": "ipython3",
   "version": "3.10.12"
  }
 },
 "nbformat": 4,
 "nbformat_minor": 5
}
