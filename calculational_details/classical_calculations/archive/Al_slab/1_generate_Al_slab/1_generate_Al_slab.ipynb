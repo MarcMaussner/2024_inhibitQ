{
 "cells": [
  {
   "cell_type": "code",
   "execution_count": null,
   "metadata": {},
   "outputs": [],
   "source": []
  },
  {
   "cell_type": "markdown",
   "metadata": {},
   "source": [
    "# notebook to generate Al surface and optimize it"
   ]
  },
  {
   "cell_type": "code",
   "execution_count": 14,
   "metadata": {},
   "outputs": [
    {
     "name": "stdout",
     "output_type": "stream",
     "text": [
      "Created al_slab_2x2x4_v10.0.xyz with 16 atoms\n",
      "Created al_slab_3x3x4_v10.0.xyz with 36 atoms\n",
      "Created al_slab_4x4x4_v10.0.xyz with 64 atoms\n",
      "Created al_slab_5x5x4_v10.0.xyz with 100 atoms\n"
     ]
    }
   ],
   "source": [
    "from ase.build import fcc111\n",
    "from ase.io import write\n",
    "\n",
    "def create_al_slabs(sizes, layers=4, vacuum=10.0, a=4.05):\n",
    "    \"\"\"\n",
    "    Create aluminum (111) slabs of different sizes with multiple layers and vacuum.\n",
    "    \n",
    "    Parameters:\n",
    "    sizes (list of tuples): List of (x, y) sizes for the slab, e.g. [(2,2), (3,3), (4,4)]\n",
    "    layers (int): Number of atomic layers in the slab (default is 4)\n",
    "    vacuum (float): Vacuum size in Angstroms to add above and below the slab (default is 10.0)\n",
    "    a (float): Lattice constant for aluminum in Angstroms (default is 4.05)\n",
    "    \n",
    "    Returns:\n",
    "    None, but saves .xyz files for each slab\n",
    "    \"\"\"\n",
    "    for size in sizes:\n",
    "        # Create the slab with specified number of layers and vacuum\n",
    "        slab = fcc111('Al', size=(size[0], size[1], layers), a=a, vacuum=vacuum)\n",
    "        \n",
    "        # Generate filename\n",
    "        filename = f\"al_slab_{size[0]}x{size[1]}x{layers}_v{vacuum}.xyz\"\n",
    "        \n",
    "        # Save the slab as an XYZ file\n",
    "        write(filename, slab)\n",
    "        \n",
    "        print(f\"Created {filename} with {len(slab)} atoms\")\n",
    "\n",
    "# Example usage\n",
    "sizes_to_create = [(2,2), (3,3), (4,4), (5,5)]\n",
    "create_al_slabs(sizes_to_create, layers=4, vacuum=10.0)"
   ]
  },
  {
   "cell_type": "code",
   "execution_count": 9,
   "metadata": {},
   "outputs": [],
   "source": [
    "from ase.build import fcc111\n",
    "slab = fcc111('Al', size=(2,2,3), vacuum=10.0)"
   ]
  },
  {
   "cell_type": "code",
   "execution_count": 10,
   "metadata": {},
   "outputs": [
    {
     "data": {
      "text/plain": [
       "Atoms(symbols='Al12', pbc=[True, True, False], cell=[[5.727564927611035, 0.0, 0.0], [2.8637824638055176, 4.960216729135935, 0.0], [0.0, 0.0, 24.676537180435968]], tags=...)"
      ]
     },
     "execution_count": 10,
     "metadata": {},
     "output_type": "execute_result"
    }
   ],
   "source": []
  },
  {
   "cell_type": "code",
   "execution_count": null,
   "metadata": {},
   "outputs": [],
   "source": []
  }
 ],
 "metadata": {
  "kernelspec": {
   "display_name": "inhibitQ",
   "language": "python",
   "name": "python3"
  },
  "language_info": {
   "codemirror_mode": {
    "name": "ipython",
    "version": 3
   },
   "file_extension": ".py",
   "mimetype": "text/x-python",
   "name": "python",
   "nbconvert_exporter": "python",
   "pygments_lexer": "ipython3",
   "version": "3.12.2"
  }
 },
 "nbformat": 4,
 "nbformat_minor": 2
}
