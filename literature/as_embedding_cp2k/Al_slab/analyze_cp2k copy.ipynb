{
 "cells": [
  {
   "cell_type": "code",
   "execution_count": 2,
   "metadata": {},
   "outputs": [
    {
     "name": "stdout",
     "output_type": "stream",
     "text": [
      "Molecule 1 (Energy: -24.457357 a.u.):\n",
      "  Al: 12\n",
      "\n",
      "Molecule 2 (Energy: -24.476637 a.u.):\n",
      "  Al: 12\n",
      "\n",
      "Molecule 3 (Energy: -24.477997 a.u.):\n",
      "  Al: 12\n",
      "\n",
      "Molecule 4 (Energy: -24.478024 a.u.):\n",
      "  Al: 12\n",
      "\n",
      "Molecule 5 (Energy: -24.478024 a.u.):\n",
      "  Al: 12\n",
      "\n",
      "Molecule 6 (Energy: -24.478011 a.u.):\n",
      "  Al: 12\n",
      "\n"
     ]
    },
    {
     "data": {
      "application/3dmoljs_load.v0": "<div id=\"3dmolviewer_1722504241045381\"  style=\"position: relative; width: 400px; height: 400px;\">\n        <p id=\"3dmolwarning_1722504241045381\" style=\"background-color:#ffcccc;color:black\">3Dmol.js failed to load for some reason.  Please check your browser console for error messages.<br></p>\n        </div>\n<script>\n\nvar loadScriptAsync = function(uri){\n  return new Promise((resolve, reject) => {\n    //this is to ignore the existence of requirejs amd\n    var savedexports, savedmodule;\n    if (typeof exports !== 'undefined') savedexports = exports;\n    else exports = {}\n    if (typeof module !== 'undefined') savedmodule = module;\n    else module = {}\n\n    var tag = document.createElement('script');\n    tag.src = uri;\n    tag.async = true;\n    tag.onload = () => {\n        exports = savedexports;\n        module = savedmodule;\n        resolve();\n    };\n  var firstScriptTag = document.getElementsByTagName('script')[0];\n  firstScriptTag.parentNode.insertBefore(tag, firstScriptTag);\n});\n};\n\nif(typeof $3Dmolpromise === 'undefined') {\n$3Dmolpromise = null;\n  $3Dmolpromise = loadScriptAsync('https://cdnjs.cloudflare.com/ajax/libs/3Dmol/2.3.0/3Dmol-min.js');\n}\n\nvar viewer_1722504241045381 = null;\nvar warn = document.getElementById(\"3dmolwarning_1722504241045381\");\nif(warn) {\n    warn.parentNode.removeChild(warn);\n}\n$3Dmolpromise.then(function() {\nviewer_1722504241045381 = $3Dmol.createViewer(document.getElementById(\"3dmolviewer_1722504241045381\"),{backgroundColor:\"white\"});\nviewer_1722504241045381.zoomTo();\n\tviewer_1722504241045381.addModel(\"12\\nEnergy = -24.4573569838\\nAl 0.0 0.0 4.0824639152\\nAl 4.05 0.0 4.0824639152\\nAl 0.0 4.05 4.0824639152\\nAl 4.05 4.05 4.0824639152\\nAl 2.025 2.025 5.999995733\\nAl 6.075 2.025 5.999995733\\nAl 2.025 6.075 5.999995733\\nAl 6.075 6.075 5.999995733\\nAl 0.0 0.0 7.9175378564\\nAl 4.05 0.0 7.9175378564\\nAl 0.0 4.05 7.9175378564\\nAl 4.05 4.05 7.9175378564\",\"xyz\");\n\tviewer_1722504241045381.setStyle({\"stick\": {}});\n\tviewer_1722504241045381.zoomTo();\n\tviewer_1722504241045381.setBackgroundColor(\"white\");\nviewer_1722504241045381.render();\n});\n</script>",
      "text/html": [
       "<div id=\"3dmolviewer_1722504241045381\"  style=\"position: relative; width: 400px; height: 400px;\">\n",
       "        <p id=\"3dmolwarning_1722504241045381\" style=\"background-color:#ffcccc;color:black\">3Dmol.js failed to load for some reason.  Please check your browser console for error messages.<br></p>\n",
       "        </div>\n",
       "<script>\n",
       "\n",
       "var loadScriptAsync = function(uri){\n",
       "  return new Promise((resolve, reject) => {\n",
       "    //this is to ignore the existence of requirejs amd\n",
       "    var savedexports, savedmodule;\n",
       "    if (typeof exports !== 'undefined') savedexports = exports;\n",
       "    else exports = {}\n",
       "    if (typeof module !== 'undefined') savedmodule = module;\n",
       "    else module = {}\n",
       "\n",
       "    var tag = document.createElement('script');\n",
       "    tag.src = uri;\n",
       "    tag.async = true;\n",
       "    tag.onload = () => {\n",
       "        exports = savedexports;\n",
       "        module = savedmodule;\n",
       "        resolve();\n",
       "    };\n",
       "  var firstScriptTag = document.getElementsByTagName('script')[0];\n",
       "  firstScriptTag.parentNode.insertBefore(tag, firstScriptTag);\n",
       "});\n",
       "};\n",
       "\n",
       "if(typeof $3Dmolpromise === 'undefined') {\n",
       "$3Dmolpromise = null;\n",
       "  $3Dmolpromise = loadScriptAsync('https://cdnjs.cloudflare.com/ajax/libs/3Dmol/2.3.0/3Dmol-min.js');\n",
       "}\n",
       "\n",
       "var viewer_1722504241045381 = null;\n",
       "var warn = document.getElementById(\"3dmolwarning_1722504241045381\");\n",
       "if(warn) {\n",
       "    warn.parentNode.removeChild(warn);\n",
       "}\n",
       "$3Dmolpromise.then(function() {\n",
       "viewer_1722504241045381 = $3Dmol.createViewer(document.getElementById(\"3dmolviewer_1722504241045381\"),{backgroundColor:\"white\"});\n",
       "viewer_1722504241045381.zoomTo();\n",
       "\tviewer_1722504241045381.addModel(\"12\\nEnergy = -24.4573569838\\nAl 0.0 0.0 4.0824639152\\nAl 4.05 0.0 4.0824639152\\nAl 0.0 4.05 4.0824639152\\nAl 4.05 4.05 4.0824639152\\nAl 2.025 2.025 5.999995733\\nAl 6.075 2.025 5.999995733\\nAl 2.025 6.075 5.999995733\\nAl 6.075 6.075 5.999995733\\nAl 0.0 0.0 7.9175378564\\nAl 4.05 0.0 7.9175378564\\nAl 0.0 4.05 7.9175378564\\nAl 4.05 4.05 7.9175378564\",\"xyz\");\n",
       "\tviewer_1722504241045381.setStyle({\"stick\": {}});\n",
       "\tviewer_1722504241045381.zoomTo();\n",
       "\tviewer_1722504241045381.setBackgroundColor(\"white\");\n",
       "viewer_1722504241045381.render();\n",
       "});\n",
       "</script>"
      ]
     },
     "metadata": {},
     "output_type": "display_data"
    },
    {
     "data": {
      "text/plain": [
       "<py3Dmol.view at 0x11fb8bec0>"
      ]
     },
     "metadata": {},
     "output_type": "display_data"
    },
    {
     "name": "stdout",
     "output_type": "stream",
     "text": [
      "Step 1, Energy: -24.457357 a.u.\n"
     ]
    },
    {
     "data": {
      "application/3dmoljs_load.v0": "<div id=\"3dmolviewer_172250424104641\"  style=\"position: relative; width: 400px; height: 400px;\">\n        <p id=\"3dmolwarning_172250424104641\" style=\"background-color:#ffcccc;color:black\">3Dmol.js failed to load for some reason.  Please check your browser console for error messages.<br></p>\n        </div>\n<script>\n\nvar loadScriptAsync = function(uri){\n  return new Promise((resolve, reject) => {\n    //this is to ignore the existence of requirejs amd\n    var savedexports, savedmodule;\n    if (typeof exports !== 'undefined') savedexports = exports;\n    else exports = {}\n    if (typeof module !== 'undefined') savedmodule = module;\n    else module = {}\n\n    var tag = document.createElement('script');\n    tag.src = uri;\n    tag.async = true;\n    tag.onload = () => {\n        exports = savedexports;\n        module = savedmodule;\n        resolve();\n    };\n  var firstScriptTag = document.getElementsByTagName('script')[0];\n  firstScriptTag.parentNode.insertBefore(tag, firstScriptTag);\n});\n};\n\nif(typeof $3Dmolpromise === 'undefined') {\n$3Dmolpromise = null;\n  $3Dmolpromise = loadScriptAsync('https://cdnjs.cloudflare.com/ajax/libs/3Dmol/2.3.0/3Dmol-min.js');\n}\n\nvar viewer_172250424104641 = null;\nvar warn = document.getElementById(\"3dmolwarning_172250424104641\");\nif(warn) {\n    warn.parentNode.removeChild(warn);\n}\n$3Dmolpromise.then(function() {\nviewer_172250424104641 = $3Dmol.createViewer(document.getElementById(\"3dmolviewer_172250424104641\"),{backgroundColor:\"white\"});\nviewer_172250424104641.zoomTo();\n\tviewer_172250424104641.addModel(\"12\\nEnergy = -24.4766374639\\nAl 0.0 0.0 4.3324639152\\nAl 4.05 0.0 4.3324639152\\nAl 0.0 4.05 4.3324639152\\nAl 4.05 4.05 4.3324639152\\nAl 2.025 2.025 5.9999810256\\nAl 6.075 2.025 5.9999810256\\nAl 2.025 6.075 5.9999810256\\nAl 6.075 6.075 5.9999810256\\nAl 0.0 0.0 7.6675429353\\nAl 4.05 0.0 7.6675429353\\nAl 0.0 4.05 7.6675429353\\nAl 4.05 4.05 7.6675429353\",\"xyz\");\n\tviewer_172250424104641.setStyle({\"stick\": {}});\n\tviewer_172250424104641.zoomTo();\n\tviewer_172250424104641.setBackgroundColor(\"white\");\nviewer_172250424104641.render();\n});\n</script>",
      "text/html": [
       "<div id=\"3dmolviewer_172250424104641\"  style=\"position: relative; width: 400px; height: 400px;\">\n",
       "        <p id=\"3dmolwarning_172250424104641\" style=\"background-color:#ffcccc;color:black\">3Dmol.js failed to load for some reason.  Please check your browser console for error messages.<br></p>\n",
       "        </div>\n",
       "<script>\n",
       "\n",
       "var loadScriptAsync = function(uri){\n",
       "  return new Promise((resolve, reject) => {\n",
       "    //this is to ignore the existence of requirejs amd\n",
       "    var savedexports, savedmodule;\n",
       "    if (typeof exports !== 'undefined') savedexports = exports;\n",
       "    else exports = {}\n",
       "    if (typeof module !== 'undefined') savedmodule = module;\n",
       "    else module = {}\n",
       "\n",
       "    var tag = document.createElement('script');\n",
       "    tag.src = uri;\n",
       "    tag.async = true;\n",
       "    tag.onload = () => {\n",
       "        exports = savedexports;\n",
       "        module = savedmodule;\n",
       "        resolve();\n",
       "    };\n",
       "  var firstScriptTag = document.getElementsByTagName('script')[0];\n",
       "  firstScriptTag.parentNode.insertBefore(tag, firstScriptTag);\n",
       "});\n",
       "};\n",
       "\n",
       "if(typeof $3Dmolpromise === 'undefined') {\n",
       "$3Dmolpromise = null;\n",
       "  $3Dmolpromise = loadScriptAsync('https://cdnjs.cloudflare.com/ajax/libs/3Dmol/2.3.0/3Dmol-min.js');\n",
       "}\n",
       "\n",
       "var viewer_172250424104641 = null;\n",
       "var warn = document.getElementById(\"3dmolwarning_172250424104641\");\n",
       "if(warn) {\n",
       "    warn.parentNode.removeChild(warn);\n",
       "}\n",
       "$3Dmolpromise.then(function() {\n",
       "viewer_172250424104641 = $3Dmol.createViewer(document.getElementById(\"3dmolviewer_172250424104641\"),{backgroundColor:\"white\"});\n",
       "viewer_172250424104641.zoomTo();\n",
       "\tviewer_172250424104641.addModel(\"12\\nEnergy = -24.4766374639\\nAl 0.0 0.0 4.3324639152\\nAl 4.05 0.0 4.3324639152\\nAl 0.0 4.05 4.3324639152\\nAl 4.05 4.05 4.3324639152\\nAl 2.025 2.025 5.9999810256\\nAl 6.075 2.025 5.9999810256\\nAl 2.025 6.075 5.9999810256\\nAl 6.075 6.075 5.9999810256\\nAl 0.0 0.0 7.6675429353\\nAl 4.05 0.0 7.6675429353\\nAl 0.0 4.05 7.6675429353\\nAl 4.05 4.05 7.6675429353\",\"xyz\");\n",
       "\tviewer_172250424104641.setStyle({\"stick\": {}});\n",
       "\tviewer_172250424104641.zoomTo();\n",
       "\tviewer_172250424104641.setBackgroundColor(\"white\");\n",
       "viewer_172250424104641.render();\n",
       "});\n",
       "</script>"
      ]
     },
     "metadata": {},
     "output_type": "display_data"
    },
    {
     "data": {
      "text/plain": [
       "<py3Dmol.view at 0x11fb8a1e0>"
      ]
     },
     "metadata": {},
     "output_type": "display_data"
    },
    {
     "name": "stdout",
     "output_type": "stream",
     "text": [
      "Step 2, Energy: -24.476637 a.u.\n"
     ]
    },
    {
     "data": {
      "application/3dmoljs_load.v0": "<div id=\"3dmolviewer_1722504241047759\"  style=\"position: relative; width: 400px; height: 400px;\">\n        <p id=\"3dmolwarning_1722504241047759\" style=\"background-color:#ffcccc;color:black\">3Dmol.js failed to load for some reason.  Please check your browser console for error messages.<br></p>\n        </div>\n<script>\n\nvar loadScriptAsync = function(uri){\n  return new Promise((resolve, reject) => {\n    //this is to ignore the existence of requirejs amd\n    var savedexports, savedmodule;\n    if (typeof exports !== 'undefined') savedexports = exports;\n    else exports = {}\n    if (typeof module !== 'undefined') savedmodule = module;\n    else module = {}\n\n    var tag = document.createElement('script');\n    tag.src = uri;\n    tag.async = true;\n    tag.onload = () => {\n        exports = savedexports;\n        module = savedmodule;\n        resolve();\n    };\n  var firstScriptTag = document.getElementsByTagName('script')[0];\n  firstScriptTag.parentNode.insertBefore(tag, firstScriptTag);\n});\n};\n\nif(typeof $3Dmolpromise === 'undefined') {\n$3Dmolpromise = null;\n  $3Dmolpromise = loadScriptAsync('https://cdnjs.cloudflare.com/ajax/libs/3Dmol/2.3.0/3Dmol-min.js');\n}\n\nvar viewer_1722504241047759 = null;\nvar warn = document.getElementById(\"3dmolwarning_1722504241047759\");\nif(warn) {\n    warn.parentNode.removeChild(warn);\n}\n$3Dmolpromise.then(function() {\nviewer_1722504241047759 = $3Dmol.createViewer(document.getElementById(\"3dmolviewer_1722504241047759\"),{backgroundColor:\"white\"});\nviewer_1722504241047759.zoomTo();\n\tviewer_1722504241047759.addModel(\"12\\nEnergy = -24.4779974221\\nAl 4.137e-07 0.0 4.2752369522\\nAl 4.0500004137 0.0 4.2752369522\\nAl 4.137e-07 4.05 4.2752369522\\nAl 4.0500004137 4.05 4.2752369522\\nAl 2.025 2.025 5.9999837388\\nAl 6.075 2.025 5.9999837388\\nAl 2.025 6.075 5.9999837388\\nAl 6.075 6.075 5.9999837388\\nAl -4.136e-07 0.0 7.7247678434\\nAl 4.0499995864 0.0 7.7247678434\\nAl -4.136e-07 4.05 7.7247678434\\nAl 4.0499995864 4.05 7.7247678434\",\"xyz\");\n\tviewer_1722504241047759.setStyle({\"stick\": {}});\n\tviewer_1722504241047759.zoomTo();\n\tviewer_1722504241047759.setBackgroundColor(\"white\");\nviewer_1722504241047759.render();\n});\n</script>",
      "text/html": [
       "<div id=\"3dmolviewer_1722504241047759\"  style=\"position: relative; width: 400px; height: 400px;\">\n",
       "        <p id=\"3dmolwarning_1722504241047759\" style=\"background-color:#ffcccc;color:black\">3Dmol.js failed to load for some reason.  Please check your browser console for error messages.<br></p>\n",
       "        </div>\n",
       "<script>\n",
       "\n",
       "var loadScriptAsync = function(uri){\n",
       "  return new Promise((resolve, reject) => {\n",
       "    //this is to ignore the existence of requirejs amd\n",
       "    var savedexports, savedmodule;\n",
       "    if (typeof exports !== 'undefined') savedexports = exports;\n",
       "    else exports = {}\n",
       "    if (typeof module !== 'undefined') savedmodule = module;\n",
       "    else module = {}\n",
       "\n",
       "    var tag = document.createElement('script');\n",
       "    tag.src = uri;\n",
       "    tag.async = true;\n",
       "    tag.onload = () => {\n",
       "        exports = savedexports;\n",
       "        module = savedmodule;\n",
       "        resolve();\n",
       "    };\n",
       "  var firstScriptTag = document.getElementsByTagName('script')[0];\n",
       "  firstScriptTag.parentNode.insertBefore(tag, firstScriptTag);\n",
       "});\n",
       "};\n",
       "\n",
       "if(typeof $3Dmolpromise === 'undefined') {\n",
       "$3Dmolpromise = null;\n",
       "  $3Dmolpromise = loadScriptAsync('https://cdnjs.cloudflare.com/ajax/libs/3Dmol/2.3.0/3Dmol-min.js');\n",
       "}\n",
       "\n",
       "var viewer_1722504241047759 = null;\n",
       "var warn = document.getElementById(\"3dmolwarning_1722504241047759\");\n",
       "if(warn) {\n",
       "    warn.parentNode.removeChild(warn);\n",
       "}\n",
       "$3Dmolpromise.then(function() {\n",
       "viewer_1722504241047759 = $3Dmol.createViewer(document.getElementById(\"3dmolviewer_1722504241047759\"),{backgroundColor:\"white\"});\n",
       "viewer_1722504241047759.zoomTo();\n",
       "\tviewer_1722504241047759.addModel(\"12\\nEnergy = -24.4779974221\\nAl 4.137e-07 0.0 4.2752369522\\nAl 4.0500004137 0.0 4.2752369522\\nAl 4.137e-07 4.05 4.2752369522\\nAl 4.0500004137 4.05 4.2752369522\\nAl 2.025 2.025 5.9999837388\\nAl 6.075 2.025 5.9999837388\\nAl 2.025 6.075 5.9999837388\\nAl 6.075 6.075 5.9999837388\\nAl -4.136e-07 0.0 7.7247678434\\nAl 4.0499995864 0.0 7.7247678434\\nAl -4.136e-07 4.05 7.7247678434\\nAl 4.0499995864 4.05 7.7247678434\",\"xyz\");\n",
       "\tviewer_1722504241047759.setStyle({\"stick\": {}});\n",
       "\tviewer_1722504241047759.zoomTo();\n",
       "\tviewer_1722504241047759.setBackgroundColor(\"white\");\n",
       "viewer_1722504241047759.render();\n",
       "});\n",
       "</script>"
      ]
     },
     "metadata": {},
     "output_type": "display_data"
    },
    {
     "data": {
      "text/plain": [
       "<py3Dmol.view at 0x11f7d7080>"
      ]
     },
     "metadata": {},
     "output_type": "display_data"
    },
    {
     "name": "stdout",
     "output_type": "stream",
     "text": [
      "Step 3, Energy: -24.477997 a.u.\n"
     ]
    },
    {
     "data": {
      "application/3dmoljs_load.v0": "<div id=\"3dmolviewer_17225042410488498\"  style=\"position: relative; width: 400px; height: 400px;\">\n        <p id=\"3dmolwarning_17225042410488498\" style=\"background-color:#ffcccc;color:black\">3Dmol.js failed to load for some reason.  Please check your browser console for error messages.<br></p>\n        </div>\n<script>\n\nvar loadScriptAsync = function(uri){\n  return new Promise((resolve, reject) => {\n    //this is to ignore the existence of requirejs amd\n    var savedexports, savedmodule;\n    if (typeof exports !== 'undefined') savedexports = exports;\n    else exports = {}\n    if (typeof module !== 'undefined') savedmodule = module;\n    else module = {}\n\n    var tag = document.createElement('script');\n    tag.src = uri;\n    tag.async = true;\n    tag.onload = () => {\n        exports = savedexports;\n        module = savedmodule;\n        resolve();\n    };\n  var firstScriptTag = document.getElementsByTagName('script')[0];\n  firstScriptTag.parentNode.insertBefore(tag, firstScriptTag);\n});\n};\n\nif(typeof $3Dmolpromise === 'undefined') {\n$3Dmolpromise = null;\n  $3Dmolpromise = loadScriptAsync('https://cdnjs.cloudflare.com/ajax/libs/3Dmol/2.3.0/3Dmol-min.js');\n}\n\nvar viewer_17225042410488498 = null;\nvar warn = document.getElementById(\"3dmolwarning_17225042410488498\");\nif(warn) {\n    warn.parentNode.removeChild(warn);\n}\n$3Dmolpromise.then(function() {\nviewer_17225042410488498 = $3Dmol.createViewer(document.getElementById(\"3dmolviewer_17225042410488498\"),{backgroundColor:\"white\"});\nviewer_17225042410488498.zoomTo();\n\tviewer_17225042410488498.addModel(\"12\\nEnergy = -24.4780244227\\nAl 4.049e-07 0.0 4.2822102097\\nAl 4.0500004049 0.0 4.2822102097\\nAl 4.049e-07 4.05 4.2822102097\\nAl 4.0500004049 4.05 4.2822102097\\nAl 2.025 2.025 5.9999823962\\nAl 6.075 2.025 5.9999823962\\nAl 2.025 6.075 5.9999823962\\nAl 6.075 6.075 5.9999823962\\nAl -4.05e-07 0.0 7.7177921601\\nAl 4.049999595 0.0 7.7177921601\\nAl -4.05e-07 4.05 7.7177921601\\nAl 4.049999595 4.05 7.7177921601\",\"xyz\");\n\tviewer_17225042410488498.setStyle({\"stick\": {}});\n\tviewer_17225042410488498.zoomTo();\n\tviewer_17225042410488498.setBackgroundColor(\"white\");\nviewer_17225042410488498.render();\n});\n</script>",
      "text/html": [
       "<div id=\"3dmolviewer_17225042410488498\"  style=\"position: relative; width: 400px; height: 400px;\">\n",
       "        <p id=\"3dmolwarning_17225042410488498\" style=\"background-color:#ffcccc;color:black\">3Dmol.js failed to load for some reason.  Please check your browser console for error messages.<br></p>\n",
       "        </div>\n",
       "<script>\n",
       "\n",
       "var loadScriptAsync = function(uri){\n",
       "  return new Promise((resolve, reject) => {\n",
       "    //this is to ignore the existence of requirejs amd\n",
       "    var savedexports, savedmodule;\n",
       "    if (typeof exports !== 'undefined') savedexports = exports;\n",
       "    else exports = {}\n",
       "    if (typeof module !== 'undefined') savedmodule = module;\n",
       "    else module = {}\n",
       "\n",
       "    var tag = document.createElement('script');\n",
       "    tag.src = uri;\n",
       "    tag.async = true;\n",
       "    tag.onload = () => {\n",
       "        exports = savedexports;\n",
       "        module = savedmodule;\n",
       "        resolve();\n",
       "    };\n",
       "  var firstScriptTag = document.getElementsByTagName('script')[0];\n",
       "  firstScriptTag.parentNode.insertBefore(tag, firstScriptTag);\n",
       "});\n",
       "};\n",
       "\n",
       "if(typeof $3Dmolpromise === 'undefined') {\n",
       "$3Dmolpromise = null;\n",
       "  $3Dmolpromise = loadScriptAsync('https://cdnjs.cloudflare.com/ajax/libs/3Dmol/2.3.0/3Dmol-min.js');\n",
       "}\n",
       "\n",
       "var viewer_17225042410488498 = null;\n",
       "var warn = document.getElementById(\"3dmolwarning_17225042410488498\");\n",
       "if(warn) {\n",
       "    warn.parentNode.removeChild(warn);\n",
       "}\n",
       "$3Dmolpromise.then(function() {\n",
       "viewer_17225042410488498 = $3Dmol.createViewer(document.getElementById(\"3dmolviewer_17225042410488498\"),{backgroundColor:\"white\"});\n",
       "viewer_17225042410488498.zoomTo();\n",
       "\tviewer_17225042410488498.addModel(\"12\\nEnergy = -24.4780244227\\nAl 4.049e-07 0.0 4.2822102097\\nAl 4.0500004049 0.0 4.2822102097\\nAl 4.049e-07 4.05 4.2822102097\\nAl 4.0500004049 4.05 4.2822102097\\nAl 2.025 2.025 5.9999823962\\nAl 6.075 2.025 5.9999823962\\nAl 2.025 6.075 5.9999823962\\nAl 6.075 6.075 5.9999823962\\nAl -4.05e-07 0.0 7.7177921601\\nAl 4.049999595 0.0 7.7177921601\\nAl -4.05e-07 4.05 7.7177921601\\nAl 4.049999595 4.05 7.7177921601\",\"xyz\");\n",
       "\tviewer_17225042410488498.setStyle({\"stick\": {}});\n",
       "\tviewer_17225042410488498.zoomTo();\n",
       "\tviewer_17225042410488498.setBackgroundColor(\"white\");\n",
       "viewer_17225042410488498.render();\n",
       "});\n",
       "</script>"
      ]
     },
     "metadata": {},
     "output_type": "display_data"
    },
    {
     "data": {
      "text/plain": [
       "<py3Dmol.view at 0x11fb895b0>"
      ]
     },
     "metadata": {},
     "output_type": "display_data"
    },
    {
     "name": "stdout",
     "output_type": "stream",
     "text": [
      "Step 4, Energy: -24.478024 a.u.\n"
     ]
    },
    {
     "data": {
      "application/3dmoljs_load.v0": "<div id=\"3dmolviewer_17225042410500212\"  style=\"position: relative; width: 400px; height: 400px;\">\n        <p id=\"3dmolwarning_17225042410500212\" style=\"background-color:#ffcccc;color:black\">3Dmol.js failed to load for some reason.  Please check your browser console for error messages.<br></p>\n        </div>\n<script>\n\nvar loadScriptAsync = function(uri){\n  return new Promise((resolve, reject) => {\n    //this is to ignore the existence of requirejs amd\n    var savedexports, savedmodule;\n    if (typeof exports !== 'undefined') savedexports = exports;\n    else exports = {}\n    if (typeof module !== 'undefined') savedmodule = module;\n    else module = {}\n\n    var tag = document.createElement('script');\n    tag.src = uri;\n    tag.async = true;\n    tag.onload = () => {\n        exports = savedexports;\n        module = savedmodule;\n        resolve();\n    };\n  var firstScriptTag = document.getElementsByTagName('script')[0];\n  firstScriptTag.parentNode.insertBefore(tag, firstScriptTag);\n});\n};\n\nif(typeof $3Dmolpromise === 'undefined') {\n$3Dmolpromise = null;\n  $3Dmolpromise = loadScriptAsync('https://cdnjs.cloudflare.com/ajax/libs/3Dmol/2.3.0/3Dmol-min.js');\n}\n\nvar viewer_17225042410500212 = null;\nvar warn = document.getElementById(\"3dmolwarning_17225042410500212\");\nif(warn) {\n    warn.parentNode.removeChild(warn);\n}\n$3Dmolpromise.then(function() {\nviewer_17225042410500212 = $3Dmol.createViewer(document.getElementById(\"3dmolviewer_17225042410500212\"),{backgroundColor:\"white\"});\nviewer_17225042410500212.zoomTo();\n\tviewer_17225042410500212.addModel(\"12\\nEnergy = -24.4780244227\\nAl 3.783e-07 0.0 4.2822232641\\nAl 4.0500003783 0.0 4.2822232641\\nAl 3.783e-07 4.05 4.2822232641\\nAl 4.0500003783 4.05 4.2822232641\\nAl 2.025 2.025 5.9999812996\\nAl 6.075 2.025 5.9999812996\\nAl 2.025 6.075 5.9999812996\\nAl 6.075 6.075 5.9999812996\\nAl -3.782e-07 0.0 7.7177808501\\nAl 4.0499996218 0.0 7.7177808501\\nAl -3.782e-07 4.05 7.7177808501\\nAl 4.0499996218 4.05 7.7177808501\",\"xyz\");\n\tviewer_17225042410500212.setStyle({\"stick\": {}});\n\tviewer_17225042410500212.zoomTo();\n\tviewer_17225042410500212.setBackgroundColor(\"white\");\nviewer_17225042410500212.render();\n});\n</script>",
      "text/html": [
       "<div id=\"3dmolviewer_17225042410500212\"  style=\"position: relative; width: 400px; height: 400px;\">\n",
       "        <p id=\"3dmolwarning_17225042410500212\" style=\"background-color:#ffcccc;color:black\">3Dmol.js failed to load for some reason.  Please check your browser console for error messages.<br></p>\n",
       "        </div>\n",
       "<script>\n",
       "\n",
       "var loadScriptAsync = function(uri){\n",
       "  return new Promise((resolve, reject) => {\n",
       "    //this is to ignore the existence of requirejs amd\n",
       "    var savedexports, savedmodule;\n",
       "    if (typeof exports !== 'undefined') savedexports = exports;\n",
       "    else exports = {}\n",
       "    if (typeof module !== 'undefined') savedmodule = module;\n",
       "    else module = {}\n",
       "\n",
       "    var tag = document.createElement('script');\n",
       "    tag.src = uri;\n",
       "    tag.async = true;\n",
       "    tag.onload = () => {\n",
       "        exports = savedexports;\n",
       "        module = savedmodule;\n",
       "        resolve();\n",
       "    };\n",
       "  var firstScriptTag = document.getElementsByTagName('script')[0];\n",
       "  firstScriptTag.parentNode.insertBefore(tag, firstScriptTag);\n",
       "});\n",
       "};\n",
       "\n",
       "if(typeof $3Dmolpromise === 'undefined') {\n",
       "$3Dmolpromise = null;\n",
       "  $3Dmolpromise = loadScriptAsync('https://cdnjs.cloudflare.com/ajax/libs/3Dmol/2.3.0/3Dmol-min.js');\n",
       "}\n",
       "\n",
       "var viewer_17225042410500212 = null;\n",
       "var warn = document.getElementById(\"3dmolwarning_17225042410500212\");\n",
       "if(warn) {\n",
       "    warn.parentNode.removeChild(warn);\n",
       "}\n",
       "$3Dmolpromise.then(function() {\n",
       "viewer_17225042410500212 = $3Dmol.createViewer(document.getElementById(\"3dmolviewer_17225042410500212\"),{backgroundColor:\"white\"});\n",
       "viewer_17225042410500212.zoomTo();\n",
       "\tviewer_17225042410500212.addModel(\"12\\nEnergy = -24.4780244227\\nAl 3.783e-07 0.0 4.2822232641\\nAl 4.0500003783 0.0 4.2822232641\\nAl 3.783e-07 4.05 4.2822232641\\nAl 4.0500003783 4.05 4.2822232641\\nAl 2.025 2.025 5.9999812996\\nAl 6.075 2.025 5.9999812996\\nAl 2.025 6.075 5.9999812996\\nAl 6.075 6.075 5.9999812996\\nAl -3.782e-07 0.0 7.7177808501\\nAl 4.0499996218 0.0 7.7177808501\\nAl -3.782e-07 4.05 7.7177808501\\nAl 4.0499996218 4.05 7.7177808501\",\"xyz\");\n",
       "\tviewer_17225042410500212.setStyle({\"stick\": {}});\n",
       "\tviewer_17225042410500212.zoomTo();\n",
       "\tviewer_17225042410500212.setBackgroundColor(\"white\");\n",
       "viewer_17225042410500212.render();\n",
       "});\n",
       "</script>"
      ]
     },
     "metadata": {},
     "output_type": "display_data"
    },
    {
     "data": {
      "text/plain": [
       "<py3Dmol.view at 0x11fb99b20>"
      ]
     },
     "metadata": {},
     "output_type": "display_data"
    },
    {
     "name": "stdout",
     "output_type": "stream",
     "text": [
      "Step 5, Energy: -24.478024 a.u.\n"
     ]
    },
    {
     "data": {
      "application/3dmoljs_load.v0": "<div id=\"3dmolviewer_1722504241051071\"  style=\"position: relative; width: 400px; height: 400px;\">\n        <p id=\"3dmolwarning_1722504241051071\" style=\"background-color:#ffcccc;color:black\">3Dmol.js failed to load for some reason.  Please check your browser console for error messages.<br></p>\n        </div>\n<script>\n\nvar loadScriptAsync = function(uri){\n  return new Promise((resolve, reject) => {\n    //this is to ignore the existence of requirejs amd\n    var savedexports, savedmodule;\n    if (typeof exports !== 'undefined') savedexports = exports;\n    else exports = {}\n    if (typeof module !== 'undefined') savedmodule = module;\n    else module = {}\n\n    var tag = document.createElement('script');\n    tag.src = uri;\n    tag.async = true;\n    tag.onload = () => {\n        exports = savedexports;\n        module = savedmodule;\n        resolve();\n    };\n  var firstScriptTag = document.getElementsByTagName('script')[0];\n  firstScriptTag.parentNode.insertBefore(tag, firstScriptTag);\n});\n};\n\nif(typeof $3Dmolpromise === 'undefined') {\n$3Dmolpromise = null;\n  $3Dmolpromise = loadScriptAsync('https://cdnjs.cloudflare.com/ajax/libs/3Dmol/2.3.0/3Dmol-min.js');\n}\n\nvar viewer_1722504241051071 = null;\nvar warn = document.getElementById(\"3dmolwarning_1722504241051071\");\nif(warn) {\n    warn.parentNode.removeChild(warn);\n}\n$3Dmolpromise.then(function() {\nviewer_1722504241051071 = $3Dmol.createViewer(document.getElementById(\"3dmolviewer_1722504241051071\"),{backgroundColor:\"white\"});\nviewer_1722504241051071.zoomTo();\n\tviewer_1722504241051071.addModel(\"12\\nEnergy = -24.4780109776\\nAl 3.783e-07 0.0 4.2822232641\\nAl 4.0500003783 0.0 4.2822232641\\nAl 3.783e-07 4.05 4.2822232641\\nAl 4.0500003783 4.05 4.2822232641\\nAl 2.025 2.025 5.9999812996\\nAl 6.075 2.025 5.9999812996\\nAl 2.025 6.075 5.9999812996\\nAl 6.075 6.075 5.9999812996\\nAl -3.782e-07 0.0 7.7177808501\\nAl 4.0499996218 0.0 7.7177808501\\nAl -3.782e-07 4.05 7.7177808501\\nAl 4.0499996218 4.05 7.7177808501\",\"xyz\");\n\tviewer_1722504241051071.setStyle({\"stick\": {}});\n\tviewer_1722504241051071.zoomTo();\n\tviewer_1722504241051071.setBackgroundColor(\"white\");\nviewer_1722504241051071.render();\n});\n</script>",
      "text/html": [
       "<div id=\"3dmolviewer_1722504241051071\"  style=\"position: relative; width: 400px; height: 400px;\">\n",
       "        <p id=\"3dmolwarning_1722504241051071\" style=\"background-color:#ffcccc;color:black\">3Dmol.js failed to load for some reason.  Please check your browser console for error messages.<br></p>\n",
       "        </div>\n",
       "<script>\n",
       "\n",
       "var loadScriptAsync = function(uri){\n",
       "  return new Promise((resolve, reject) => {\n",
       "    //this is to ignore the existence of requirejs amd\n",
       "    var savedexports, savedmodule;\n",
       "    if (typeof exports !== 'undefined') savedexports = exports;\n",
       "    else exports = {}\n",
       "    if (typeof module !== 'undefined') savedmodule = module;\n",
       "    else module = {}\n",
       "\n",
       "    var tag = document.createElement('script');\n",
       "    tag.src = uri;\n",
       "    tag.async = true;\n",
       "    tag.onload = () => {\n",
       "        exports = savedexports;\n",
       "        module = savedmodule;\n",
       "        resolve();\n",
       "    };\n",
       "  var firstScriptTag = document.getElementsByTagName('script')[0];\n",
       "  firstScriptTag.parentNode.insertBefore(tag, firstScriptTag);\n",
       "});\n",
       "};\n",
       "\n",
       "if(typeof $3Dmolpromise === 'undefined') {\n",
       "$3Dmolpromise = null;\n",
       "  $3Dmolpromise = loadScriptAsync('https://cdnjs.cloudflare.com/ajax/libs/3Dmol/2.3.0/3Dmol-min.js');\n",
       "}\n",
       "\n",
       "var viewer_1722504241051071 = null;\n",
       "var warn = document.getElementById(\"3dmolwarning_1722504241051071\");\n",
       "if(warn) {\n",
       "    warn.parentNode.removeChild(warn);\n",
       "}\n",
       "$3Dmolpromise.then(function() {\n",
       "viewer_1722504241051071 = $3Dmol.createViewer(document.getElementById(\"3dmolviewer_1722504241051071\"),{backgroundColor:\"white\"});\n",
       "viewer_1722504241051071.zoomTo();\n",
       "\tviewer_1722504241051071.addModel(\"12\\nEnergy = -24.4780109776\\nAl 3.783e-07 0.0 4.2822232641\\nAl 4.0500003783 0.0 4.2822232641\\nAl 3.783e-07 4.05 4.2822232641\\nAl 4.0500003783 4.05 4.2822232641\\nAl 2.025 2.025 5.9999812996\\nAl 6.075 2.025 5.9999812996\\nAl 2.025 6.075 5.9999812996\\nAl 6.075 6.075 5.9999812996\\nAl -3.782e-07 0.0 7.7177808501\\nAl 4.0499996218 0.0 7.7177808501\\nAl -3.782e-07 4.05 7.7177808501\\nAl 4.0499996218 4.05 7.7177808501\",\"xyz\");\n",
       "\tviewer_1722504241051071.setStyle({\"stick\": {}});\n",
       "\tviewer_1722504241051071.zoomTo();\n",
       "\tviewer_1722504241051071.setBackgroundColor(\"white\");\n",
       "viewer_1722504241051071.render();\n",
       "});\n",
       "</script>"
      ]
     },
     "metadata": {},
     "output_type": "display_data"
    },
    {
     "data": {
      "text/plain": [
       "<py3Dmol.view at 0x11fb9c350>"
      ]
     },
     "metadata": {},
     "output_type": "display_data"
    },
    {
     "name": "stdout",
     "output_type": "stream",
     "text": [
      "Step 6, Energy: -24.478011 a.u.\n"
     ]
    },
    {
     "ename": "FileNotFoundError",
     "evalue": "[Errno 2] No such file or directory: '/Users/karim/github/2024_bmw_airbus/literature/as_embedding_cp2k/Al_slab/test_go_output/energy_progression.png'",
     "output_type": "error",
     "traceback": [
      "\u001b[0;31m---------------------------------------------------------------------------\u001b[0m",
      "\u001b[0;31mFileNotFoundError\u001b[0m                         Traceback (most recent call last)",
      "Cell \u001b[0;32mIn[2], line 123\u001b[0m\n\u001b[1;32m    120\u001b[0m visualize_3d(molecules)\n\u001b[1;32m    122\u001b[0m \u001b[38;5;66;03m# Run additional analyses\u001b[39;00m\n\u001b[0;32m--> 123\u001b[0m \u001b[43mplot_energy_progression\u001b[49m\u001b[43m(\u001b[49m\u001b[43mmolecules\u001b[49m\u001b[43m)\u001b[49m\n\u001b[1;32m    124\u001b[0m plot_rmsd_progression(molecules)\n\u001b[1;32m    126\u001b[0m \u001b[38;5;66;03m# Print statistical information\u001b[39;00m\n",
      "Cell \u001b[0;32mIn[2], line 70\u001b[0m, in \u001b[0;36mplot_energy_progression\u001b[0;34m(molecules)\u001b[0m\n\u001b[1;32m     68\u001b[0m plt\u001b[38;5;241m.\u001b[39mtitle(\u001b[38;5;124m'\u001b[39m\u001b[38;5;124mEnergy Progression During Optimization\u001b[39m\u001b[38;5;124m'\u001b[39m)\n\u001b[1;32m     69\u001b[0m plt\u001b[38;5;241m.\u001b[39mgrid(\u001b[38;5;28;01mTrue\u001b[39;00m)\n\u001b[0;32m---> 70\u001b[0m \u001b[43mplt\u001b[49m\u001b[38;5;241;43m.\u001b[39;49m\u001b[43msavefig\u001b[49m\u001b[43m(\u001b[49m\u001b[38;5;124;43m'\u001b[39;49m\u001b[38;5;124;43mtest_go_output/energy_progression.png\u001b[39;49m\u001b[38;5;124;43m'\u001b[39;49m\u001b[43m,\u001b[49m\u001b[43m \u001b[49m\u001b[43mdpi\u001b[49m\u001b[38;5;241;43m=\u001b[39;49m\u001b[38;5;241;43m300\u001b[39;49m\u001b[43m)\u001b[49m\n\u001b[1;32m     71\u001b[0m plt\u001b[38;5;241m.\u001b[39mclose()\n",
      "File \u001b[0;32m~/.pyenv/versions/inhibitQ/lib/python3.12/site-packages/matplotlib/pyplot.py:1228\u001b[0m, in \u001b[0;36msavefig\u001b[0;34m(*args, **kwargs)\u001b[0m\n\u001b[1;32m   1225\u001b[0m fig \u001b[38;5;241m=\u001b[39m gcf()\n\u001b[1;32m   1226\u001b[0m \u001b[38;5;66;03m# savefig default implementation has no return, so mypy is unhappy\u001b[39;00m\n\u001b[1;32m   1227\u001b[0m \u001b[38;5;66;03m# presumably this is here because subclasses can return?\u001b[39;00m\n\u001b[0;32m-> 1228\u001b[0m res \u001b[38;5;241m=\u001b[39m \u001b[43mfig\u001b[49m\u001b[38;5;241;43m.\u001b[39;49m\u001b[43msavefig\u001b[49m\u001b[43m(\u001b[49m\u001b[38;5;241;43m*\u001b[39;49m\u001b[43margs\u001b[49m\u001b[43m,\u001b[49m\u001b[43m \u001b[49m\u001b[38;5;241;43m*\u001b[39;49m\u001b[38;5;241;43m*\u001b[39;49m\u001b[43mkwargs\u001b[49m\u001b[43m)\u001b[49m  \u001b[38;5;66;03m# type: ignore[func-returns-value]\u001b[39;00m\n\u001b[1;32m   1229\u001b[0m fig\u001b[38;5;241m.\u001b[39mcanvas\u001b[38;5;241m.\u001b[39mdraw_idle()  \u001b[38;5;66;03m# Need this if 'transparent=True', to reset colors.\u001b[39;00m\n\u001b[1;32m   1230\u001b[0m \u001b[38;5;28;01mreturn\u001b[39;00m res\n",
      "File \u001b[0;32m~/.pyenv/versions/inhibitQ/lib/python3.12/site-packages/matplotlib/figure.py:3395\u001b[0m, in \u001b[0;36mFigure.savefig\u001b[0;34m(self, fname, transparent, **kwargs)\u001b[0m\n\u001b[1;32m   3393\u001b[0m     \u001b[38;5;28;01mfor\u001b[39;00m ax \u001b[38;5;129;01min\u001b[39;00m \u001b[38;5;28mself\u001b[39m\u001b[38;5;241m.\u001b[39maxes:\n\u001b[1;32m   3394\u001b[0m         _recursively_make_axes_transparent(stack, ax)\n\u001b[0;32m-> 3395\u001b[0m \u001b[38;5;28;43mself\u001b[39;49m\u001b[38;5;241;43m.\u001b[39;49m\u001b[43mcanvas\u001b[49m\u001b[38;5;241;43m.\u001b[39;49m\u001b[43mprint_figure\u001b[49m\u001b[43m(\u001b[49m\u001b[43mfname\u001b[49m\u001b[43m,\u001b[49m\u001b[43m \u001b[49m\u001b[38;5;241;43m*\u001b[39;49m\u001b[38;5;241;43m*\u001b[39;49m\u001b[43mkwargs\u001b[49m\u001b[43m)\u001b[49m\n",
      "File \u001b[0;32m~/.pyenv/versions/inhibitQ/lib/python3.12/site-packages/matplotlib/backend_bases.py:2204\u001b[0m, in \u001b[0;36mFigureCanvasBase.print_figure\u001b[0;34m(self, filename, dpi, facecolor, edgecolor, orientation, format, bbox_inches, pad_inches, bbox_extra_artists, backend, **kwargs)\u001b[0m\n\u001b[1;32m   2200\u001b[0m \u001b[38;5;28;01mtry\u001b[39;00m:\n\u001b[1;32m   2201\u001b[0m     \u001b[38;5;66;03m# _get_renderer may change the figure dpi (as vector formats\u001b[39;00m\n\u001b[1;32m   2202\u001b[0m     \u001b[38;5;66;03m# force the figure dpi to 72), so we need to set it again here.\u001b[39;00m\n\u001b[1;32m   2203\u001b[0m     \u001b[38;5;28;01mwith\u001b[39;00m cbook\u001b[38;5;241m.\u001b[39m_setattr_cm(\u001b[38;5;28mself\u001b[39m\u001b[38;5;241m.\u001b[39mfigure, dpi\u001b[38;5;241m=\u001b[39mdpi):\n\u001b[0;32m-> 2204\u001b[0m         result \u001b[38;5;241m=\u001b[39m \u001b[43mprint_method\u001b[49m\u001b[43m(\u001b[49m\n\u001b[1;32m   2205\u001b[0m \u001b[43m            \u001b[49m\u001b[43mfilename\u001b[49m\u001b[43m,\u001b[49m\n\u001b[1;32m   2206\u001b[0m \u001b[43m            \u001b[49m\u001b[43mfacecolor\u001b[49m\u001b[38;5;241;43m=\u001b[39;49m\u001b[43mfacecolor\u001b[49m\u001b[43m,\u001b[49m\n\u001b[1;32m   2207\u001b[0m \u001b[43m            \u001b[49m\u001b[43medgecolor\u001b[49m\u001b[38;5;241;43m=\u001b[39;49m\u001b[43medgecolor\u001b[49m\u001b[43m,\u001b[49m\n\u001b[1;32m   2208\u001b[0m \u001b[43m            \u001b[49m\u001b[43morientation\u001b[49m\u001b[38;5;241;43m=\u001b[39;49m\u001b[43morientation\u001b[49m\u001b[43m,\u001b[49m\n\u001b[1;32m   2209\u001b[0m \u001b[43m            \u001b[49m\u001b[43mbbox_inches_restore\u001b[49m\u001b[38;5;241;43m=\u001b[39;49m\u001b[43m_bbox_inches_restore\u001b[49m\u001b[43m,\u001b[49m\n\u001b[1;32m   2210\u001b[0m \u001b[43m            \u001b[49m\u001b[38;5;241;43m*\u001b[39;49m\u001b[38;5;241;43m*\u001b[39;49m\u001b[43mkwargs\u001b[49m\u001b[43m)\u001b[49m\n\u001b[1;32m   2211\u001b[0m \u001b[38;5;28;01mfinally\u001b[39;00m:\n\u001b[1;32m   2212\u001b[0m     \u001b[38;5;28;01mif\u001b[39;00m bbox_inches \u001b[38;5;129;01mand\u001b[39;00m restore_bbox:\n",
      "File \u001b[0;32m~/.pyenv/versions/inhibitQ/lib/python3.12/site-packages/matplotlib/backend_bases.py:2054\u001b[0m, in \u001b[0;36mFigureCanvasBase._switch_canvas_and_return_print_method.<locals>.<lambda>\u001b[0;34m(*args, **kwargs)\u001b[0m\n\u001b[1;32m   2050\u001b[0m     optional_kws \u001b[38;5;241m=\u001b[39m {  \u001b[38;5;66;03m# Passed by print_figure for other renderers.\u001b[39;00m\n\u001b[1;32m   2051\u001b[0m         \u001b[38;5;124m\"\u001b[39m\u001b[38;5;124mdpi\u001b[39m\u001b[38;5;124m\"\u001b[39m, \u001b[38;5;124m\"\u001b[39m\u001b[38;5;124mfacecolor\u001b[39m\u001b[38;5;124m\"\u001b[39m, \u001b[38;5;124m\"\u001b[39m\u001b[38;5;124medgecolor\u001b[39m\u001b[38;5;124m\"\u001b[39m, \u001b[38;5;124m\"\u001b[39m\u001b[38;5;124morientation\u001b[39m\u001b[38;5;124m\"\u001b[39m,\n\u001b[1;32m   2052\u001b[0m         \u001b[38;5;124m\"\u001b[39m\u001b[38;5;124mbbox_inches_restore\u001b[39m\u001b[38;5;124m\"\u001b[39m}\n\u001b[1;32m   2053\u001b[0m     skip \u001b[38;5;241m=\u001b[39m optional_kws \u001b[38;5;241m-\u001b[39m {\u001b[38;5;241m*\u001b[39minspect\u001b[38;5;241m.\u001b[39msignature(meth)\u001b[38;5;241m.\u001b[39mparameters}\n\u001b[0;32m-> 2054\u001b[0m     print_method \u001b[38;5;241m=\u001b[39m functools\u001b[38;5;241m.\u001b[39mwraps(meth)(\u001b[38;5;28;01mlambda\u001b[39;00m \u001b[38;5;241m*\u001b[39margs, \u001b[38;5;241m*\u001b[39m\u001b[38;5;241m*\u001b[39mkwargs: \u001b[43mmeth\u001b[49m\u001b[43m(\u001b[49m\n\u001b[1;32m   2055\u001b[0m \u001b[43m        \u001b[49m\u001b[38;5;241;43m*\u001b[39;49m\u001b[43margs\u001b[49m\u001b[43m,\u001b[49m\u001b[43m \u001b[49m\u001b[38;5;241;43m*\u001b[39;49m\u001b[38;5;241;43m*\u001b[39;49m\u001b[43m{\u001b[49m\u001b[43mk\u001b[49m\u001b[43m:\u001b[49m\u001b[43m \u001b[49m\u001b[43mv\u001b[49m\u001b[43m \u001b[49m\u001b[38;5;28;43;01mfor\u001b[39;49;00m\u001b[43m \u001b[49m\u001b[43mk\u001b[49m\u001b[43m,\u001b[49m\u001b[43m \u001b[49m\u001b[43mv\u001b[49m\u001b[43m \u001b[49m\u001b[38;5;129;43;01min\u001b[39;49;00m\u001b[43m \u001b[49m\u001b[43mkwargs\u001b[49m\u001b[38;5;241;43m.\u001b[39;49m\u001b[43mitems\u001b[49m\u001b[43m(\u001b[49m\u001b[43m)\u001b[49m\u001b[43m \u001b[49m\u001b[38;5;28;43;01mif\u001b[39;49;00m\u001b[43m \u001b[49m\u001b[43mk\u001b[49m\u001b[43m \u001b[49m\u001b[38;5;129;43;01mnot\u001b[39;49;00m\u001b[43m \u001b[49m\u001b[38;5;129;43;01min\u001b[39;49;00m\u001b[43m \u001b[49m\u001b[43mskip\u001b[49m\u001b[43m}\u001b[49m\u001b[43m)\u001b[49m)\n\u001b[1;32m   2056\u001b[0m \u001b[38;5;28;01melse\u001b[39;00m:  \u001b[38;5;66;03m# Let third-parties do as they see fit.\u001b[39;00m\n\u001b[1;32m   2057\u001b[0m     print_method \u001b[38;5;241m=\u001b[39m meth\n",
      "File \u001b[0;32m~/.pyenv/versions/inhibitQ/lib/python3.12/site-packages/matplotlib/backends/backend_agg.py:496\u001b[0m, in \u001b[0;36mFigureCanvasAgg.print_png\u001b[0;34m(self, filename_or_obj, metadata, pil_kwargs)\u001b[0m\n\u001b[1;32m    449\u001b[0m \u001b[38;5;28;01mdef\u001b[39;00m \u001b[38;5;21mprint_png\u001b[39m(\u001b[38;5;28mself\u001b[39m, filename_or_obj, \u001b[38;5;241m*\u001b[39m, metadata\u001b[38;5;241m=\u001b[39m\u001b[38;5;28;01mNone\u001b[39;00m, pil_kwargs\u001b[38;5;241m=\u001b[39m\u001b[38;5;28;01mNone\u001b[39;00m):\n\u001b[1;32m    450\u001b[0m \u001b[38;5;250m    \u001b[39m\u001b[38;5;124;03m\"\"\"\u001b[39;00m\n\u001b[1;32m    451\u001b[0m \u001b[38;5;124;03m    Write the figure to a PNG file.\u001b[39;00m\n\u001b[1;32m    452\u001b[0m \n\u001b[0;32m   (...)\u001b[0m\n\u001b[1;32m    494\u001b[0m \u001b[38;5;124;03m        *metadata*, including the default 'Software' key.\u001b[39;00m\n\u001b[1;32m    495\u001b[0m \u001b[38;5;124;03m    \"\"\"\u001b[39;00m\n\u001b[0;32m--> 496\u001b[0m     \u001b[38;5;28;43mself\u001b[39;49m\u001b[38;5;241;43m.\u001b[39;49m\u001b[43m_print_pil\u001b[49m\u001b[43m(\u001b[49m\u001b[43mfilename_or_obj\u001b[49m\u001b[43m,\u001b[49m\u001b[43m \u001b[49m\u001b[38;5;124;43m\"\u001b[39;49m\u001b[38;5;124;43mpng\u001b[39;49m\u001b[38;5;124;43m\"\u001b[39;49m\u001b[43m,\u001b[49m\u001b[43m \u001b[49m\u001b[43mpil_kwargs\u001b[49m\u001b[43m,\u001b[49m\u001b[43m \u001b[49m\u001b[43mmetadata\u001b[49m\u001b[43m)\u001b[49m\n",
      "File \u001b[0;32m~/.pyenv/versions/inhibitQ/lib/python3.12/site-packages/matplotlib/backends/backend_agg.py:445\u001b[0m, in \u001b[0;36mFigureCanvasAgg._print_pil\u001b[0;34m(self, filename_or_obj, fmt, pil_kwargs, metadata)\u001b[0m\n\u001b[1;32m    440\u001b[0m \u001b[38;5;250m\u001b[39m\u001b[38;5;124;03m\"\"\"\u001b[39;00m\n\u001b[1;32m    441\u001b[0m \u001b[38;5;124;03mDraw the canvas, then save it using `.image.imsave` (to which\u001b[39;00m\n\u001b[1;32m    442\u001b[0m \u001b[38;5;124;03m*pil_kwargs* and *metadata* are forwarded).\u001b[39;00m\n\u001b[1;32m    443\u001b[0m \u001b[38;5;124;03m\"\"\"\u001b[39;00m\n\u001b[1;32m    444\u001b[0m FigureCanvasAgg\u001b[38;5;241m.\u001b[39mdraw(\u001b[38;5;28mself\u001b[39m)\n\u001b[0;32m--> 445\u001b[0m \u001b[43mmpl\u001b[49m\u001b[38;5;241;43m.\u001b[39;49m\u001b[43mimage\u001b[49m\u001b[38;5;241;43m.\u001b[39;49m\u001b[43mimsave\u001b[49m\u001b[43m(\u001b[49m\n\u001b[1;32m    446\u001b[0m \u001b[43m    \u001b[49m\u001b[43mfilename_or_obj\u001b[49m\u001b[43m,\u001b[49m\u001b[43m \u001b[49m\u001b[38;5;28;43mself\u001b[39;49m\u001b[38;5;241;43m.\u001b[39;49m\u001b[43mbuffer_rgba\u001b[49m\u001b[43m(\u001b[49m\u001b[43m)\u001b[49m\u001b[43m,\u001b[49m\u001b[43m \u001b[49m\u001b[38;5;28;43mformat\u001b[39;49m\u001b[38;5;241;43m=\u001b[39;49m\u001b[43mfmt\u001b[49m\u001b[43m,\u001b[49m\u001b[43m \u001b[49m\u001b[43morigin\u001b[49m\u001b[38;5;241;43m=\u001b[39;49m\u001b[38;5;124;43m\"\u001b[39;49m\u001b[38;5;124;43mupper\u001b[39;49m\u001b[38;5;124;43m\"\u001b[39;49m\u001b[43m,\u001b[49m\n\u001b[1;32m    447\u001b[0m \u001b[43m    \u001b[49m\u001b[43mdpi\u001b[49m\u001b[38;5;241;43m=\u001b[39;49m\u001b[38;5;28;43mself\u001b[39;49m\u001b[38;5;241;43m.\u001b[39;49m\u001b[43mfigure\u001b[49m\u001b[38;5;241;43m.\u001b[39;49m\u001b[43mdpi\u001b[49m\u001b[43m,\u001b[49m\u001b[43m \u001b[49m\u001b[43mmetadata\u001b[49m\u001b[38;5;241;43m=\u001b[39;49m\u001b[43mmetadata\u001b[49m\u001b[43m,\u001b[49m\u001b[43m \u001b[49m\u001b[43mpil_kwargs\u001b[49m\u001b[38;5;241;43m=\u001b[39;49m\u001b[43mpil_kwargs\u001b[49m\u001b[43m)\u001b[49m\n",
      "File \u001b[0;32m~/.pyenv/versions/inhibitQ/lib/python3.12/site-packages/matplotlib/image.py:1676\u001b[0m, in \u001b[0;36mimsave\u001b[0;34m(fname, arr, vmin, vmax, cmap, format, origin, dpi, metadata, pil_kwargs)\u001b[0m\n\u001b[1;32m   1674\u001b[0m pil_kwargs\u001b[38;5;241m.\u001b[39msetdefault(\u001b[38;5;124m\"\u001b[39m\u001b[38;5;124mformat\u001b[39m\u001b[38;5;124m\"\u001b[39m, \u001b[38;5;28mformat\u001b[39m)\n\u001b[1;32m   1675\u001b[0m pil_kwargs\u001b[38;5;241m.\u001b[39msetdefault(\u001b[38;5;124m\"\u001b[39m\u001b[38;5;124mdpi\u001b[39m\u001b[38;5;124m\"\u001b[39m, (dpi, dpi))\n\u001b[0;32m-> 1676\u001b[0m \u001b[43mimage\u001b[49m\u001b[38;5;241;43m.\u001b[39;49m\u001b[43msave\u001b[49m\u001b[43m(\u001b[49m\u001b[43mfname\u001b[49m\u001b[43m,\u001b[49m\u001b[43m \u001b[49m\u001b[38;5;241;43m*\u001b[39;49m\u001b[38;5;241;43m*\u001b[39;49m\u001b[43mpil_kwargs\u001b[49m\u001b[43m)\u001b[49m\n",
      "File \u001b[0;32m~/.pyenv/versions/inhibitQ/lib/python3.12/site-packages/PIL/Image.py:2563\u001b[0m, in \u001b[0;36mImage.save\u001b[0;34m(self, fp, format, **params)\u001b[0m\n\u001b[1;32m   2561\u001b[0m         fp \u001b[38;5;241m=\u001b[39m builtins\u001b[38;5;241m.\u001b[39mopen(filename, \u001b[38;5;124m\"\u001b[39m\u001b[38;5;124mr+b\u001b[39m\u001b[38;5;124m\"\u001b[39m)\n\u001b[1;32m   2562\u001b[0m     \u001b[38;5;28;01melse\u001b[39;00m:\n\u001b[0;32m-> 2563\u001b[0m         fp \u001b[38;5;241m=\u001b[39m \u001b[43mbuiltins\u001b[49m\u001b[38;5;241;43m.\u001b[39;49m\u001b[43mopen\u001b[49m\u001b[43m(\u001b[49m\u001b[43mfilename\u001b[49m\u001b[43m,\u001b[49m\u001b[43m \u001b[49m\u001b[38;5;124;43m\"\u001b[39;49m\u001b[38;5;124;43mw+b\u001b[39;49m\u001b[38;5;124;43m\"\u001b[39;49m\u001b[43m)\u001b[49m\n\u001b[1;32m   2564\u001b[0m \u001b[38;5;28;01melse\u001b[39;00m:\n\u001b[1;32m   2565\u001b[0m     fp \u001b[38;5;241m=\u001b[39m cast(IO[\u001b[38;5;28mbytes\u001b[39m], fp)\n",
      "\u001b[0;31mFileNotFoundError\u001b[0m: [Errno 2] No such file or directory: '/Users/karim/github/2024_bmw_airbus/literature/as_embedding_cp2k/Al_slab/test_go_output/energy_progression.png'"
     ]
    },
    {
     "data": {
      "image/png": "[encoded data removed]",
      "text/plain": [
       "<Figure size 1000x600 with 1 Axes>"
      ]
     },
     "metadata": {},
     "output_type": "display_data"
    }
   ],
   "source": [
    "import matplotlib.pyplot as plt\n",
    "import numpy as np\n",
    "import py3Dmol\n",
    "from IPython.display import display\n",
    "\n",
    "def parse_xyz(content):\n",
    "    molecules = []\n",
    "    lines = content.strip().split('\\n')\n",
    "    i = 0\n",
    "    while i < len(lines):\n",
    "        if lines[i].strip().isdigit():\n",
    "            num_atoms = int(lines[i].strip())\n",
    "            energy_line = lines[i + 1].strip()\n",
    "            energy = float(energy_line.split('=')[-1].strip())\n",
    "            atom_lines = lines[i + 2:i + 2 + num_atoms]\n",
    "            atoms = []\n",
    "            for line in atom_lines:\n",
    "                parts = line.split()\n",
    "                atom_symbol = parts[0]\n",
    "                x, y, z = float(parts[1]), float(parts[2]), float(parts[3])\n",
    "                atoms.append((atom_symbol, x, y, z))\n",
    "            molecules.append((energy, atoms))\n",
    "            i += 2 + num_atoms\n",
    "        else:\n",
    "            i += 1\n",
    "    return molecules\n",
    "\n",
    "def custom_visualize_structure(molecules):\n",
    "    fig, axes = plt.subplots(len(molecules), 1, figsize=(8, 4*len(molecules)))\n",
    "    if len(molecules) == 1:\n",
    "        axes = [axes]\n",
    "    \n",
    "    for idx, ((energy, atoms), ax) in enumerate(zip(molecules, axes)):\n",
    "        ax.set_aspect('equal')\n",
    "        ax.set_xlim(-2, 2)\n",
    "        ax.set_ylim(-2, 2)\n",
    "        ax.axis('off')\n",
    "        \n",
    "        for atom in atoms:\n",
    "            if atom[0] == 'C':\n",
    "                ax.plot(atom[1], atom[2], 'ko', markersize=10)\n",
    "            elif atom[0] == 'H':\n",
    "                ax.plot(atom[1], atom[2], 'bo', markersize=5)\n",
    "        \n",
    "        ax.set_title(f'Energy: {energy:.6f} a.u.')\n",
    "    \n",
    "    plt.tight_layout()\n",
    "    return fig\n",
    "\n",
    "def visualize_3d(molecules):\n",
    "    for idx, (energy, atoms) in enumerate(molecules):\n",
    "        viewer = py3Dmol.view(width=400, height=400)\n",
    "        xyz_string = f\"{len(atoms)}\\nEnergy = {energy}\\n\"\n",
    "        xyz_string += \"\\n\".join([f\"{atom[0]} {atom[1]} {atom[2]} {atom[3]}\" for atom in atoms])\n",
    "        viewer.addModel(xyz_string, \"xyz\")\n",
    "        viewer.setStyle({'stick':{}})\n",
    "        viewer.zoomTo()\n",
    "        viewer.setBackgroundColor('white')\n",
    "        display(viewer)\n",
    "        print(f\"Step {idx+1}, Energy: {energy:.6f} a.u.\")\n",
    "\n",
    "def plot_energy_progression(molecules):\n",
    "    energies = [mol[0] for mol in molecules]\n",
    "    plt.figure(figsize=(10, 6))\n",
    "    plt.plot(range(1, len(energies) + 1), energies, marker='o')\n",
    "    plt.xlabel('Optimization Step')\n",
    "    plt.ylabel('Energy (a.u.)')\n",
    "    plt.title('Energy Progression During Optimization')\n",
    "    plt.grid(True)\n",
    "    plt.savefig('test_go_output/energy_progression.png', dpi=300)\n",
    "    plt.close()\n",
    "\n",
    "def calculate_rmsd(ref_atoms, atoms):\n",
    "    ref_coords = np.array([atom[1:] for atom in ref_atoms])\n",
    "    coords = np.array([atom[1:] for atom in atoms])\n",
    "    diff = ref_coords - coords\n",
    "    return np.sqrt(np.mean(np.sum(diff**2, axis=1)))\n",
    "\n",
    "def plot_rmsd_progression(molecules):\n",
    "    ref_atoms = molecules[0][1]\n",
    "    rmsds = [calculate_rmsd(ref_atoms, mol[1]) for mol in molecules]\n",
    "    plt.figure(figsize=(10, 6))\n",
    "    plt.plot(range(1, len(rmsds) + 1), rmsds, marker='o')\n",
    "    plt.xlabel('Optimization Step')\n",
    "    plt.ylabel('RMSD (Angstrom)')\n",
    "    plt.title('RMSD Progression During Optimization')\n",
    "    plt.grid(True)\n",
    "    plt.savefig('test_go_output/rmsd_progression.png', dpi=300)\n",
    "    plt.close()\n",
    "\n",
    "def print_molecule_composition(molecules):\n",
    "    for i, (energy, atoms) in enumerate(molecules):\n",
    "        print(f\"Molecule {i+1} (Energy: {energy:.6f} a.u.):\")\n",
    "        atom_counts = {}\n",
    "        for atom in atoms:\n",
    "            atom_counts[atom[0]] = atom_counts.get(atom[0], 0) + 1\n",
    "        for atom_type, count in atom_counts.items():\n",
    "            print(f\"  {atom_type}: {count}\")\n",
    "        print()\n",
    "\n",
    "# Main execution\n",
    "if __name__ == \"__main__\":\n",
    "    # Read the XYZ file content\n",
    "    xyz_filename = 'al_slab_opt/al_slab_opt-pos-1.xyz'  # replace with your actual file path\n",
    "    with open(xyz_filename, 'r') as f:\n",
    "        content = f.read()\n",
    "\n",
    "    # Parse the XYZ content\n",
    "    molecules = parse_xyz(content)\n",
    "\n",
    "    # Print molecule composition\n",
    "    print_molecule_composition(molecules)\n",
    "\n",
    "    # Visualize the 2D structures\n",
    "    fig = custom_visualize_structure(molecules)\n",
    "    fig.savefig('al_slab_opt/visualized_molecules.png', dpi=300)\n",
    "    plt.close(fig)\n",
    "\n",
    "    # Visualize the 3D structures\n",
    "    visualize_3d(molecules)\n",
    "\n",
    "    # Run additional analyses\n",
    "    plot_energy_progression(molecules)\n",
    "    plot_rmsd_progression(molecules)\n",
    "\n",
    "    # Print statistical information\n",
    "    energies = [mol[0] for mol in molecules]\n",
    "    print(f\"Energy statistics:\")\n",
    "    print(f\"  Min: {min(energies):.6f} a.u.\")\n",
    "    print(f\"  Max: {max(energies):.6f} a.u.\")\n",
    "    print(f\"  Mean: {np.mean(energies):.6f} a.u.\")\n",
    "    print(f\"  Std Dev: {np.std(energies):.6f} a.u.\")\n",
    "\n",
    "    print(\"Analysis complete. Output files saved in the 'test_go_output' directory.\")"
   ]
  },
  {
   "cell_type": "code",
   "execution_count": 5,
   "metadata": {},
   "outputs": [
    {
     "data": {
      "application/vnd.jupyter.widget-view+json": {
       "model_id": "a00c31dacee44f1e86866265639dc080",
       "version_major": 2,
       "version_minor": 0
      },
      "text/plain": [
       "NGLWidget()"
      ]
     },
     "metadata": {},
     "output_type": "display_data"
    }
   ],
   "source": [
    "import nglview as nv\n",
    "from ase.io import read\n",
    "from IPython.display import display\n",
    "\n",
    "def visualize_with_nglview(xyz_file):\n",
    "    atoms = read(xyz_file)\n",
    "    view = nv.show_ase(atoms)\n",
    "    return view\n",
    "\n",
    "# Usage for a single structure\n",
    "xyz_file = 'al_slab_opt/al_slab_opt-pos-1.xyz'  # replace with your actual file path\n",
    "view = visualize_with_nglview(xyz_file)\n",
    "display(view)\n",
    "\n",
    "# To visualize all steps in your optimization:\n",
    "def visualize_all_steps(molecules):\n",
    "    for i, (energy, atoms) in enumerate(molecules):\n",
    "        print(f\"Step {i+1}, Energy: {energy:.6f} a.u.\")\n",
    "        \n",
    "        # Create a temporary XYZ file for this step\n",
    "        temp_xyz = f'temp_step_{i+1}.xyz'\n",
    "        with open(temp_xyz, 'w') as f:\n",
    "            f.write(f\"{len(atoms)}\\n\")\n",
    "            f.write(f\"Energy = {energy}\\n\")\n",
    "            for atom in atoms:\n",
    "                f.write(f\"{atom[0]} {atom[1]} {atom[2]} {atom[3]}\\n\")\n",
    "        \n",
    "        view = visualize_with_nglview(temp_xyz)\n",
    "        display(view)\n",
    "        \n",
    "        # Clean up temporary file\n",
    "        import os\n",
    "        os.remove(temp_xyz)\n",
    "\n",
    "# Call this function with your molecules list\n",
    "# visualize_all_steps(molecules)"
   ]
  },
  {
   "cell_type": "code",
   "execution_count": null,
   "metadata": {},
   "outputs": [],
   "source": []
  }
 ],
 "metadata": {
  "kernelspec": {
   "display_name": "inhibitQ",
   "language": "python",
   "name": "python3"
  },
  "language_info": {
   "codemirror_mode": {
    "name": "ipython",
    "version": 3
   },
   "file_extension": ".py",
   "mimetype": "text/x-python",
   "name": "python",
   "nbconvert_exporter": "python",
   "pygments_lexer": "ipython3",
   "version": "3.12.2"
  }
 },
 "nbformat": 4,
 "nbformat_minor": 2
}
