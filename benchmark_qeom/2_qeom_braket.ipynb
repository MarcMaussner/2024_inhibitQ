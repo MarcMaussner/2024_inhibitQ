{
 "cells": [
  {
   "cell_type": "markdown",
   "id": "5e1a4f7a-3648-4b6f-a9ff-72554221019d",
   "metadata": {},
   "source": [
    "# Trying qeom with braket local"
   ]
  },
  {
   "cell_type": "code",
   "execution_count": 1,
   "id": "cc2951a9-26d5-46fc-99c7-62e207dbf21f",
   "metadata": {},
   "outputs": [],
   "source": [
    "from qiskit_nature.units import DistanceUnit\n",
    "from qiskit_nature.second_q.drivers import PySCFDriver\n",
    "\n",
    "import time\n",
    "\n",
    "driver = PySCFDriver(\n",
    "    atom=\"H 0 0 0; H 0 0 0.735\",\n",
    "    basis=\"sto3g\",\n",
    "    charge=0,\n",
    "    spin=0,\n",
    "    unit=DistanceUnit.ANGSTROM,\n",
    ")\n",
    "\n",
    "es_problem = driver.run()"
   ]
  },
  {
   "cell_type": "code",
   "execution_count": 2,
   "id": "051e114a-2f00-4191-b4f5-71b9f1f773cd",
   "metadata": {},
   "outputs": [],
   "source": [
    "from qiskit_nature.second_q.mappers import JordanWignerMapper\n",
    "\n",
    "mapper = JordanWignerMapper()"
   ]
  },
  {
   "cell_type": "code",
   "execution_count": 3,
   "id": "c47fbd14-9433-47c5-b451-7c3a4920f3d8",
   "metadata": {},
   "outputs": [],
   "source": [
    "from qiskit_algorithms import NumPyEigensolver\n",
    "\n",
    "numpy_solver = NumPyEigensolver(k=4, filter_criterion=es_problem.get_default_filter_criterion())"
   ]
  },
  {
   "cell_type": "markdown",
   "id": "8c32f037-7e11-456f-ae51-84c6132185ba",
   "metadata": {},
   "source": [
    "### code relevant for braket (estimator)"
   ]
  },
  {
   "cell_type": "code",
   "execution_count": 4,
   "id": "2e12b82b-82c0-427b-a968-d4b9f9c46a0a",
   "metadata": {},
   "outputs": [],
   "source": [
    "from braket.aws import AwsDevice\n",
    "from braket.devices import Devices\n",
    "from braket.jobs import hybrid_job, save_job_result\n",
    "from qiskit.primitives import BackendEstimator\n",
    "from qiskit_braket_provider import BraketLocalBackend"
   ]
  },
  {
   "cell_type": "code",
   "execution_count": 5,
   "id": "da68f0eb-6e7f-45e0-b97c-df9a1d78ee5a",
   "metadata": {},
   "outputs": [],
   "source": [
    "# get backend: here SV1\n",
    "from qiskit_braket_provider import BraketProvider\n",
    "\n",
    "sv1 = AwsDevice(Devices.Amazon.SV1)\n",
    "#backend = BraketProvider().get_backend(\"SV1\")"
   ]
  },
  {
   "cell_type": "code",
   "execution_count": 7,
   "id": "d77455d2-22b8-48b3-8fc4-d2d7a653e925",
   "metadata": {},
   "outputs": [],
   "source": [
    "# create our own estimator\n",
    "backend = BraketLocalBackend()\n",
    "estimator = BackendEstimator(backend=backend, options={\"shots\": 1000})\n"
   ]
  },
  {
   "cell_type": "code",
   "execution_count": 8,
   "id": "6dc3e63d-ad56-46e0-b048-92d35cf127f3",
   "metadata": {},
   "outputs": [],
   "source": [
    "from qiskit_algorithms import VQE\n",
    "from qiskit_algorithms.optimizers import SLSQP\n",
    "from qiskit.primitives import Estimator\n",
    "from qiskit_nature.second_q.algorithms import GroundStateEigensolver, QEOM, EvaluationRule\n",
    "from qiskit_nature.second_q.circuit.library import HartreeFock, UCCSD\n",
    "\n",
    "ansatz = UCCSD(\n",
    "    es_problem.num_spatial_orbitals,\n",
    "    es_problem.num_particles,\n",
    "    mapper,\n",
    "    initial_state=HartreeFock(\n",
    "        es_problem.num_spatial_orbitals,\n",
    "        es_problem.num_particles,\n",
    "        mapper,\n",
    "    ),\n",
    ")\n",
    "\n",
    "#estimator = Estimator()\n",
    "# This first part sets the ground state solver\n",
    "# see more about this part in the ground state calculation tutorial\n",
    "solver = VQE(estimator, ansatz, SLSQP())\n",
    "solver.initial_point = [0.0] * ansatz.num_parameters\n",
    "gse = GroundStateEigensolver(mapper, solver)\n",
    "\n",
    "# The qEOM algorithm is simply instantiated with the chosen ground state solver and Estimator primitive\n",
    "qeom_excited_states_solver = QEOM(gse, estimator, \"sd\", EvaluationRule.ALL)"
   ]
  },
  {
   "cell_type": "code",
   "execution_count": 9,
   "id": "932154d3-eecf-4759-af13-3abc2dd65fff",
   "metadata": {},
   "outputs": [
    {
     "name": "stdout",
     "output_type": "stream",
     "text": [
      "Time taken [sec]:  319.1298575401306\n",
      "=== GROUND STATE ENERGY ===\n",
      " \n",
      "* Electronic ground state energy (Hartree): -1.857275030202\n",
      "  - computed part:      -1.857275030202\n",
      "~ Nuclear repulsion energy (Hartree): 0.719968994449\n",
      "> Total ground state energy (Hartree): -1.137306035753\n",
      " \n",
      "=== EXCITED STATE ENERGIES ===\n",
      " \n",
      "  1: \n",
      "* Electronic excited state energy (Hartree): -0.882722150245\n",
      "> Total excited state energy (Hartree): -0.162753155796\n",
      "  2: \n",
      "* Electronic excited state energy (Hartree): -0.224911252831\n",
      "> Total excited state energy (Hartree): 0.495057741618\n",
      " \n",
      "=== MEASURED OBSERVABLES ===\n",
      " \n",
      "  0:  # Particles: 2.000 S: 0.000 S^2: 0.000 M: 0.000\n",
      "  1:  # Particles: 2.000 S: 0.000 S^2: 0.000 M: 0.000\n",
      "  2:  # Particles: 2.000 S: 0.000 S^2: 0.000 M: 0.000\n",
      " \n",
      "=== DIPOLE MOMENTS ===\n",
      " \n",
      "~ Nuclear dipole moment (a.u.): [0.0  0.0  1.3889487]\n",
      " \n",
      "  0: \n",
      "  * Electronic dipole moment (a.u.): [0.0  0.0  1.388948701555]\n",
      "    - computed part:      [0.0  0.0  1.388948701555]\n",
      "  > Dipole moment (a.u.): [0.0  0.0  -0.000000001555]  Total: 0.000000001555\n",
      "                 (debye): [0.0  0.0  -0.000000003953]  Total: 0.000000003953\n",
      " \n",
      "  1: \n",
      "  * Electronic dipole moment (a.u.): [0.0  0.0  1.388948701555]\n",
      "    - computed part:      [0.0  0.0  1.388948701555]\n",
      "  > Dipole moment (a.u.): [0.0  0.0  -0.000000001555]  Total: 0.000000001555\n",
      "                 (debye): [0.0  0.0  -0.000000003953]  Total: 0.000000003953\n",
      " \n",
      "  2: \n",
      "  * Electronic dipole moment (a.u.): [0.0  0.0  1.388948701555]\n",
      "    - computed part:      [0.0  0.0  1.388948701555]\n",
      "  > Dipole moment (a.u.): [0.0  0.0  -0.000000001555]  Total: 0.000000001555\n",
      "                 (debye): [0.0  0.0  -0.000000003953]  Total: 0.000000003953\n",
      " \n",
      "\n",
      "\n",
      "\n",
      "=== GROUND STATE ENERGY ===\n",
      " \n",
      "* Electronic ground state energy (Hartree): -1.781638465461\n",
      "  - computed part:      -1.781638465461\n",
      "~ Nuclear repulsion energy (Hartree): 0.719968994449\n",
      "> Total ground state energy (Hartree): -1.061669471012\n",
      " \n",
      "=== EXCITED STATE ENERGIES ===\n",
      " \n",
      "  1: \n",
      "* Electronic excited state energy (Hartree): -1.198348518716\n",
      "> Total excited state energy (Hartree): -0.478379524267\n",
      "  2: \n",
      "* Electronic excited state energy (Hartree): -0.849985650987\n",
      "> Total excited state energy (Hartree): -0.130016656538\n",
      "  3: \n",
      "* Electronic excited state energy (Hartree): -0.155423322173\n",
      "> Total excited state energy (Hartree): 0.564545672276\n",
      " \n",
      "=== MEASURED OBSERVABLES ===\n",
      " \n",
      "  0:  # Particles: 2.000 S: 0.026 S^2: 0.026 M: 0.000\n",
      "  1:  # Particles: 2.365 S: 0.981 S^2: 1.944 M: 0.000\n",
      "  2:  # Particles: 2.602 S: 0.002 S^2: 0.002 M: -0.000\n",
      "  3:  # Particles: 2.034 S: 0.009 S^2: 0.009 M: 0.000\n",
      " \n",
      "=== DIPOLE MOMENTS ===\n",
      " \n",
      "~ Nuclear dipole moment (a.u.): [0.0  0.0  1.3889487]\n",
      " \n",
      "  0: \n",
      "  * Electronic dipole moment (a.u.): [0.0  0.0  0.813691949871]\n",
      "    - computed part:      [0.0  0.0  0.813691949871]\n",
      "  > Dipole moment (a.u.): [0.0  0.0  0.575256750129]  Total: 0.575256750129\n",
      "                 (debye): [0.0  0.0  1.46215667653]  Total: 1.46215667653\n",
      " \n",
      "  1: \n",
      "  * Electronic dipole moment (a.u.): [0.0  0.0  1.579962497291]\n",
      "    - computed part:      [0.0  0.0  1.579962497291]\n",
      "  > Dipole moment (a.u.): [0.0  0.0  -0.191013797291]  Total: 0.191013797291\n",
      "                 (debye): [0.0  0.0  -0.485508599345]  Total: 0.485508599345\n",
      " \n",
      "  2: \n",
      "  * Electronic dipole moment (a.u.): [0.0  0.0  0.419537983991]\n",
      "    - computed part:      [0.0  0.0  0.419537983991]\n",
      "  > Dipole moment (a.u.): [0.0  0.0  0.969410716009]  Total: 0.969410716009\n",
      "                 (debye): [0.0  0.0  2.46399603376]  Total: 2.46399603376\n",
      " \n",
      "  3: \n",
      "  * Electronic dipole moment (a.u.): [0.0  0.0  2.017556230437]\n",
      "    - computed part:      [0.0  0.0  2.017556230437]\n",
      "  > Dipole moment (a.u.): [0.0  0.0  -0.628607530437]  Total: 0.628607530437\n",
      "                 (debye): [0.0  0.0  -1.597760821302]  Total: 1.597760821302\n",
      " \n"
     ]
    }
   ],
   "source": [
    "from qiskit_nature.second_q.algorithms import ExcitedStatesEigensolver\n",
    "\n",
    "numpy_excited_states_solver = ExcitedStatesEigensolver(mapper, numpy_solver)\n",
    "numpy_results = numpy_excited_states_solver.solve(es_problem)\n",
    "\n",
    "start = time.time()\n",
    "qeom_results = qeom_excited_states_solver.solve(es_problem)\n",
    "end = time.time()\n",
    "\n",
    "print(\"Time taken [sec]: \", (end-start))\n",
    "\n",
    "print(numpy_results)\n",
    "print(\"\\n\\n\")\n",
    "print(qeom_results)"
   ]
  },
  {
   "cell_type": "code",
   "execution_count": null,
   "id": "19d9e53b-ea25-4409-848f-470d1fe7bb0b",
   "metadata": {},
   "outputs": [],
   "source": []
  }
 ],
 "metadata": {
  "kernelspec": {
   "display_name": "Python 3 (ipykernel)",
   "language": "python",
   "name": "python3"
  },
  "language_info": {
   "codemirror_mode": {
    "name": "ipython",
    "version": 3
   },
   "file_extension": ".py",
   "mimetype": "text/x-python",
   "name": "python",
   "nbconvert_exporter": "python",
   "pygments_lexer": "ipython3",
   "version": "3.10.12"
  }
 },
 "nbformat": 4,
 "nbformat_minor": 5
}
