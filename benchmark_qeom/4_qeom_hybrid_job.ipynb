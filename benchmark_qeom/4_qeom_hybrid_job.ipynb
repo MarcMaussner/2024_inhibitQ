{
 "cells": [
  {
   "cell_type": "code",
   "execution_count": 1,
   "id": "433d15ea-eb95-402f-a347-fe0f3b12de1b",
   "metadata": {},
   "outputs": [],
   "source": [
    "from pprint import pprint\n",
    "\n",
    "import matplotlib.pyplot as plt\n",
    "from braket.aws import AwsDevice\n",
    "from braket.devices import Devices\n",
    "from braket.jobs import hybrid_job, save_job_result\n",
    "from qiskit.primitives import BackendEstimator\n",
    "\n",
    "from qiskit_braket_provider import BraketProvider\n",
    "\n",
    "from qiskit_nature.units import DistanceUnit\n",
    "from qiskit_nature.second_q.drivers import PySCFDriver\n",
    "from qiskit_nature.second_q.mappers import JordanWignerMapper\n",
    "\n",
    "from qiskit_algorithms import VQE\n",
    "from qiskit_algorithms.optimizers import SLSQP\n",
    "from qiskit.primitives import Estimator\n",
    "from qiskit_nature.second_q.algorithms import GroundStateEigensolver, QEOM, EvaluationRule\n",
    "from qiskit_nature.second_q.circuit.library import HartreeFock, UCCSD\n",
    "\n",
    "import time\n",
    "\n",
    "sv1 = AwsDevice(Devices.Amazon.SV1)\n",
    "image_uri2 = \"011528273261.dkr.ecr.eu-west-2.amazonaws.com/amazon-braket-inhibitq-qiskit:latest\"\n"
   ]
  },
  {
   "cell_type": "code",
   "execution_count": 2,
   "id": "9d321522-4ab4-47ea-a2e9-5cba7fbe11be",
   "metadata": {},
   "outputs": [
    {
     "name": "stdout",
     "output_type": "stream",
     "text": [
      "Skipping python version validation, make sure versions match between local environment and container.\n"
     ]
    }
   ],
   "source": [
    "@hybrid_job(device=sv1.arn, include_modules=\"qiskit_algorithms\", image_uri=image_uri2)\n",
    "def main():\n",
    "    \"\"\"Decorated function that will be run in the docker container.\"\"\"\n",
    "\n",
    "    # define problem observable, ansatz, vqe, qeom\n",
    "    driver = PySCFDriver(\n",
    "        atom=\"H 0 0 0; H 0 0 0.735\",\n",
    "        basis=\"sto3g\",\n",
    "        charge=0,\n",
    "        spin=0,\n",
    "        unit=DistanceUnit.ANGSTROM,\n",
    "    )\n",
    "\n",
    "    es_problem = driver.run()\n",
    "\n",
    "    mapper = JordanWignerMapper()\n",
    "\n",
    "    ansatz = UCCSD(\n",
    "        es_problem.num_spatial_orbitals,\n",
    "        es_problem.num_particles,\n",
    "        mapper,\n",
    "        initial_state=HartreeFock(\n",
    "            es_problem.num_spatial_orbitals,\n",
    "            es_problem.num_particles,\n",
    "            mapper,\n",
    "        ),\n",
    "    )\n",
    "\n",
    "    #create estimator SV1\n",
    "    backend = BraketProvider().get_backend(\"SV1\")\n",
    "    estimator = BackendEstimator(backend=backend, options={\"shots\": 1000})\n",
    "    \n",
    "    #estimator = Estimator()\n",
    "    # This first part sets the ground state solver\n",
    "    # see more about this part in the ground state calculation tutorial\n",
    "    solver = VQE(estimator, ansatz, SLSQP())\n",
    "    solver.initial_point = [0.0] * ansatz.num_parameters\n",
    "    gse = GroundStateEigensolver(mapper, solver)\n",
    "\n",
    "    # The qEOM algorithm is simply instantiated with the chosen ground state solver and Estimator primitive\n",
    "    qeom_excited_states_solver = QEOM(gse, estimator, \"sd\", EvaluationRule.ALL)\n",
    "\n",
    "    start = time.time()\n",
    "    qeom_results = qeom_excited_states_solver.solve(es_problem)\n",
    "    end = time.time()\n",
    "   \n",
    "    # Save the results of the VQE computation.\n",
    "    save_job_result(\n",
    "        {\n",
    "            #\"qeom\": {\n",
    "            #    \"qeom_results\": qeom_results,\n",
    "            #},\n",
    "            \"time\": {\n",
    "                \"start\": start,\n",
    "                \"end\": end,\n",
    "                \"diff\": (end-start)\n",
    "            }\n",
    "        }\n",
    "    )"
   ]
  },
  {
   "cell_type": "code",
   "execution_count": 3,
   "id": "a8ab796c-7e3c-44f4-98af-bdae2f9bf8ea",
   "metadata": {},
   "outputs": [],
   "source": [
    "job = main()"
   ]
  },
  {
   "cell_type": "code",
   "execution_count": 4,
   "id": "a943edd7-bb5b-4490-aeb3-db55a429573d",
   "metadata": {},
   "outputs": [
    {
     "name": "stdout",
     "output_type": "stream",
     "text": [
      "{'time': {'diff': 1255.0657875537872,\n",
      "          'end': 1734624609.3965135,\n",
      "          'start': 1734623354.330726}}\n"
     ]
    }
   ],
   "source": [
    "result = job.result()\n",
    "pprint(result)"
   ]
  },
  {
   "cell_type": "code",
   "execution_count": null,
   "id": "cc6d20f3-e91c-4ea6-911b-8124c3db5c25",
   "metadata": {},
   "outputs": [],
   "source": []
  }
 ],
 "metadata": {
  "kernelspec": {
   "display_name": "Python 3 (ipykernel)",
   "language": "python",
   "name": "python3"
  },
  "language_info": {
   "codemirror_mode": {
    "name": "ipython",
    "version": 3
   },
   "file_extension": ".py",
   "mimetype": "text/x-python",
   "name": "python",
   "nbconvert_exporter": "python",
   "pygments_lexer": "ipython3",
   "version": "3.10.12"
  }
 },
 "nbformat": 4,
 "nbformat_minor": 5
}
