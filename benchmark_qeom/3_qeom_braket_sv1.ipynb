{
 "cells": [
  {
   "cell_type": "markdown",
   "id": "5e1a4f7a-3648-4b6f-a9ff-72554221019d",
   "metadata": {},
   "source": [
    "# Trying qeom with qiskit and transform to braket SV1"
   ]
  },
  {
   "cell_type": "code",
   "execution_count": 1,
   "id": "cc2951a9-26d5-46fc-99c7-62e207dbf21f",
   "metadata": {},
   "outputs": [],
   "source": [
    "from qiskit_nature.units import DistanceUnit\n",
    "from qiskit_nature.second_q.drivers import PySCFDriver\n",
    "import time\n",
    "\n",
    "driver = PySCFDriver(\n",
    "    atom=\"H 0 0 0; H 0 0 0.735\",\n",
    "    basis=\"sto3g\",\n",
    "    charge=0,\n",
    "    spin=0,\n",
    "    unit=DistanceUnit.ANGSTROM,\n",
    ")\n",
    "\n",
    "es_problem = driver.run()"
   ]
  },
  {
   "cell_type": "code",
   "execution_count": 2,
   "id": "051e114a-2f00-4191-b4f5-71b9f1f773cd",
   "metadata": {},
   "outputs": [],
   "source": [
    "from qiskit_nature.second_q.mappers import JordanWignerMapper\n",
    "\n",
    "mapper = JordanWignerMapper()"
   ]
  },
  {
   "cell_type": "code",
   "execution_count": 3,
   "id": "c47fbd14-9433-47c5-b451-7c3a4920f3d8",
   "metadata": {},
   "outputs": [],
   "source": [
    "from qiskit_algorithms import NumPyEigensolver\n",
    "\n",
    "numpy_solver = NumPyEigensolver(k=4, filter_criterion=es_problem.get_default_filter_criterion())"
   ]
  },
  {
   "cell_type": "markdown",
   "id": "8c32f037-7e11-456f-ae51-84c6132185ba",
   "metadata": {},
   "source": [
    "### code relevant for braket (estimator)"
   ]
  },
  {
   "cell_type": "code",
   "execution_count": 4,
   "id": "2e12b82b-82c0-427b-a968-d4b9f9c46a0a",
   "metadata": {},
   "outputs": [],
   "source": [
    "from braket.aws import AwsDevice\n",
    "from braket.devices import Devices\n",
    "from braket.jobs import hybrid_job, save_job_result\n",
    "from qiskit.primitives import BackendEstimator, BackendEstimatorV2\n",
    "from qiskit_braket_provider import BraketLocalBackend"
   ]
  },
  {
   "cell_type": "code",
   "execution_count": 5,
   "id": "da68f0eb-6e7f-45e0-b97c-df9a1d78ee5a",
   "metadata": {},
   "outputs": [],
   "source": [
    "# get backend: here SV1\n",
    "from qiskit_braket_provider import BraketProvider\n",
    "\n",
    "sv1 = AwsDevice(Devices.Amazon.SV1)\n",
    "backend = BraketProvider().get_backend(\"SV1\")"
   ]
  },
  {
   "cell_type": "code",
   "execution_count": 6,
   "id": "aa81cf68-44cc-4b22-9bee-fb408112f039",
   "metadata": {},
   "outputs": [
    {
     "data": {
      "text/plain": [
       "[BraketBackend[Ankaa-2],\n",
       " BraketBackend[Aria 1],\n",
       " BraketBackend[Aria 2],\n",
       " BraketBackend[Forte 1],\n",
       " BraketBackend[Garnet],\n",
       " BraketBackend[SV1],\n",
       " BraketBackend[TN1],\n",
       " BraketBackend[dm1]]"
      ]
     },
     "execution_count": 6,
     "metadata": {},
     "output_type": "execute_result"
    }
   ],
   "source": [
    "BraketProvider().backends()"
   ]
  },
  {
   "cell_type": "code",
   "execution_count": 7,
   "id": "d77455d2-22b8-48b3-8fc4-d2d7a653e925",
   "metadata": {},
   "outputs": [],
   "source": [
    "# create our own estimator\n",
    "#backend = BraketLocalBackend()\n",
    "estimator = BackendEstimator(backend=backend, options={\"shots\": 1000})\n",
    "#estimator = BackendEstimatorV2(backend=backend)\n",
    "#estimator.options.default_shots = 10\n"
   ]
  },
  {
   "cell_type": "code",
   "execution_count": 8,
   "id": "6dc3e63d-ad56-46e0-b048-92d35cf127f3",
   "metadata": {},
   "outputs": [],
   "source": [
    "from qiskit_algorithms import VQE\n",
    "from qiskit_algorithms.optimizers import SLSQP\n",
    "from qiskit.primitives import Estimator\n",
    "from qiskit_nature.second_q.algorithms import GroundStateEigensolver, QEOM, EvaluationRule\n",
    "from qiskit_nature.second_q.circuit.library import HartreeFock, UCCSD\n",
    "\n",
    "ansatz = UCCSD(\n",
    "    es_problem.num_spatial_orbitals,\n",
    "    es_problem.num_particles,\n",
    "    mapper,\n",
    "    initial_state=HartreeFock(\n",
    "        es_problem.num_spatial_orbitals,\n",
    "        es_problem.num_particles,\n",
    "        mapper,\n",
    "    ),\n",
    ")\n",
    "\n",
    "#estimator = Estimator()\n",
    "# This first part sets the ground state solver\n",
    "# see more about this part in the ground state calculation tutorial\n",
    "solver = VQE(estimator, ansatz, SLSQP())\n",
    "solver.initial_point = [0.0] * ansatz.num_parameters\n",
    "gse = GroundStateEigensolver(mapper, solver)\n",
    "\n",
    "# The qEOM algorithm is simply instantiated with the chosen ground state solver and Estimator primitive\n",
    "qeom_excited_states_solver = QEOM(gse, estimator, \"sd\", EvaluationRule.ALL)"
   ]
  },
  {
   "cell_type": "code",
   "execution_count": 9,
   "id": "932154d3-eecf-4759-af13-3abc2dd65fff",
   "metadata": {},
   "outputs": [
    {
     "name": "stderr",
     "output_type": "stream",
     "text": [
      "/home/marc/.local/lib/python3.10/site-packages/qiskit_braket_provider/providers/adapter.py:555: UserWarning: Device does not support global phase; global phase of 2.356194490192345 will not be included in Braket circuit\n",
      "  warnings.warn(\n"
     ]
    },
    {
     "name": "stdout",
     "output_type": "stream",
     "text": [
      "Time taken [sec]:  981.4323542118073\n",
      "=== GROUND STATE ENERGY ===\n",
      " \n",
      "* Electronic ground state energy (Hartree): -1.857275030202\n",
      "  - computed part:      -1.857275030202\n",
      "~ Nuclear repulsion energy (Hartree): 0.719968994449\n",
      "> Total ground state energy (Hartree): -1.137306035753\n",
      " \n",
      "=== EXCITED STATE ENERGIES ===\n",
      " \n",
      "  1: \n",
      "* Electronic excited state energy (Hartree): -0.882722150245\n",
      "> Total excited state energy (Hartree): -0.162753155796\n",
      "  2: \n",
      "* Electronic excited state energy (Hartree): -0.224911252831\n",
      "> Total excited state energy (Hartree): 0.495057741618\n",
      " \n",
      "=== MEASURED OBSERVABLES ===\n",
      " \n",
      "  0:  # Particles: 2.000 S: 0.000 S^2: 0.000 M: 0.000\n",
      "  1:  # Particles: 2.000 S: 0.000 S^2: 0.000 M: 0.000\n",
      "  2:  # Particles: 2.000 S: 0.000 S^2: 0.000 M: 0.000\n",
      " \n",
      "=== DIPOLE MOMENTS ===\n",
      " \n",
      "~ Nuclear dipole moment (a.u.): [0.0  0.0  1.3889487]\n",
      " \n",
      "  0: \n",
      "  * Electronic dipole moment (a.u.): [0.0  0.0  1.388948701555]\n",
      "    - computed part:      [0.0  0.0  1.388948701555]\n",
      "  > Dipole moment (a.u.): [0.0  0.0  -0.000000001555]  Total: 0.000000001555\n",
      "                 (debye): [0.0  0.0  -0.000000003953]  Total: 0.000000003953\n",
      " \n",
      "  1: \n",
      "  * Electronic dipole moment (a.u.): [0.0  0.0  1.388948701555]\n",
      "    - computed part:      [0.0  0.0  1.388948701555]\n",
      "  > Dipole moment (a.u.): [0.0  0.0  -0.000000001555]  Total: 0.000000001555\n",
      "                 (debye): [0.0  0.0  -0.000000003953]  Total: 0.000000003953\n",
      " \n",
      "  2: \n",
      "  * Electronic dipole moment (a.u.): [0.0  0.0  1.388948701555]\n",
      "    - computed part:      [0.0  0.0  1.388948701555]\n",
      "  > Dipole moment (a.u.): [0.0  0.0  -0.000000001555]  Total: 0.000000001555\n",
      "                 (debye): [0.0  0.0  -0.000000003953]  Total: 0.000000003953\n",
      " \n",
      "\n",
      "\n",
      "\n",
      "=== GROUND STATE ENERGY ===\n",
      " \n",
      "* Electronic ground state energy (Hartree): -1.421730708966\n",
      "  - computed part:      -1.421730708966\n",
      "~ Nuclear repulsion energy (Hartree): 0.719968994449\n",
      "> Total ground state energy (Hartree): -0.701761714517\n",
      " \n",
      "=== EXCITED STATE ENERGIES ===\n",
      " \n",
      "  1: \n",
      "* Electronic excited state energy (Hartree): -1.421730708966\n",
      "> Total excited state energy (Hartree): -0.701761714517\n",
      "  2: \n",
      "* Electronic excited state energy (Hartree): -0.736901884037\n",
      "> Total excited state energy (Hartree): -0.016932889588\n",
      "  3: \n",
      "* Electronic excited state energy (Hartree): 0.217942648738\n",
      "> Total excited state energy (Hartree): 0.937911643186\n",
      " \n",
      "=== MEASURED OBSERVABLES ===\n",
      " \n",
      "  0:  # Particles: 2.000 S: 0.046 S^2: 0.048 M: 0.000\n",
      "  1:  # Particles: 7393864656940524.000 S: 73129607.493 S^2: 5347939565202947.000 M: 0.016\n",
      "  2:  # Particles: 2.879 S: 0.164 S^2: 0.191 M: 0.000\n",
      "  3:  # Particles: 2.430 S: 0.025 S^2: 0.026 M: -0.000\n",
      " \n",
      "=== DIPOLE MOMENTS ===\n",
      " \n",
      "~ Nuclear dipole moment (a.u.): [0.0  0.0  1.3889487]\n",
      " \n",
      "  0: \n",
      "  * Electronic dipole moment (a.u.): [0.0  0.0  0.154930185845]\n",
      "    - computed part:      [0.0  0.0  0.154930185845]\n",
      "  > Dipole moment (a.u.): [0.0  0.0  1.234018514155]  Total: 1.234018514155\n",
      "                 (debye): [0.0  0.0  3.136561907407]  Total: 3.136561907407\n",
      " \n",
      "  1: \n",
      "  * Electronic dipole moment (a.u.): [0.0  0.0  3919807746873926.5]\n",
      "    - computed part:      [0.0  0.0  3919807746873926.5]\n",
      "  > Dipole moment (a.u.): [0.0  0.0  -3919807746873925.]  Total: 3919807746873925.\n",
      "                 (debye): [0.0  0.0  -9963156567076378.]  Total: 9963156567076378.\n",
      " \n",
      "  2: \n",
      "  * Electronic dipole moment (a.u.): [0.0  0.0  0.387656841607]\n",
      "    - computed part:      [0.0  0.0  0.387656841607]\n",
      "  > Dipole moment (a.u.): [0.0  0.0  1.001291858393]  Total: 1.001291858393\n",
      "                 (debye): [0.0  0.0  2.545029807256]  Total: 2.545029807256\n",
      " \n",
      "  3: \n",
      "  * Electronic dipole moment (a.u.): [0.0  0.0  2.323320426256]\n",
      "    - computed part:      [0.0  0.0  2.323320426256]\n",
      "  > Dipole moment (a.u.): [0.0  0.0  -0.934371726256]  Total: 0.934371726256\n",
      "                 (debye): [0.0  0.0  -2.374935813614]  Total: 2.374935813614\n",
      " \n"
     ]
    }
   ],
   "source": [
    "from qiskit_nature.second_q.algorithms import ExcitedStatesEigensolver\n",
    "\n",
    "numpy_excited_states_solver = ExcitedStatesEigensolver(mapper, numpy_solver)\n",
    "numpy_results = numpy_excited_states_solver.solve(es_problem)\n",
    "\n",
    "start = time.time()\n",
    "qeom_results = qeom_excited_states_solver.solve(es_problem)\n",
    "end = time.time()\n",
    "\n",
    "print(\"Time taken [sec]: \", (end-start))\n",
    "\n",
    "print(numpy_results)\n",
    "print(\"\\n\\n\")\n",
    "print(qeom_results)"
   ]
  },
  {
   "cell_type": "code",
   "execution_count": null,
   "id": "19d9e53b-ea25-4409-848f-470d1fe7bb0b",
   "metadata": {},
   "outputs": [],
   "source": []
  }
 ],
 "metadata": {
  "kernelspec": {
   "display_name": "Python 3 (ipykernel)",
   "language": "python",
   "name": "python3"
  },
  "language_info": {
   "codemirror_mode": {
    "name": "ipython",
    "version": 3
   },
   "file_extension": ".py",
   "mimetype": "text/x-python",
   "name": "python",
   "nbconvert_exporter": "python",
   "pygments_lexer": "ipython3",
   "version": "3.10.12"
  }
 },
 "nbformat": 4,
 "nbformat_minor": 5
}
