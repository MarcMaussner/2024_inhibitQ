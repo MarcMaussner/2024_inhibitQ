{
 "cells": [
  {
   "cell_type": "markdown",
   "id": "5e1a4f7a-3648-4b6f-a9ff-72554221019d",
   "metadata": {},
   "source": [
    "# Trying qeom with qiskit"
   ]
  },
  {
   "cell_type": "markdown",
   "id": "2d9fa105-0b27-4cca-aa97-1eb1fa142b2f",
   "metadata": {},
   "source": [
    "## general code"
   ]
  },
  {
   "cell_type": "code",
   "execution_count": 19,
   "id": "0f9042d6-0f13-4f0a-8ffa-f2531ba30277",
   "metadata": {},
   "outputs": [],
   "source": [
    "from qiskit_nature.units import DistanceUnit\n",
    "from qiskit_nature.second_q.drivers import PySCFDriver\n",
    "import time\n",
    "\n",
    "driver = PySCFDriver(\n",
    "    atom=\"H 0 0 0; H 0 0 0.735\",\n",
    "    basis=\"sto3g\",\n",
    "    charge=0,\n",
    "    spin=0,\n",
    "    unit=DistanceUnit.ANGSTROM,\n",
    ")\n",
    "\n",
    "es_problem = driver.run()"
   ]
  },
  {
   "cell_type": "code",
   "execution_count": 20,
   "id": "85e2eed7-2ce7-4468-bf34-6ad12d248085",
   "metadata": {},
   "outputs": [],
   "source": [
    "from qiskit_nature.second_q.mappers import JordanWignerMapper\n",
    "\n",
    "mapper = JordanWignerMapper()"
   ]
  },
  {
   "cell_type": "code",
   "execution_count": 21,
   "id": "8c759d91-0dbc-4099-adc2-615f4aac884e",
   "metadata": {},
   "outputs": [],
   "source": [
    "from qiskit_algorithms import VQE\n",
    "from qiskit_algorithms.optimizers import SLSQP, COBYLA\n",
    "from qiskit.primitives import Estimator\n",
    "from qiskit_nature.second_q.algorithms import GroundStateEigensolver, QEOM, EvaluationRule\n",
    "from qiskit_nature.second_q.circuit.library import HartreeFock, UCCSD\n",
    "\n",
    "ansatz = UCCSD(\n",
    "    es_problem.num_spatial_orbitals,\n",
    "    es_problem.num_particles,\n",
    "    mapper,\n",
    "    initial_state=HartreeFock(\n",
    "        es_problem.num_spatial_orbitals,\n",
    "        es_problem.num_particles,\n",
    "        mapper,\n",
    "    ),\n",
    ")"
   ]
  },
  {
   "cell_type": "markdown",
   "id": "06b49733-d7c2-424b-baac-49bb9c722e44",
   "metadata": {},
   "source": [
    "## reference value H2"
   ]
  },
  {
   "cell_type": "code",
   "execution_count": 22,
   "id": "e4efb008-9e93-48ad-8e4b-16c3b7f5844b",
   "metadata": {},
   "outputs": [
    {
     "name": "stdout",
     "output_type": "stream",
     "text": [
      "Result: -1.13731\n"
     ]
    }
   ],
   "source": [
    "from qiskit_algorithms import NumPyMinimumEigensolver\n",
    "\n",
    "numpy_solver = NumPyMinimumEigensolver()\n",
    "np_calc = numpy_solver.compute_minimum_eigenvalue(qubit_op)\n",
    "np_result = es_problem.interpret(np_calc).total_energies[0].real\n",
    "\n",
    "print(f\"Result: {np_result:.5f}\")"
   ]
  },
  {
   "cell_type": "markdown",
   "id": "1d572c17-b0f5-41e9-b6ce-667858c17a23",
   "metadata": {},
   "source": [
    "## vqe H2 in qiskit with VQE"
   ]
  },
  {
   "cell_type": "code",
   "execution_count": 23,
   "id": "502e14b4-043f-4f85-b5ce-913d5b95fb08",
   "metadata": {},
   "outputs": [],
   "source": [
    "from qiskit_algorithms import VQE\n",
    "from qiskit_algorithms.optimizers import SLSQP, COBYLA\n",
    "from qiskit.primitives import Estimator\n",
    "from qiskit_nature.second_q.algorithms import GroundStateEigensolver, QEOM, EvaluationRule\n",
    "from qiskit_nature.second_q.circuit.library import HartreeFock, UCCSD\n",
    "\n",
    "estimator = Estimator()\n",
    "# This first part sets the ground state solver\n",
    "# see more about this part in the ground state calculation tutorial\n",
    "solver = VQE(estimator, ansatz, COBYLA())\n",
    "solver.initial_point = [0.0] * ansatz.num_parameters"
   ]
  },
  {
   "cell_type": "code",
   "execution_count": 24,
   "id": "89babf06-918a-48a1-a88d-df63d3df68bb",
   "metadata": {},
   "outputs": [],
   "source": [
    "qubit_op = mapper.map(es_problem.second_q_ops()[0])"
   ]
  },
  {
   "cell_type": "code",
   "execution_count": 25,
   "id": "19d9e53b-ea25-4409-848f-470d1fe7bb0b",
   "metadata": {},
   "outputs": [
    {
     "name": "stdout",
     "output_type": "stream",
     "text": [
      "Time taken [sec]:  2.1375162601470947\n",
      "Result: -1.13731\n"
     ]
    }
   ],
   "source": [
    "start = time.time()\n",
    "vqe_calc = solver.compute_minimum_eigenvalue(qubit_op)\n",
    "vqe_result = es_problem.interpret(vqe_calc).total_energies[0].real\n",
    "end = time.time()\n",
    "print(\"Time taken [sec]: \", (end-start))\n",
    "print(f\"Result: {vqe_result:.5f}\")"
   ]
  },
  {
   "cell_type": "markdown",
   "id": "f2c8873f-4357-4520-a6a0-96a71cbdeef5",
   "metadata": {},
   "source": [
    "## qiskit 1.0 vqe"
   ]
  },
  {
   "cell_type": "code",
   "execution_count": 26,
   "id": "b6a86c73-1b12-403b-8ce0-c089c968c605",
   "metadata": {},
   "outputs": [],
   "source": [
    "from qiskit.primitives import StatevectorEstimator\n",
    "from scipy.optimize import minimize\n",
    "import numpy as np"
   ]
  },
  {
   "cell_type": "code",
   "execution_count": 27,
   "id": "c838443a-f9db-40a3-9107-f2b7836bc13c",
   "metadata": {},
   "outputs": [],
   "source": [
    "from qiskit_ibm_runtime.fake_provider import FakeSherbrooke\n",
    "from qiskit_aer import AerSimulator\n",
    "from qiskit_ibm_runtime import Session, EstimatorV2 as EstimatorV2"
   ]
  },
  {
   "cell_type": "code",
   "execution_count": 28,
   "id": "eb6b90d8-12c2-4578-9ecb-4552bbff0490",
   "metadata": {},
   "outputs": [],
   "source": [
    "#backend = FakeSherbrooke() # with noise\n",
    "backend = AerSimulator() # without noise"
   ]
  },
  {
   "cell_type": "code",
   "execution_count": 29,
   "id": "624ab966-586b-47b9-9e26-570f1d5bb553",
   "metadata": {},
   "outputs": [],
   "source": [
    "from qiskit.transpiler.preset_passmanagers import generate_preset_pass_manager\n",
    "\n",
    "target = backend.target\n",
    "pm = generate_preset_pass_manager(target=target, optimization_level=3)\n",
    "\n",
    "ansatz_isa = pm.run(ansatz)"
   ]
  },
  {
   "cell_type": "code",
   "execution_count": 30,
   "id": "8c3adadb-4961-49e0-ac6b-75386068f752",
   "metadata": {},
   "outputs": [],
   "source": [
    "hamiltonian_isa = qubit_op.apply_layout(layout=ansatz_isa.layout)"
   ]
  },
  {
   "cell_type": "code",
   "execution_count": 31,
   "id": "7202ee56-6c38-4f47-a23f-1b50be3e93b1",
   "metadata": {},
   "outputs": [],
   "source": [
    "def cost_func(params, ansatz, hamiltonian, estimator, cost_history_dict):\n",
    "    \"\"\"Return estimate of energy from estimator\n",
    "\n",
    "    Parameters:\n",
    "        params (ndarray): Array of ansatz parameters\n",
    "        ansatz (QuantumCircuit): Parameterized ansatz circuit\n",
    "        hamiltonian (SparsePauliOp): Operator representation of Hamiltonian\n",
    "        estimator (EstimatorV2): Estimator primitive instance\n",
    "        cost_history_dict: Dictionary for storing intermediate results\n",
    "\n",
    "    Returns:\n",
    "        float: Energy estimate\n",
    "    \"\"\"\n",
    "    pub = (ansatz, [hamiltonian], [params])\n",
    "    result = estimator.run(pubs=[pub]).result()\n",
    "    energy = result[0].data.evs[0]\n",
    "\n",
    "    cost_history_dict[\"iters\"] += 1\n",
    "    cost_history_dict[\"prev_vector\"] = params\n",
    "    cost_history_dict[\"cost_history\"].append(energy)\n",
    "    print(f\"Iters. done: {cost_history_dict['iters']} [Current cost: {energy}]\")\n",
    "\n",
    "    return energy, result"
   ]
  },
  {
   "cell_type": "code",
   "execution_count": 32,
   "id": "a59731aa-c3a0-4c21-bb13-a3610d549255",
   "metadata": {},
   "outputs": [],
   "source": [
    "cost_history_dict = {\n",
    "    \"prev_vector\": None,\n",
    "    \"iters\": 0,\n",
    "    \"cost_history\": [],\n",
    "}"
   ]
  },
  {
   "cell_type": "code",
   "execution_count": 33,
   "id": "3060ed7c-c482-4ffa-a2b5-59630f10e845",
   "metadata": {},
   "outputs": [],
   "source": [
    "initial_point = [0.0]*ansatz.num_parameters"
   ]
  },
  {
   "cell_type": "code",
   "execution_count": 34,
   "id": "d21c2a58-555a-4257-8f2e-b467ce9b714c",
   "metadata": {},
   "outputs": [],
   "source": [
    "# Here we have updated the cost function to return only the energy to be compatible with recent scipy versions (>=1.10)\n",
    "def cost_func_2(*args, **kwargs):\n",
    "    energy, result = cost_func(*args, **kwargs)\n",
    "    return energy"
   ]
  },
  {
   "cell_type": "code",
   "execution_count": 35,
   "id": "102a1c36-5e95-4838-b25a-d433c2f6dbaf",
   "metadata": {},
   "outputs": [
    {
     "name": "stdout",
     "output_type": "stream",
     "text": [
      "Iters. done: 1 [Current cost: -1.8367029552657999]\n",
      "Iters. done: 2 [Current cost: -1.2942029325639344]\n",
      "Iters. done: 3 [Current cost: -1.286012655718318]\n",
      "Iters. done: 4 [Current cost: -0.5644776654448653]\n",
      "Iters. done: 5 [Current cost: -1.2270939631455544]\n",
      "Iters. done: 6 [Current cost: -1.6618983588184273]\n",
      "Iters. done: 7 [Current cost: -1.814643377190305]\n",
      "Iters. done: 8 [Current cost: -1.8428644767985871]\n",
      "Iters. done: 9 [Current cost: -1.6930216156169418]\n",
      "Iters. done: 10 [Current cost: -1.8472917315567983]\n",
      "Iters. done: 11 [Current cost: -1.8488668507103068]\n",
      "Iters. done: 12 [Current cost: -1.8052448841942437]\n",
      "Iters. done: 13 [Current cost: -1.8477021248411845]\n",
      "Iters. done: 14 [Current cost: -1.8407496739630336]\n",
      "Iters. done: 15 [Current cost: -1.8370902831007596]\n",
      "Iters. done: 16 [Current cost: -1.842440326531553]\n",
      "Iters. done: 17 [Current cost: -1.8409796195700892]\n",
      "Iters. done: 18 [Current cost: -1.8389915264986618]\n",
      "Iters. done: 19 [Current cost: -1.8373877236036662]\n",
      "Iters. done: 20 [Current cost: -1.8450820669235688]\n",
      "Iters. done: 21 [Current cost: -1.845744003977142]\n",
      "Iters. done: 22 [Current cost: -1.8403083060856948]\n",
      "Iters. done: 23 [Current cost: -1.8415743710945702]\n",
      "Iters. done: 24 [Current cost: -1.8427880279717805]\n",
      "Iters. done: 25 [Current cost: -1.8466964414622564]\n",
      "Iters. done: 26 [Current cost: -1.8405810293705704]\n",
      "Iters. done: 27 [Current cost: -1.845328125413882]\n",
      "Iters. done: 28 [Current cost: -1.8426792854144167]\n",
      "Iters. done: 29 [Current cost: -1.8407981858554159]\n",
      "Iters. done: 30 [Current cost: -1.8453222911557823]\n",
      "Iters. done: 31 [Current cost: -1.8462278854823009]\n",
      "Iters. done: 32 [Current cost: -1.8482509394025228]\n",
      "Iters. done: 33 [Current cost: -1.844906302843576]\n",
      "Time taken [sec]:  6.266991853713989\n"
     ]
    }
   ],
   "source": [
    "start = time.time()\n",
    "with Session(backend=backend) as session:\n",
    "    estimator = EstimatorV2(mode=session)\n",
    "\n",
    "    res = minimize(\n",
    "        cost_func_2,\n",
    "        initial_point,\n",
    "        args=(ansatz_isa, hamiltonian_isa, estimator, cost_history_dict),\n",
    "        method=\"cobyla\",\n",
    "        options={'maxiter': 100})\n",
    "\n",
    "\n",
    "end = time.time()\n",
    "print(\"Time taken [sec]: \", (end-start))"
   ]
  },
  {
   "cell_type": "code",
   "execution_count": 36,
   "id": "2c264f24-2130-4aa3-ac01-f53f2c59b5cf",
   "metadata": {},
   "outputs": [
    {
     "data": {
      "text/plain": [
       " message: Optimization terminated successfully.\n",
       " success: True\n",
       "  status: 1\n",
       "     fun: -1.844906302843576\n",
       "       x: [-1.090e-01  8.873e-02 -1.332e-01]\n",
       "    nfev: 33\n",
       "   maxcv: 0.0"
      ]
     },
     "execution_count": 36,
     "metadata": {},
     "output_type": "execute_result"
    }
   ],
   "source": [
    "res"
   ]
  },
  {
   "cell_type": "code",
   "execution_count": 37,
   "id": "1aa1f8f1-b4cd-47be-8644-86e3f2267751",
   "metadata": {
    "scrolled": true
   },
   "outputs": [
    {
     "data": {
      "image/png": "[encoded data removed]",
      "text/plain": [
       "<Figure size 640x480 with 1 Axes>"
      ]
     },
     "metadata": {},
     "output_type": "display_data"
    }
   ],
   "source": [
    "import matplotlib.pyplot as plt\n",
    "fig, ax = plt.subplots()\n",
    "plt.plot(range(cost_history_dict[\"iters\"]), cost_history_dict[\"cost_history\"])\n",
    "plt.xlabel(\"Iteration\")\n",
    "plt.ylabel(\"Cost\")\n",
    "plt.draw()"
   ]
  },
  {
   "cell_type": "code",
   "execution_count": 42,
   "id": "4998c88a-be34-4e6e-8d5c-667830f4f722",
   "metadata": {},
   "outputs": [
    {
     "name": "stdout",
     "output_type": "stream",
     "text": [
      "Resulting optimized energy -1.83981\n"
     ]
    }
   ],
   "source": [
    "# now run ansatz with optimized parameters\n",
    "opt_params = res.x\n",
    "\n",
    "with Session(backend=backend) as session:\n",
    "    estimator = EstimatorV2(mode=session)\n",
    "\n",
    "    pub = (ansatz_isa, [hamiltonian_isa], [opt_params])\n",
    "    result = estimator.run(pubs=[pub]).result()\n",
    "    energy = result[0].data.evs[0]\n",
    "    print(f\"Resulting optimized energy {energy:.5f}\")"
   ]
  },
  {
   "cell_type": "code",
   "execution_count": null,
   "id": "8683adb0-9ec9-47ff-a71b-1162baf68c71",
   "metadata": {},
   "outputs": [],
   "source": []
  }
 ],
 "metadata": {
  "kernelspec": {
   "display_name": "Python 3 (ipykernel)",
   "language": "python",
   "name": "python3"
  },
  "language_info": {
   "codemirror_mode": {
    "name": "ipython",
    "version": 3
   },
   "file_extension": ".py",
   "mimetype": "text/x-python",
   "name": "python",
   "nbconvert_exporter": "python",
   "pygments_lexer": "ipython3",
   "version": "3.10.12"
  }
 },
 "nbformat": 4,
 "nbformat_minor": 5
}
