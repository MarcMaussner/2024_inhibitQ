{
 "cells": [
  {
   "cell_type": "markdown",
   "id": "ae1c5df1-351f-4575-812d-04b42f5965c5",
   "metadata": {},
   "source": [
    "# Implement VQE for H2 natively in braket SV1"
   ]
  },
  {
   "cell_type": "code",
   "execution_count": 1,
   "id": "52f2c9b2-317a-4d27-919a-6294026468ec",
   "metadata": {},
   "outputs": [],
   "source": [
    "# import required libraries\n",
    "import os\n",
    "import time\n",
    "import numpy as np\n",
    "from matplotlib import pyplot as plt\n",
    "from openfermion import MolecularData\n",
    "from openfermion.transforms import get_fermion_operator, jordan_wigner\n",
    "from openfermionpyscf import run_pyscf\n",
    "\n",
    "from braket.circuits import Circuit, observables\n",
    "from braket.devices import LocalSimulator\n",
    "from braket.parametric import FreeParameter\n",
    "from braket.aws import AwsDevice"
   ]
  },
  {
   "cell_type": "markdown",
   "id": "12aeeabc-1574-4513-8317-dc19abc30264",
   "metadata": {},
   "source": [
    "## create hamiltonian"
   ]
  },
  {
   "cell_type": "code",
   "execution_count": 2,
   "id": "82100109-3491-4074-969e-98099639e6b4",
   "metadata": {},
   "outputs": [],
   "source": [
    "# create a directory named \"data\" to store intermediate classical computation results from OpenFermion\n",
    "!mkdir -p \"data\""
   ]
  },
  {
   "cell_type": "code",
   "execution_count": 3,
   "id": "71f71045-ace9-44a8-824e-7f4de233e932",
   "metadata": {},
   "outputs": [
    {
     "name": "stdout",
     "output_type": "stream",
     "text": [
      "INFO: Computing Hamiltonian for bond-length 0.735 A...\n"
     ]
    }
   ],
   "source": [
    "print(f\"INFO: Computing Hamiltonian for bond-length 0.735 A...\")\n",
    "geom = [('H', (0., 0., 0.)), ('H', (0., 0., 0.735))]\n",
    "    # Make sure a directory named 'data' exists in the current folder,\n",
    "    # else this statement will throw an error!\n",
    "h2_molecule = MolecularData(\n",
    "    geometry=geom, basis='sto-3g', multiplicity=1,\n",
    "    description='bondlength', filename=\"\",\n",
    "    data_directory=os.getcwd()+'/data')\n",
    "# Run PySCF to get molecular integrals, HF and FCI energies\n",
    "h2_molecule = run_pyscf(molecule=h2_molecule, run_scf=True,\n",
    "                        run_mp2=False, run_cisd=False,\n",
    "                        run_ccsd=False, run_fci=True, verbose=False)\n"
   ]
  },
  {
   "cell_type": "code",
   "execution_count": 4,
   "id": "cdd8a6f8-923d-40d4-92f9-14b213359765",
   "metadata": {},
   "outputs": [],
   "source": [
    "# Convert electronic Hamiltonian to qubit operator using JW encoding\n",
    "h2_qubit_hamiltonian = jordan_wigner(get_fermion_operator(\n",
    "    h2_molecule.get_molecular_hamiltonian(occupied_indices=None,\n",
    "                                              active_indices=None)))\n",
    "# store molecular data and qubit operator for this config in an ordered list\n",
    "mol_config = [h2_molecule, h2_qubit_hamiltonian, np.inf]"
   ]
  },
  {
   "cell_type": "markdown",
   "id": "a8903296-6427-4a5c-bbb2-c34c5a8b3386",
   "metadata": {},
   "source": [
    "## create Ansatz"
   ]
  },
  {
   "cell_type": "code",
   "execution_count": 5,
   "id": "af2c75be-e781-4669-b2a4-1469fd1091aa",
   "metadata": {},
   "outputs": [
    {
     "name": "stdout",
     "output_type": "stream",
     "text": [
      "T  : │  0  │     1      │  2  │  3  │  4  │       5       │  6  │  7  │  8  │      9      │\n",
      "      ┌───┐                          ┌───┐ ┌─────────────┐ ┌───┐ ┌───┐                     \n",
      "q0 : ─┤ H ├──────────────────────────┤ X ├─┤ Rz(a_theta) ├─┤ X ├─┤ H ├─────────────────────\n",
      "      └───┘                          └─┬─┘ └─────────────┘ └─┬─┘ └───┘                     \n",
      "      ┌───┐                    ┌───┐   │                     │   ┌───┐ ┌───┐               \n",
      "q1 : ─┤ H ├────────────────────┤ X ├───●─────────────────────●───┤ X ├─┤ H ├───────────────\n",
      "      └───┘                    └─┬─┘                             └─┬─┘ └───┘               \n",
      "      ┌───┐    ┌───┐     ┌───┐   │                                 │   ┌───┐     ┌───┐     \n",
      "q2 : ─┤ X ├────┤ H ├─────┤ X ├───●─────────────────────────────────●───┤ X ├─────┤ H ├─────\n",
      "      └───┘    └───┘     └─┬─┘                                         └─┬─┘     └───┘     \n",
      "      ┌───┐ ┌──────────┐   │                                             │   ┌───────────┐ \n",
      "q3 : ─┤ X ├─┤ Rx(1.57) ├───●─────────────────────────────────────────────●───┤ Rx(-1.57) ├─\n",
      "      └───┘ └──────────┘                                                     └───────────┘ \n",
      "T  : │  0  │     1      │  2  │  3  │  4  │       5       │  6  │  7  │  8  │      9      │\n",
      "\n",
      "Unassigned parameters: [a_theta].\n",
      "Total number of qubits in the circuit: 4\n",
      "{'0011': 1.0}\n",
      "{'0011': 1.0}\n"
     ]
    }
   ],
   "source": [
    "# Construct circuit for UCCSD ansatz parameterized by VQE parameter per McArdle et al. \n",
    "a_theta = FreeParameter(\"a_theta\")\n",
    "# Initialize HF state |0011>\n",
    "ansatz_uccsd = Circuit().x(2).x(3)\n",
    "# Perform initial rotations to measure in Y & X bases\n",
    "ansatz_uccsd.rx(3,np.pi/2.).h(range(3))\n",
    "# Entangle with CNOTs\n",
    "ansatz_uccsd.cnot(3,2).cnot(2,1).cnot(1,0)\n",
    "# Perform the rotation in Z-basis\n",
    "ansatz_uccsd.rz(0,a_theta)\n",
    "# Uncompute the rotations\n",
    "ansatz_uccsd.cnot(1,0).cnot(2,1).cnot(3,2)\n",
    "ansatz_uccsd.h(range(3))\n",
    "ansatz_uccsd.rx(3,-np.pi/2.)\n",
    "\n",
    "# initialize quantum device to run VQE over\n",
    "local_sim = LocalSimulator()\n",
    "device_sv1 = device = AwsDevice('arn:aws:braket:::device/quantum-simulator/amazon/sv1')   \n",
    "\n",
    "# verify by running the circuit with no rotation and verifying we get HF state\n",
    "print(ansatz_uccsd)\n",
    "n_qubits = ansatz_uccsd.qubit_count\n",
    "print(f\"Total number of qubits in the circuit: {n_qubits}\")\n",
    "# We can fix the value of a_theta by calling the circuit with the value filled as follows.\n",
    "# print(local_sim.run(ansatz_uccsd(0)).result().state_vector)\n",
    "print(local_sim.run(ansatz_uccsd(0), shots=1000).result().measurement_probabilities)\n",
    "# We can also fix the value of a_theta by supplying the inputs argument to run\n",
    "print(local_sim.run(ansatz_uccsd, shots=1000, inputs={'a_theta': 0.0}).result().measurement_probabilities)"
   ]
  },
  {
   "cell_type": "markdown",
   "id": "1a2125f2-3ac8-41d7-8523-f0206fc87789",
   "metadata": {},
   "source": [
    "## Computation of expectation value of Hamiltonian operator for $H_2$"
   ]
  },
  {
   "cell_type": "code",
   "execution_count": 6,
   "id": "6f782c03-b16e-4879-b56e-676596bf1473",
   "metadata": {},
   "outputs": [],
   "source": [
    "def calculate_observable_expectation(a_indices_gates, a_ckt, a_dev, a_shots):\n",
    "    \"\"\" Calculates the expectation value of the given observable\n",
    "    Parameters:\n",
    "        a_indices_gates [sequence(tuple(int, str))]: List of tuple of qubit index & observable\n",
    "        a_ckt [Circuit]: Braket circuit to which measurement gates are to be added\n",
    "        a_dev [Braket Device]: Quantum device to run a_ckt on\n",
    "        a_shots [int]: No. of shots for measuring in bases other than the computational basis\n",
    "    Returns:\n",
    "        float: The expectation value of the observable\n",
    "    \"\"\"\n",
    "    if not a_indices_gates:\n",
    "        # this is the constant term of the Hamiltonian\n",
    "        return 1\n",
    "    factors = {}\n",
    "    for ind, factor in a_indices_gates:\n",
    "        # N.B.: Convert from OpenFermion's little-endian convention to Braket's big-endian convention\n",
    "        qubit = n_qubits - 1 - ind\n",
    "        if factor == \"X\":\n",
    "            factors[qubit] = observables.X()\n",
    "        elif factor == \"Y\":\n",
    "            factors[qubit] = observables.Y()\n",
    "        elif factor == \"Z\":\n",
    "            factors[qubit] = observables.Z()\n",
    "    qubits = sorted(factors)\n",
    "    observable = observables.TensorProduct([factors[qubit] for qubit in qubits])\n",
    "    # initialize measuring circuit and add expectation measurement\n",
    "    measuring_ckt = Circuit().add(a_ckt).expectation(observable=observable, target=qubits)\n",
    "    # compute expectation value\n",
    "    return a_dev.run(measuring_ckt, shots=a_shots).result().values[0]\n",
    "\n",
    "def H_exp(a_qH, a_ckt, a_dev, a_shots=1000):\n",
    "    \"\"\" Get expectation value of Hamiltonian for a given circuit result.\n",
    "    Parameters:\n",
    "        a_qH [OpenFermion QubitHamiltonian.terms]: Dictionary of OpenFermion QubitHamiltonian operator terms\n",
    "        a_ckt [Braket Circuit]: Circuit to create the final state\n",
    "        a_dev [Braket Device]: Quantum device to run a_ckt on\n",
    "        a_shots [int]: No. of shots for measuring in bases other than the computational basis\n",
    "    Returns:\n",
    "        H_e [float]: Expectation value of a_qH for a_ket\n",
    "    \"\"\"\n",
    "    # initialize expectation value of Hamiltonian\n",
    "    H_e = 0.\n",
    "    # loop over each term in qubit operator\n",
    "    for term in a_qH:\n",
    "        # extract the real-valued coefficient for this term\n",
    "        coeff = np.real(a_qH[term])\n",
    "        # compute and add this term's contribution to the Hamiltonian\n",
    "        H_e += coeff * calculate_observable_expectation(term, a_ckt, a_dev, a_shots)\n",
    "    return H_e"
   ]
  },
  {
   "cell_type": "code",
   "execution_count": 7,
   "id": "5107ff72-0d32-4788-9700-a32811553416",
   "metadata": {},
   "outputs": [
    {
     "name": "stdout",
     "output_type": "stream",
     "text": [
      "min <H(R=0.735 A)> = -1.1376 Ha\n",
      "Duration [sec]:  931.7416055202484\n"
     ]
    }
   ],
   "source": [
    "start = time.time()\n",
    "# Loop over all VQE parameter values\n",
    "for theta in np.linspace(start=-np.pi,stop=np.pi,num=24,endpoint=False):\n",
    "    # get expectation value of this config's Hamiltonian for this parameter value\n",
    "    exp_H_theta = H_exp(mol_config[1].terms, ansatz_uccsd(theta), device_sv1)\n",
    "    # if this expectation value is less than min found so far, update it\n",
    "    if exp_H_theta < mol_config[2]:\n",
    "        # print(f\"DEBUG: New optimum value of theta = {theta}\")\n",
    "        mol_config[2] = exp_H_theta\n",
    "\n",
    "end = time.time()\n",
    "print(f\"min <H(R=0.735 A)> = {mol_config[2]:.4f} Ha\")\n",
    "print(\"Duration [sec]: \", (end-start))"
   ]
  },
  {
   "cell_type": "code",
   "execution_count": null,
   "id": "881690b1-3ab6-4c46-97ea-162720997728",
   "metadata": {},
   "outputs": [],
   "source": []
  }
 ],
 "metadata": {
  "kernelspec": {
   "display_name": "Python 3 (ipykernel)",
   "language": "python",
   "name": "python3"
  },
  "language_info": {
   "codemirror_mode": {
    "name": "ipython",
    "version": 3
   },
   "file_extension": ".py",
   "mimetype": "text/x-python",
   "name": "python",
   "nbconvert_exporter": "python",
   "pygments_lexer": "ipython3",
   "version": "3.10.12"
  }
 },
 "nbformat": 4,
 "nbformat_minor": 5
}
