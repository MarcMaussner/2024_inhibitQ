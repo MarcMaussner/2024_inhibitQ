{
 "cells": [
  {
   "cell_type": "code",
   "execution_count": 1,
   "id": "433d15ea-eb95-402f-a347-fe0f3b12de1b",
   "metadata": {},
   "outputs": [],
   "source": [
    "from pprint import pprint\n",
    "\n",
    "import matplotlib.pyplot as plt\n",
    "from braket.aws import AwsDevice\n",
    "from braket.devices import Devices\n",
    "from braket.jobs import hybrid_job, save_job_result\n",
    "from qiskit.circuit.library import TwoLocal\n",
    "from qiskit.primitives import BackendEstimator\n",
    "from qiskit.quantum_info import SparsePauliOp\n",
    "from qiskit_algorithms.minimum_eigensolvers import VQE\n",
    "from qiskit_algorithms.optimizers import SLSQP\n",
    "\n",
    "from qiskit_braket_provider import BraketProvider\n",
    "\n",
    "sv1 = AwsDevice(Devices.Amazon.SV1)"
   ]
  },
  {
   "cell_type": "code",
   "execution_count": 2,
   "id": "9d321522-4ab4-47ea-a2e9-5cba7fbe11be",
   "metadata": {},
   "outputs": [],
   "source": [
    "@hybrid_job(device=sv1.arn, include_modules=\"qiskit_algorithms\")\n",
    "def main():\n",
    "    \"\"\"Decorated function that will be run in the docker container.\"\"\"\n",
    "    backend = BraketProvider().get_backend(\"SV1\")\n",
    "\n",
    "    h2_op = SparsePauliOp(\n",
    "        [\"II\", \"IZ\", \"ZI\", \"ZZ\", \"XX\"],\n",
    "        coeffs=[\n",
    "            -1.052373245772859,\n",
    "            0.39793742484318045,\n",
    "            -0.39793742484318045,\n",
    "            -0.01128010425623538,\n",
    "            0.18093119978423156,\n",
    "        ],\n",
    "    )\n",
    "\n",
    "    estimator = BackendEstimator(backend=backend, options={\"shots\": 10})\n",
    "    ansatz = TwoLocal(rotation_blocks=\"ry\", entanglement_blocks=\"cz\")\n",
    "    slsqp = SLSQP(maxiter=1)\n",
    "\n",
    "    vqe = VQE(estimator=estimator, ansatz=ansatz, optimizer=slsqp)\n",
    "\n",
    "    vqe_result = vqe.compute_minimum_eigenvalue(h2_op)\n",
    "\n",
    "    # Save the results of the VQE computation.\n",
    "    save_job_result(\n",
    "        {\n",
    "            \"VQE\": {\n",
    "                \"eigenvalue\": vqe_result.eigenvalue.real,\n",
    "                \"optimal_parameters\": list(vqe_result.optimal_parameters.values()),\n",
    "                \"optimal_point\": vqe_result.optimal_point.tolist(),\n",
    "                \"optimal_value\": vqe_result.optimal_value.real,\n",
    "            }\n",
    "        }\n",
    "    )"
   ]
  },
  {
   "cell_type": "code",
   "execution_count": 3,
   "id": "a8ab796c-7e3c-44f4-98af-bdae2f9bf8ea",
   "metadata": {},
   "outputs": [
    {
     "ename": "AccessDeniedException",
     "evalue": "An error occurred (AccessDeniedException) when calling the CreateJob operation: This account is not authorized to use this resource. In order to access additional resources, please contact customer support",
     "output_type": "error",
     "traceback": [
      "\u001b[0;31m---------------------------------------------------------------------------\u001b[0m",
      "\u001b[0;31mAccessDeniedException\u001b[0m                     Traceback (most recent call last)",
      "Cell \u001b[0;32mIn[3], line 1\u001b[0m\n\u001b[0;32m----> 1\u001b[0m job \u001b[38;5;241m=\u001b[39m \u001b[43mmain\u001b[49m\u001b[43m(\u001b[49m\u001b[43m)\u001b[49m\n",
      "File \u001b[0;32m~/.local/lib/python3.10/site-packages/braket/jobs/hybrid_job.py:228\u001b[0m, in \u001b[0;36mhybrid_job.<locals>._hybrid_job.<locals>.job_wrapper\u001b[0;34m(*args, **kwargs)\u001b[0m\n\u001b[1;32m    225\u001b[0m         \u001b[38;5;28;01mif\u001b[39;00m value \u001b[38;5;129;01mis\u001b[39;00m \u001b[38;5;129;01mnot\u001b[39;00m \u001b[38;5;28;01mNone\u001b[39;00m:\n\u001b[1;32m    226\u001b[0m             job_args[key] \u001b[38;5;241m=\u001b[39m value\n\u001b[0;32m--> 228\u001b[0m     job \u001b[38;5;241m=\u001b[39m \u001b[43m_create_job\u001b[49m\u001b[43m(\u001b[49m\u001b[43mjob_args\u001b[49m\u001b[43m,\u001b[49m\u001b[43m \u001b[49m\u001b[43mlocal\u001b[49m\u001b[43m)\u001b[49m\n\u001b[1;32m    229\u001b[0m \u001b[38;5;28;01mreturn\u001b[39;00m job\n",
      "File \u001b[0;32m~/.local/lib/python3.10/site-packages/braket/jobs/hybrid_job.py:428\u001b[0m, in \u001b[0;36m_create_job\u001b[0;34m(job_args, local)\u001b[0m\n\u001b[1;32m    425\u001b[0m \u001b[38;5;28;01melse\u001b[39;00m:\n\u001b[1;32m    426\u001b[0m     \u001b[38;5;28;01mfrom\u001b[39;00m \u001b[38;5;21;01mbraket\u001b[39;00m\u001b[38;5;21;01m.\u001b[39;00m\u001b[38;5;21;01maws\u001b[39;00m \u001b[38;5;28;01mimport\u001b[39;00m AwsQuantumJob\n\u001b[0;32m--> 428\u001b[0m     \u001b[38;5;28;01mreturn\u001b[39;00m \u001b[43mAwsQuantumJob\u001b[49m\u001b[38;5;241;43m.\u001b[39;49m\u001b[43mcreate\u001b[49m\u001b[43m(\u001b[49m\u001b[38;5;241;43m*\u001b[39;49m\u001b[38;5;241;43m*\u001b[39;49m\u001b[43mjob_args\u001b[49m\u001b[43m)\u001b[49m\n",
      "File \u001b[0;32m~/.local/lib/python3.10/site-packages/braket/aws/aws_quantum_job.py:218\u001b[0m, in \u001b[0;36mAwsQuantumJob.create\u001b[0;34m(cls, device, source_module, entry_point, image_uri, job_name, code_location, role_arn, wait_until_complete, hyperparameters, input_data, instance_config, distribution, stopping_condition, output_data_config, copy_checkpoints_from_job, checkpoint_config, aws_session, tags, logger, quiet, reservation_arn)\u001b[0m\n\u001b[1;32m    195\u001b[0m aws_session \u001b[38;5;241m=\u001b[39m AwsQuantumJob\u001b[38;5;241m.\u001b[39m_initialize_session(aws_session, device, logger)\n\u001b[1;32m    197\u001b[0m create_job_kwargs \u001b[38;5;241m=\u001b[39m prepare_quantum_job(\n\u001b[1;32m    198\u001b[0m     device\u001b[38;5;241m=\u001b[39mdevice,\n\u001b[1;32m    199\u001b[0m     source_module\u001b[38;5;241m=\u001b[39msource_module,\n\u001b[0;32m   (...)\u001b[0m\n\u001b[1;32m    215\u001b[0m     reservation_arn\u001b[38;5;241m=\u001b[39mreservation_arn,\n\u001b[1;32m    216\u001b[0m )\n\u001b[0;32m--> 218\u001b[0m job_arn \u001b[38;5;241m=\u001b[39m \u001b[43maws_session\u001b[49m\u001b[38;5;241;43m.\u001b[39;49m\u001b[43mcreate_job\u001b[49m\u001b[43m(\u001b[49m\u001b[38;5;241;43m*\u001b[39;49m\u001b[38;5;241;43m*\u001b[39;49m\u001b[43mcreate_job_kwargs\u001b[49m\u001b[43m)\u001b[49m\n\u001b[1;32m    219\u001b[0m job \u001b[38;5;241m=\u001b[39m AwsQuantumJob(job_arn, aws_session, quiet)\n\u001b[1;32m    221\u001b[0m \u001b[38;5;28;01mif\u001b[39;00m wait_until_complete:\n",
      "File \u001b[0;32m~/.local/lib/python3.10/site-packages/braket/aws/aws_session.py:289\u001b[0m, in \u001b[0;36mAwsSession.create_job\u001b[0;34m(self, **boto3_kwargs)\u001b[0m\n\u001b[1;32m    280\u001b[0m \u001b[38;5;28;01mdef\u001b[39;00m \u001b[38;5;21mcreate_job\u001b[39m(\u001b[38;5;28mself\u001b[39m, \u001b[38;5;241m*\u001b[39m\u001b[38;5;241m*\u001b[39mboto3_kwargs) \u001b[38;5;241m-\u001b[39m\u001b[38;5;241m>\u001b[39m \u001b[38;5;28mstr\u001b[39m:\n\u001b[1;32m    281\u001b[0m \u001b[38;5;250m    \u001b[39m\u001b[38;5;124;03m\"\"\"Create a quantum hybrid job.\u001b[39;00m\n\u001b[1;32m    282\u001b[0m \n\u001b[1;32m    283\u001b[0m \u001b[38;5;124;03m    Args:\u001b[39;00m\n\u001b[0;32m   (...)\u001b[0m\n\u001b[1;32m    287\u001b[0m \u001b[38;5;124;03m        str: The ARN of the hybrid job.\u001b[39;00m\n\u001b[1;32m    288\u001b[0m \u001b[38;5;124;03m    \"\"\"\u001b[39;00m\n\u001b[0;32m--> 289\u001b[0m     response \u001b[38;5;241m=\u001b[39m \u001b[38;5;28;43mself\u001b[39;49m\u001b[38;5;241;43m.\u001b[39;49m\u001b[43mbraket_client\u001b[49m\u001b[38;5;241;43m.\u001b[39;49m\u001b[43mcreate_job\u001b[49m\u001b[43m(\u001b[49m\u001b[38;5;241;43m*\u001b[39;49m\u001b[38;5;241;43m*\u001b[39;49m\u001b[43mboto3_kwargs\u001b[49m\u001b[43m)\u001b[49m\n\u001b[1;32m    290\u001b[0m     \u001b[38;5;28;01mreturn\u001b[39;00m response[\u001b[38;5;124m\"\u001b[39m\u001b[38;5;124mjobArn\u001b[39m\u001b[38;5;124m\"\u001b[39m]\n",
      "File \u001b[0;32m~/.local/lib/python3.10/site-packages/botocore/client.py:565\u001b[0m, in \u001b[0;36mClientCreator._create_api_method.<locals>._api_call\u001b[0;34m(self, *args, **kwargs)\u001b[0m\n\u001b[1;32m    561\u001b[0m     \u001b[38;5;28;01mraise\u001b[39;00m \u001b[38;5;167;01mTypeError\u001b[39;00m(\n\u001b[1;32m    562\u001b[0m         \u001b[38;5;124mf\u001b[39m\u001b[38;5;124m\"\u001b[39m\u001b[38;5;132;01m{\u001b[39;00mpy_operation_name\u001b[38;5;132;01m}\u001b[39;00m\u001b[38;5;124m() only accepts keyword arguments.\u001b[39m\u001b[38;5;124m\"\u001b[39m\n\u001b[1;32m    563\u001b[0m     )\n\u001b[1;32m    564\u001b[0m \u001b[38;5;66;03m# The \"self\" in this scope is referring to the BaseClient.\u001b[39;00m\n\u001b[0;32m--> 565\u001b[0m \u001b[38;5;28;01mreturn\u001b[39;00m \u001b[38;5;28;43mself\u001b[39;49m\u001b[38;5;241;43m.\u001b[39;49m\u001b[43m_make_api_call\u001b[49m\u001b[43m(\u001b[49m\u001b[43moperation_name\u001b[49m\u001b[43m,\u001b[49m\u001b[43m \u001b[49m\u001b[43mkwargs\u001b[49m\u001b[43m)\u001b[49m\n",
      "File \u001b[0;32m~/.local/lib/python3.10/site-packages/botocore/client.py:1021\u001b[0m, in \u001b[0;36mBaseClient._make_api_call\u001b[0;34m(self, operation_name, api_params)\u001b[0m\n\u001b[1;32m   1017\u001b[0m     error_code \u001b[38;5;241m=\u001b[39m error_info\u001b[38;5;241m.\u001b[39mget(\u001b[38;5;124m\"\u001b[39m\u001b[38;5;124mQueryErrorCode\u001b[39m\u001b[38;5;124m\"\u001b[39m) \u001b[38;5;129;01mor\u001b[39;00m error_info\u001b[38;5;241m.\u001b[39mget(\n\u001b[1;32m   1018\u001b[0m         \u001b[38;5;124m\"\u001b[39m\u001b[38;5;124mCode\u001b[39m\u001b[38;5;124m\"\u001b[39m\n\u001b[1;32m   1019\u001b[0m     )\n\u001b[1;32m   1020\u001b[0m     error_class \u001b[38;5;241m=\u001b[39m \u001b[38;5;28mself\u001b[39m\u001b[38;5;241m.\u001b[39mexceptions\u001b[38;5;241m.\u001b[39mfrom_code(error_code)\n\u001b[0;32m-> 1021\u001b[0m     \u001b[38;5;28;01mraise\u001b[39;00m error_class(parsed_response, operation_name)\n\u001b[1;32m   1022\u001b[0m \u001b[38;5;28;01melse\u001b[39;00m:\n\u001b[1;32m   1023\u001b[0m     \u001b[38;5;28;01mreturn\u001b[39;00m parsed_response\n",
      "\u001b[0;31mAccessDeniedException\u001b[0m: An error occurred (AccessDeniedException) when calling the CreateJob operation: This account is not authorized to use this resource. In order to access additional resources, please contact customer support"
     ]
    }
   ],
   "source": [
    "job = main()"
   ]
  },
  {
   "cell_type": "code",
   "execution_count": null,
   "id": "a943edd7-bb5b-4490-aeb3-db55a429573d",
   "metadata": {},
   "outputs": [],
   "source": [
    "result = job.result()\n",
    "pprint(result)"
   ]
  },
  {
   "cell_type": "code",
   "execution_count": null,
   "id": "46a00aee-7dc2-4129-aa1b-9b995598a498",
   "metadata": {},
   "outputs": [],
   "source": [
    "# Extract data for visualization\n",
    "optimal_parameters = result[\"VQE\"][\"optimal_parameters\"]\n",
    "optimal_point = result[\"VQE\"][\"optimal_point\"]\n",
    "\n",
    "# Create a single plot for both sets of data\n",
    "plt.figure(figsize=(8, 6))\n",
    "\n",
    "# Plot Optimal Parameters\n",
    "plt.plot(\n",
    "    optimal_parameters, marker=\"o\", linestyle=\"-\", color=\"b\", label=\"Optimal Parameters\"\n",
    ")\n",
    "\n",
    "# Plot Optimal Point Values\n",
    "plt.plot(optimal_point, marker=\"o\", linestyle=\"--\", color=\"g\", label=\"Optimal Point\")\n",
    "\n",
    "# Set labels and title\n",
    "plt.xlabel(\"Parameter Index\")\n",
    "plt.ylabel(\"Parameter Value\")\n",
    "plt.title(\"Optimal Parameters and Optimal Point Values\")\n",
    "\n",
    "# Show legend\n",
    "plt.legend()\n",
    "\n",
    "# Show the plot\n",
    "plt.tight_layout()\n",
    "plt.show()\n"
   ]
  }
 ],
 "metadata": {
  "kernelspec": {
   "display_name": "Python 3 (ipykernel)",
   "language": "python",
   "name": "python3"
  },
  "language_info": {
   "codemirror_mode": {
    "name": "ipython",
    "version": 3
   },
   "file_extension": ".py",
   "mimetype": "text/x-python",
   "name": "python",
   "nbconvert_exporter": "python",
   "pygments_lexer": "ipython3",
   "version": "3.10.12"
  }
 },
 "nbformat": 4,
 "nbformat_minor": 5
}
