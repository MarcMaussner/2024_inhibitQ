{
 "cells": [
  {
   "cell_type": "code",
   "execution_count": 3,
   "id": "527e10e4-3571-4c3c-93d5-bb7b1f2751d5",
   "metadata": {},
   "outputs": [],
   "source": [
    "from braket.aws import AwsDevice\n",
    "from braket.circuits import Circuit, FreeParameter, Observable\n",
    "from braket.devices import Devices\n",
    "from braket.jobs.hybrid_job import hybrid_job\n",
    "from braket.jobs.metrics import log_metric\n",
    "\n",
    "device_arn = Devices.Amazon.SV1\n",
    "\n",
    "\n",
    "@hybrid_job(device=device_arn)  # choose priority device\n",
    "def run_hybrid_job(num_tasks=1):\n",
    "    device = AwsDevice(device_arn)  # declare AwsDevice within the hybrid job\n",
    "\n",
    "    # create a parametric circuit\n",
    "    circ = Circuit()\n",
    "    circ.rx(0, FreeParameter(\"theta\"))\n",
    "    circ.cnot(0, 1)\n",
    "    circ.expectation(observable=Observable.X(), target=0)\n",
    "\n",
    "    theta = 0.0  # initial parameter\n",
    "\n",
    "    for i in range(num_tasks):\n",
    "        task = device.run(circ, shots=100, inputs={\"theta\": theta})  # input parameters\n",
    "        exp_val = task.result().values[0]\n",
    "\n",
    "        theta += exp_val  # modify the parameter (possibly gradient descent)\n",
    "\n",
    "        log_metric(metric_name=\"exp_val\", value=exp_val, iteration_number=i)\n",
    "\n",
    "    return {\"final_theta\": theta, \"final_exp_val\": exp_val}"
   ]
  },
  {
   "cell_type": "code",
   "execution_count": 4,
   "id": "001fce61-e59c-4440-9f1f-4d8f1c110729",
   "metadata": {},
   "outputs": [
    {
     "ename": "AccessDeniedException",
     "evalue": "An error occurred (AccessDeniedException) when calling the CreateJob operation: This account is not authorized to use this resource. In order to access additional resources, please contact customer support",
     "output_type": "error",
     "traceback": [
      "\u001b[0;31m---------------------------------------------------------------------------\u001b[0m",
      "\u001b[0;31mAccessDeniedException\u001b[0m                     Traceback (most recent call last)",
      "Cell \u001b[0;32mIn[4], line 1\u001b[0m\n\u001b[0;32m----> 1\u001b[0m job \u001b[38;5;241m=\u001b[39m \u001b[43mrun_hybrid_job\u001b[49m\u001b[43m(\u001b[49m\u001b[43mnum_tasks\u001b[49m\u001b[38;5;241;43m=\u001b[39;49m\u001b[38;5;241;43m1\u001b[39;49m\u001b[43m)\u001b[49m\n\u001b[1;32m      2\u001b[0m result \u001b[38;5;241m=\u001b[39m job\u001b[38;5;241m.\u001b[39mresult() \n",
      "File \u001b[0;32m~/.local/lib/python3.10/site-packages/braket/jobs/hybrid_job.py:228\u001b[0m, in \u001b[0;36mhybrid_job.<locals>._hybrid_job.<locals>.job_wrapper\u001b[0;34m(*args, **kwargs)\u001b[0m\n\u001b[1;32m    225\u001b[0m         \u001b[38;5;28;01mif\u001b[39;00m value \u001b[38;5;129;01mis\u001b[39;00m \u001b[38;5;129;01mnot\u001b[39;00m \u001b[38;5;28;01mNone\u001b[39;00m:\n\u001b[1;32m    226\u001b[0m             job_args[key] \u001b[38;5;241m=\u001b[39m value\n\u001b[0;32m--> 228\u001b[0m     job \u001b[38;5;241m=\u001b[39m \u001b[43m_create_job\u001b[49m\u001b[43m(\u001b[49m\u001b[43mjob_args\u001b[49m\u001b[43m,\u001b[49m\u001b[43m \u001b[49m\u001b[43mlocal\u001b[49m\u001b[43m)\u001b[49m\n\u001b[1;32m    229\u001b[0m \u001b[38;5;28;01mreturn\u001b[39;00m job\n",
      "File \u001b[0;32m~/.local/lib/python3.10/site-packages/braket/jobs/hybrid_job.py:428\u001b[0m, in \u001b[0;36m_create_job\u001b[0;34m(job_args, local)\u001b[0m\n\u001b[1;32m    425\u001b[0m \u001b[38;5;28;01melse\u001b[39;00m:\n\u001b[1;32m    426\u001b[0m     \u001b[38;5;28;01mfrom\u001b[39;00m \u001b[38;5;21;01mbraket\u001b[39;00m\u001b[38;5;21;01m.\u001b[39;00m\u001b[38;5;21;01maws\u001b[39;00m \u001b[38;5;28;01mimport\u001b[39;00m AwsQuantumJob\n\u001b[0;32m--> 428\u001b[0m     \u001b[38;5;28;01mreturn\u001b[39;00m \u001b[43mAwsQuantumJob\u001b[49m\u001b[38;5;241;43m.\u001b[39;49m\u001b[43mcreate\u001b[49m\u001b[43m(\u001b[49m\u001b[38;5;241;43m*\u001b[39;49m\u001b[38;5;241;43m*\u001b[39;49m\u001b[43mjob_args\u001b[49m\u001b[43m)\u001b[49m\n",
      "File \u001b[0;32m~/.local/lib/python3.10/site-packages/braket/aws/aws_quantum_job.py:218\u001b[0m, in \u001b[0;36mAwsQuantumJob.create\u001b[0;34m(cls, device, source_module, entry_point, image_uri, job_name, code_location, role_arn, wait_until_complete, hyperparameters, input_data, instance_config, distribution, stopping_condition, output_data_config, copy_checkpoints_from_job, checkpoint_config, aws_session, tags, logger, quiet, reservation_arn)\u001b[0m\n\u001b[1;32m    195\u001b[0m aws_session \u001b[38;5;241m=\u001b[39m AwsQuantumJob\u001b[38;5;241m.\u001b[39m_initialize_session(aws_session, device, logger)\n\u001b[1;32m    197\u001b[0m create_job_kwargs \u001b[38;5;241m=\u001b[39m prepare_quantum_job(\n\u001b[1;32m    198\u001b[0m     device\u001b[38;5;241m=\u001b[39mdevice,\n\u001b[1;32m    199\u001b[0m     source_module\u001b[38;5;241m=\u001b[39msource_module,\n\u001b[0;32m   (...)\u001b[0m\n\u001b[1;32m    215\u001b[0m     reservation_arn\u001b[38;5;241m=\u001b[39mreservation_arn,\n\u001b[1;32m    216\u001b[0m )\n\u001b[0;32m--> 218\u001b[0m job_arn \u001b[38;5;241m=\u001b[39m \u001b[43maws_session\u001b[49m\u001b[38;5;241;43m.\u001b[39;49m\u001b[43mcreate_job\u001b[49m\u001b[43m(\u001b[49m\u001b[38;5;241;43m*\u001b[39;49m\u001b[38;5;241;43m*\u001b[39;49m\u001b[43mcreate_job_kwargs\u001b[49m\u001b[43m)\u001b[49m\n\u001b[1;32m    219\u001b[0m job \u001b[38;5;241m=\u001b[39m AwsQuantumJob(job_arn, aws_session, quiet)\n\u001b[1;32m    221\u001b[0m \u001b[38;5;28;01mif\u001b[39;00m wait_until_complete:\n",
      "File \u001b[0;32m~/.local/lib/python3.10/site-packages/braket/aws/aws_session.py:289\u001b[0m, in \u001b[0;36mAwsSession.create_job\u001b[0;34m(self, **boto3_kwargs)\u001b[0m\n\u001b[1;32m    280\u001b[0m \u001b[38;5;28;01mdef\u001b[39;00m \u001b[38;5;21mcreate_job\u001b[39m(\u001b[38;5;28mself\u001b[39m, \u001b[38;5;241m*\u001b[39m\u001b[38;5;241m*\u001b[39mboto3_kwargs) \u001b[38;5;241m-\u001b[39m\u001b[38;5;241m>\u001b[39m \u001b[38;5;28mstr\u001b[39m:\n\u001b[1;32m    281\u001b[0m \u001b[38;5;250m    \u001b[39m\u001b[38;5;124;03m\"\"\"Create a quantum hybrid job.\u001b[39;00m\n\u001b[1;32m    282\u001b[0m \n\u001b[1;32m    283\u001b[0m \u001b[38;5;124;03m    Args:\u001b[39;00m\n\u001b[0;32m   (...)\u001b[0m\n\u001b[1;32m    287\u001b[0m \u001b[38;5;124;03m        str: The ARN of the hybrid job.\u001b[39;00m\n\u001b[1;32m    288\u001b[0m \u001b[38;5;124;03m    \"\"\"\u001b[39;00m\n\u001b[0;32m--> 289\u001b[0m     response \u001b[38;5;241m=\u001b[39m \u001b[38;5;28;43mself\u001b[39;49m\u001b[38;5;241;43m.\u001b[39;49m\u001b[43mbraket_client\u001b[49m\u001b[38;5;241;43m.\u001b[39;49m\u001b[43mcreate_job\u001b[49m\u001b[43m(\u001b[49m\u001b[38;5;241;43m*\u001b[39;49m\u001b[38;5;241;43m*\u001b[39;49m\u001b[43mboto3_kwargs\u001b[49m\u001b[43m)\u001b[49m\n\u001b[1;32m    290\u001b[0m     \u001b[38;5;28;01mreturn\u001b[39;00m response[\u001b[38;5;124m\"\u001b[39m\u001b[38;5;124mjobArn\u001b[39m\u001b[38;5;124m\"\u001b[39m]\n",
      "File \u001b[0;32m~/.local/lib/python3.10/site-packages/botocore/client.py:565\u001b[0m, in \u001b[0;36mClientCreator._create_api_method.<locals>._api_call\u001b[0;34m(self, *args, **kwargs)\u001b[0m\n\u001b[1;32m    561\u001b[0m     \u001b[38;5;28;01mraise\u001b[39;00m \u001b[38;5;167;01mTypeError\u001b[39;00m(\n\u001b[1;32m    562\u001b[0m         \u001b[38;5;124mf\u001b[39m\u001b[38;5;124m\"\u001b[39m\u001b[38;5;132;01m{\u001b[39;00mpy_operation_name\u001b[38;5;132;01m}\u001b[39;00m\u001b[38;5;124m() only accepts keyword arguments.\u001b[39m\u001b[38;5;124m\"\u001b[39m\n\u001b[1;32m    563\u001b[0m     )\n\u001b[1;32m    564\u001b[0m \u001b[38;5;66;03m# The \"self\" in this scope is referring to the BaseClient.\u001b[39;00m\n\u001b[0;32m--> 565\u001b[0m \u001b[38;5;28;01mreturn\u001b[39;00m \u001b[38;5;28;43mself\u001b[39;49m\u001b[38;5;241;43m.\u001b[39;49m\u001b[43m_make_api_call\u001b[49m\u001b[43m(\u001b[49m\u001b[43moperation_name\u001b[49m\u001b[43m,\u001b[49m\u001b[43m \u001b[49m\u001b[43mkwargs\u001b[49m\u001b[43m)\u001b[49m\n",
      "File \u001b[0;32m~/.local/lib/python3.10/site-packages/botocore/client.py:1021\u001b[0m, in \u001b[0;36mBaseClient._make_api_call\u001b[0;34m(self, operation_name, api_params)\u001b[0m\n\u001b[1;32m   1017\u001b[0m     error_code \u001b[38;5;241m=\u001b[39m error_info\u001b[38;5;241m.\u001b[39mget(\u001b[38;5;124m\"\u001b[39m\u001b[38;5;124mQueryErrorCode\u001b[39m\u001b[38;5;124m\"\u001b[39m) \u001b[38;5;129;01mor\u001b[39;00m error_info\u001b[38;5;241m.\u001b[39mget(\n\u001b[1;32m   1018\u001b[0m         \u001b[38;5;124m\"\u001b[39m\u001b[38;5;124mCode\u001b[39m\u001b[38;5;124m\"\u001b[39m\n\u001b[1;32m   1019\u001b[0m     )\n\u001b[1;32m   1020\u001b[0m     error_class \u001b[38;5;241m=\u001b[39m \u001b[38;5;28mself\u001b[39m\u001b[38;5;241m.\u001b[39mexceptions\u001b[38;5;241m.\u001b[39mfrom_code(error_code)\n\u001b[0;32m-> 1021\u001b[0m     \u001b[38;5;28;01mraise\u001b[39;00m error_class(parsed_response, operation_name)\n\u001b[1;32m   1022\u001b[0m \u001b[38;5;28;01melse\u001b[39;00m:\n\u001b[1;32m   1023\u001b[0m     \u001b[38;5;28;01mreturn\u001b[39;00m parsed_response\n",
      "\u001b[0;31mAccessDeniedException\u001b[0m: An error occurred (AccessDeniedException) when calling the CreateJob operation: This account is not authorized to use this resource. In order to access additional resources, please contact customer support"
     ]
    }
   ],
   "source": [
    "job = run_hybrid_job(num_tasks=1)\n",
    "result = job.result() "
   ]
  },
  {
   "cell_type": "code",
   "execution_count": null,
   "id": "51828a06-2e0c-4075-94dd-00ca1a3de2a5",
   "metadata": {},
   "outputs": [],
   "source": []
  }
 ],
 "metadata": {
  "kernelspec": {
   "display_name": "Python 3 (ipykernel)",
   "language": "python",
   "name": "python3"
  },
  "language_info": {
   "codemirror_mode": {
    "name": "ipython",
    "version": 3
   },
   "file_extension": ".py",
   "mimetype": "text/x-python",
   "name": "python",
   "nbconvert_exporter": "python",
   "pygments_lexer": "ipython3",
   "version": "3.10.12"
  }
 },
 "nbformat": 4,
 "nbformat_minor": 5
}
