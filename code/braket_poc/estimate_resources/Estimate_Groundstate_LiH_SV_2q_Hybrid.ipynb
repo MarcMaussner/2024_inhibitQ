{
 "cells": [
  {
   "cell_type": "markdown",
   "id": "df6c80f0-35c4-491e-b572-a51d105fa41b",
   "metadata": {},
   "source": [
    "# Code to do estimations of resources for AWS\n",
    "- Corresponding to experiment 1: PoC: Groundstate of LiH with ActiveSpaceOptimization on sv\n"
   ]
  },
  {
   "cell_type": "code",
   "execution_count": 2,
   "id": "9fcafae8-775e-40bd-8198-13ce87708354",
   "metadata": {},
   "outputs": [],
   "source": [
    "from braket.tracking import Tracker\n",
    "t = Tracker().start()"
   ]
  },
  {
   "cell_type": "code",
   "execution_count": 3,
   "id": "56b02e28-94fd-45d4-a8b8-878c913df884",
   "metadata": {},
   "outputs": [],
   "source": [
    "from pprint import pprint\n",
    "\n",
    "import matplotlib.pyplot as plt\n",
    "from braket.aws import AwsDevice\n",
    "from braket.devices import Devices\n",
    "from braket.jobs import hybrid_job, save_job_result\n",
    "from qiskit.circuit.library import TwoLocal\n",
    "from qiskit.primitives import BackendEstimator\n",
    "from qiskit_algorithms.optimizers import SLSQP\n",
    "\n",
    "from qiskit_algorithms.minimum_eigensolvers import NumPyMinimumEigensolver, VQE\n",
    "from qiskit_nature.second_q.transformers import FreezeCoreTransformer\n",
    "from qiskit_nature.second_q.formats.molecule_info import MoleculeInfo\n",
    "from qiskit_nature.second_q.mappers import ParityMapper, JordanWignerMapper\n",
    "from qiskit_nature.second_q.circuit.library import UCCSD, HartreeFock\n",
    "\n",
    "from qiskit_nature.second_q.drivers import PySCFDriver\n",
    "\n",
    "from qiskit_aer.primitives import Estimator as AerEstimator\n",
    "\n",
    "from qiskit_braket_provider import BraketProvider, BraketLocalBackend, to_braket\n",
    "import time\n",
    "from datetime import datetime\n",
    "\n",
    "import numpy as np"
   ]
  },
  {
   "cell_type": "code",
   "execution_count": 4,
   "id": "dd652c25-2914-4eb3-843c-d99bfc99e35f",
   "metadata": {},
   "outputs": [],
   "source": [
    "NQUBITS = 2\n",
    "MAXITER = 1000\n",
    "SHOTS = 1000\n",
    "DIST = 1.6"
   ]
  },
  {
   "cell_type": "markdown",
   "id": "37c72f64-e8e2-401b-a5b6-08b882a6bd14",
   "metadata": {},
   "source": [
    "## Normal with Jordan-Wigner and TwoQubitReduction + FreezeCore + ActiveSpace"
   ]
  },
  {
   "cell_type": "code",
   "execution_count": 5,
   "id": "890d0a1b-418d-440e-b9fb-a286441ba49b",
   "metadata": {},
   "outputs": [],
   "source": [
    "def get_qubit_op_as(dist):\n",
    "    # Define Molecule\n",
    "    molecule = MoleculeInfo(\n",
    "        # Coordinates in Angstrom\n",
    "        symbols=[\"Li\", \"H\"],\n",
    "        coords=([0.0, 0.0, 0.0], [dist, 0.0, 0.0]),\n",
    "        multiplicity=1,  # = 2*spin + 1\n",
    "        charge=0,\n",
    "    )\n",
    "\n",
    "    driver = PySCFDriver.from_molecule(molecule)\n",
    "    problem = driver.run()\n",
    "\n",
    "    # Now you can get the reduced electronic structure problem\n",
    "    from qiskit_nature.second_q.transformers import FreezeCoreTransformer\n",
    "\n",
    "    fc_transformer = FreezeCoreTransformer()\n",
    "\n",
    "    fc_problem = fc_transformer.transform(problem)\n",
    "\n",
    "    # active space transformer\n",
    "    from qiskit_nature.second_q.transformers import ActiveSpaceTransformer\n",
    "\n",
    "    as_transformer = ActiveSpaceTransformer(2, 2)\n",
    "\n",
    "    as_problem = as_transformer.transform(fc_problem)\n",
    "    \n",
    "    num_particles = as_problem.num_particles\n",
    "    num_spatial_orbitals = as_problem.num_spatial_orbitals\n",
    "\n",
    "    mapper = ParityMapper(num_particles=num_particles)\n",
    "    qubit_op = mapper.map(as_problem.second_q_ops()[0])\n",
    "    print (f\"Problem spatial orbitals {problem.num_spatial_orbitals}\")\n",
    "    print (f\"Problem particles {problem.num_particles}\")\n",
    "    print (f\"FC-Problem spatial orbitals {fc_problem.num_spatial_orbitals}\")\n",
    "    print (f\"FC-Problem particles {fc_problem.num_particles}\")\n",
    "    print (f\"AS-Problem spatial orbitals {as_problem.num_spatial_orbitals}\")\n",
    "    print (f\"AS-Problem particles {as_problem.num_particles}\")\n",
    "    return qubit_op, as_problem.num_particles, as_problem.num_spatial_orbitals, as_problem, mapper"
   ]
  },
  {
   "cell_type": "code",
   "execution_count": 6,
   "id": "ab52f9d0-74e6-4858-aeaf-d450782d6381",
   "metadata": {},
   "outputs": [],
   "source": [
    "def exact_solver(qubit_op, problem):\n",
    "    sol = NumPyMinimumEigensolver().compute_minimum_eigenvalue(qubit_op)\n",
    "    result = problem.interpret(sol)\n",
    "    return result"
   ]
  },
  {
   "cell_type": "markdown",
   "id": "56d4c9a3-2f8d-4ba5-8c49-4fb99845dfb2",
   "metadata": {},
   "source": [
    "## Pure Qiskit and Local"
   ]
  },
  {
   "cell_type": "code",
   "execution_count": 7,
   "id": "f602cc2b-8e04-4c3f-bba2-d3730e9bb549",
   "metadata": {},
   "outputs": [
    {
     "name": "stdout",
     "output_type": "stream",
     "text": [
      "Problem spatial orbitals 6\n",
      "Problem particles (2, 2)\n",
      "FC-Problem spatial orbitals 5\n",
      "FC-Problem particles (1, 1)\n",
      "AS-Problem spatial orbitals 2\n",
      "AS-Problem particles (1, 1)\n",
      "Qubits needed in ansatz: 2\n",
      "Interatomic Distance: 1.6 VQE Result: -7.86213 Exact Energy: -7.86213 Cost function evals: 20 Optimizer evals: None\n",
      "All energies have been calculated\n",
      "Code execution time [sec]: 5.792293071746826\n"
     ]
    }
   ],
   "source": [
    "distances = [DIST] #np.arange(1.5, 3.0, 0.1)\n",
    "exact_energies = []\n",
    "vqe_energies = []\n",
    "optimizer = SLSQP(maxiter=MAXITER)\n",
    "noiseless_estimator = AerEstimator(approximation=True)\n",
    "\n",
    "start = time.time()\n",
    "# pylint: disable=undefined-loop-variable,line-too-long\n",
    "for dist in distances:\n",
    "    (qubit_op, num_particles, num_spatial_orbitals, problem, mapper) = get_qubit_op_as(\n",
    "        dist\n",
    "    )\n",
    "\n",
    "    result = exact_solver(qubit_op, problem)\n",
    "    exact_energies.append(result.total_energies[0].real)\n",
    "    init_state = HartreeFock(num_spatial_orbitals, num_particles, mapper)\n",
    "    var_form = UCCSD(\n",
    "        num_spatial_orbitals, num_particles, mapper, initial_state=init_state\n",
    "    )\n",
    "    print(f\"Qubits needed in ansatz: {var_form.num_qubits}\")\n",
    "    vqe = VQE(\n",
    "        noiseless_estimator,\n",
    "        var_form,\n",
    "        optimizer,\n",
    "        initial_point=[0] * var_form.num_parameters,\n",
    "    )\n",
    "    vqe_calc = vqe.compute_minimum_eigenvalue(qubit_op)\n",
    "    vqe_result = problem.interpret(vqe_calc).total_energies[0].real\n",
    "    vqe_energies.append(vqe_result)\n",
    "    print(\n",
    "        f\"Interatomic Distance: {np.round(dist, 2)}\",\n",
    "        f\"VQE Result: {vqe_result:.5f}\",\n",
    "        f\"Exact Energy: {exact_energies[-1]:.5f}\",\n",
    "        f\"Cost function evals: {vqe_calc.cost_function_evals}\",\n",
    "        f\"Optimizer evals: {vqe_calc.optimizer_evals}\",\n",
    "    )\n",
    "\n",
    "print(\"All energies have been calculated\")\n",
    "end = time.time()\n",
    "# print execution time\n",
    "print('Code execution time [sec]:', end - start)"
   ]
  },
  {
   "cell_type": "markdown",
   "id": "bd086367-1aab-4acf-bd2d-fba1881924bc",
   "metadata": {},
   "source": [
    "## Now try this with hybridjob on braket"
   ]
  },
  {
   "cell_type": "code",
   "execution_count": 8,
   "id": "76a44600-4150-4285-a2d4-f5180e49ede7",
   "metadata": {},
   "outputs": [],
   "source": [
    "device_arn = Devices.Amazon.SV1"
   ]
  },
  {
   "cell_type": "code",
   "execution_count": 9,
   "id": "86814b9f-0cb8-4b9b-91ea-ffe15a671828",
   "metadata": {},
   "outputs": [],
   "source": [
    "@hybrid_job(device=device_arn, include_modules=\"qiskit_algorithms\")\n",
    "def run_hybrid_job(num_tasks=1):\n",
    "    distances = [DIST] #np.arange(1.5, 3.0, 0.1)\n",
    "    slsqp = SLSQP(maxiter=MAXITER)\n",
    "    \n",
    "    backend = BraketProvider().get_backend(\"SV1\")\n",
    "    estimator = BackendEstimator(backend=backend, options={\"shots\": SHOTS})\n",
    "\n",
    "    start = time.time()\n",
    "    # pylint: disable=undefined-loop-variable,line-too-long\n",
    "    for dist in distances:\n",
    "        (qubit_op, num_particles, num_spatial_orbitals, problem, mapper) = get_qubit_op_as(\n",
    "            dist\n",
    "        )\n",
    "        init_state = HartreeFock(num_spatial_orbitals, num_particles, mapper)\n",
    "        var_form = UCCSD(\n",
    "            num_spatial_orbitals, num_particles, mapper, initial_state=init_state\n",
    "        )\n",
    "        print(f\"Qubits needed in ansatz: {var_form.num_qubits}\")\n",
    "        vqe = VQE(\n",
    "            estimator,\n",
    "            var_form,\n",
    "            slsqp,\n",
    "            initial_point=[0] * var_form.num_parameters,\n",
    "        )\n",
    "        vqe_calc = vqe.compute_minimum_eigenvalue(qubit_op)\n",
    "        vqe_result = problem.interpret(vqe_calc).total_energies[0].real\n",
    "        \n",
    "        print(\n",
    "            f\"Interatomic Distance: {np.round(dist, 2)}\",\n",
    "            f\"VQE Result: {vqe_result:.5f}\",\n",
    "            f\"Cost function evals: {vqe_calc.cost_function_evals}\",\n",
    "            f\"Optimizer evals: {vqe_calc.optimizer_evals}\",\n",
    "        )\n",
    "    \n",
    "    end = time.time()\n",
    "    # print execution time\n",
    "    print('Code execution time [sec]:', end - start)\n",
    "\n",
    "    # Save the results of the VQE computation.\n",
    "    return {\n",
    "        \"VQE\": {\n",
    "            \"distance\": np.round(dist, 2),\n",
    "            \"cost function evals\": vqe_calc.cost_function_evals,\n",
    "            \"optimizer evals\": vqe_calc.optimizer_evals,\n",
    "            \"VQE result\": vqe_result,\n",
    "        }\n",
    "    }"
   ]
  },
  {
   "cell_type": "code",
   "execution_count": 10,
   "id": "0683065a-45c5-4393-998b-58b3070a2094",
   "metadata": {},
   "outputs": [],
   "source": [
    "job = run_hybrid_job(num_tasks=1)\n",
    "result = job.result() "
   ]
  },
  {
   "cell_type": "code",
   "execution_count": 11,
   "id": "4ec98953-ef29-474e-8ba1-02c51ae5af8e",
   "metadata": {},
   "outputs": [
    {
     "name": "stdout",
     "output_type": "stream",
     "text": [
      "{}\n"
     ]
    }
   ],
   "source": [
    "print(result)"
   ]
  },
  {
   "cell_type": "markdown",
   "id": "22a8408a-e8e9-4410-bb30-f3bb9e84d2e4",
   "metadata": {},
   "source": [
    "## Get costs of calucation"
   ]
  },
  {
   "cell_type": "code",
   "execution_count": null,
   "id": "a63a1ba2-fb0e-4f0d-bb33-801e9e917cf8",
   "metadata": {},
   "outputs": [],
   "source": [
    "print(\"Quantum Task Summary\")\n",
    "print(t.quantum_tasks_statistics())\n",
    "print(f\"Estimated cost to run this example: {t.qpu_tasks_cost() + t.simulator_tasks_cost()} USD\")"
   ]
  }
 ],
 "metadata": {
  "kernelspec": {
   "display_name": "Python 3 (ipykernel)",
   "language": "python",
   "name": "python3"
  },
  "language_info": {
   "codemirror_mode": {
    "name": "ipython",
    "version": 3
   },
   "file_extension": ".py",
   "mimetype": "text/x-python",
   "name": "python",
   "nbconvert_exporter": "python",
   "pygments_lexer": "ipython3",
   "version": "3.10.12"
  }
 },
 "nbformat": 4,
 "nbformat_minor": 5
}
