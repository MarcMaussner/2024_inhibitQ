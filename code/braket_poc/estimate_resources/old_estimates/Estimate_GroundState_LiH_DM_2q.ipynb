{
 "cells": [
  {
   "cell_type": "markdown",
   "id": "bad74d38-1764-430f-8176-2213e68432bc",
   "metadata": {},
   "source": [
    "# Code to do estimations of resources for AWS\n",
    "- Corresponding to experiment 1: PoC: Groundstate of LiH with ActiveSpaceOptimization on sv"
   ]
  },
  {
   "cell_type": "code",
   "execution_count": 1,
   "id": "0ee7eba0-eba2-492d-919c-1270189d75c5",
   "metadata": {},
   "outputs": [],
   "source": [
    "from braket.tracking import Tracker\n",
    "t = Tracker().start()"
   ]
  },
  {
   "cell_type": "code",
   "execution_count": 2,
   "id": "f2f8163c-ceeb-48fd-9471-9490ae051b66",
   "metadata": {},
   "outputs": [],
   "source": [
    "from pprint import pprint\n",
    "\n",
    "import matplotlib.pyplot as plt\n",
    "from braket.aws import AwsDevice\n",
    "from braket.devices import Devices\n",
    "from braket.jobs import hybrid_job, save_job_result\n",
    "from qiskit.circuit.library import TwoLocal\n",
    "from qiskit.primitives import BackendEstimator\n",
    "from qiskit_algorithms.optimizers import SLSQP\n",
    "\n",
    "from qiskit_algorithms.minimum_eigensolvers import NumPyMinimumEigensolver, VQE\n",
    "from qiskit_nature.second_q.transformers import FreezeCoreTransformer\n",
    "from qiskit_nature.second_q.formats.molecule_info import MoleculeInfo\n",
    "from qiskit_nature.second_q.mappers import ParityMapper, JordanWignerMapper\n",
    "from qiskit_nature.second_q.circuit.library import UCCSD, HartreeFock\n",
    "\n",
    "from qiskit_nature.second_q.drivers import PySCFDriver\n",
    "\n",
    "from qiskit_aer.primitives import Estimator as AerEstimator\n",
    "\n",
    "from qiskit_braket_provider import BraketProvider, BraketLocalBackend, to_braket\n",
    "import time\n",
    "from datetime import datetime\n",
    "\n",
    "import numpy as np"
   ]
  },
  {
   "cell_type": "code",
   "execution_count": 3,
   "id": "9bc73877-adc0-4cbf-b66e-60826a9aa2fd",
   "metadata": {},
   "outputs": [],
   "source": [
    "NQUBITS = 2\n",
    "MAXITER = 1000\n",
    "SHOTS = 1000\n",
    "DIST = 1.6"
   ]
  },
  {
   "cell_type": "markdown",
   "id": "b20c5424-9010-4db3-ba39-c7a94598e37e",
   "metadata": {},
   "source": [
    "## Normal with Jordan-Wigner and TwoQubitReduction + FreezeCore + ActiveSpace"
   ]
  },
  {
   "cell_type": "code",
   "execution_count": 4,
   "id": "b544c93d-81c2-4f5d-a39c-ebdc3d776af7",
   "metadata": {},
   "outputs": [],
   "source": [
    "def get_qubit_op_as(dist):\n",
    "    # Define Molecule\n",
    "    molecule = MoleculeInfo(\n",
    "        # Coordinates in Angstrom\n",
    "        symbols=[\"Li\", \"H\"],\n",
    "        coords=([0.0, 0.0, 0.0], [dist, 0.0, 0.0]),\n",
    "        multiplicity=1,  # = 2*spin + 1\n",
    "        charge=0,\n",
    "    )\n",
    "\n",
    "    driver = PySCFDriver.from_molecule(molecule)\n",
    "    problem = driver.run()\n",
    "\n",
    "    # Now you can get the reduced electronic structure problem\n",
    "    from qiskit_nature.second_q.transformers import FreezeCoreTransformer\n",
    "\n",
    "    fc_transformer = FreezeCoreTransformer()\n",
    "\n",
    "    fc_problem = fc_transformer.transform(problem)\n",
    "\n",
    "    # active space transformer\n",
    "    from qiskit_nature.second_q.transformers import ActiveSpaceTransformer\n",
    "\n",
    "    as_transformer = ActiveSpaceTransformer(2, 2)\n",
    "\n",
    "    as_problem = as_transformer.transform(fc_problem)\n",
    "    \n",
    "    num_particles = as_problem.num_particles\n",
    "    num_spatial_orbitals = as_problem.num_spatial_orbitals\n",
    "\n",
    "    mapper = ParityMapper(num_particles=num_particles)\n",
    "    qubit_op = mapper.map(as_problem.second_q_ops()[0])\n",
    "    print (f\"Problem spatial orbitals {problem.num_spatial_orbitals}\")\n",
    "    print (f\"Problem particles {problem.num_particles}\")\n",
    "    print (f\"FC-Problem spatial orbitals {fc_problem.num_spatial_orbitals}\")\n",
    "    print (f\"FC-Problem particles {fc_problem.num_particles}\")\n",
    "    print (f\"AS-Problem spatial orbitals {as_problem.num_spatial_orbitals}\")\n",
    "    print (f\"AS-Problem particles {as_problem.num_particles}\")\n",
    "    return qubit_op, as_problem.num_particles, as_problem.num_spatial_orbitals, as_problem, mapper"
   ]
  },
  {
   "cell_type": "code",
   "execution_count": 5,
   "id": "d46d23b2-a516-4cf0-9350-cafee8174315",
   "metadata": {},
   "outputs": [],
   "source": [
    "def exact_solver(qubit_op, problem):\n",
    "    sol = NumPyMinimumEigensolver().compute_minimum_eigenvalue(qubit_op)\n",
    "    result = problem.interpret(sol)\n",
    "    return result"
   ]
  },
  {
   "cell_type": "markdown",
   "id": "b4bcd492-d2fa-4af4-a99f-2243edd6b026",
   "metadata": {},
   "source": [
    "## Pure Qiskit and Local"
   ]
  },
  {
   "cell_type": "code",
   "execution_count": 6,
   "id": "f2de7749-bc45-4a4c-a900-3a3b118c0679",
   "metadata": {},
   "outputs": [
    {
     "name": "stdout",
     "output_type": "stream",
     "text": [
      "Problem spatial orbitals 6\n",
      "Problem particles (2, 2)\n",
      "FC-Problem spatial orbitals 5\n",
      "FC-Problem particles (1, 1)\n",
      "AS-Problem spatial orbitals 2\n",
      "AS-Problem particles (1, 1)\n",
      "Qubits needed in ansatz: 2\n",
      "Interatomic Distance: 1.6 VQE Result: -7.86213 Exact Energy: -7.86213 Cost function evals: 20 Optimizer evals: None\n",
      "All energies have been calculated\n"
     ]
    }
   ],
   "source": [
    "distances = [DIST] #np.arange(1.5, 3.0, 0.1)\n",
    "exact_energies = []\n",
    "vqe_energies = []\n",
    "optimizer = SLSQP(maxiter=MAXITER)\n",
    "noiseless_estimator = AerEstimator(approximation=True)\n",
    "\n",
    "# pylint: disable=undefined-loop-variable,line-too-long\n",
    "for dist in distances:\n",
    "    (qubit_op, num_particles, num_spatial_orbitals, problem, mapper) = get_qubit_op_as(\n",
    "        dist\n",
    "    )\n",
    "\n",
    "    result = exact_solver(qubit_op, problem)\n",
    "    exact_energies.append(result.total_energies[0].real)\n",
    "    init_state = HartreeFock(num_spatial_orbitals, num_particles, mapper)\n",
    "    var_form = UCCSD(\n",
    "        num_spatial_orbitals, num_particles, mapper, initial_state=init_state\n",
    "    )\n",
    "    print(f\"Qubits needed in ansatz: {var_form.num_qubits}\")\n",
    "    vqe = VQE(\n",
    "        noiseless_estimator,\n",
    "        var_form,\n",
    "        optimizer,\n",
    "        initial_point=[0] * var_form.num_parameters,\n",
    "    )\n",
    "    vqe_calc = vqe.compute_minimum_eigenvalue(qubit_op)\n",
    "    vqe_result = problem.interpret(vqe_calc).total_energies[0].real\n",
    "    vqe_energies.append(vqe_result)\n",
    "    print(\n",
    "        f\"Interatomic Distance: {np.round(dist, 2)}\",\n",
    "        f\"VQE Result: {vqe_result:.5f}\",\n",
    "        f\"Exact Energy: {exact_energies[-1]:.5f}\",\n",
    "        f\"Cost function evals: {vqe_calc.cost_function_evals}\",\n",
    "        f\"Optimizer evals: {vqe_calc.optimizer_evals}\",\n",
    "    )\n",
    "\n",
    "print(\"All energies have been calculated\")"
   ]
  },
  {
   "cell_type": "markdown",
   "id": "70de769b-8648-4b9a-842d-b1a8c602ff15",
   "metadata": {},
   "source": [
    "## Braket DM1"
   ]
  },
  {
   "cell_type": "code",
   "execution_count": 7,
   "id": "ef9d92d1-504b-41a3-b5f0-04b7c1039954",
   "metadata": {},
   "outputs": [
    {
     "name": "stderr",
     "output_type": "stream",
     "text": [
      "/tmp/ipykernel_15078/701233080.py:1: DeprecationWarning: The class ``qiskit.providers.provider.Provider`` is deprecated as of qiskit 1.1. It will be removed no earlier than 3 months after the release date. The abstract Provider and ProviderV1 classes are deprecated and will be removed in 2.0. You can just remove it as the parent class and a `get_backend` method that returns the backends from `self.backend`.\n",
      "  backend = BraketProvider().get_backend(\"dm1\")\n",
      "/tmp/ipykernel_15078/701233080.py:1: DeprecationWarning: The method ``qiskit.providers.provider.ProviderV1.get_backend()`` is deprecated as of qiskit 1.1. It will be removed no earlier than 3 months after the release date. The abstract Provider and ProviderV1 classes are deprecated and will  be removed in 2.0. You can just remove it as the parent class and a `get_backend` method that returns the backends from `self.backend`.\n",
      "  backend = BraketProvider().get_backend(\"dm1\")\n"
     ]
    }
   ],
   "source": [
    "backend = BraketProvider().get_backend(\"dm1\")"
   ]
  },
  {
   "cell_type": "code",
   "execution_count": 8,
   "id": "e667a150-e3f0-4176-bfd9-734406070068",
   "metadata": {},
   "outputs": [],
   "source": [
    "#backend = BraketLocalBackend()"
   ]
  },
  {
   "cell_type": "code",
   "execution_count": 9,
   "id": "45773a59-2a90-4f18-97dd-4dac45b62606",
   "metadata": {},
   "outputs": [],
   "source": [
    "estimator = BackendEstimator(backend=backend, options={\"shots\": SHOTS})"
   ]
  },
  {
   "cell_type": "code",
   "execution_count": 10,
   "id": "9d469f2c-01f0-47cb-a94c-5986ba4cad27",
   "metadata": {},
   "outputs": [],
   "source": [
    "slsqp = SLSQP(maxiter=MAXITER)"
   ]
  },
  {
   "cell_type": "code",
   "execution_count": 11,
   "id": "b1695d0d-6d1c-49da-96bd-0fde2ed588ee",
   "metadata": {},
   "outputs": [
    {
     "name": "stdout",
     "output_type": "stream",
     "text": [
      "Problem spatial orbitals 6\n",
      "Problem particles (2, 2)\n",
      "FC-Problem spatial orbitals 5\n",
      "FC-Problem particles (1, 1)\n",
      "AS-Problem spatial orbitals 2\n",
      "AS-Problem particles (1, 1)\n",
      "Qubits needed in ansatz: 2\n"
     ]
    },
    {
     "name": "stderr",
     "output_type": "stream",
     "text": [
      "/home/marc/.local/lib/python3.10/site-packages/qiskit_braket_provider/providers/adapter.py:489: UserWarning: Device does not support global phase; global phase of 5.497787143782138 will not be included in Braket circuit\n",
      "  warnings.warn(\n"
     ]
    },
    {
     "name": "stdout",
     "output_type": "stream",
     "text": [
      "Interatomic Distance: 1.6 VQE Result: -7.73095 Cost function evals: 183 Optimizer evals: None\n",
      "Code execution time [sec]: 646.5522718429565\n"
     ]
    }
   ],
   "source": [
    "distances = [DIST] #np.arange(1.5, 3.0, 0.1)\n",
    "vqe_energies = []\n",
    "optimizer = SLSQP(maxiter=MAXITER)\n",
    "\n",
    "start = time.time()\n",
    "# pylint: disable=undefined-loop-variable,line-too-long\n",
    "for dist in distances:\n",
    "    (qubit_op, num_particles, num_spatial_orbitals, problem, mapper) = get_qubit_op_as(\n",
    "        dist\n",
    "    )\n",
    "    init_state = HartreeFock(num_spatial_orbitals, num_particles, mapper)\n",
    "    var_form = UCCSD(\n",
    "        num_spatial_orbitals, num_particles, mapper, initial_state=init_state\n",
    "    )\n",
    "    print(f\"Qubits needed in ansatz: {var_form.num_qubits}\")\n",
    "    vqe = VQE(\n",
    "        estimator,\n",
    "        var_form,\n",
    "        slsqp,\n",
    "        initial_point=[0] * var_form.num_parameters,\n",
    "    )\n",
    "    vqe_calc = vqe.compute_minimum_eigenvalue(qubit_op)\n",
    "    vqe_result = problem.interpret(vqe_calc).total_energies[0].real\n",
    "    vqe_energies.append(vqe_result)\n",
    "    print(\n",
    "        f\"Interatomic Distance: {np.round(dist, 2)}\",\n",
    "        f\"VQE Result: {vqe_result:.5f}\",\n",
    "        f\"Cost function evals: {vqe_calc.cost_function_evals}\",\n",
    "        f\"Optimizer evals: {vqe_calc.optimizer_evals}\",\n",
    "    )\n",
    "    \n",
    "end = time.time()\n",
    "# print execution time\n",
    "print('Code execution time [sec]:', end - start)"
   ]
  },
  {
   "cell_type": "code",
   "execution_count": 12,
   "id": "6c851f04-81d1-4bde-9a81-f9764b4af4cc",
   "metadata": {},
   "outputs": [
    {
     "name": "stdout",
     "output_type": "stream",
     "text": [
      "Quantum Task Summary\n",
      "{'arn:aws:braket:::device/quantum-simulator/amazon/sv1': {'shots': 728000, 'tasks': {'COMPLETED': 728}, 'execution_duration': datetime.timedelta(seconds=7, microseconds=120000), 'billed_execution_duration': datetime.timedelta(seconds=2184)}}\n",
      "Estimated cost to run this example: 2.7300000000 USD\n"
     ]
    }
   ],
   "source": [
    "print(\"Quantum Task Summary\")\n",
    "print(t.quantum_tasks_statistics())\n",
    "print(f\"Estimated cost to run this example: {t.qpu_tasks_cost() + t.simulator_tasks_cost()} USD\")"
   ]
  },
  {
   "cell_type": "code",
   "execution_count": null,
   "id": "621b45cf-8b54-4183-8743-a4ad448b4379",
   "metadata": {},
   "outputs": [],
   "source": []
  }
 ],
 "metadata": {
  "kernelspec": {
   "display_name": "Python 3 (ipykernel)",
   "language": "python",
   "name": "python3"
  },
  "language_info": {
   "codemirror_mode": {
    "name": "ipython",
    "version": 3
   },
   "file_extension": ".py",
   "mimetype": "text/x-python",
   "name": "python",
   "nbconvert_exporter": "python",
   "pygments_lexer": "ipython3",
   "version": "3.10.12"
  }
 },
 "nbformat": 4,
 "nbformat_minor": 5
}
