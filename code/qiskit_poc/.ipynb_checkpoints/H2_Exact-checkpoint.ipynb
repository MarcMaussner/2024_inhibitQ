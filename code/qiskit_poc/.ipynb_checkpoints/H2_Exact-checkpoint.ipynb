{
 "cells": [
  {
   "cell_type": "markdown",
   "id": "fdcf8b4e-9c55-4c5d-9b97-1e2313933074",
   "metadata": {},
   "source": [
    "# Proof of concept\n",
    "## H2 exact"
   ]
  },
  {
   "cell_type": "code",
   "execution_count": null,
   "id": "c114fd5a-e336-4eee-a674-fa6f402e6864",
   "metadata": {},
   "outputs": [],
   "source": [
    "import psi4"
   ]
  },
  {
   "cell_type": "code",
   "execution_count": null,
   "id": "66b93c82-b929-4e4b-bd71-35cb55f76627",
   "metadata": {},
   "outputs": [],
   "source": [
    "h2 = #"
   ]
  },
  {
   "cell_type": "code",
   "execution_count": null,
   "id": "c4d474a4-0dfd-4592-a19b-6e4a04a53363",
   "metadata": {},
   "outputs": [],
   "source": [
    "psi4.geometry(h2)"
   ]
  },
  {
   "cell_type": "code",
   "execution_count": null,
   "id": "4e5f5aef-1bff-4578-bf5c-e8e3bb92845a",
   "metadata": {},
   "outputs": [],
   "source": [
    "psi4.set_options({'basis':'sto-3g'})"
   ]
  },
  {
   "cell_type": "code",
   "execution_count": null,
   "id": "d8b04a78-31aa-4cf0-8f09-b1ac5ffd0ac7",
   "metadata": {},
   "outputs": [],
   "source": [
    "hf_energy = psi4.energy('scf')"
   ]
  },
  {
   "cell_type": "code",
   "execution_count": null,
   "id": "6fec6dd0-e28a-4842-9447-4fd67566db0a",
   "metadata": {},
   "outputs": [],
   "source": [
    "print(f'Hartree-Fock: {hf_energy} Ha')"
   ]
  },
  {
   "cell_type": "code",
   "execution_count": null,
   "id": "e4251577-a588-4fa9-b737-4bf1393b454d",
   "metadata": {},
   "outputs": [],
   "source": [
    "ci_energy = psi4.energy('ci')"
   ]
  },
  {
   "cell_type": "code",
   "execution_count": null,
   "id": "8cbc1f21-0511-4f0a-bcd1-b4bebe0be68b",
   "metadata": {},
   "outputs": [],
   "source": [
    "print(f'CI: {ci_energy} Ha')"
   ]
  }
 ],
 "metadata": {
  "kernelspec": {
   "display_name": "Python 3 (ipykernel)",
   "language": "python",
   "name": "python3"
  },
  "language_info": {
   "codemirror_mode": {
    "name": "ipython",
    "version": 3
   },
   "file_extension": ".py",
   "mimetype": "text/x-python",
   "name": "python",
   "nbconvert_exporter": "python",
   "pygments_lexer": "ipython3",
   "version": "3.10.12"
  }
 },
 "nbformat": 4,
 "nbformat_minor": 5
}
