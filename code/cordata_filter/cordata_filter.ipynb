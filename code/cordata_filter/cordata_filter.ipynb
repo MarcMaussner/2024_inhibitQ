{
 "cells": [
  {
   "cell_type": "markdown",
   "id": "a495e788-f44e-4f40-a94f-4d7de2bd02f9",
   "metadata": {},
   "source": [
    "# CORDATA data filtering and processing"
   ]
  },
  {
   "cell_type": "code",
   "execution_count": 1,
   "id": "f8b1f336-8117-4275-a549-bcc6a594aae9",
   "metadata": {},
   "outputs": [],
   "source": [
    "#imports\n",
    "import pandas as pd\n",
    "\n",
    "import matplotlib.pyplot as plt\n",
    "import numpy as np"
   ]
  },
  {
   "cell_type": "code",
   "execution_count": 2,
   "id": "c73995d8-9f0b-4f4c-b2bb-699de1f8b4d2",
   "metadata": {},
   "outputs": [
    {
     "name": "stdout",
     "output_type": "stream",
     "text": [
      "(125, 9)\n",
      "Index(['Index', 'Inhibitor', 'Metal', 'Alloy', 'Temperature_K', 'pH',\n",
      "       'Salt_Concentration', 'Efficiency', 'Smiles'],\n",
      "      dtype='object')\n"
     ]
    }
   ],
   "source": [
    "# read in file\n",
    "# Load the dictionary \n",
    "avionic_dataset = pd.read_excel('../../inhibitors/CORDATA/avionics_dataset.xlsx') \n",
    "\n",
    "print(avionic_dataset.shape)\n",
    "print(avionic_dataset.columns)\n",
    "description = avionic_dataset.describe()"
   ]
  },
  {
   "cell_type": "code",
   "execution_count": 3,
   "id": "0917b7d8-5a9f-4772-997a-13fa2c48563f",
   "metadata": {},
   "outputs": [
    {
     "data": {
      "text/html": [
       "<div>\n",
       "<style scoped>\n",
       "    .dataframe tbody tr th:only-of-type {\n",
       "        vertical-align: middle;\n",
       "    }\n",
       "\n",
       "    .dataframe tbody tr th {\n",
       "        vertical-align: top;\n",
       "    }\n",
       "\n",
       "    .dataframe thead th {\n",
       "        text-align: right;\n",
       "    }\n",
       "</style>\n",
       "<table border=\"1\" class=\"dataframe\">\n",
       "  <thead>\n",
       "    <tr style=\"text-align: right;\">\n",
       "      <th></th>\n",
       "      <th>Index</th>\n",
       "      <th>Inhibitor</th>\n",
       "      <th>Metal</th>\n",
       "      <th>Alloy</th>\n",
       "      <th>Temperature_K</th>\n",
       "      <th>pH</th>\n",
       "      <th>Salt_Concentration</th>\n",
       "      <th>Efficiency</th>\n",
       "      <th>Smiles</th>\n",
       "    </tr>\n",
       "  </thead>\n",
       "  <tbody>\n",
       "    <tr>\n",
       "      <th>0</th>\n",
       "      <td>1</td>\n",
       "      <td>2-Mercaptoacetic acid</td>\n",
       "      <td>Al</td>\n",
       "      <td>AA2024</td>\n",
       "      <td>298</td>\n",
       "      <td>7</td>\n",
       "      <td>0.1</td>\n",
       "      <td>96.0</td>\n",
       "      <td>OC(=O)CS</td>\n",
       "    </tr>\n",
       "    <tr>\n",
       "      <th>1</th>\n",
       "      <td>2</td>\n",
       "      <td>2-Mercaptobenzimidazole</td>\n",
       "      <td>Al</td>\n",
       "      <td>AA2024</td>\n",
       "      <td>298</td>\n",
       "      <td>7</td>\n",
       "      <td>0.1</td>\n",
       "      <td>90.0</td>\n",
       "      <td>Sc1nc2c([nH]1)cccc2</td>\n",
       "    </tr>\n",
       "    <tr>\n",
       "      <th>2</th>\n",
       "      <td>3</td>\n",
       "      <td>2-Mercaptobenzothiazole / MBT / 1,3-Benzothiaz...</td>\n",
       "      <td>Al</td>\n",
       "      <td>AA2024</td>\n",
       "      <td>298</td>\n",
       "      <td>7</td>\n",
       "      <td>0.1</td>\n",
       "      <td>95.0</td>\n",
       "      <td>S=c1sc2c([nH]1)cccc2</td>\n",
       "    </tr>\n",
       "    <tr>\n",
       "      <th>3</th>\n",
       "      <td>4</td>\n",
       "      <td>2-Mercaptobenzothiazole / MBT / 1,3-Benzothiaz...</td>\n",
       "      <td>Al</td>\n",
       "      <td>AA7075</td>\n",
       "      <td>298</td>\n",
       "      <td>7</td>\n",
       "      <td>0.1</td>\n",
       "      <td>91.0</td>\n",
       "      <td>S=c1sc2c([nH]1)cccc2</td>\n",
       "    </tr>\n",
       "    <tr>\n",
       "      <th>4</th>\n",
       "      <td>5</td>\n",
       "      <td>3-Mercaptopropanoic acid</td>\n",
       "      <td>Al</td>\n",
       "      <td>AA2024</td>\n",
       "      <td>298</td>\n",
       "      <td>7</td>\n",
       "      <td>0.1</td>\n",
       "      <td>100.0</td>\n",
       "      <td>OC(=O)CCS</td>\n",
       "    </tr>\n",
       "  </tbody>\n",
       "</table>\n",
       "</div>"
      ],
      "text/plain": [
       "   Index                                          Inhibitor Metal   Alloy  \\\n",
       "0      1                              2-Mercaptoacetic acid    Al  AA2024   \n",
       "1      2                            2-Mercaptobenzimidazole    Al  AA2024   \n",
       "2      3  2-Mercaptobenzothiazole / MBT / 1,3-Benzothiaz...    Al  AA2024   \n",
       "3      4  2-Mercaptobenzothiazole / MBT / 1,3-Benzothiaz...    Al  AA7075   \n",
       "4      5                           3-Mercaptopropanoic acid    Al  AA2024   \n",
       "\n",
       "   Temperature_K pH  Salt_Concentration  Efficiency                Smiles  \n",
       "0            298  7                 0.1        96.0              OC(=O)CS  \n",
       "1            298  7                 0.1        90.0   Sc1nc2c([nH]1)cccc2  \n",
       "2            298  7                 0.1        95.0  S=c1sc2c([nH]1)cccc2  \n",
       "3            298  7                 0.1        91.0  S=c1sc2c([nH]1)cccc2  \n",
       "4            298  7                 0.1       100.0             OC(=O)CCS  "
      ]
     },
     "execution_count": 3,
     "metadata": {},
     "output_type": "execute_result"
    }
   ],
   "source": [
    "# Print the dataset\n",
    "avionic_dataset.head()"
   ]
  },
  {
   "cell_type": "code",
   "execution_count": 4,
   "id": "3696e309-5071-424f-b244-5fb2f66b51b9",
   "metadata": {},
   "outputs": [
    {
     "name": "stdout",
     "output_type": "stream",
     "text": [
      "            Index  Temperature_K  Salt_Concentration  Efficiency\n",
      "count  125.000000     125.000000          125.000000  125.000000\n",
      "mean    63.000000     300.064000            0.176640   95.240160\n",
      "std     36.228442       4.437276            0.240356    3.449144\n",
      "min      1.000000     293.000000            0.010000   90.000000\n",
      "25%     32.000000     298.000000            0.010000   92.000000\n",
      "50%     63.000000     298.000000            0.050000   95.020000\n",
      "75%     94.000000     301.000000            0.100000   98.300000\n",
      "max    125.000000     328.000000            0.600000  100.000000\n"
     ]
    }
   ],
   "source": [
    "# process rows wanted\n",
    "print(description)"
   ]
  },
  {
   "cell_type": "code",
   "execution_count": 5,
   "id": "9638f3a5-db02-4d6b-9fbf-3e756fa17bb3",
   "metadata": {},
   "outputs": [],
   "source": [
    "# gather data for plot\n",
    "# here temperature\n",
    "temperature = avionic_dataset[\"Temperature_K\"]\n",
    "efficiency = avionic_dataset[\"Efficiency\"]\n"
   ]
  },
  {
   "cell_type": "code",
   "execution_count": 6,
   "id": "0a62405d-554a-4465-9a63-1a7fe64f0d32",
   "metadata": {},
   "outputs": [
    {
     "data": {
      "image/png": "[encoded data removed]",
      "text/plain": [
       "<Figure size 640x480 with 1 Axes>"
      ]
     },
     "metadata": {},
     "output_type": "display_data"
    }
   ],
   "source": [
    "#plot - temperature\n",
    "index = np.arange(len(temperature))\n",
    "bar_width = 0.9\n",
    "plt.bar(index, temperature, bar_width,  color=\"green\")\n",
    "plt.show()"
   ]
  },
  {
   "cell_type": "code",
   "execution_count": 7,
   "id": "abda2349-1cb6-41f1-88b7-dd287577a1c2",
   "metadata": {},
   "outputs": [
    {
     "data": {
      "image/png": "[encoded data removed]",
      "text/plain": [
       "<Figure size 640x480 with 1 Axes>"
      ]
     },
     "metadata": {},
     "output_type": "display_data"
    }
   ],
   "source": [
    "#plot - temperature\n",
    "index = np.arange(len(efficiency))\n",
    "bar_width = 0.9\n",
    "plt.bar(index, efficiency, bar_width,  color=\"green\")\n",
    "plt.show()"
   ]
  },
  {
   "cell_type": "markdown",
   "id": "c167c808-bc3a-4aad-8719-cfe961ffbcc5",
   "metadata": {},
   "source": [
    "## Parse smiles"
   ]
  },
  {
   "cell_type": "code",
   "execution_count": 8,
   "id": "abf2872a-5184-4393-807d-dbddcf1c69c7",
   "metadata": {},
   "outputs": [
    {
     "name": "stdout",
     "output_type": "stream",
     "text": [
      "Defaulting to user installation because normal site-packages is not writeable\n",
      "Requirement already satisfied: datamol in /home/marc/.local/lib/python3.10/site-packages (0.12.5)\n",
      "Requirement already satisfied: packaging in /home/marc/.local/lib/python3.10/site-packages (from datamol) (21.3)\n",
      "Requirement already satisfied: tqdm in /home/marc/.local/lib/python3.10/site-packages (from datamol) (4.66.4)\n",
      "Requirement already satisfied: joblib in /home/marc/.local/lib/python3.10/site-packages (from datamol) (1.2.0)\n",
      "Requirement already satisfied: scipy in /home/marc/.local/lib/python3.10/site-packages (from datamol) (1.10.1)\n",
      "Requirement already satisfied: importlib-resources in /home/marc/.local/lib/python3.10/site-packages (from datamol) (6.4.0)\n",
      "Requirement already satisfied: typing-extensions in /home/marc/.local/lib/python3.10/site-packages (from datamol) (4.12.0)\n",
      "Requirement already satisfied: pillow in /usr/lib/python3/dist-packages (from datamol) (9.0.1)\n",
      "Requirement already satisfied: platformdirs in /home/marc/.local/lib/python3.10/site-packages (from datamol) (4.2.2)\n",
      "Requirement already satisfied: scikit-learn in /home/marc/.local/lib/python3.10/site-packages (from datamol) (1.2.2)\n",
      "Requirement already satisfied: loguru in /home/marc/.local/lib/python3.10/site-packages (from datamol) (0.7.2)\n",
      "Requirement already satisfied: pandas in /home/marc/.local/lib/python3.10/site-packages (from datamol) (1.5.3)\n",
      "Requirement already satisfied: selfies in /home/marc/.local/lib/python3.10/site-packages (from datamol) (2.1.1)\n",
      "Requirement already satisfied: rdkit in /home/marc/.local/lib/python3.10/site-packages (from datamol) (2024.3.3)\n",
      "Requirement already satisfied: matplotlib in /home/marc/.local/lib/python3.10/site-packages (from datamol) (3.7.1)\n",
      "Requirement already satisfied: numpy in /home/marc/.local/lib/python3.10/site-packages (from datamol) (1.23.5)\n",
      "Requirement already satisfied: fsspec>=2021.9 in /home/marc/.local/lib/python3.10/site-packages (from datamol) (2024.6.0)\n",
      "Requirement already satisfied: contourpy>=1.0.1 in /home/marc/.local/lib/python3.10/site-packages (from matplotlib->datamol) (1.0.7)\n",
      "Requirement already satisfied: fonttools>=4.22.0 in /home/marc/.local/lib/python3.10/site-packages (from matplotlib->datamol) (4.39.3)\n",
      "Requirement already satisfied: cycler>=0.10 in /home/marc/.local/lib/python3.10/site-packages (from matplotlib->datamol) (0.11.0)\n",
      "Requirement already satisfied: pyparsing>=2.3.1 in /usr/lib/python3/dist-packages (from matplotlib->datamol) (2.4.7)\n",
      "Requirement already satisfied: python-dateutil>=2.7 in /home/marc/.local/lib/python3.10/site-packages (from matplotlib->datamol) (2.8.2)\n",
      "Requirement already satisfied: kiwisolver>=1.0.1 in /home/marc/.local/lib/python3.10/site-packages (from matplotlib->datamol) (1.4.4)\n",
      "Requirement already satisfied: pytz>=2020.1 in /usr/lib/python3/dist-packages (from pandas->datamol) (2022.1)\n",
      "Requirement already satisfied: threadpoolctl>=2.0.0 in /home/marc/.local/lib/python3.10/site-packages (from scikit-learn->datamol) (3.1.0)\n",
      "Requirement already satisfied: six>=1.5 in /usr/lib/python3/dist-packages (from python-dateutil>=2.7->matplotlib->datamol) (1.16.0)\n"
     ]
    }
   ],
   "source": [
    "# check if datamol-io is installed\n",
    "!pip install datamol"
   ]
  },
  {
   "cell_type": "code",
   "execution_count": 9,
   "id": "bc8c8a17-6798-4d7f-ab4d-1c807df15546",
   "metadata": {},
   "outputs": [],
   "source": [
    "import datamol as dm"
   ]
  },
  {
   "cell_type": "code",
   "execution_count": 10,
   "id": "4cea29e1-2f7b-4f67-bb9d-1ce9bf55fd8e",
   "metadata": {},
   "outputs": [],
   "source": [
    "avionic_dataset[\"Mol\"] = avionic_dataset[\"Smiles\"].apply(dm.to_mol)"
   ]
  },
  {
   "cell_type": "code",
   "execution_count": 11,
   "id": "557daf70-1a74-46a1-b576-7dc2be629c46",
   "metadata": {},
   "outputs": [
    {
     "data": {
      "text/html": [
       "<div>\n",
       "<style scoped>\n",
       "    .dataframe tbody tr th:only-of-type {\n",
       "        vertical-align: middle;\n",
       "    }\n",
       "\n",
       "    .dataframe tbody tr th {\n",
       "        vertical-align: top;\n",
       "    }\n",
       "\n",
       "    .dataframe thead th {\n",
       "        text-align: right;\n",
       "    }\n",
       "</style>\n",
       "<table border=\"1\" class=\"dataframe\">\n",
       "  <thead>\n",
       "    <tr style=\"text-align: right;\">\n",
       "      <th></th>\n",
       "      <th>Index</th>\n",
       "      <th>Inhibitor</th>\n",
       "      <th>Metal</th>\n",
       "      <th>Alloy</th>\n",
       "      <th>Temperature_K</th>\n",
       "      <th>pH</th>\n",
       "      <th>Salt_Concentration</th>\n",
       "      <th>Efficiency</th>\n",
       "      <th>Smiles</th>\n",
       "      <th>Mol</th>\n",
       "    </tr>\n",
       "  </thead>\n",
       "  <tbody>\n",
       "    <tr>\n",
       "      <th>0</th>\n",
       "      <td>1</td>\n",
       "      <td>2-Mercaptoacetic acid</td>\n",
       "      <td>Al</td>\n",
       "      <td>AA2024</td>\n",
       "      <td>298</td>\n",
       "      <td>7</td>\n",
       "      <td>0.1</td>\n",
       "      <td>96.0</td>\n",
       "      <td>OC(=O)CS</td>\n",
       "      <td>&lt;rdkit.Chem.rdchem.Mol object at 0x7f9f83112c70&gt;</td>\n",
       "    </tr>\n",
       "    <tr>\n",
       "      <th>1</th>\n",
       "      <td>2</td>\n",
       "      <td>2-Mercaptobenzimidazole</td>\n",
       "      <td>Al</td>\n",
       "      <td>AA2024</td>\n",
       "      <td>298</td>\n",
       "      <td>7</td>\n",
       "      <td>0.1</td>\n",
       "      <td>90.0</td>\n",
       "      <td>Sc1nc2c([nH]1)cccc2</td>\n",
       "      <td>&lt;rdkit.Chem.rdchem.Mol object at 0x7f9f83112ce0&gt;</td>\n",
       "    </tr>\n",
       "    <tr>\n",
       "      <th>2</th>\n",
       "      <td>3</td>\n",
       "      <td>2-Mercaptobenzothiazole / MBT / 1,3-Benzothiaz...</td>\n",
       "      <td>Al</td>\n",
       "      <td>AA2024</td>\n",
       "      <td>298</td>\n",
       "      <td>7</td>\n",
       "      <td>0.1</td>\n",
       "      <td>95.0</td>\n",
       "      <td>S=c1sc2c([nH]1)cccc2</td>\n",
       "      <td>&lt;rdkit.Chem.rdchem.Mol object at 0x7f9f83112d50&gt;</td>\n",
       "    </tr>\n",
       "    <tr>\n",
       "      <th>3</th>\n",
       "      <td>4</td>\n",
       "      <td>2-Mercaptobenzothiazole / MBT / 1,3-Benzothiaz...</td>\n",
       "      <td>Al</td>\n",
       "      <td>AA7075</td>\n",
       "      <td>298</td>\n",
       "      <td>7</td>\n",
       "      <td>0.1</td>\n",
       "      <td>91.0</td>\n",
       "      <td>S=c1sc2c([nH]1)cccc2</td>\n",
       "      <td>&lt;rdkit.Chem.rdchem.Mol object at 0x7f9f83112dc0&gt;</td>\n",
       "    </tr>\n",
       "    <tr>\n",
       "      <th>4</th>\n",
       "      <td>5</td>\n",
       "      <td>3-Mercaptopropanoic acid</td>\n",
       "      <td>Al</td>\n",
       "      <td>AA2024</td>\n",
       "      <td>298</td>\n",
       "      <td>7</td>\n",
       "      <td>0.1</td>\n",
       "      <td>100.0</td>\n",
       "      <td>OC(=O)CCS</td>\n",
       "      <td>&lt;rdkit.Chem.rdchem.Mol object at 0x7f9f83112e30&gt;</td>\n",
       "    </tr>\n",
       "  </tbody>\n",
       "</table>\n",
       "</div>"
      ],
      "text/plain": [
       "   Index                                          Inhibitor Metal   Alloy  \\\n",
       "0      1                              2-Mercaptoacetic acid    Al  AA2024   \n",
       "1      2                            2-Mercaptobenzimidazole    Al  AA2024   \n",
       "2      3  2-Mercaptobenzothiazole / MBT / 1,3-Benzothiaz...    Al  AA2024   \n",
       "3      4  2-Mercaptobenzothiazole / MBT / 1,3-Benzothiaz...    Al  AA7075   \n",
       "4      5                           3-Mercaptopropanoic acid    Al  AA2024   \n",
       "\n",
       "   Temperature_K pH  Salt_Concentration  Efficiency                Smiles  \\\n",
       "0            298  7                 0.1        96.0              OC(=O)CS   \n",
       "1            298  7                 0.1        90.0   Sc1nc2c([nH]1)cccc2   \n",
       "2            298  7                 0.1        95.0  S=c1sc2c([nH]1)cccc2   \n",
       "3            298  7                 0.1        91.0  S=c1sc2c([nH]1)cccc2   \n",
       "4            298  7                 0.1       100.0             OC(=O)CCS   \n",
       "\n",
       "                                                Mol  \n",
       "0  <rdkit.Chem.rdchem.Mol object at 0x7f9f83112c70>  \n",
       "1  <rdkit.Chem.rdchem.Mol object at 0x7f9f83112ce0>  \n",
       "2  <rdkit.Chem.rdchem.Mol object at 0x7f9f83112d50>  \n",
       "3  <rdkit.Chem.rdchem.Mol object at 0x7f9f83112dc0>  \n",
       "4  <rdkit.Chem.rdchem.Mol object at 0x7f9f83112e30>  "
      ]
     },
     "execution_count": 11,
     "metadata": {},
     "output_type": "execute_result"
    }
   ],
   "source": [
    "avionic_dataset.head()"
   ]
  },
  {
   "cell_type": "code",
   "execution_count": 12,
   "id": "828db084-e8e2-48c4-8231-44d352841cca",
   "metadata": {},
   "outputs": [],
   "source": [
    "avionic_dataset[\"Descriptors\"] = avionic_dataset[\"Mol\"].apply(dm.descriptors.compute_many_descriptors)\n",
    "    "
   ]
  },
  {
   "cell_type": "code",
   "execution_count": 13,
   "id": "0bda4c86-24bd-42f9-9934-7589f9365d12",
   "metadata": {},
   "outputs": [
    {
     "data": {
      "text/html": [
       "<div>\n",
       "<style scoped>\n",
       "    .dataframe tbody tr th:only-of-type {\n",
       "        vertical-align: middle;\n",
       "    }\n",
       "\n",
       "    .dataframe tbody tr th {\n",
       "        vertical-align: top;\n",
       "    }\n",
       "\n",
       "    .dataframe thead th {\n",
       "        text-align: right;\n",
       "    }\n",
       "</style>\n",
       "<table border=\"1\" class=\"dataframe\">\n",
       "  <thead>\n",
       "    <tr style=\"text-align: right;\">\n",
       "      <th></th>\n",
       "      <th>Index</th>\n",
       "      <th>Inhibitor</th>\n",
       "      <th>Metal</th>\n",
       "      <th>Alloy</th>\n",
       "      <th>Temperature_K</th>\n",
       "      <th>pH</th>\n",
       "      <th>Salt_Concentration</th>\n",
       "      <th>Efficiency</th>\n",
       "      <th>Smiles</th>\n",
       "      <th>Mol</th>\n",
       "      <th>Descriptors</th>\n",
       "    </tr>\n",
       "  </thead>\n",
       "  <tbody>\n",
       "    <tr>\n",
       "      <th>0</th>\n",
       "      <td>1</td>\n",
       "      <td>2-Mercaptoacetic acid</td>\n",
       "      <td>Al</td>\n",
       "      <td>AA2024</td>\n",
       "      <td>298</td>\n",
       "      <td>7</td>\n",
       "      <td>0.1</td>\n",
       "      <td>96.0</td>\n",
       "      <td>OC(=O)CS</td>\n",
       "      <td>&lt;rdkit.Chem.rdchem.Mol object at 0x7f9f83112c70&gt;</td>\n",
       "      <td>{'mw': 91.993200368, 'fsp3': 0.5, 'n_lipinski_...</td>\n",
       "    </tr>\n",
       "    <tr>\n",
       "      <th>1</th>\n",
       "      <td>2</td>\n",
       "      <td>2-Mercaptobenzimidazole</td>\n",
       "      <td>Al</td>\n",
       "      <td>AA2024</td>\n",
       "      <td>298</td>\n",
       "      <td>7</td>\n",
       "      <td>0.1</td>\n",
       "      <td>90.0</td>\n",
       "      <td>Sc1nc2c([nH]1)cccc2</td>\n",
       "      <td>&lt;rdkit.Chem.rdchem.Mol object at 0x7f9f83112ce0&gt;</td>\n",
       "      <td>{'mw': 150.025169192, 'fsp3': 0.0, 'n_lipinski...</td>\n",
       "    </tr>\n",
       "    <tr>\n",
       "      <th>2</th>\n",
       "      <td>3</td>\n",
       "      <td>2-Mercaptobenzothiazole / MBT / 1,3-Benzothiaz...</td>\n",
       "      <td>Al</td>\n",
       "      <td>AA2024</td>\n",
       "      <td>298</td>\n",
       "      <td>7</td>\n",
       "      <td>0.1</td>\n",
       "      <td>95.0</td>\n",
       "      <td>S=c1sc2c([nH]1)cccc2</td>\n",
       "      <td>&lt;rdkit.Chem.rdchem.Mol object at 0x7f9f83112d50&gt;</td>\n",
       "      <td>{'mw': 166.98634116, 'fsp3': 0.0, 'n_lipinski_...</td>\n",
       "    </tr>\n",
       "    <tr>\n",
       "      <th>3</th>\n",
       "      <td>4</td>\n",
       "      <td>2-Mercaptobenzothiazole / MBT / 1,3-Benzothiaz...</td>\n",
       "      <td>Al</td>\n",
       "      <td>AA7075</td>\n",
       "      <td>298</td>\n",
       "      <td>7</td>\n",
       "      <td>0.1</td>\n",
       "      <td>91.0</td>\n",
       "      <td>S=c1sc2c([nH]1)cccc2</td>\n",
       "      <td>&lt;rdkit.Chem.rdchem.Mol object at 0x7f9f83112dc0&gt;</td>\n",
       "      <td>{'mw': 166.98634116, 'fsp3': 0.0, 'n_lipinski_...</td>\n",
       "    </tr>\n",
       "    <tr>\n",
       "      <th>4</th>\n",
       "      <td>5</td>\n",
       "      <td>3-Mercaptopropanoic acid</td>\n",
       "      <td>Al</td>\n",
       "      <td>AA2024</td>\n",
       "      <td>298</td>\n",
       "      <td>7</td>\n",
       "      <td>0.1</td>\n",
       "      <td>100.0</td>\n",
       "      <td>OC(=O)CCS</td>\n",
       "      <td>&lt;rdkit.Chem.rdchem.Mol object at 0x7f9f83112e30&gt;</td>\n",
       "      <td>{'mw': 106.008850432, 'fsp3': 0.66666666666666...</td>\n",
       "    </tr>\n",
       "  </tbody>\n",
       "</table>\n",
       "</div>"
      ],
      "text/plain": [
       "   Index                                          Inhibitor Metal   Alloy  \\\n",
       "0      1                              2-Mercaptoacetic acid    Al  AA2024   \n",
       "1      2                            2-Mercaptobenzimidazole    Al  AA2024   \n",
       "2      3  2-Mercaptobenzothiazole / MBT / 1,3-Benzothiaz...    Al  AA2024   \n",
       "3      4  2-Mercaptobenzothiazole / MBT / 1,3-Benzothiaz...    Al  AA7075   \n",
       "4      5                           3-Mercaptopropanoic acid    Al  AA2024   \n",
       "\n",
       "   Temperature_K pH  Salt_Concentration  Efficiency                Smiles  \\\n",
       "0            298  7                 0.1        96.0              OC(=O)CS   \n",
       "1            298  7                 0.1        90.0   Sc1nc2c([nH]1)cccc2   \n",
       "2            298  7                 0.1        95.0  S=c1sc2c([nH]1)cccc2   \n",
       "3            298  7                 0.1        91.0  S=c1sc2c([nH]1)cccc2   \n",
       "4            298  7                 0.1       100.0             OC(=O)CCS   \n",
       "\n",
       "                                                Mol  \\\n",
       "0  <rdkit.Chem.rdchem.Mol object at 0x7f9f83112c70>   \n",
       "1  <rdkit.Chem.rdchem.Mol object at 0x7f9f83112ce0>   \n",
       "2  <rdkit.Chem.rdchem.Mol object at 0x7f9f83112d50>   \n",
       "3  <rdkit.Chem.rdchem.Mol object at 0x7f9f83112dc0>   \n",
       "4  <rdkit.Chem.rdchem.Mol object at 0x7f9f83112e30>   \n",
       "\n",
       "                                         Descriptors  \n",
       "0  {'mw': 91.993200368, 'fsp3': 0.5, 'n_lipinski_...  \n",
       "1  {'mw': 150.025169192, 'fsp3': 0.0, 'n_lipinski...  \n",
       "2  {'mw': 166.98634116, 'fsp3': 0.0, 'n_lipinski_...  \n",
       "3  {'mw': 166.98634116, 'fsp3': 0.0, 'n_lipinski_...  \n",
       "4  {'mw': 106.008850432, 'fsp3': 0.66666666666666...  "
      ]
     },
     "execution_count": 13,
     "metadata": {},
     "output_type": "execute_result"
    }
   ],
   "source": [
    "avionic_dataset.head()"
   ]
  },
  {
   "cell_type": "code",
   "execution_count": null,
   "id": "6a55bcb0-9cec-430d-afc3-2a52bbc751ee",
   "metadata": {},
   "outputs": [],
   "source": []
  }
 ],
 "metadata": {
  "kernelspec": {
   "display_name": "Python 3 (ipykernel)",
   "language": "python",
   "name": "python3"
  },
  "language_info": {
   "codemirror_mode": {
    "name": "ipython",
    "version": 3
   },
   "file_extension": ".py",
   "mimetype": "text/x-python",
   "name": "python",
   "nbconvert_exporter": "python",
   "pygments_lexer": "ipython3",
   "version": "3.10.12"
  }
 },
 "nbformat": 4,
 "nbformat_minor": 5
}
