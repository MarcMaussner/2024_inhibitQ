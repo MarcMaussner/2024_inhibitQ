{
 "cells": [
  {
   "cell_type": "code",
   "execution_count": 4,
   "id": "efc23720-2fa3-4f48-9284-dd21eb419da1",
   "metadata": {},
   "outputs": [],
   "source": [
    "#imports\n",
    "import pandas as pd\n",
    "\n",
    "import matplotlib.pyplot as plt\n",
    "import numpy as np"
   ]
  },
  {
   "cell_type": "code",
   "execution_count": 70,
   "id": "2339c7c4-76bc-4d2f-ae9a-eacd134e4b32",
   "metadata": {},
   "outputs": [
    {
     "data": {
      "text/html": [
       "<div>\n",
       "<style scoped>\n",
       "    .dataframe tbody tr th:only-of-type {\n",
       "        vertical-align: middle;\n",
       "    }\n",
       "\n",
       "    .dataframe tbody tr th {\n",
       "        vertical-align: top;\n",
       "    }\n",
       "\n",
       "    .dataframe thead th {\n",
       "        text-align: right;\n",
       "    }\n",
       "</style>\n",
       "<table border=\"1\" class=\"dataframe\">\n",
       "  <thead>\n",
       "    <tr style=\"text-align: right;\">\n",
       "      <th></th>\n",
       "      <th>Unnamed: 0</th>\n",
       "      <th>Inhibitor</th>\n",
       "      <th>Mol._weight</th>\n",
       "      <th>SMILES</th>\n",
       "      <th>Metal</th>\n",
       "      <th>Alloy</th>\n",
       "      <th>Time_h</th>\n",
       "      <th>Temperature_K</th>\n",
       "      <th>pH</th>\n",
       "      <th>Inhib_Concentrat_M</th>\n",
       "      <th>Salt_Concentrat_M</th>\n",
       "      <th>Synergistic_Inhib_type</th>\n",
       "      <th>Synergistic_Inhib_M</th>\n",
       "      <th>Methodology</th>\n",
       "      <th>Reference</th>\n",
       "      <th>Efficiency</th>\n",
       "    </tr>\n",
       "  </thead>\n",
       "  <tbody>\n",
       "    <tr>\n",
       "      <th>0</th>\n",
       "      <td>1</td>\n",
       "      <td>1,2,4-Triazole</td>\n",
       "      <td>69.07</td>\n",
       "      <td>c1ncn[nH]1</td>\n",
       "      <td>Al</td>\n",
       "      <td>AA2024</td>\n",
       "      <td>24.0</td>\n",
       "      <td>298</td>\n",
       "      <td>10.0</td>\n",
       "      <td>0.001</td>\n",
       "      <td>0.1</td>\n",
       "      <td>NaN</td>\n",
       "      <td>0</td>\n",
       "      <td>Image processing</td>\n",
       "      <td>Winkler, Corrosion Science 106 (2016) 229–235</td>\n",
       "      <td>90.0</td>\n",
       "    </tr>\n",
       "    <tr>\n",
       "      <th>1</th>\n",
       "      <td>2</td>\n",
       "      <td>1,2,4-Triazole-3-thiol</td>\n",
       "      <td>101.13</td>\n",
       "      <td>Sc1n[nH]cn1</td>\n",
       "      <td>Al</td>\n",
       "      <td>AA2024</td>\n",
       "      <td>24.0</td>\n",
       "      <td>298</td>\n",
       "      <td>4.0</td>\n",
       "      <td>0.001</td>\n",
       "      <td>0.1</td>\n",
       "      <td>NaN</td>\n",
       "      <td>0</td>\n",
       "      <td>Image processing</td>\n",
       "      <td>Winkler, Corrosion Science 106 (2016) 229–235</td>\n",
       "      <td>90.0</td>\n",
       "    </tr>\n",
       "    <tr>\n",
       "      <th>2</th>\n",
       "      <td>3</td>\n",
       "      <td>2-Mercaptoacetic acid</td>\n",
       "      <td>92.12</td>\n",
       "      <td>OC(=O)CS</td>\n",
       "      <td>Al</td>\n",
       "      <td>AA2024</td>\n",
       "      <td>672.0</td>\n",
       "      <td>298</td>\n",
       "      <td>7.0</td>\n",
       "      <td>0.001</td>\n",
       "      <td>0.1</td>\n",
       "      <td>NaN</td>\n",
       "      <td>0</td>\n",
       "      <td>Weight loss</td>\n",
       "      <td>Harvey, Corrosion Science 53 (2011) 2184–2190</td>\n",
       "      <td>96.0</td>\n",
       "    </tr>\n",
       "    <tr>\n",
       "      <th>3</th>\n",
       "      <td>4</td>\n",
       "      <td>2-Mercaptobenzimidazole</td>\n",
       "      <td>150.20</td>\n",
       "      <td>Sc1nc2c([nH]1)cccc2</td>\n",
       "      <td>Al</td>\n",
       "      <td>AA2024</td>\n",
       "      <td>672.0</td>\n",
       "      <td>298</td>\n",
       "      <td>7.0</td>\n",
       "      <td>0.001</td>\n",
       "      <td>0.1</td>\n",
       "      <td>NaN</td>\n",
       "      <td>0</td>\n",
       "      <td>Weight loss</td>\n",
       "      <td>Harvey, Corrosion Science 53 (2011) 2184–2190</td>\n",
       "      <td>90.0</td>\n",
       "    </tr>\n",
       "    <tr>\n",
       "      <th>4</th>\n",
       "      <td>5</td>\n",
       "      <td>2-Mercaptobenzothiazole / MBT / 1,3-Benzothiaz...</td>\n",
       "      <td>167.25</td>\n",
       "      <td>S=c1sc2c([nH]1)cccc2</td>\n",
       "      <td>Al</td>\n",
       "      <td>AA2024</td>\n",
       "      <td>672.0</td>\n",
       "      <td>298</td>\n",
       "      <td>7.0</td>\n",
       "      <td>0.001</td>\n",
       "      <td>0.1</td>\n",
       "      <td>NaN</td>\n",
       "      <td>0</td>\n",
       "      <td>Weight loss</td>\n",
       "      <td>Harvey, Corrosion Science 53 (2011) 2184–2190</td>\n",
       "      <td>95.0</td>\n",
       "    </tr>\n",
       "  </tbody>\n",
       "</table>\n",
       "</div>"
      ],
      "text/plain": [
       "   Unnamed: 0                                          Inhibitor  Mol._weight  \\\n",
       "0           1                                     1,2,4-Triazole        69.07   \n",
       "1           2                             1,2,4-Triazole-3-thiol       101.13   \n",
       "2           3                              2-Mercaptoacetic acid        92.12   \n",
       "3           4                            2-Mercaptobenzimidazole       150.20   \n",
       "4           5  2-Mercaptobenzothiazole / MBT / 1,3-Benzothiaz...       167.25   \n",
       "\n",
       "                 SMILES Metal   Alloy  Time_h  Temperature_K    pH  \\\n",
       "0            c1ncn[nH]1    Al  AA2024    24.0            298  10.0   \n",
       "1           Sc1n[nH]cn1    Al  AA2024    24.0            298   4.0   \n",
       "2              OC(=O)CS    Al  AA2024   672.0            298   7.0   \n",
       "3   Sc1nc2c([nH]1)cccc2    Al  AA2024   672.0            298   7.0   \n",
       "4  S=c1sc2c([nH]1)cccc2    Al  AA2024   672.0            298   7.0   \n",
       "\n",
       "   Inhib_Concentrat_M  Salt_Concentrat_M  Synergistic_Inhib_type  \\\n",
       "0               0.001                0.1                     NaN   \n",
       "1               0.001                0.1                     NaN   \n",
       "2               0.001                0.1                     NaN   \n",
       "3               0.001                0.1                     NaN   \n",
       "4               0.001                0.1                     NaN   \n",
       "\n",
       "   Synergistic_Inhib_M       Methodology  \\\n",
       "0                    0  Image processing   \n",
       "1                    0  Image processing   \n",
       "2                    0       Weight loss   \n",
       "3                    0       Weight loss   \n",
       "4                    0       Weight loss   \n",
       "\n",
       "                                       Reference  Efficiency  \n",
       "0  Winkler, Corrosion Science 106 (2016) 229–235        90.0  \n",
       "1  Winkler, Corrosion Science 106 (2016) 229–235        90.0  \n",
       "2  Harvey, Corrosion Science 53 (2011) 2184–2190        96.0  \n",
       "3  Harvey, Corrosion Science 53 (2011) 2184–2190        90.0  \n",
       "4  Harvey, Corrosion Science 53 (2011) 2184–2190        95.0  "
      ]
     },
     "execution_count": 70,
     "metadata": {},
     "output_type": "execute_result"
    }
   ],
   "source": [
    "csv_files = [\n",
    "    \"convertcsv 1-100.csv\",\n",
    "    \"convertcsv 101-140.csv\"\n",
    "]\n",
    "dataframes = [pd.read_csv(file) for file in csv_files]\n",
    "# Concatenate all DataFrames into a single DataFrame\n",
    "combined_df = pd.concat(dataframes, ignore_index=True)\n",
    "combined_df.head()"
   ]
  },
  {
   "cell_type": "code",
   "execution_count": 92,
   "id": "c027338a-8688-486b-a3cc-7f33296c0c0f",
   "metadata": {},
   "outputs": [],
   "source": [
    "# gather data for plot\n",
    "# here temperature\n",
    "temperature = combined_df[\"Temperature_K\"]\n",
    "efficiency = combined_df[\"Efficiency\"]\n",
    "Mol_weight = combined_df[\"Mol._weight\"]"
   ]
  },
  {
   "cell_type": "code",
   "execution_count": 66,
   "id": "a417bc24-ef26-41ae-89f4-71d67a5edb59",
   "metadata": {},
   "outputs": [
    {
     "name": "stdout",
     "output_type": "stream",
     "text": [
      "140 140\n"
     ]
    }
   ],
   "source": [
    "# Define the range\n",
    "# Temperature automotive:\t-30°C - 70°C\t243K - 343K\n",
    "# Temperature avionics:\t-50°C - 120°C\t223K - 393K\n",
    "\n",
    "# Filter for avionic_dataset\n",
    "avionic_dataset = combined_df[\n",
    "    ((combined_df['Temperature_K'] >= 243) & (combined_df['Temperature_K'] <= 343))\n",
    "]\n",
    "\n",
    "# Filter for automotive_dataset\n",
    "automotive_dataset = combined_df[\n",
    "    ((combined_df['Temperature_K'] >= 223) & (combined_df['Temperature_K'] <= 393))\n",
    "]\n",
    "print(avionic_dataset.shape[0], automotive_dataset.shape[0])"
   ]
  },
  {
   "cell_type": "code",
   "execution_count": 68,
   "id": "7e5a4416-fcdd-4439-a032-19083423980d",
   "metadata": {},
   "outputs": [
    {
     "data": {
      "image/png": "[encoded data removed]",
      "text/plain": [
       "<Figure size 640x480 with 1 Axes>"
      ]
     },
     "metadata": {},
     "output_type": "display_data"
    }
   ],
   "source": [
    "#plot - temperature\n",
    "index = np.arange(len(temperature))\n",
    "bar_width = 0.9\n",
    "plt.bar(index, temperature, bar_width,  color=\"green\")\n",
    "plt.show()"
   ]
  },
  {
   "cell_type": "code",
   "execution_count": 16,
   "id": "ab807cb3-c910-4b36-b005-b425b63b18b8",
   "metadata": {},
   "outputs": [
    {
     "data": {
      "image/png": "[encoded data removed]",
      "text/plain": [
       "<Figure size 640x480 with 1 Axes>"
      ]
     },
     "metadata": {},
     "output_type": "display_data"
    }
   ],
   "source": [
    "#plot - temperature\n",
    "index = np.arange(len(efficiency))\n",
    "bar_width = 0.9\n",
    "plt.bar(index, efficiency, bar_width,  color=\"green\")\n",
    "plt.show()"
   ]
  },
  {
   "cell_type": "code",
   "execution_count": 90,
   "id": "bd62485b-ccc7-42a8-8e24-942e6da32621",
   "metadata": {},
   "outputs": [
    {
     "data": {
      "image/png": "[encoded data removed]",
      "text/plain": [
       "<Figure size 640x480 with 1 Axes>"
      ]
     },
     "metadata": {},
     "output_type": "display_data"
    }
   ],
   "source": [
    "#plot - Mol_weight\n",
    "Mol_weight = Mol_weight.sort_values()\n",
    "index = np.arange(len(Mol_weight))\n",
    "bar_width = 0.9\n",
    "plt.bar(index, Mol_weight, bar_width,  color=\"green\")\n",
    "plt.show()"
   ]
  },
  {
   "cell_type": "code",
   "execution_count": 94,
   "id": "668d486d-b8ab-46ef-b6da-6a89404fbe93",
   "metadata": {},
   "outputs": [],
   "source": [
    "import datamol as dm"
   ]
  },
  {
   "cell_type": "code",
   "execution_count": 103,
   "id": "41bb40ce-232b-4a62-83c1-858312e31993",
   "metadata": {},
   "outputs": [],
   "source": [
    "avionic_dataset[\"Mol\"] = avionic_dataset[\"SMILES\"].apply(dm.to_mol)"
   ]
  },
  {
   "cell_type": "code",
   "execution_count": null,
   "id": "2801858a-49fa-4f07-9cd3-08656678e613",
   "metadata": {},
   "outputs": [],
   "source": []
  }
 ],
 "metadata": {
  "kernelspec": {
   "display_name": "Python 3 (ipykernel)",
   "language": "python",
   "name": "python3"
  },
  "language_info": {
   "codemirror_mode": {
    "name": "ipython",
    "version": 3
   },
   "file_extension": ".py",
   "mimetype": "text/x-python",
   "name": "python",
   "nbconvert_exporter": "python",
   "pygments_lexer": "ipython3",
   "version": "3.11.7"
  }
 },
 "nbformat": 4,
 "nbformat_minor": 5
}
