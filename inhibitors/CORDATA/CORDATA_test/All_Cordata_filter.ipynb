{
 "cells": [
  {
   "cell_type": "code",
   "execution_count": 4,
   "id": "efc23720-2fa3-4f48-9284-dd21eb419da1",
   "metadata": {},
   "outputs": [],
   "source": [
    "#imports\n",
    "import pandas as pd\n",
    "\n",
    "import matplotlib.pyplot as plt\n",
    "import numpy as np"
   ]
  },
  {
   "cell_type": "code",
   "execution_count": 70,
   "id": "2339c7c4-76bc-4d2f-ae9a-eacd134e4b32",
   "metadata": {},
   "outputs": [
    {
     "data": {
      "text/html": [
       "<div>\n",
       "<style scoped>\n",
       "    .dataframe tbody tr th:only-of-type {\n",
       "        vertical-align: middle;\n",
       "    }\n",
       "\n",
       "    .dataframe tbody tr th {\n",
       "        vertical-align: top;\n",
       "    }\n",
       "\n",
       "    .dataframe thead th {\n",
       "        text-align: right;\n",
       "    }\n",
       "</style>\n",
       "<table border=\"1\" class=\"dataframe\">\n",
       "  <thead>\n",
       "    <tr style=\"text-align: right;\">\n",
       "      <th></th>\n",
       "      <th>Unnamed: 0</th>\n",
       "      <th>Inhibitor</th>\n",
       "      <th>Mol._weight</th>\n",
       "      <th>SMILES</th>\n",
       "      <th>Metal</th>\n",
       "      <th>Alloy</th>\n",
       "      <th>Time_h</th>\n",
       "      <th>Temperature_K</th>\n",
       "      <th>pH</th>\n",
       "      <th>Inhib_Concentrat_M</th>\n",
       "      <th>Salt_Concentrat_M</th>\n",
       "      <th>Synergistic_Inhib_type</th>\n",
       "      <th>Synergistic_Inhib_M</th>\n",
       "      <th>Methodology</th>\n",
       "      <th>Reference</th>\n",
       "      <th>Efficiency</th>\n",
       "    </tr>\n",
       "  </thead>\n",
       "  <tbody>\n",
       "    <tr>\n",
       "      <th>0</th>\n",
       "      <td>1</td>\n",
       "      <td>1,2,4-Triazole</td>\n",
       "      <td>69.07</td>\n",
       "      <td>c1ncn[nH]1</td>\n",
       "      <td>Al</td>\n",
       "      <td>AA2024</td>\n",
       "      <td>24.0</td>\n",
       "      <td>298</td>\n",
       "      <td>10.0</td>\n",
       "      <td>0.001</td>\n",
       "      <td>0.1</td>\n",
       "      <td>NaN</td>\n",
       "      <td>0</td>\n",
       "      <td>Image processing</td>\n",
       "      <td>Winkler, Corrosion Science 106 (2016) 229–235</td>\n",
       "      <td>90.0</td>\n",
       "    </tr>\n",
       "    <tr>\n",
       "      <th>1</th>\n",
       "      <td>2</td>\n",
       "      <td>1,2,4-Triazole-3-thiol</td>\n",
       "      <td>101.13</td>\n",
       "      <td>Sc1n[nH]cn1</td>\n",
       "      <td>Al</td>\n",
       "      <td>AA2024</td>\n",
       "      <td>24.0</td>\n",
       "      <td>298</td>\n",
       "      <td>4.0</td>\n",
       "      <td>0.001</td>\n",
       "      <td>0.1</td>\n",
       "      <td>NaN</td>\n",
       "      <td>0</td>\n",
       "      <td>Image processing</td>\n",
       "      <td>Winkler, Corrosion Science 106 (2016) 229–235</td>\n",
       "      <td>90.0</td>\n",
       "    </tr>\n",
       "    <tr>\n",
       "      <th>2</th>\n",
       "      <td>3</td>\n",
       "      <td>2-Mercaptoacetic acid</td>\n",
       "      <td>92.12</td>\n",
       "      <td>OC(=O)CS</td>\n",
       "      <td>Al</td>\n",
       "      <td>AA2024</td>\n",
       "      <td>672.0</td>\n",
       "      <td>298</td>\n",
       "      <td>7.0</td>\n",
       "      <td>0.001</td>\n",
       "      <td>0.1</td>\n",
       "      <td>NaN</td>\n",
       "      <td>0</td>\n",
       "      <td>Weight loss</td>\n",
       "      <td>Harvey, Corrosion Science 53 (2011) 2184–2190</td>\n",
       "      <td>96.0</td>\n",
       "    </tr>\n",
       "    <tr>\n",
       "      <th>3</th>\n",
       "      <td>4</td>\n",
       "      <td>2-Mercaptobenzimidazole</td>\n",
       "      <td>150.20</td>\n",
       "      <td>Sc1nc2c([nH]1)cccc2</td>\n",
       "      <td>Al</td>\n",
       "      <td>AA2024</td>\n",
       "      <td>672.0</td>\n",
       "      <td>298</td>\n",
       "      <td>7.0</td>\n",
       "      <td>0.001</td>\n",
       "      <td>0.1</td>\n",
       "      <td>NaN</td>\n",
       "      <td>0</td>\n",
       "      <td>Weight loss</td>\n",
       "      <td>Harvey, Corrosion Science 53 (2011) 2184–2190</td>\n",
       "      <td>90.0</td>\n",
       "    </tr>\n",
       "    <tr>\n",
       "      <th>4</th>\n",
       "      <td>5</td>\n",
       "      <td>2-Mercaptobenzothiazole / MBT / 1,3-Benzothiaz...</td>\n",
       "      <td>167.25</td>\n",
       "      <td>S=c1sc2c([nH]1)cccc2</td>\n",
       "      <td>Al</td>\n",
       "      <td>AA2024</td>\n",
       "      <td>672.0</td>\n",
       "      <td>298</td>\n",
       "      <td>7.0</td>\n",
       "      <td>0.001</td>\n",
       "      <td>0.1</td>\n",
       "      <td>NaN</td>\n",
       "      <td>0</td>\n",
       "      <td>Weight loss</td>\n",
       "      <td>Harvey, Corrosion Science 53 (2011) 2184–2190</td>\n",
       "      <td>95.0</td>\n",
       "    </tr>\n",
       "  </tbody>\n",
       "</table>\n",
       "</div>"
      ],
      "text/plain": [
       "   Unnamed: 0                                          Inhibitor  Mol._weight  \\\n",
       "0           1                                     1,2,4-Triazole        69.07   \n",
       "1           2                             1,2,4-Triazole-3-thiol       101.13   \n",
       "2           3                              2-Mercaptoacetic acid        92.12   \n",
       "3           4                            2-Mercaptobenzimidazole       150.20   \n",
       "4           5  2-Mercaptobenzothiazole / MBT / 1,3-Benzothiaz...       167.25   \n",
       "\n",
       "                 SMILES Metal   Alloy  Time_h  Temperature_K    pH  \\\n",
       "0            c1ncn[nH]1    Al  AA2024    24.0            298  10.0   \n",
       "1           Sc1n[nH]cn1    Al  AA2024    24.0            298   4.0   \n",
       "2              OC(=O)CS    Al  AA2024   672.0            298   7.0   \n",
       "3   Sc1nc2c([nH]1)cccc2    Al  AA2024   672.0            298   7.0   \n",
       "4  S=c1sc2c([nH]1)cccc2    Al  AA2024   672.0            298   7.0   \n",
       "\n",
       "   Inhib_Concentrat_M  Salt_Concentrat_M  Synergistic_Inhib_type  \\\n",
       "0               0.001                0.1                     NaN   \n",
       "1               0.001                0.1                     NaN   \n",
       "2               0.001                0.1                     NaN   \n",
       "3               0.001                0.1                     NaN   \n",
       "4               0.001                0.1                     NaN   \n",
       "\n",
       "   Synergistic_Inhib_M       Methodology  \\\n",
       "0                    0  Image processing   \n",
       "1                    0  Image processing   \n",
       "2                    0       Weight loss   \n",
       "3                    0       Weight loss   \n",
       "4                    0       Weight loss   \n",
       "\n",
       "                                       Reference  Efficiency  \n",
       "0  Winkler, Corrosion Science 106 (2016) 229–235        90.0  \n",
       "1  Winkler, Corrosion Science 106 (2016) 229–235        90.0  \n",
       "2  Harvey, Corrosion Science 53 (2011) 2184–2190        96.0  \n",
       "3  Harvey, Corrosion Science 53 (2011) 2184–2190        90.0  \n",
       "4  Harvey, Corrosion Science 53 (2011) 2184–2190        95.0  "
      ]
     },
     "execution_count": 70,
     "metadata": {},
     "output_type": "execute_result"
    }
   ],
   "source": [
    "csv_files = [\n",
    "    \"convertcsv 1-100.csv\",\n",
    "    \"convertcsv 101-140.csv\"\n",
    "]\n",
    "dataframes = [pd.read_csv(file) for file in csv_files]\n",
    "# Concatenate all DataFrames into a single DataFrame\n",
    "combined_df = pd.concat(dataframes, ignore_index=True)\n",
    "combined_df.head()"
   ]
  },
  {
   "cell_type": "code",
   "execution_count": 92,
   "id": "c027338a-8688-486b-a3cc-7f33296c0c0f",
   "metadata": {},
   "outputs": [],
   "source": [
    "# gather data for plot\n",
    "# here temperature\n",
    "temperature = combined_df[\"Temperature_K\"]\n",
    "efficiency = combined_df[\"Efficiency\"]\n",
    "Mol_weight = combined_df[\"Mol._weight\"]"
   ]
  },
  {
   "cell_type": "code",
   "execution_count": 66,
   "id": "a417bc24-ef26-41ae-89f4-71d67a5edb59",
   "metadata": {},
   "outputs": [
    {
     "name": "stdout",
     "output_type": "stream",
     "text": [
      "140 140\n"
     ]
    }
   ],
   "source": [
    "# Define the range\n",
    "# Temperature automotive:\t-30°C - 70°C\t243K - 343K\n",
    "# Temperature avionics:\t-50°C - 120°C\t223K - 393K\n",
    "\n",
    "# Filter for avionic_dataset\n",
    "avionic_dataset = combined_df[\n",
    "    ((combined_df['Temperature_K'] >= 243) & (combined_df['Temperature_K'] <= 343))\n",
    "]\n",
    "\n",
    "# Filter for automotive_dataset\n",
    "automotive_dataset = combined_df[\n",
    "    ((combined_df['Temperature_K'] >= 223) & (combined_df['Temperature_K'] <= 393))\n",
    "]\n",
    "print(avionic_dataset.shape[0], automotive_dataset.shape[0])"
   ]
  },
  {
   "cell_type": "code",
   "execution_count": 68,
   "id": "7e5a4416-fcdd-4439-a032-19083423980d",
   "metadata": {},
   "outputs": [
    {
     "data": {
      "image/png": "[encoded data removed]",
      "text/plain": [
       "<Figure size 640x480 with 1 Axes>"
      ]
     },
     "metadata": {},
     "output_type": "display_data"
    }
   ],
   "source": [
    "#plot - temperature\n",
    "index = np.arange(len(temperature))\n",
    "bar_width = 0.9\n",
    "plt.bar(index, temperature, bar_width,  color=\"green\")\n",
    "plt.show()"
   ]
  },
  {
   "cell_type": "code",
   "execution_count": 16,
   "id": "ab807cb3-c910-4b36-b005-b425b63b18b8",
   "metadata": {},
   "outputs": [
    {
     "data": {
      "image/png": "[encoded data removed]",
      "text/plain": [
       "<Figure size 640x480 with 1 Axes>"
      ]
     },
     "metadata": {},
     "output_type": "display_data"
    }
   ],
   "source": [
    "#plot - temperature\n",
    "index = np.arange(len(efficiency))\n",
    "bar_width = 0.9\n",
    "plt.bar(index, efficiency, bar_width,  color=\"green\")\n",
    "plt.show()"
   ]
  },
  {
   "cell_type": "code",
   "execution_count": 90,
   "id": "bd62485b-ccc7-42a8-8e24-942e6da32621",
   "metadata": {},
   "outputs": [
    {
     "data": {
      "image/png": "[encoded data removed]",
      "text/plain": [
       "<Figure size 640x480 with 1 Axes>"
      ]
     },
     "metadata": {},
     "output_type": "display_data"
    }
   ],
   "source": [
    "#plot - Mol_weight\n",
    "Mol_weight = Mol_weight.sort_values()\n",
    "index = np.arange(len(Mol_weight))\n",
    "bar_width = 0.9\n",
    "plt.bar(index, Mol_weight, bar_width,  color=\"green\")\n",
    "plt.show()"
   ]
  },
  {
   "cell_type": "code",
   "execution_count": 94,
   "id": "668d486d-b8ab-46ef-b6da-6a89404fbe93",
   "metadata": {},
   "outputs": [],
   "source": [
    "import datamol as dm"
   ]
  },
  {
   "cell_type": "code",
   "execution_count": 103,
   "id": "41bb40ce-232b-4a62-83c1-858312e31993",
   "metadata": {},
   "outputs": [],
   "source": [
    "avionic_dataset[\"Mol\"] = avionic_dataset[\"SMILES\"].apply(dm.to_mol)"
   ]
  },
  {
   "cell_type": "code",
   "execution_count": 131,
   "id": "2801858a-49fa-4f07-9cd3-08656678e613",
   "metadata": {},
   "outputs": [
    {
     "name": "stdout",
     "output_type": "stream",
     "text": [
      "6\n",
      "\n",
      "C     -0.352745   -0.013384   -0.004582\n",
      "O      0.953509   -0.262091   -0.386765\n",
      "H     -0.498680    0.083405    1.076621\n",
      "H     -0.964459   -0.864768   -0.379842\n",
      "H     -0.764285    0.892663   -0.484474\n",
      "H      1.626660    0.164175    0.179043\n",
      "\n"
     ]
    }
   ],
   "source": [
    "from rdkit import Chem\n",
    "from rdkit.Chem import AllChem, AddHs\n",
    "\n",
    "mol = Chem.MolFromSmiles(\"CO\")\n",
    "mol = AddHs(mol)\n",
    "# print(\"Num: \",mol.GetNumAtoms())\n",
    "mol = Chem.AddHs(mol,explicitOnly=True)\n",
    "AllChem.EmbedMolecule(mol)\n",
    "print(Chem.MolToXYZBlock(mol))\n",
    "with open(\"molecule.xyz\", \"w\") as file:\n",
    "    file.write(Chem.MolToXYZBlock(mol))"
   ]
  },
  {
   "cell_type": "code",
   "execution_count": 164,
   "id": "dbf8a858-ed76-4eac-9c06-4c2efafede7e",
   "metadata": {},
   "outputs": [
    {
     "name": "stderr",
     "output_type": "stream",
     "text": [
      "[22:22:52] UFFTYPER: Unrecognized charge state for atom: 0\n",
      "[22:22:52] UFFTYPER: Unrecognized atom type: Ce+3 (0)\n",
      "[22:22:52] UFFTYPER: Unrecognized charge state for atom: 0\n",
      "[22:22:52] UFFTYPER: Unrecognized atom type: Ce+3 (0)\n",
      "[22:22:52] UFFTYPER: Unrecognized charge state for atom: 0\n",
      "[22:22:52] UFFTYPER: Unrecognized atom type: Ce+3 (0)\n",
      "[22:22:52] UFFTYPER: Unrecognized charge state for atom: 0\n",
      "[22:22:52] UFFTYPER: Unrecognized atom type: Ce+3 (0)\n",
      "[22:22:52] UFFTYPER: Unrecognized charge state for atom: 0\n",
      "[22:22:52] UFFTYPER: Unrecognized atom type: Ce+3 (0)\n",
      "[22:22:52] UFFTYPER: Unrecognized charge state for atom: 0\n",
      "[22:22:52] UFFTYPER: Unrecognized atom type: Ce+3 (0)\n",
      "[22:22:52] UFFTYPER: Unrecognized charge state for atom: 0\n",
      "[22:22:52] UFFTYPER: Unrecognized atom type: Ce+3 (0)\n",
      "[22:22:53] UFFTYPER: Unrecognized charge state for atom: 0\n",
      "[22:22:53] UFFTYPER: Unrecognized atom type: Ce+3 (0)\n",
      "[22:22:53] UFFTYPER: Unrecognized charge state for atom: 0\n",
      "[22:22:53] UFFTYPER: Unrecognized atom type: Ce+3 (0)\n",
      "[22:22:53] UFFTYPER: Unrecognized charge state for atom: 0\n",
      "[22:22:53] UFFTYPER: Unrecognized atom type: Ce+3 (0)\n",
      "[22:22:53] UFFTYPER: Unrecognized charge state for atom: 0\n",
      "[22:22:53] UFFTYPER: Unrecognized atom type: Ce+3 (0)\n",
      "[22:22:53] UFFTYPER: Unrecognized charge state for atom: 0\n",
      "[22:22:53] UFFTYPER: Unrecognized atom type: Ce+3 (0)\n",
      "[22:22:53] UFFTYPER: Unrecognized charge state for atom: 0\n",
      "[22:22:53] UFFTYPER: Unrecognized atom type: Ce+3 (0)\n",
      "[22:22:53] UFFTYPER: Unrecognized charge state for atom: 0\n",
      "[22:22:53] UFFTYPER: Unrecognized atom type: Ce+3 (0)\n",
      "[22:22:53] UFFTYPER: Unrecognized charge state for atom: 0\n",
      "[22:22:53] UFFTYPER: Unrecognized atom type: Ce+3 (0)\n",
      "[22:22:53] UFFTYPER: Unrecognized charge state for atom: 0\n",
      "[22:22:53] UFFTYPER: Unrecognized atom type: Ce+3 (0)\n",
      "[22:22:53] UFFTYPER: Unrecognized charge state for atom: 0\n",
      "[22:22:53] UFFTYPER: Unrecognized atom type: Ce+3 (0)\n",
      "[22:22:53] UFFTYPER: Unrecognized charge state for atom: 0\n",
      "[22:22:53] UFFTYPER: Unrecognized atom type: Ce+3 (0)\n",
      "[22:22:53] UFFTYPER: Unrecognized charge state for atom: 0\n",
      "[22:22:53] UFFTYPER: Unrecognized atom type: Ce+3 (0)\n",
      "[22:22:53] UFFTYPER: Unrecognized charge state for atom: 0\n",
      "[22:22:53] UFFTYPER: Unrecognized atom type: Ce+3 (0)\n",
      "[22:22:53] UFFTYPER: Unrecognized charge state for atom: 0\n",
      "[22:22:53] UFFTYPER: Unrecognized atom type: Ce+3 (0)\n",
      "[22:22:53] UFFTYPER: Unrecognized charge state for atom: 0\n",
      "[22:22:53] UFFTYPER: Unrecognized atom type: Ce+3 (0)\n",
      "[22:22:53] UFFTYPER: Unrecognized charge state for atom: 0\n",
      "[22:22:53] UFFTYPER: Unrecognized atom type: Ce+3 (0)\n",
      "[22:22:53] UFFTYPER: Unrecognized charge state for atom: 0\n",
      "[22:22:53] UFFTYPER: Unrecognized atom type: Ce+3 (0)\n",
      "[22:22:53] UFFTYPER: Unrecognized charge state for atom: 0\n",
      "[22:22:53] UFFTYPER: Unrecognized atom type: Ce+3 (0)\n",
      "[22:22:53] UFFTYPER: Unrecognized charge state for atom: 0\n",
      "[22:22:53] UFFTYPER: Unrecognized atom type: Ce+3 (0)\n",
      "[22:22:53] UFFTYPER: Unrecognized charge state for atom: 0\n",
      "[22:22:53] UFFTYPER: Unrecognized atom type: Ce+3 (0)\n",
      "[22:22:53] UFFTYPER: Unrecognized charge state for atom: 0\n",
      "[22:22:53] UFFTYPER: Unrecognized atom type: Ce+3 (0)\n",
      "[22:22:53] UFFTYPER: Unrecognized charge state for atom: 0\n",
      "[22:22:53] UFFTYPER: Unrecognized atom type: Ce+3 (0)\n",
      "[22:22:53] UFFTYPER: Unrecognized charge state for atom: 0\n",
      "[22:22:53] UFFTYPER: Unrecognized atom type: Ce+3 (0)\n",
      "[22:22:53] UFFTYPER: Unrecognized charge state for atom: 0\n",
      "[22:22:53] UFFTYPER: Unrecognized atom type: Ce+3 (0)\n",
      "[22:22:53] UFFTYPER: Unrecognized charge state for atom: 0\n",
      "[22:22:53] UFFTYPER: Unrecognized atom type: Ce+3 (0)\n",
      "[22:22:53] UFFTYPER: Unrecognized charge state for atom: 0\n",
      "[22:22:53] UFFTYPER: Unrecognized atom type: Ce+3 (0)\n",
      "[22:22:53] UFFTYPER: Unrecognized charge state for atom: 0\n",
      "[22:22:53] UFFTYPER: Unrecognized atom type: Ce+3 (0)\n",
      "[22:22:53] UFFTYPER: Unrecognized charge state for atom: 0\n",
      "[22:22:53] UFFTYPER: Unrecognized atom type: Ce+3 (0)\n",
      "[22:22:53] UFFTYPER: Unrecognized charge state for atom: 0\n",
      "[22:22:53] UFFTYPER: Unrecognized atom type: Ce+3 (0)\n",
      "[22:22:53] UFFTYPER: Unrecognized charge state for atom: 0\n",
      "[22:22:53] UFFTYPER: Unrecognized atom type: Ce+3 (0)\n",
      "[22:22:53] UFFTYPER: Unrecognized charge state for atom: 0\n",
      "[22:22:53] UFFTYPER: Unrecognized atom type: Ce+3 (0)\n",
      "[22:22:53] UFFTYPER: Unrecognized charge state for atom: 0\n",
      "[22:22:53] UFFTYPER: Unrecognized atom type: Ce+3 (0)\n",
      "[22:22:53] UFFTYPER: Unrecognized charge state for atom: 0\n",
      "[22:22:53] UFFTYPER: Unrecognized atom type: Ce+3 (0)\n",
      "[22:22:53] UFFTYPER: Unrecognized charge state for atom: 0\n",
      "[22:22:53] UFFTYPER: Unrecognized atom type: Ce+3 (0)\n",
      "[22:22:53] UFFTYPER: Unrecognized charge state for atom: 0\n",
      "[22:22:53] UFFTYPER: Unrecognized atom type: Ce+3 (0)\n",
      "[22:22:53] UFFTYPER: Unrecognized charge state for atom: 0\n",
      "[22:22:53] UFFTYPER: Unrecognized atom type: Ce+3 (0)\n",
      "[22:22:53] UFFTYPER: Unrecognized charge state for atom: 0\n",
      "[22:22:53] UFFTYPER: Unrecognized atom type: Ce+3 (0)\n",
      "[22:22:53] UFFTYPER: Unrecognized charge state for atom: 0\n",
      "[22:22:53] UFFTYPER: Unrecognized atom type: Ce+3 (0)\n",
      "[22:22:53] UFFTYPER: Unrecognized charge state for atom: 0\n",
      "[22:22:53] UFFTYPER: Unrecognized atom type: Ce+3 (0)\n",
      "[22:22:53] UFFTYPER: Unrecognized charge state for atom: 0\n",
      "[22:22:53] UFFTYPER: Unrecognized atom type: Ce+3 (0)\n",
      "[22:22:53] UFFTYPER: Unrecognized charge state for atom: 0\n",
      "[22:22:53] UFFTYPER: Unrecognized atom type: Ce+3 (0)\n",
      "[22:22:53] UFFTYPER: Unrecognized charge state for atom: 0\n",
      "[22:22:53] UFFTYPER: Unrecognized atom type: Ce+3 (0)\n",
      "[22:22:53] UFFTYPER: Unrecognized atom type: Fe2+2 (0)\n",
      "[22:22:54] UFFTYPER: Unrecognized atom type: Fe2+2 (0)\n",
      "[22:22:54] UFFTYPER: Unrecognized atom type: Fe2+2 (0)\n",
      "[22:22:54] UFFTYPER: Unrecognized atom type: Fe2+2 (0)\n",
      "[22:22:54] UFFTYPER: Unrecognized atom type: Fe2+2 (0)\n",
      "[22:22:54] UFFTYPER: Unrecognized atom type: Fe2+2 (0)\n",
      "[22:22:54] UFFTYPER: Unrecognized atom type: Fe2+2 (0)\n",
      "[22:22:54] UFFTYPER: Unrecognized atom type: Fe2+2 (0)\n",
      "[22:22:54] UFFTYPER: Unrecognized atom type: Fe2+2 (0)\n",
      "[22:22:54] UFFTYPER: Unrecognized atom type: Fe2+2 (0)\n",
      "[22:22:54] UFFTYPER: Unrecognized atom type: Fe2+2 (0)\n",
      "[22:22:54] UFFTYPER: Unrecognized atom type: Fe2+2 (0)\n",
      "[22:22:54] UFFTYPER: Unrecognized atom type: Fe2+2 (0)\n",
      "[22:22:54] UFFTYPER: Unrecognized atom type: Fe2+2 (0)\n",
      "[22:22:54] UFFTYPER: Unrecognized charge state for atom: 0\n",
      "[22:22:54] UFFTYPER: Unrecognized atom type: Zn+2 (0)\n",
      "[22:22:54] UFFTYPER: Unrecognized charge state for atom: 0\n",
      "[22:22:54] UFFTYPER: Unrecognized atom type: Zn+2 (0)\n",
      "[22:22:54] UFFTYPER: Unrecognized charge state for atom: 0\n",
      "[22:22:54] UFFTYPER: Unrecognized atom type: Zn+2 (0)\n",
      "[22:22:54] UFFTYPER: Unrecognized charge state for atom: 0\n",
      "[22:22:54] UFFTYPER: Unrecognized atom type: Zn+2 (0)\n",
      "[22:22:54] UFFTYPER: Unrecognized charge state for atom: 0\n",
      "[22:22:54] UFFTYPER: Unrecognized atom type: Zn+2 (0)\n",
      "[22:22:54] UFFTYPER: Unrecognized charge state for atom: 0\n",
      "[22:22:54] UFFTYPER: Unrecognized atom type: Zn+2 (0)\n",
      "[22:22:54] UFFTYPER: Unrecognized charge state for atom: 0\n",
      "[22:22:54] UFFTYPER: Unrecognized atom type: Zn+2 (0)\n",
      "[22:22:54] UFFTYPER: Unrecognized charge state for atom: 0\n",
      "[22:22:54] UFFTYPER: Unrecognized atom type: Zn+2 (0)\n",
      "[22:22:54] UFFTYPER: Unrecognized charge state for atom: 0\n",
      "[22:22:54] UFFTYPER: Unrecognized atom type: Zn+2 (0)\n",
      "[22:22:54] UFFTYPER: Unrecognized charge state for atom: 0\n",
      "[22:22:54] UFFTYPER: Unrecognized atom type: Zn+2 (0)\n",
      "[22:22:54] UFFTYPER: Unrecognized charge state for atom: 0\n",
      "[22:22:54] UFFTYPER: Unrecognized atom type: Zn+2 (0)\n",
      "[22:22:54] UFFTYPER: Unrecognized charge state for atom: 0\n",
      "[22:22:54] UFFTYPER: Unrecognized atom type: Zn+2 (0)\n",
      "[22:22:54] UFFTYPER: Unrecognized charge state for atom: 0\n",
      "[22:22:54] UFFTYPER: Unrecognized atom type: Zn+2 (0)\n",
      "[22:22:54] UFFTYPER: Unrecognized charge state for atom: 0\n",
      "[22:22:54] UFFTYPER: Unrecognized atom type: Zn+2 (0)\n",
      "[22:22:54] UFFTYPER: Unrecognized charge state for atom: 0\n",
      "[22:22:54] UFFTYPER: Unrecognized atom type: Zn+2 (0)\n",
      "[22:22:54] UFFTYPER: Unrecognized charge state for atom: 0\n",
      "[22:22:54] UFFTYPER: Unrecognized atom type: Zn+2 (0)\n",
      "[22:22:55] UFFTYPER: Unrecognized charge state for atom: 0\n",
      "[22:22:55] UFFTYPER: Unrecognized atom type: Zn+2 (0)\n",
      "[22:22:55] UFFTYPER: Unrecognized charge state for atom: 0\n",
      "[22:22:55] UFFTYPER: Unrecognized atom type: Zn+2 (0)\n",
      "[22:22:55] UFFTYPER: Unrecognized charge state for atom: 0\n",
      "[22:22:55] UFFTYPER: Unrecognized atom type: Zn+2 (0)\n",
      "[22:22:55] UFFTYPER: Unrecognized charge state for atom: 0\n",
      "[22:22:55] UFFTYPER: Unrecognized atom type: Zn+2 (0)\n",
      "[22:22:55] UFFTYPER: Unrecognized charge state for atom: 0\n",
      "[22:22:55] UFFTYPER: Unrecognized atom type: Zn+2 (0)\n",
      "[22:22:55] UFFTYPER: Unrecognized charge state for atom: 0\n",
      "[22:22:55] UFFTYPER: Unrecognized atom type: Zn+2 (0)\n"
     ]
    }
   ],
   "source": [
    "for idx, smile in combined_df[\"SMILES\"].items():\n",
    "    # print(idx, \"\\t\", smile)\n",
    "    mol = Chem.MolFromSmiles(smile)\n",
    "    mol = AddHs(mol)\n",
    "    # print(\"Num: \",mol.GetNumAtoms())\n",
    "    mol = Chem.AddHs(mol,explicitOnly=True)\n",
    "    AllChem.EmbedMolecule(mol)\n",
    "    # print(Chem.MolToXYZBlock(mol))\n",
    "    with open(\"./XYZ/\"+str(idx)+\".xyz\", \"w\") as file:\n",
    "        file.write(Chem.MolToXYZBlock(mol))"
   ]
  },
  {
   "cell_type": "code",
   "execution_count": 234,
   "id": "5e57f383-acc2-4c76-a962-bd36841af14e",
   "metadata": {},
   "outputs": [],
   "source": [
    "# Suppress PySCF warning...\n",
    "import pyscf\n",
    "# pyscf.__config__.B3LYP_WITH_VWN5 = False"
   ]
  },
  {
   "cell_type": "code",
   "execution_count": 236,
   "id": "bf8ca8d0-ec68-47f3-88d2-2652ab4b5d9d",
   "metadata": {},
   "outputs": [],
   "source": [
    "from pathlib import Path\n",
    "from pyscf.gto import Mole\n",
    "from pyscf.lib import logger\n",
    "from asf import ASFDMRG\n",
    "from asf.visualization import draw_pair_information\n",
    "from asf.preselection import MP2NatorbPreselection, MP2PairinfoPreselection\n",
    "from asf.scf import stable_scf\n",
    "from asf.utility import pictures_Jmol, show_mos_grid"
   ]
  },
  {
   "cell_type": "code",
   "execution_count": 242,
   "id": "3f2771e5-dac9-4226-85b1-af35baaf5c50",
   "metadata": {},
   "outputs": [],
   "source": [
    "mol = Mole(\n",
    "    atom=\"XYZ/0.xyz\",\n",
    "    spin=0,\n",
    "    charge=0,\n",
    "    basis=\"def2-SVP\",\n",
    "    verbose=logger.NOTE,  # a less talkative option, to suppress printing of SCF iterations, etc.\n",
    ").build()"
   ]
  },
  {
   "cell_type": "code",
   "execution_count": 244,
   "id": "e7dabca4-eb26-4b9e-b565-8fed0872e978",
   "metadata": {},
   "outputs": [
    {
     "name": "stdout",
     "output_type": "stream",
     "text": [
      "-> Initiating a UHF calculation.\n",
      "converged SCF energy = -240.604291722576  <S^2> = 1.2627254e-08  2S+1 = 1\n",
      "<class 'pyscf.scf.uhf.UHF'> wavefunction is stable in the internal stability analysis\n",
      "-> The calculated SCF solution is converged and stable.\n"
     ]
    }
   ],
   "source": [
    "mf = stable_scf(mol)"
   ]
  },
  {
   "cell_type": "code",
   "execution_count": 246,
   "id": "78e90680-1b0b-4eb5-bcc1-2571c8fe880c",
   "metadata": {},
   "outputs": [
    {
     "name": "stdout",
     "output_type": "stream",
     "text": [
      "ActiveSpace: 16 electrons in 16 orbitals\n",
      "  active MO indices: [8, 11, 12, 13, 14, 15, 16, 17, 18, 19, 20, 21, 22, 23, 24, 27]\n"
     ]
    }
   ],
   "source": [
    "# If set to True, determine the initial active space using pair information derived from\n",
    "# Moller-Plesset theory (more complicated procedure).\n",
    "use_mp_pairinfo = True\n",
    "\n",
    "if use_mp_pairinfo:\n",
    "    pre = MP2PairinfoPreselection(mf)\n",
    "    active_space_pt = pre.select()\n",
    "# Otherwise, just use MP2 natural orbitals with a specific cutoff.\n",
    "else:\n",
    "    pre = MP2NatorbPreselection(mf, lower=0.02, upper=1.98)\n",
    "    active_space_pt = pre.select()\n",
    "\n",
    "print(active_space_pt)"
   ]
  },
  {
   "cell_type": "code",
   "execution_count": 247,
   "id": "28354b8f-8841-4b5f-afe9-57a43b1ef21a",
   "metadata": {},
   "outputs": [],
   "source": [
    "sf = ASFDMRG(\n",
    "    mol=mol,\n",
    "    nel=active_space_pt.nel,\n",
    "    mo_list=active_space_pt.mo_list,\n",
    "    mo_coeff=active_space_pt.mo_coeff,\n",
    "    maxM=2500,\n",
    ")"
   ]
  },
  {
   "cell_type": "code",
   "execution_count": 248,
   "id": "9fef0aa0-54d8-467c-bafe-92f0536bb835",
   "metadata": {},
   "outputs": [
    {
     "ename": "FileNotFoundError",
     "evalue": "[Errno 2] No such file or directory: '/path/to/Block/block.spin_adapted'",
     "output_type": "error",
     "traceback": [
      "\u001b[0;31m---------------------------------------------------------------------------\u001b[0m",
      "\u001b[0;31mFileNotFoundError\u001b[0m                         Traceback (most recent call last)",
      "Cell \u001b[0;32mIn[248], line 1\u001b[0m\n\u001b[0;32m----> 1\u001b[0m sf\u001b[38;5;241m.\u001b[39mcalculate()\n",
      "File \u001b[0;32m~/anaconda3/lib/python3.11/site-packages/asf/dmrg.py:98\u001b[0m, in \u001b[0;36mASFDMRG.calculate\u001b[0;34m(self)\u001b[0m\n\u001b[1;32m     96\u001b[0m \u001b[38;5;66;03m# Run the actual DMRG calculation.\u001b[39;00m\n\u001b[1;32m     97\u001b[0m mo_sorted \u001b[38;5;241m=\u001b[39m casci\u001b[38;5;241m.\u001b[39msort_mo(caslst\u001b[38;5;241m=\u001b[39m\u001b[38;5;28mself\u001b[39m\u001b[38;5;241m.\u001b[39mmo_list, mo_coeff\u001b[38;5;241m=\u001b[39m\u001b[38;5;28mself\u001b[39m\u001b[38;5;241m.\u001b[39mmo_coeff, base\u001b[38;5;241m=\u001b[39m\u001b[38;5;241m0\u001b[39m)\n\u001b[0;32m---> 98\u001b[0m casci\u001b[38;5;241m.\u001b[39mkernel(mo_coeff\u001b[38;5;241m=\u001b[39mmo_sorted)\n\u001b[1;32m    100\u001b[0m \u001b[38;5;28mself\u001b[39m\u001b[38;5;241m.\u001b[39mcasci \u001b[38;5;241m=\u001b[39m casci\n",
      "File \u001b[0;32m~/anaconda3/lib/python3.11/site-packages/pyscf/mcscf/casci.py:1138\u001b[0m, in \u001b[0;36mCASCI.kernel\u001b[0;34m(self, mo_coeff, ci0, verbose)\u001b[0m\n\u001b[1;32m   1135\u001b[0m log \u001b[38;5;241m=\u001b[39m logger\u001b[38;5;241m.\u001b[39mnew_logger(\u001b[38;5;28mself\u001b[39m, verbose)\n\u001b[1;32m   1137\u001b[0m \u001b[38;5;28mself\u001b[39m\u001b[38;5;241m.\u001b[39mcheck_sanity()\n\u001b[0;32m-> 1138\u001b[0m \u001b[38;5;28mself\u001b[39m\u001b[38;5;241m.\u001b[39mdump_flags(log)\n\u001b[1;32m   1140\u001b[0m \u001b[38;5;28mself\u001b[39m\u001b[38;5;241m.\u001b[39me_tot, \u001b[38;5;28mself\u001b[39m\u001b[38;5;241m.\u001b[39me_cas, \u001b[38;5;28mself\u001b[39m\u001b[38;5;241m.\u001b[39mci \u001b[38;5;241m=\u001b[39m \\\n\u001b[1;32m   1141\u001b[0m         kernel(\u001b[38;5;28mself\u001b[39m, mo_coeff, ci0\u001b[38;5;241m=\u001b[39mci0, verbose\u001b[38;5;241m=\u001b[39mlog)\n\u001b[1;32m   1143\u001b[0m \u001b[38;5;28;01mif\u001b[39;00m \u001b[38;5;28mself\u001b[39m\u001b[38;5;241m.\u001b[39mcanonicalization:\n",
      "File \u001b[0;32m~/anaconda3/lib/python3.11/site-packages/pyscf/mcscf/casci.py:849\u001b[0m, in \u001b[0;36mCASBase.dump_flags\u001b[0;34m(self, verbose)\u001b[0m\n\u001b[1;32m    847\u001b[0m log\u001b[38;5;241m.\u001b[39minfo(\u001b[38;5;124m'\u001b[39m\u001b[38;5;124mmax_memory \u001b[39m\u001b[38;5;132;01m%d\u001b[39;00m\u001b[38;5;124m (MB)\u001b[39m\u001b[38;5;124m'\u001b[39m, \u001b[38;5;28mself\u001b[39m\u001b[38;5;241m.\u001b[39mmax_memory)\n\u001b[1;32m    848\u001b[0m \u001b[38;5;28;01mif\u001b[39;00m \u001b[38;5;28mgetattr\u001b[39m(\u001b[38;5;28mself\u001b[39m\u001b[38;5;241m.\u001b[39mfcisolver, \u001b[38;5;124m'\u001b[39m\u001b[38;5;124mdump_flags\u001b[39m\u001b[38;5;124m'\u001b[39m, \u001b[38;5;28;01mNone\u001b[39;00m):\n\u001b[0;32m--> 849\u001b[0m     \u001b[38;5;28mself\u001b[39m\u001b[38;5;241m.\u001b[39mfcisolver\u001b[38;5;241m.\u001b[39mdump_flags(log\u001b[38;5;241m.\u001b[39mverbose)\n\u001b[1;32m    850\u001b[0m \u001b[38;5;28;01mif\u001b[39;00m \u001b[38;5;28mself\u001b[39m\u001b[38;5;241m.\u001b[39mmo_coeff \u001b[38;5;129;01mis\u001b[39;00m \u001b[38;5;28;01mNone\u001b[39;00m:\n\u001b[1;32m    851\u001b[0m     log\u001b[38;5;241m.\u001b[39merror(\u001b[38;5;124m'\u001b[39m\u001b[38;5;124mOrbitals for CASCI are not specified. The relevant SCF \u001b[39m\u001b[38;5;124m'\u001b[39m\n\u001b[1;32m    852\u001b[0m               \u001b[38;5;124m'\u001b[39m\u001b[38;5;124mobject may not be initialized.\u001b[39m\u001b[38;5;124m'\u001b[39m)\n",
      "File \u001b[0;32m~/anaconda3/lib/python3.11/site-packages/pyscf/dmrgscf/dmrgci.py:244\u001b[0m, in \u001b[0;36mDMRGCI.dump_flags\u001b[0;34m(self, verbose)\u001b[0m\n\u001b[1;32m    242\u001b[0m log\u001b[38;5;241m.\u001b[39minfo(\u001b[38;5;124m'\u001b[39m\u001b[38;5;124mexecutable             = \u001b[39m\u001b[38;5;132;01m%s\u001b[39;00m\u001b[38;5;124m'\u001b[39m, \u001b[38;5;28mself\u001b[39m\u001b[38;5;241m.\u001b[39mexecutable)\n\u001b[1;32m    243\u001b[0m log\u001b[38;5;241m.\u001b[39minfo(\u001b[38;5;124m'\u001b[39m\u001b[38;5;124mBLOCKEXE_COMPRESS_NEVPT= \u001b[39m\u001b[38;5;132;01m%s\u001b[39;00m\u001b[38;5;124m'\u001b[39m, settings\u001b[38;5;241m.\u001b[39mBLOCKEXE_COMPRESS_NEVPT)\n\u001b[0;32m--> 244\u001b[0m log\u001b[38;5;241m.\u001b[39minfo(\u001b[38;5;124m'\u001b[39m\u001b[38;5;124mBlock version          = \u001b[39m\u001b[38;5;132;01m%s\u001b[39;00m\u001b[38;5;124m'\u001b[39m, block_version(\u001b[38;5;28mself\u001b[39m\u001b[38;5;241m.\u001b[39mexecutable))\n\u001b[1;32m    245\u001b[0m log\u001b[38;5;241m.\u001b[39minfo(\u001b[38;5;124m'\u001b[39m\u001b[38;5;124mmpiprefix              = \u001b[39m\u001b[38;5;132;01m%s\u001b[39;00m\u001b[38;5;124m'\u001b[39m, \u001b[38;5;28mself\u001b[39m\u001b[38;5;241m.\u001b[39mmpiprefix)\n\u001b[1;32m    246\u001b[0m log\u001b[38;5;241m.\u001b[39minfo(\u001b[38;5;124m'\u001b[39m\u001b[38;5;124mscratchDirectory       = \u001b[39m\u001b[38;5;132;01m%s\u001b[39;00m\u001b[38;5;124m'\u001b[39m, \u001b[38;5;28mself\u001b[39m\u001b[38;5;241m.\u001b[39mscratchDirectory)\n",
      "File \u001b[0;32m~/anaconda3/lib/python3.11/site-packages/pyscf/dmrgscf/dmrgci.py:1009\u001b[0m, in \u001b[0;36mblock_version\u001b[0;34m(blockexe)\u001b[0m\n\u001b[1;32m   1006\u001b[0m     \u001b[38;5;28;01mreturn\u001b[39;00m version\n\u001b[1;32m   1008\u001b[0m \u001b[38;5;28;01mtry\u001b[39;00m:\n\u001b[0;32m-> 1009\u001b[0m     msg \u001b[38;5;241m=\u001b[39m check_output([blockexe, \u001b[38;5;124m'\u001b[39m\u001b[38;5;124m-v\u001b[39m\u001b[38;5;124m'\u001b[39m], stderr\u001b[38;5;241m=\u001b[39mSTDOUT)\u001b[38;5;241m.\u001b[39mdecode()\n\u001b[1;32m   1010\u001b[0m     version \u001b[38;5;241m=\u001b[39m \u001b[38;5;124m'\u001b[39m\u001b[38;5;124m1.1.0\u001b[39m\u001b[38;5;124m'\u001b[39m\n\u001b[1;32m   1011\u001b[0m     \u001b[38;5;28;01mfor\u001b[39;00m line \u001b[38;5;129;01min\u001b[39;00m msg\u001b[38;5;241m.\u001b[39msplit(\u001b[38;5;124m'\u001b[39m\u001b[38;5;130;01m\\n\u001b[39;00m\u001b[38;5;124m'\u001b[39m):\n",
      "File \u001b[0;32m~/anaconda3/lib/python3.11/subprocess.py:466\u001b[0m, in \u001b[0;36mcheck_output\u001b[0;34m(timeout, *popenargs, **kwargs)\u001b[0m\n\u001b[1;32m    463\u001b[0m         empty \u001b[38;5;241m=\u001b[39m \u001b[38;5;124mb\u001b[39m\u001b[38;5;124m'\u001b[39m\u001b[38;5;124m'\u001b[39m\n\u001b[1;32m    464\u001b[0m     kwargs[\u001b[38;5;124m'\u001b[39m\u001b[38;5;124minput\u001b[39m\u001b[38;5;124m'\u001b[39m] \u001b[38;5;241m=\u001b[39m empty\n\u001b[0;32m--> 466\u001b[0m \u001b[38;5;28;01mreturn\u001b[39;00m run(\u001b[38;5;241m*\u001b[39mpopenargs, stdout\u001b[38;5;241m=\u001b[39mPIPE, timeout\u001b[38;5;241m=\u001b[39mtimeout, check\u001b[38;5;241m=\u001b[39m\u001b[38;5;28;01mTrue\u001b[39;00m,\n\u001b[1;32m    467\u001b[0m            \u001b[38;5;241m*\u001b[39m\u001b[38;5;241m*\u001b[39mkwargs)\u001b[38;5;241m.\u001b[39mstdout\n",
      "File \u001b[0;32m~/anaconda3/lib/python3.11/subprocess.py:548\u001b[0m, in \u001b[0;36mrun\u001b[0;34m(input, capture_output, timeout, check, *popenargs, **kwargs)\u001b[0m\n\u001b[1;32m    545\u001b[0m     kwargs[\u001b[38;5;124m'\u001b[39m\u001b[38;5;124mstdout\u001b[39m\u001b[38;5;124m'\u001b[39m] \u001b[38;5;241m=\u001b[39m PIPE\n\u001b[1;32m    546\u001b[0m     kwargs[\u001b[38;5;124m'\u001b[39m\u001b[38;5;124mstderr\u001b[39m\u001b[38;5;124m'\u001b[39m] \u001b[38;5;241m=\u001b[39m PIPE\n\u001b[0;32m--> 548\u001b[0m \u001b[38;5;28;01mwith\u001b[39;00m Popen(\u001b[38;5;241m*\u001b[39mpopenargs, \u001b[38;5;241m*\u001b[39m\u001b[38;5;241m*\u001b[39mkwargs) \u001b[38;5;28;01mas\u001b[39;00m process:\n\u001b[1;32m    549\u001b[0m     \u001b[38;5;28;01mtry\u001b[39;00m:\n\u001b[1;32m    550\u001b[0m         stdout, stderr \u001b[38;5;241m=\u001b[39m process\u001b[38;5;241m.\u001b[39mcommunicate(\u001b[38;5;28minput\u001b[39m, timeout\u001b[38;5;241m=\u001b[39mtimeout)\n",
      "File \u001b[0;32m~/anaconda3/lib/python3.11/subprocess.py:1026\u001b[0m, in \u001b[0;36mPopen.__init__\u001b[0;34m(self, args, bufsize, executable, stdin, stdout, stderr, preexec_fn, close_fds, shell, cwd, env, universal_newlines, startupinfo, creationflags, restore_signals, start_new_session, pass_fds, user, group, extra_groups, encoding, errors, text, umask, pipesize, process_group)\u001b[0m\n\u001b[1;32m   1022\u001b[0m         \u001b[38;5;28;01mif\u001b[39;00m \u001b[38;5;28mself\u001b[39m\u001b[38;5;241m.\u001b[39mtext_mode:\n\u001b[1;32m   1023\u001b[0m             \u001b[38;5;28mself\u001b[39m\u001b[38;5;241m.\u001b[39mstderr \u001b[38;5;241m=\u001b[39m io\u001b[38;5;241m.\u001b[39mTextIOWrapper(\u001b[38;5;28mself\u001b[39m\u001b[38;5;241m.\u001b[39mstderr,\n\u001b[1;32m   1024\u001b[0m                     encoding\u001b[38;5;241m=\u001b[39mencoding, errors\u001b[38;5;241m=\u001b[39merrors)\n\u001b[0;32m-> 1026\u001b[0m     \u001b[38;5;28mself\u001b[39m\u001b[38;5;241m.\u001b[39m_execute_child(args, executable, preexec_fn, close_fds,\n\u001b[1;32m   1027\u001b[0m                         pass_fds, cwd, env,\n\u001b[1;32m   1028\u001b[0m                         startupinfo, creationflags, shell,\n\u001b[1;32m   1029\u001b[0m                         p2cread, p2cwrite,\n\u001b[1;32m   1030\u001b[0m                         c2pread, c2pwrite,\n\u001b[1;32m   1031\u001b[0m                         errread, errwrite,\n\u001b[1;32m   1032\u001b[0m                         restore_signals,\n\u001b[1;32m   1033\u001b[0m                         gid, gids, uid, umask,\n\u001b[1;32m   1034\u001b[0m                         start_new_session, process_group)\n\u001b[1;32m   1035\u001b[0m \u001b[38;5;28;01mexcept\u001b[39;00m:\n\u001b[1;32m   1036\u001b[0m     \u001b[38;5;66;03m# Cleanup if the child failed starting.\u001b[39;00m\n\u001b[1;32m   1037\u001b[0m     \u001b[38;5;28;01mfor\u001b[39;00m f \u001b[38;5;129;01min\u001b[39;00m \u001b[38;5;28mfilter\u001b[39m(\u001b[38;5;28;01mNone\u001b[39;00m, (\u001b[38;5;28mself\u001b[39m\u001b[38;5;241m.\u001b[39mstdin, \u001b[38;5;28mself\u001b[39m\u001b[38;5;241m.\u001b[39mstdout, \u001b[38;5;28mself\u001b[39m\u001b[38;5;241m.\u001b[39mstderr)):\n",
      "File \u001b[0;32m~/anaconda3/lib/python3.11/subprocess.py:1950\u001b[0m, in \u001b[0;36mPopen._execute_child\u001b[0;34m(self, args, executable, preexec_fn, close_fds, pass_fds, cwd, env, startupinfo, creationflags, shell, p2cread, p2cwrite, c2pread, c2pwrite, errread, errwrite, restore_signals, gid, gids, uid, umask, start_new_session, process_group)\u001b[0m\n\u001b[1;32m   1948\u001b[0m     \u001b[38;5;28;01mif\u001b[39;00m errno_num \u001b[38;5;241m!=\u001b[39m \u001b[38;5;241m0\u001b[39m:\n\u001b[1;32m   1949\u001b[0m         err_msg \u001b[38;5;241m=\u001b[39m os\u001b[38;5;241m.\u001b[39mstrerror(errno_num)\n\u001b[0;32m-> 1950\u001b[0m     \u001b[38;5;28;01mraise\u001b[39;00m child_exception_type(errno_num, err_msg, err_filename)\n\u001b[1;32m   1951\u001b[0m \u001b[38;5;28;01mraise\u001b[39;00m child_exception_type(err_msg)\n",
      "\u001b[0;31mFileNotFoundError\u001b[0m: [Errno 2] No such file or directory: '/path/to/Block/block.spin_adapted'"
     ]
    }
   ],
   "source": [
    "sf.calculate()"
   ]
  },
  {
   "cell_type": "code",
   "execution_count": 220,
   "id": "9af7a15e-c313-4ef2-a345-4ac19c671219",
   "metadata": {},
   "outputs": [
    {
     "ename": "Exception",
     "evalue": "DMRG calculation must be performed first to calculate the density.",
     "output_type": "error",
     "traceback": [
      "\u001b[0;31m---------------------------------------------------------------------------\u001b[0m",
      "\u001b[0;31mException\u001b[0m                                 Traceback (most recent call last)",
      "Cell \u001b[0;32mIn[220], line 1\u001b[0m\n\u001b[0;32m----> 1\u001b[0m active_spaces \u001b[38;5;241m=\u001b[39m sf\u001b[38;5;241m.\u001b[39mfind_many()\n",
      "File \u001b[0;32m~/anaconda3/lib/python3.11/site-packages/asf/asfbase.py:353\u001b[0m, in \u001b[0;36mASFBase.find_many\u001b[0;34m(self, root, minimal_entropy, mo_weight_type, comparison_tolerance, keep_minimal, filters)\u001b[0m\n\u001b[1;32m    322\u001b[0m \u001b[38;5;28;01mdef\u001b[39;00m \u001b[38;5;21mfind_many\u001b[39m(\n\u001b[1;32m    323\u001b[0m     \u001b[38;5;28mself\u001b[39m,\n\u001b[1;32m    324\u001b[0m     root: \u001b[38;5;28mint\u001b[39m \u001b[38;5;241m=\u001b[39m \u001b[38;5;241m0\u001b[39m,\n\u001b[0;32m   (...)\u001b[0m\n\u001b[1;32m    329\u001b[0m     filters: Optional[\u001b[38;5;28mlist\u001b[39m[FilterFunction]] \u001b[38;5;241m=\u001b[39m \u001b[38;5;28;01mNone\u001b[39;00m,\n\u001b[1;32m    330\u001b[0m ) \u001b[38;5;241m-\u001b[39m\u001b[38;5;241m>\u001b[39m ActiveSpacesDict:\n\u001b[1;32m    331\u001b[0m \u001b[38;5;250m    \u001b[39m\u001b[38;5;124;03m\"\"\"Selects a collection of active spaces based on pair information.\u001b[39;00m\n\u001b[1;32m    332\u001b[0m \n\u001b[1;32m    333\u001b[0m \u001b[38;5;124;03m    By default `find_many` applies sensible selection criteria to a collection of unfiltered\u001b[39;00m\n\u001b[0;32m   (...)\u001b[0m\n\u001b[1;32m    351\u001b[0m \u001b[38;5;124;03m                               `f(x: MOListInfo) -> bool`.\u001b[39;00m\n\u001b[1;32m    352\u001b[0m \u001b[38;5;124;03m    \"\"\"\u001b[39;00m\n\u001b[0;32m--> 353\u001b[0m     _spaces \u001b[38;5;241m=\u001b[39m \u001b[38;5;28mself\u001b[39m\u001b[38;5;241m.\u001b[39munfiltered_pairinfo_spaces(root\u001b[38;5;241m=\u001b[39mroot)\n\u001b[1;32m    354\u001b[0m     spaces \u001b[38;5;241m=\u001b[39m find_sensible(\n\u001b[1;32m    355\u001b[0m         spaces\u001b[38;5;241m=\u001b[39m_spaces,\n\u001b[1;32m    356\u001b[0m         minimal_entropy\u001b[38;5;241m=\u001b[39mminimal_entropy,\n\u001b[0;32m   (...)\u001b[0m\n\u001b[1;32m    360\u001b[0m         filters\u001b[38;5;241m=\u001b[39mfilters,\n\u001b[1;32m    361\u001b[0m     )\n\u001b[1;32m    362\u001b[0m     \u001b[38;5;28;01mreturn\u001b[39;00m group_active_spaces(spaces)\n",
      "File \u001b[0;32m~/anaconda3/lib/python3.11/site-packages/asf/asfbase.py:309\u001b[0m, in \u001b[0;36mASFBase.unfiltered_pairinfo_spaces\u001b[0;34m(self, root)\u001b[0m\n\u001b[1;32m    296\u001b[0m \u001b[38;5;250m\u001b[39m\u001b[38;5;124;03m\"\"\"Determine a large number of candidate active spaces with very light screening.\u001b[39;00m\n\u001b[1;32m    297\u001b[0m \n\u001b[1;32m    298\u001b[0m \u001b[38;5;124;03mFor each number of active electrons and active MOs, (nel, nmo), multiple active spaces are\u001b[39;00m\n\u001b[0;32m   (...)\u001b[0m\n\u001b[1;32m    306\u001b[0m \u001b[38;5;124;03m    ActiveSpacesDict. The MO lists are mapped to the full MO space.\u001b[39;00m\n\u001b[1;32m    307\u001b[0m \u001b[38;5;124;03m\"\"\"\u001b[39;00m\n\u001b[1;32m    308\u001b[0m \u001b[38;5;66;03m# One-orbital density and pair information in the initial active MO subspace.\u001b[39;00m\n\u001b[0;32m--> 309\u001b[0m orbdens \u001b[38;5;241m=\u001b[39m \u001b[38;5;28mself\u001b[39m\u001b[38;5;241m.\u001b[39mone_orbital_density(root\u001b[38;5;241m=\u001b[39mroot)[\u001b[38;5;28mself\u001b[39m\u001b[38;5;241m.\u001b[39mmo_list, :]\n\u001b[1;32m    310\u001b[0m cumulant \u001b[38;5;241m=\u001b[39m \u001b[38;5;28mself\u001b[39m\u001b[38;5;241m.\u001b[39mdiagonal_cumulant(root\u001b[38;5;241m=\u001b[39mroot, full_space\u001b[38;5;241m=\u001b[39m\u001b[38;5;28;01mFalse\u001b[39;00m)\n\u001b[1;32m    312\u001b[0m \u001b[38;5;66;03m# Determine all candidate active spaces and associated information. The sign of the\u001b[39;00m\n\u001b[1;32m    313\u001b[0m \u001b[38;5;66;03m# diagonal cumulant is inverted:\u001b[39;00m\n\u001b[1;32m    314\u001b[0m \u001b[38;5;66;03m# most energy-lowering interactions -> largest pair information.\u001b[39;00m\n",
      "File \u001b[0;32m~/anaconda3/lib/python3.11/site-packages/asf/dmrg.py:116\u001b[0m, in \u001b[0;36mASFDMRG.one_orbital_density\u001b[0;34m(self, root)\u001b[0m\n\u001b[1;32m    103\u001b[0m \u001b[38;5;250m\u001b[39m\u001b[38;5;124;03m\"\"\"Determines the one-orbital density for the calculated DMRG-(CAS)CI wave function.\u001b[39;00m\n\u001b[1;32m    104\u001b[0m \n\u001b[1;32m    105\u001b[0m \u001b[38;5;124;03mArgs:\u001b[39;00m\n\u001b[0;32m   (...)\u001b[0m\n\u001b[1;32m    113\u001b[0m \u001b[38;5;124;03m    Exception: various errors\u001b[39;00m\n\u001b[1;32m    114\u001b[0m \u001b[38;5;124;03m\"\"\"\u001b[39;00m\n\u001b[1;32m    115\u001b[0m \u001b[38;5;28;01mif\u001b[39;00m \u001b[38;5;28mself\u001b[39m\u001b[38;5;241m.\u001b[39mcasci \u001b[38;5;129;01mis\u001b[39;00m \u001b[38;5;28;01mNone\u001b[39;00m:\n\u001b[0;32m--> 116\u001b[0m     \u001b[38;5;28;01mraise\u001b[39;00m \u001b[38;5;167;01mException\u001b[39;00m(\u001b[38;5;124m\"\u001b[39m\u001b[38;5;124mDMRG calculation must be performed first to calculate the density.\u001b[39m\u001b[38;5;124m\"\u001b[39m)\n\u001b[1;32m    117\u001b[0m \u001b[38;5;28;01mif\u001b[39;00m root \u001b[38;5;241m<\u001b[39m \u001b[38;5;241m0\u001b[39m \u001b[38;5;129;01mor\u001b[39;00m root \u001b[38;5;241m>\u001b[39m\u001b[38;5;241m=\u001b[39m \u001b[38;5;28mself\u001b[39m\u001b[38;5;241m.\u001b[39mcasci\u001b[38;5;241m.\u001b[39mfcisolver\u001b[38;5;241m.\u001b[39mnroots:\n\u001b[1;32m    118\u001b[0m     \u001b[38;5;28;01mraise\u001b[39;00m \u001b[38;5;167;01mException\u001b[39;00m(\u001b[38;5;124m\"\u001b[39m\u001b[38;5;124mInvalid root requested.\u001b[39m\u001b[38;5;124m\"\u001b[39m)\n",
      "\u001b[0;31mException\u001b[0m: DMRG calculation must be performed first to calculate the density."
     ]
    }
   ],
   "source": [
    "active_spaces = sf.find_many()"
   ]
  },
  {
   "cell_type": "code",
   "execution_count": null,
   "id": "8d47f88b-b21d-4be1-9073-329206433ce3",
   "metadata": {},
   "outputs": [],
   "source": []
  }
 ],
 "metadata": {
  "kernelspec": {
   "display_name": "Python 3 (ipykernel)",
   "language": "python",
   "name": "python3"
  },
  "language_info": {
   "codemirror_mode": {
    "name": "ipython",
    "version": 3
   },
   "file_extension": ".py",
   "mimetype": "text/x-python",
   "name": "python",
   "nbconvert_exporter": "python",
   "pygments_lexer": "ipython3",
   "version": "3.11.7"
  }
 },
 "nbformat": 4,
 "nbformat_minor": 5
}
